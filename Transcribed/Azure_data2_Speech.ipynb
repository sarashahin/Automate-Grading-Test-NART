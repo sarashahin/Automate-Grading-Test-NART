{
  "nbformat": 4,
  "nbformat_minor": 0,
  "metadata": {
    "colab": {
      "provenance": [],
      "gpuType": "T4"
    },
    "kernelspec": {
      "name": "python3",
      "display_name": "Python 3"
    },
    "language_info": {
      "name": "python"
    },
    "accelerator": "GPU"
  },
  "cells": [
    {
      "cell_type": "code",
      "execution_count": null,
      "metadata": {
        "colab": {
          "base_uri": "https://localhost:8080/"
        },
        "id": "UF-4L8ymnxw1",
        "outputId": "ae8164d1-82ef-47a6-9356-033ef23b1301"
      },
      "outputs": [
        {
          "output_type": "stream",
          "name": "stdout",
          "text": [
            "Collecting azure-cognitiveservices-speech\n",
            "  Downloading azure_cognitiveservices_speech-1.38.0-py3-none-manylinux1_x86_64.whl (40.0 MB)\n",
            "\u001b[2K     \u001b[90m━━━━━━━━━━━━━━━━━━━━━━━━━━━━━━━━━━━━━━━━\u001b[0m \u001b[32m40.0/40.0 MB\u001b[0m \u001b[31m19.4 MB/s\u001b[0m eta \u001b[36m0:00:00\u001b[0m\n",
            "\u001b[?25hInstalling collected packages: azure-cognitiveservices-speech\n",
            "Successfully installed azure-cognitiveservices-speech-1.38.0\n"
          ]
        }
      ],
      "source": [
        "!pip install azure-cognitiveservices-speech\n"
      ]
    },
    {
      "cell_type": "code",
      "source": [
        "from google.colab import drive\n",
        "drive.mount('/content/drive')"
      ],
      "metadata": {
        "colab": {
          "base_uri": "https://localhost:8080/"
        },
        "id": "XRsCfRI9pFBf",
        "outputId": "e9c25701-5020-4bc4-b3e6-e98c25493be1"
      },
      "execution_count": null,
      "outputs": [
        {
          "output_type": "stream",
          "name": "stdout",
          "text": [
            "Mounted at /content/drive\n"
          ]
        }
      ]
    },
    {
      "cell_type": "code",
      "source": [
        "import os\n",
        "import re\n",
        "import azure.cognitiveservices.speech as speechsdk\n",
        "import pandas as pd\n",
        "from tqdm import tqdm\n",
        "\n",
        "# Set up the subscription info for the Azure Speech Service\n",
        "subscription_key = \"32ad88fef76d4909bb813a762ea2351e\"\n",
        "region = \"uksouth\"\n",
        "\n",
        "# Initialize the speech configuration\n",
        "speech_config = speechsdk.SpeechConfig(subscription=subscription_key, region=region)\n",
        "\n",
        "# Define the audio files directory\n",
        "audio_dir = \"/content/drive/MyDrive/audio_files/Dataset_2_Cleaned/\"\n",
        "\n",
        "# Function to clean and normalize expected words\n",
        "def clean_expected_word(word):\n",
        "    # Remove any numeric prefix and spaces\n",
        "    word = re.sub(r'^[\\d_]+\\s*', '', word)\n",
        "    return word.upper().strip()\n",
        "\n",
        "# Function to transcribe audio using Azure Speech Service\n",
        "def transcribe_audio(file_path):\n",
        "    audio_input = speechsdk.AudioConfig(filename=file_path)\n",
        "    speech_recognizer = speechsdk.SpeechRecognizer(speech_config=speech_config, audio_config=audio_input)\n",
        "\n",
        "    result = speech_recognizer.recognize_once()\n",
        "    if result.reason == speechsdk.ResultReason.RecognizedSpeech:\n",
        "        return result.text.upper().strip().rstrip('.,?!')\n",
        "    else:\n",
        "        return \"\"\n",
        "\n",
        "# Get all wav files\n",
        "wav_files = [os.path.join(root, file) for root, _, files in os.walk(audio_dir) for file in files if file.endswith(\".wav\")]\n",
        "\n",
        "# Process each wav file\n",
        "results = []\n",
        "for file_path in tqdm(wav_files, desc=\"Processing audio files\"):\n",
        "    detected_word = transcribe_audio(file_path)\n",
        "    expected_word = os.path.basename(os.path.dirname(file_path)).upper().strip()\n",
        "    # Clean the expected word\n",
        "    expected_word = clean_expected_word(expected_word)\n",
        "\n",
        "    # Debugging print statements\n",
        "    print(f\"File: {file_path}\")\n",
        "    print(f\"Expected Word: {expected_word}\")\n",
        "    print(f\"Detected Word: {detected_word}\")\n",
        "\n",
        "    correct = 1 if detected_word == expected_word else 0\n",
        "\n",
        "    # Print the result of the comparison\n",
        "    print(f\"Correct: {correct}\\n\")\n",
        "\n",
        "    results.append({\n",
        "        \"File\": file_path,\n",
        "        \"Expected Word\": expected_word,\n",
        "        \"Detected Word\": detected_word,\n",
        "        \"Correct\": correct\n",
        "    })\n",
        "\n",
        "# Convert results to a DataFrame\n",
        "df = pd.DataFrame(results)\n",
        "\n",
        "# Save results to text and CSV files\n",
        "df.to_csv(\"transcription_results.csv\", index=False)\n",
        "\n",
        "# Print DataFrame\n",
        "print(df)\n",
        "\n",
        "print(\"Transcription results saved to transcription_results.txt and transcription_results.csv\")\n"
      ],
      "metadata": {
        "colab": {
          "base_uri": "https://localhost:8080/"
        },
        "id": "jwUevWZInzLh",
        "outputId": "5fe2f0fa-ded8-49dd-afda-e2ab6dcb267f"
      },
      "execution_count": null,
      "outputs": [
        {
          "output_type": "stream",
          "name": "stderr",
          "text": [
            "Processing audio files:   2%|▏         | 1/42 [00:02<01:24,  2.07s/it]"
          ]
        },
        {
          "output_type": "stream",
          "name": "stdout",
          "text": [
            "File: /content/drive/MyDrive/audio_files/Dataset_2_Cleaned/29_QUADRUPED/P1.wav\n",
            "Expected Word: QUADRUPED\n",
            "Detected Word: QUADRUPLET\n",
            "Correct: 0\n",
            "\n"
          ]
        },
        {
          "output_type": "stream",
          "name": "stderr",
          "text": [
            "\rProcessing audio files:   5%|▍         | 2/42 [00:03<01:17,  1.93s/it]"
          ]
        },
        {
          "output_type": "stream",
          "name": "stdout",
          "text": [
            "File: /content/drive/MyDrive/audio_files/Dataset_2_Cleaned/29_QUADRUPED/P2.wav\n",
            "Expected Word: QUADRUPED\n",
            "Detected Word: QUADRUPEDS\n",
            "Correct: 0\n",
            "\n"
          ]
        },
        {
          "output_type": "stream",
          "name": "stderr",
          "text": [
            "\rProcessing audio files:   7%|▋         | 3/42 [00:06<01:23,  2.15s/it]"
          ]
        },
        {
          "output_type": "stream",
          "name": "stdout",
          "text": [
            "File: /content/drive/MyDrive/audio_files/Dataset_2_Cleaned/29_QUADRUPED/P3.wav\n",
            "Expected Word: QUADRUPED\n",
            "Detected Word: PRODUCE\n",
            "Correct: 0\n",
            "\n"
          ]
        },
        {
          "output_type": "stream",
          "name": "stderr",
          "text": [
            "\rProcessing audio files:  10%|▉         | 4/42 [00:08<01:16,  2.02s/it]"
          ]
        },
        {
          "output_type": "stream",
          "name": "stdout",
          "text": [
            "File: /content/drive/MyDrive/audio_files/Dataset_2_Cleaned/29_QUADRUPED/P4.wav\n",
            "Expected Word: QUADRUPED\n",
            "Detected Word: QUADRUPED\n",
            "Correct: 1\n",
            "\n"
          ]
        },
        {
          "output_type": "stream",
          "name": "stderr",
          "text": [
            "\rProcessing audio files:  12%|█▏        | 5/42 [00:10<01:13,  1.98s/it]"
          ]
        },
        {
          "output_type": "stream",
          "name": "stdout",
          "text": [
            "File: /content/drive/MyDrive/audio_files/Dataset_2_Cleaned/29_QUADRUPED/P5.wav\n",
            "Expected Word: QUADRUPED\n",
            "Detected Word: QUADRUPED\n",
            "Correct: 1\n",
            "\n"
          ]
        },
        {
          "output_type": "stream",
          "name": "stderr",
          "text": [
            "\rProcessing audio files:  14%|█▍        | 6/42 [00:11<01:10,  1.96s/it]"
          ]
        },
        {
          "output_type": "stream",
          "name": "stdout",
          "text": [
            "File: /content/drive/MyDrive/audio_files/Dataset_2_Cleaned/29_QUADRUPED/P6.wav\n",
            "Expected Word: QUADRUPED\n",
            "Detected Word: QUOTIPATE\n",
            "Correct: 0\n",
            "\n"
          ]
        },
        {
          "output_type": "stream",
          "name": "stderr",
          "text": [
            "\rProcessing audio files:  17%|█▋        | 7/42 [00:13<01:06,  1.91s/it]"
          ]
        },
        {
          "output_type": "stream",
          "name": "stdout",
          "text": [
            "File: /content/drive/MyDrive/audio_files/Dataset_2_Cleaned/29_QUADRUPED/P7.wav\n",
            "Expected Word: QUADRUPED\n",
            "Detected Word: WHAT YOU'VE HAD\n",
            "Correct: 0\n",
            "\n"
          ]
        },
        {
          "output_type": "stream",
          "name": "stderr",
          "text": [
            "\rProcessing audio files:  19%|█▉        | 8/42 [00:15<01:04,  1.88s/it]"
          ]
        },
        {
          "output_type": "stream",
          "name": "stdout",
          "text": [
            "File: /content/drive/MyDrive/audio_files/Dataset_2_Cleaned/29_QUADRUPED/P11.wav\n",
            "Expected Word: QUADRUPED\n",
            "Detected Word: BED\n",
            "Correct: 0\n",
            "\n"
          ]
        },
        {
          "output_type": "stream",
          "name": "stderr",
          "text": [
            "\rProcessing audio files:  21%|██▏       | 9/42 [00:17<01:01,  1.87s/it]"
          ]
        },
        {
          "output_type": "stream",
          "name": "stdout",
          "text": [
            "File: /content/drive/MyDrive/audio_files/Dataset_2_Cleaned/29_QUADRUPED/P12.wav\n",
            "Expected Word: QUADRUPED\n",
            "Detected Word: \n",
            "Correct: 0\n",
            "\n"
          ]
        },
        {
          "output_type": "stream",
          "name": "stderr",
          "text": [
            "\rProcessing audio files:  24%|██▍       | 10/42 [00:19<00:59,  1.86s/it]"
          ]
        },
        {
          "output_type": "stream",
          "name": "stdout",
          "text": [
            "File: /content/drive/MyDrive/audio_files/Dataset_2_Cleaned/29_QUADRUPED/P13.wav\n",
            "Expected Word: QUADRUPED\n",
            "Detected Word: REPET\n",
            "Correct: 0\n",
            "\n"
          ]
        },
        {
          "output_type": "stream",
          "name": "stderr",
          "text": [
            "\rProcessing audio files:  26%|██▌       | 11/42 [00:20<00:55,  1.80s/it]"
          ]
        },
        {
          "output_type": "stream",
          "name": "stdout",
          "text": [
            "File: /content/drive/MyDrive/audio_files/Dataset_2_Cleaned/29_QUADRUPED/P14.wav\n",
            "Expected Word: QUADRUPED\n",
            "Detected Word: COACH PADS\n",
            "Correct: 0\n",
            "\n"
          ]
        },
        {
          "output_type": "stream",
          "name": "stderr",
          "text": [
            "\rProcessing audio files:  29%|██▊       | 12/42 [00:22<00:55,  1.84s/it]"
          ]
        },
        {
          "output_type": "stream",
          "name": "stdout",
          "text": [
            "File: /content/drive/MyDrive/audio_files/Dataset_2_Cleaned/29_QUADRUPED/P15.wav\n",
            "Expected Word: QUADRUPED\n",
            "Detected Word: QUADRUPED\n",
            "Correct: 1\n",
            "\n"
          ]
        },
        {
          "output_type": "stream",
          "name": "stderr",
          "text": [
            "\rProcessing audio files:  31%|███       | 13/42 [00:24<00:54,  1.89s/it]"
          ]
        },
        {
          "output_type": "stream",
          "name": "stdout",
          "text": [
            "File: /content/drive/MyDrive/audio_files/Dataset_2_Cleaned/29_QUADRUPED/P16.wav\n",
            "Expected Word: QUADRUPED\n",
            "Detected Word: PAD\n",
            "Correct: 0\n",
            "\n"
          ]
        },
        {
          "output_type": "stream",
          "name": "stderr",
          "text": [
            "\rProcessing audio files:  33%|███▎      | 14/42 [00:26<00:53,  1.90s/it]"
          ]
        },
        {
          "output_type": "stream",
          "name": "stdout",
          "text": [
            "File: /content/drive/MyDrive/audio_files/Dataset_2_Cleaned/29_QUADRUPED/P17.wav\n",
            "Expected Word: QUADRUPED\n",
            "Detected Word: QUADRUPED\n",
            "Correct: 1\n",
            "\n"
          ]
        },
        {
          "output_type": "stream",
          "name": "stderr",
          "text": [
            "\rProcessing audio files:  36%|███▌      | 15/42 [00:28<00:52,  1.95s/it]"
          ]
        },
        {
          "output_type": "stream",
          "name": "stdout",
          "text": [
            "File: /content/drive/MyDrive/audio_files/Dataset_2_Cleaned/29_QUADRUPED/P18.wav\n",
            "Expected Word: QUADRUPED\n",
            "Detected Word: QUADRUPED\n",
            "Correct: 1\n",
            "\n"
          ]
        },
        {
          "output_type": "stream",
          "name": "stderr",
          "text": [
            "\rProcessing audio files:  38%|███▊      | 16/42 [00:30<00:49,  1.92s/it]"
          ]
        },
        {
          "output_type": "stream",
          "name": "stdout",
          "text": [
            "File: /content/drive/MyDrive/audio_files/Dataset_2_Cleaned/29_QUADRUPED/P19.wav\n",
            "Expected Word: QUADRUPED\n",
            "Detected Word: PET\n",
            "Correct: 0\n",
            "\n"
          ]
        },
        {
          "output_type": "stream",
          "name": "stderr",
          "text": [
            "\rProcessing audio files:  40%|████      | 17/42 [00:32<00:48,  1.93s/it]"
          ]
        },
        {
          "output_type": "stream",
          "name": "stdout",
          "text": [
            "File: /content/drive/MyDrive/audio_files/Dataset_2_Cleaned/29_QUADRUPED/P20.wav\n",
            "Expected Word: QUADRUPED\n",
            "Detected Word: \n",
            "Correct: 0\n",
            "\n"
          ]
        },
        {
          "output_type": "stream",
          "name": "stderr",
          "text": [
            "\rProcessing audio files:  43%|████▎     | 18/42 [00:34<00:44,  1.86s/it]"
          ]
        },
        {
          "output_type": "stream",
          "name": "stdout",
          "text": [
            "File: /content/drive/MyDrive/audio_files/Dataset_2_Cleaned/29_QUADRUPED/P21.wav\n",
            "Expected Word: QUADRUPED\n",
            "Detected Word: CORD REPAIRED\n",
            "Correct: 0\n",
            "\n"
          ]
        },
        {
          "output_type": "stream",
          "name": "stderr",
          "text": [
            "\rProcessing audio files:  45%|████▌     | 19/42 [00:36<00:42,  1.85s/it]"
          ]
        },
        {
          "output_type": "stream",
          "name": "stdout",
          "text": [
            "File: /content/drive/MyDrive/audio_files/Dataset_2_Cleaned/29_QUADRUPED/P22.wav\n",
            "Expected Word: QUADRUPED\n",
            "Detected Word: QUADRUPEDS\n",
            "Correct: 0\n",
            "\n"
          ]
        },
        {
          "output_type": "stream",
          "name": "stderr",
          "text": [
            "\rProcessing audio files:  48%|████▊     | 20/42 [00:37<00:40,  1.83s/it]"
          ]
        },
        {
          "output_type": "stream",
          "name": "stdout",
          "text": [
            "File: /content/drive/MyDrive/audio_files/Dataset_2_Cleaned/29_QUADRUPED/P23.wav\n",
            "Expected Word: QUADRUPED\n",
            "Detected Word: PET\n",
            "Correct: 0\n",
            "\n"
          ]
        },
        {
          "output_type": "stream",
          "name": "stderr",
          "text": [
            "\rProcessing audio files:  50%|█████     | 21/42 [00:39<00:38,  1.85s/it]"
          ]
        },
        {
          "output_type": "stream",
          "name": "stdout",
          "text": [
            "File: /content/drive/MyDrive/audio_files/Dataset_2_Cleaned/29_QUADRUPED/P24.wav\n",
            "Expected Word: QUADRUPED\n",
            "Detected Word: QUADRUPEDS\n",
            "Correct: 0\n",
            "\n"
          ]
        },
        {
          "output_type": "stream",
          "name": "stderr",
          "text": [
            "\rProcessing audio files:  52%|█████▏    | 22/42 [00:41<00:37,  1.85s/it]"
          ]
        },
        {
          "output_type": "stream",
          "name": "stdout",
          "text": [
            "File: /content/drive/MyDrive/audio_files/Dataset_2_Cleaned/29_QUADRUPED/P25.wav\n",
            "Expected Word: QUADRUPED\n",
            "Detected Word: QUADRANT\n",
            "Correct: 0\n",
            "\n"
          ]
        },
        {
          "output_type": "stream",
          "name": "stderr",
          "text": [
            "\rProcessing audio files:  55%|█████▍    | 23/42 [00:43<00:34,  1.81s/it]"
          ]
        },
        {
          "output_type": "stream",
          "name": "stdout",
          "text": [
            "File: /content/drive/MyDrive/audio_files/Dataset_2_Cleaned/29_QUADRUPED/P26.wav\n",
            "Expected Word: QUADRUPED\n",
            "Detected Word: \n",
            "Correct: 0\n",
            "\n"
          ]
        },
        {
          "output_type": "stream",
          "name": "stderr",
          "text": [
            "\rProcessing audio files:  57%|█████▋    | 24/42 [00:45<00:31,  1.77s/it]"
          ]
        },
        {
          "output_type": "stream",
          "name": "stdout",
          "text": [
            "File: /content/drive/MyDrive/audio_files/Dataset_2_Cleaned/29_QUADRUPED/P27.wav\n",
            "Expected Word: QUADRUPED\n",
            "Detected Word: QUADRUPED\n",
            "Correct: 1\n",
            "\n"
          ]
        },
        {
          "output_type": "stream",
          "name": "stderr",
          "text": [
            "\rProcessing audio files:  60%|█████▉    | 25/42 [00:47<00:32,  1.91s/it]"
          ]
        },
        {
          "output_type": "stream",
          "name": "stdout",
          "text": [
            "File: /content/drive/MyDrive/audio_files/Dataset_2_Cleaned/29_QUADRUPED/P28.wav\n",
            "Expected Word: QUADRUPED\n",
            "Detected Word: QUADRUPED\n",
            "Correct: 1\n",
            "\n"
          ]
        },
        {
          "output_type": "stream",
          "name": "stderr",
          "text": [
            "\rProcessing audio files:  62%|██████▏   | 26/42 [00:49<00:29,  1.87s/it]"
          ]
        },
        {
          "output_type": "stream",
          "name": "stdout",
          "text": [
            "File: /content/drive/MyDrive/audio_files/Dataset_2_Cleaned/29_QUADRUPED/P29.wav\n",
            "Expected Word: QUADRUPED\n",
            "Detected Word: WOULD YOU\n",
            "Correct: 0\n",
            "\n"
          ]
        },
        {
          "output_type": "stream",
          "name": "stderr",
          "text": [
            "\rProcessing audio files:  64%|██████▍   | 27/42 [00:53<00:37,  2.47s/it]"
          ]
        },
        {
          "output_type": "stream",
          "name": "stdout",
          "text": [
            "File: /content/drive/MyDrive/audio_files/Dataset_2_Cleaned/29_QUADRUPED/P30.wav\n",
            "Expected Word: QUADRUPED\n",
            "Detected Word: \n",
            "Correct: 0\n",
            "\n"
          ]
        },
        {
          "output_type": "stream",
          "name": "stderr",
          "text": [
            "\rProcessing audio files:  67%|██████▋   | 28/42 [00:54<00:31,  2.27s/it]"
          ]
        },
        {
          "output_type": "stream",
          "name": "stdout",
          "text": [
            "File: /content/drive/MyDrive/audio_files/Dataset_2_Cleaned/29_QUADRUPED/P31.wav\n",
            "Expected Word: QUADRUPED\n",
            "Detected Word: QUADRUPED\n",
            "Correct: 1\n",
            "\n"
          ]
        },
        {
          "output_type": "stream",
          "name": "stderr",
          "text": [
            "\rProcessing audio files:  69%|██████▉   | 29/42 [00:56<00:27,  2.15s/it]"
          ]
        },
        {
          "output_type": "stream",
          "name": "stdout",
          "text": [
            "File: /content/drive/MyDrive/audio_files/Dataset_2_Cleaned/29_QUADRUPED/P32.wav\n",
            "Expected Word: QUADRUPED\n",
            "Detected Word: QUADRUPLET\n",
            "Correct: 0\n",
            "\n"
          ]
        },
        {
          "output_type": "stream",
          "name": "stderr",
          "text": [
            "\rProcessing audio files:  71%|███████▏  | 30/42 [00:58<00:24,  2.06s/it]"
          ]
        },
        {
          "output_type": "stream",
          "name": "stdout",
          "text": [
            "File: /content/drive/MyDrive/audio_files/Dataset_2_Cleaned/29_QUADRUPED/P33.wav\n",
            "Expected Word: QUADRUPED\n",
            "Detected Word: QUAD\n",
            "Correct: 0\n",
            "\n"
          ]
        },
        {
          "output_type": "stream",
          "name": "stderr",
          "text": [
            "\rProcessing audio files:  74%|███████▍  | 31/42 [01:00<00:21,  1.95s/it]"
          ]
        },
        {
          "output_type": "stream",
          "name": "stdout",
          "text": [
            "File: /content/drive/MyDrive/audio_files/Dataset_2_Cleaned/29_QUADRUPED/P34.wav\n",
            "Expected Word: QUADRUPED\n",
            "Detected Word: PLUGGED. REPAIRED\n",
            "Correct: 0\n",
            "\n"
          ]
        },
        {
          "output_type": "stream",
          "name": "stderr",
          "text": [
            "\rProcessing audio files:  76%|███████▌  | 32/42 [01:02<00:19,  1.92s/it]"
          ]
        },
        {
          "output_type": "stream",
          "name": "stdout",
          "text": [
            "File: /content/drive/MyDrive/audio_files/Dataset_2_Cleaned/29_QUADRUPED/P35.wav\n",
            "Expected Word: QUADRUPED\n",
            "Detected Word: QUADRUPLED\n",
            "Correct: 0\n",
            "\n"
          ]
        },
        {
          "output_type": "stream",
          "name": "stderr",
          "text": [
            "\rProcessing audio files:  79%|███████▊  | 33/42 [01:03<00:17,  1.91s/it]"
          ]
        },
        {
          "output_type": "stream",
          "name": "stdout",
          "text": [
            "File: /content/drive/MyDrive/audio_files/Dataset_2_Cleaned/29_QUADRUPED/P36.wav\n",
            "Expected Word: QUADRUPED\n",
            "Detected Word: QUADRUPED\n",
            "Correct: 1\n",
            "\n"
          ]
        },
        {
          "output_type": "stream",
          "name": "stderr",
          "text": [
            "\rProcessing audio files:  81%|████████  | 34/42 [01:05<00:14,  1.87s/it]"
          ]
        },
        {
          "output_type": "stream",
          "name": "stdout",
          "text": [
            "File: /content/drive/MyDrive/audio_files/Dataset_2_Cleaned/29_QUADRUPED/P37.wav\n",
            "Expected Word: QUADRUPED\n",
            "Detected Word: QUAD\n",
            "Correct: 0\n",
            "\n"
          ]
        },
        {
          "output_type": "stream",
          "name": "stderr",
          "text": [
            "\rProcessing audio files:  83%|████████▎ | 35/42 [01:07<00:13,  1.87s/it]"
          ]
        },
        {
          "output_type": "stream",
          "name": "stdout",
          "text": [
            "File: /content/drive/MyDrive/audio_files/Dataset_2_Cleaned/29_QUADRUPED/P39.wav\n",
            "Expected Word: QUADRUPED\n",
            "Detected Word: QUADRUPLED\n",
            "Correct: 0\n",
            "\n"
          ]
        },
        {
          "output_type": "stream",
          "name": "stderr",
          "text": [
            "\rProcessing audio files:  86%|████████▌ | 36/42 [01:09<00:11,  1.84s/it]"
          ]
        },
        {
          "output_type": "stream",
          "name": "stdout",
          "text": [
            "File: /content/drive/MyDrive/audio_files/Dataset_2_Cleaned/29_QUADRUPED/P40.wav\n",
            "Expected Word: QUADRUPED\n",
            "Detected Word: QUADRUPLET\n",
            "Correct: 0\n",
            "\n"
          ]
        },
        {
          "output_type": "stream",
          "name": "stderr",
          "text": [
            "\rProcessing audio files:  88%|████████▊ | 37/42 [01:11<00:09,  1.83s/it]"
          ]
        },
        {
          "output_type": "stream",
          "name": "stdout",
          "text": [
            "File: /content/drive/MyDrive/audio_files/Dataset_2_Cleaned/29_QUADRUPED/P41.wav\n",
            "Expected Word: QUADRUPED\n",
            "Detected Word: QUADRUPED\n",
            "Correct: 1\n",
            "\n"
          ]
        },
        {
          "output_type": "stream",
          "name": "stderr",
          "text": [
            "\rProcessing audio files:  90%|█████████ | 38/42 [01:13<00:07,  1.83s/it]"
          ]
        },
        {
          "output_type": "stream",
          "name": "stdout",
          "text": [
            "File: /content/drive/MyDrive/audio_files/Dataset_2_Cleaned/29_QUADRUPED/P42.wav\n",
            "Expected Word: QUADRUPED\n",
            "Detected Word: 100 HEADS\n",
            "Correct: 0\n",
            "\n"
          ]
        },
        {
          "output_type": "stream",
          "name": "stderr",
          "text": [
            "\rProcessing audio files:  93%|█████████▎| 39/42 [01:14<00:05,  1.81s/it]"
          ]
        },
        {
          "output_type": "stream",
          "name": "stdout",
          "text": [
            "File: /content/drive/MyDrive/audio_files/Dataset_2_Cleaned/29_QUADRUPED/P9.wav\n",
            "Expected Word: QUADRUPED\n",
            "Detected Word: QUADRUPLET\n",
            "Correct: 0\n",
            "\n"
          ]
        },
        {
          "output_type": "stream",
          "name": "stderr",
          "text": [
            "\rProcessing audio files:  95%|█████████▌| 40/42 [01:16<00:03,  1.81s/it]"
          ]
        },
        {
          "output_type": "stream",
          "name": "stdout",
          "text": [
            "File: /content/drive/MyDrive/audio_files/Dataset_2_Cleaned/29_QUADRUPED/P8.wav\n",
            "Expected Word: QUADRUPED\n",
            "Detected Word: WATCH YOUR PAD\n",
            "Correct: 0\n",
            "\n"
          ]
        },
        {
          "output_type": "stream",
          "name": "stderr",
          "text": [
            "\rProcessing audio files:  98%|█████████▊| 41/42 [01:18<00:01,  1.79s/it]"
          ]
        },
        {
          "output_type": "stream",
          "name": "stdout",
          "text": [
            "File: /content/drive/MyDrive/audio_files/Dataset_2_Cleaned/29_QUADRUPED/P10.wav\n",
            "Expected Word: QUADRUPED\n",
            "Detected Word: \n",
            "Correct: 0\n",
            "\n"
          ]
        },
        {
          "output_type": "stream",
          "name": "stderr",
          "text": [
            "Processing audio files: 100%|██████████| 42/42 [01:19<00:00,  1.90s/it]"
          ]
        },
        {
          "output_type": "stream",
          "name": "stdout",
          "text": [
            "File: /content/drive/MyDrive/audio_files/Dataset_2_Cleaned/29_QUADRUPED/P38.wav\n",
            "Expected Word: QUADRUPED\n",
            "Detected Word: CONTRIBUTE\n",
            "Correct: 0\n",
            "\n",
            "                                                 File Expected Word  \\\n",
            "0   /content/drive/MyDrive/audio_files/Dataset_2_C...     QUADRUPED   \n",
            "1   /content/drive/MyDrive/audio_files/Dataset_2_C...     QUADRUPED   \n",
            "2   /content/drive/MyDrive/audio_files/Dataset_2_C...     QUADRUPED   \n",
            "3   /content/drive/MyDrive/audio_files/Dataset_2_C...     QUADRUPED   \n",
            "4   /content/drive/MyDrive/audio_files/Dataset_2_C...     QUADRUPED   \n",
            "5   /content/drive/MyDrive/audio_files/Dataset_2_C...     QUADRUPED   \n",
            "6   /content/drive/MyDrive/audio_files/Dataset_2_C...     QUADRUPED   \n",
            "7   /content/drive/MyDrive/audio_files/Dataset_2_C...     QUADRUPED   \n",
            "8   /content/drive/MyDrive/audio_files/Dataset_2_C...     QUADRUPED   \n",
            "9   /content/drive/MyDrive/audio_files/Dataset_2_C...     QUADRUPED   \n",
            "10  /content/drive/MyDrive/audio_files/Dataset_2_C...     QUADRUPED   \n",
            "11  /content/drive/MyDrive/audio_files/Dataset_2_C...     QUADRUPED   \n",
            "12  /content/drive/MyDrive/audio_files/Dataset_2_C...     QUADRUPED   \n",
            "13  /content/drive/MyDrive/audio_files/Dataset_2_C...     QUADRUPED   \n",
            "14  /content/drive/MyDrive/audio_files/Dataset_2_C...     QUADRUPED   \n",
            "15  /content/drive/MyDrive/audio_files/Dataset_2_C...     QUADRUPED   \n",
            "16  /content/drive/MyDrive/audio_files/Dataset_2_C...     QUADRUPED   \n",
            "17  /content/drive/MyDrive/audio_files/Dataset_2_C...     QUADRUPED   \n",
            "18  /content/drive/MyDrive/audio_files/Dataset_2_C...     QUADRUPED   \n",
            "19  /content/drive/MyDrive/audio_files/Dataset_2_C...     QUADRUPED   \n",
            "20  /content/drive/MyDrive/audio_files/Dataset_2_C...     QUADRUPED   \n",
            "21  /content/drive/MyDrive/audio_files/Dataset_2_C...     QUADRUPED   \n",
            "22  /content/drive/MyDrive/audio_files/Dataset_2_C...     QUADRUPED   \n",
            "23  /content/drive/MyDrive/audio_files/Dataset_2_C...     QUADRUPED   \n",
            "24  /content/drive/MyDrive/audio_files/Dataset_2_C...     QUADRUPED   \n",
            "25  /content/drive/MyDrive/audio_files/Dataset_2_C...     QUADRUPED   \n",
            "26  /content/drive/MyDrive/audio_files/Dataset_2_C...     QUADRUPED   \n",
            "27  /content/drive/MyDrive/audio_files/Dataset_2_C...     QUADRUPED   \n",
            "28  /content/drive/MyDrive/audio_files/Dataset_2_C...     QUADRUPED   \n",
            "29  /content/drive/MyDrive/audio_files/Dataset_2_C...     QUADRUPED   \n",
            "30  /content/drive/MyDrive/audio_files/Dataset_2_C...     QUADRUPED   \n",
            "31  /content/drive/MyDrive/audio_files/Dataset_2_C...     QUADRUPED   \n",
            "32  /content/drive/MyDrive/audio_files/Dataset_2_C...     QUADRUPED   \n",
            "33  /content/drive/MyDrive/audio_files/Dataset_2_C...     QUADRUPED   \n",
            "34  /content/drive/MyDrive/audio_files/Dataset_2_C...     QUADRUPED   \n",
            "35  /content/drive/MyDrive/audio_files/Dataset_2_C...     QUADRUPED   \n",
            "36  /content/drive/MyDrive/audio_files/Dataset_2_C...     QUADRUPED   \n",
            "37  /content/drive/MyDrive/audio_files/Dataset_2_C...     QUADRUPED   \n",
            "38  /content/drive/MyDrive/audio_files/Dataset_2_C...     QUADRUPED   \n",
            "39  /content/drive/MyDrive/audio_files/Dataset_2_C...     QUADRUPED   \n",
            "40  /content/drive/MyDrive/audio_files/Dataset_2_C...     QUADRUPED   \n",
            "41  /content/drive/MyDrive/audio_files/Dataset_2_C...     QUADRUPED   \n",
            "\n",
            "        Detected Word  Correct  \n",
            "0          QUADRUPLET        0  \n",
            "1          QUADRUPEDS        0  \n",
            "2             PRODUCE        0  \n",
            "3           QUADRUPED        1  \n",
            "4           QUADRUPED        1  \n",
            "5           QUOTIPATE        0  \n",
            "6     WHAT YOU'VE HAD        0  \n",
            "7                 BED        0  \n",
            "8                            0  \n",
            "9               REPET        0  \n",
            "10         COACH PADS        0  \n",
            "11          QUADRUPED        1  \n",
            "12                PAD        0  \n",
            "13          QUADRUPED        1  \n",
            "14          QUADRUPED        1  \n",
            "15                PET        0  \n",
            "16                           0  \n",
            "17      CORD REPAIRED        0  \n",
            "18         QUADRUPEDS        0  \n",
            "19                PET        0  \n",
            "20         QUADRUPEDS        0  \n",
            "21           QUADRANT        0  \n",
            "22                           0  \n",
            "23          QUADRUPED        1  \n",
            "24          QUADRUPED        1  \n",
            "25          WOULD YOU        0  \n",
            "26                           0  \n",
            "27          QUADRUPED        1  \n",
            "28         QUADRUPLET        0  \n",
            "29               QUAD        0  \n",
            "30  PLUGGED. REPAIRED        0  \n",
            "31         QUADRUPLED        0  \n",
            "32          QUADRUPED        1  \n",
            "33               QUAD        0  \n",
            "34         QUADRUPLED        0  \n",
            "35         QUADRUPLET        0  \n",
            "36          QUADRUPED        1  \n",
            "37          100 HEADS        0  \n",
            "38         QUADRUPLET        0  \n",
            "39     WATCH YOUR PAD        0  \n",
            "40                           0  \n",
            "41         CONTRIBUTE        0  \n",
            "Transcription results saved to transcription_results.txt and transcription_results.csv\n"
          ]
        },
        {
          "output_type": "stream",
          "name": "stderr",
          "text": [
            "\n"
          ]
        }
      ]
    },
    {
      "cell_type": "code",
      "source": [],
      "metadata": {
        "id": "gY1n7v7So-bI"
      },
      "execution_count": null,
      "outputs": []
    },
    {
      "cell_type": "code",
      "source": [],
      "metadata": {
        "id": "cm2ZO96qnzOY"
      },
      "execution_count": null,
      "outputs": []
    },
    {
      "cell_type": "code",
      "source": [],
      "metadata": {
        "id": "U48Q6V1irozw"
      },
      "execution_count": null,
      "outputs": []
    }
  ]
}