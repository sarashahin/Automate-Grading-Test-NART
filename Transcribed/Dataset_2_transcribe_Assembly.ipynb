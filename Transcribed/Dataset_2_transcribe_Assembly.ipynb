{
  "nbformat": 4,
  "nbformat_minor": 0,
  "metadata": {
    "colab": {
      "provenance": [],
      "gpuType": "T4"
    },
    "kernelspec": {
      "name": "python3",
      "display_name": "Python 3"
    },
    "language_info": {
      "name": "python"
    },
    "accelerator": "GPU"
  },
  "cells": [
    {
      "cell_type": "code",
      "source": [],
      "metadata": {
        "id": "csar4JvdtFM0"
      },
      "execution_count": null,
      "outputs": []
    },
    {
      "cell_type": "code",
      "execution_count": 1,
      "metadata": {
        "id": "SN3ATAHNbMi1",
        "colab": {
          "base_uri": "https://localhost:8080/"
        },
        "outputId": "dbec51ba-65b0-4a38-ca6d-8c605727f5aa"
      },
      "outputs": [
        {
          "output_type": "stream",
          "name": "stdout",
          "text": [
            "Collecting assemblyai\n",
            "  Downloading assemblyai-0.28.1-py3-none-any.whl (70 kB)\n",
            "\u001b[2K     \u001b[90m━━━━━━━━━━━━━━━━━━━━━━━━━━━━━━━━━━━━━━━━\u001b[0m \u001b[32m70.2/70.2 kB\u001b[0m \u001b[31m1.7 MB/s\u001b[0m eta \u001b[36m0:00:00\u001b[0m\n",
            "\u001b[?25hCollecting httpx>=0.19.0 (from assemblyai)\n",
            "  Downloading httpx-0.27.0-py3-none-any.whl (75 kB)\n",
            "\u001b[2K     \u001b[90m━━━━━━━━━━━━━━━━━━━━━━━━━━━━━━━━━━━━━━━━\u001b[0m \u001b[32m75.6/75.6 kB\u001b[0m \u001b[31m5.5 MB/s\u001b[0m eta \u001b[36m0:00:00\u001b[0m\n",
            "\u001b[?25hRequirement already satisfied: pydantic!=1.10.7,>=1.7.0 in /usr/local/lib/python3.10/dist-packages (from assemblyai) (2.8.0)\n",
            "Requirement already satisfied: typing-extensions>=3.7 in /usr/local/lib/python3.10/dist-packages (from assemblyai) (4.12.2)\n",
            "Collecting websockets>=11.0 (from assemblyai)\n",
            "  Downloading websockets-12.0-cp310-cp310-manylinux_2_5_x86_64.manylinux1_x86_64.manylinux_2_17_x86_64.manylinux2014_x86_64.whl (130 kB)\n",
            "\u001b[2K     \u001b[90m━━━━━━━━━━━━━━━━━━━━━━━━━━━━━━━━━━━━━━━━\u001b[0m \u001b[32m130.2/130.2 kB\u001b[0m \u001b[31m16.8 MB/s\u001b[0m eta \u001b[36m0:00:00\u001b[0m\n",
            "\u001b[?25hRequirement already satisfied: anyio in /usr/local/lib/python3.10/dist-packages (from httpx>=0.19.0->assemblyai) (3.7.1)\n",
            "Requirement already satisfied: certifi in /usr/local/lib/python3.10/dist-packages (from httpx>=0.19.0->assemblyai) (2024.6.2)\n",
            "Collecting httpcore==1.* (from httpx>=0.19.0->assemblyai)\n",
            "  Downloading httpcore-1.0.5-py3-none-any.whl (77 kB)\n",
            "\u001b[2K     \u001b[90m━━━━━━━━━━━━━━━━━━━━━━━━━━━━━━━━━━━━━━━━\u001b[0m \u001b[32m77.9/77.9 kB\u001b[0m \u001b[31m11.6 MB/s\u001b[0m eta \u001b[36m0:00:00\u001b[0m\n",
            "\u001b[?25hRequirement already satisfied: idna in /usr/local/lib/python3.10/dist-packages (from httpx>=0.19.0->assemblyai) (3.7)\n",
            "Requirement already satisfied: sniffio in /usr/local/lib/python3.10/dist-packages (from httpx>=0.19.0->assemblyai) (1.3.1)\n",
            "Collecting h11<0.15,>=0.13 (from httpcore==1.*->httpx>=0.19.0->assemblyai)\n",
            "  Downloading h11-0.14.0-py3-none-any.whl (58 kB)\n",
            "\u001b[2K     \u001b[90m━━━━━━━━━━━━━━━━━━━━━━━━━━━━━━━━━━━━━━━━\u001b[0m \u001b[32m58.3/58.3 kB\u001b[0m \u001b[31m5.6 MB/s\u001b[0m eta \u001b[36m0:00:00\u001b[0m\n",
            "\u001b[?25hRequirement already satisfied: annotated-types>=0.4.0 in /usr/local/lib/python3.10/dist-packages (from pydantic!=1.10.7,>=1.7.0->assemblyai) (0.7.0)\n",
            "Requirement already satisfied: pydantic-core==2.20.0 in /usr/local/lib/python3.10/dist-packages (from pydantic!=1.10.7,>=1.7.0->assemblyai) (2.20.0)\n",
            "Requirement already satisfied: exceptiongroup in /usr/local/lib/python3.10/dist-packages (from anyio->httpx>=0.19.0->assemblyai) (1.2.1)\n",
            "Installing collected packages: websockets, h11, httpcore, httpx, assemblyai\n",
            "Successfully installed assemblyai-0.28.1 h11-0.14.0 httpcore-1.0.5 httpx-0.27.0 websockets-12.0\n"
          ]
        }
      ],
      "source": [
        "!pip install -U assemblyai"
      ]
    },
    {
      "cell_type": "code",
      "source": [],
      "metadata": {
        "id": "NqKYqqDH9WrH"
      },
      "execution_count": 1,
      "outputs": []
    },
    {
      "cell_type": "code",
      "source": [
        "import os\n",
        "\n",
        "audio_folder_path = '/content/drive/MyDrive/audio_files/Dataset 1 (Cleaned with Separated Words)/NART Words Ss 1 to 71/'\n",
        "print(os.listdir(audio_folder_path))"
      ],
      "metadata": {
        "colab": {
          "base_uri": "https://localhost:8080/"
        },
        "id": "szAQZWGF9WN9",
        "outputId": "468ace73-3635-47be-f54b-1326d58c24a3"
      },
      "execution_count": 5,
      "outputs": [
        {
          "output_type": "stream",
          "name": "stdout",
          "text": [
            "['44 BEATIFY', '01 CHORD', '22 SUBTLE', '14 NAIVE', '11 COURTEOUS', '10 DEBT', '05 BOUQUET', '21 HIATUS', '33 DRACHM', '31 FACADE', '19 RADIX', '35 PLACEBO', '36 ABSTEMIOUS', '13 EQUIVOCAL', '28 BANAL', '06 PSALM', '29 QUADRUPED', '25 GOUGE', '20 ASSIGNATE', '39 PUERPERAL', '12 RAREFY', '34 AEON', '17 THYME', '42 TOPIARY', '08 DENY', '40 AVER', '07 CAPON', '16 GAOLED', '04 AISLE', '47 DEMESNE', '03 DEPOT', '09 NAUSEA', '23 PROCREATE', '49 LABILE', '27 SIMILE', '15 CATACOMB', '30 CELLIST', '38 IDYLL', '18 HEIR', '43 LEVIATHAN', '02 ACHE', '46 SIDEREAL', '37 DETENTE', '48 SYNCOPE', '32 ZEALOT', '50 CAMPANILE', '41 GAUCHE', '24 GIST', '26 SUPERFLUOUS', '45 PRELATE']\n"
          ]
        }
      ]
    },
    {
      "cell_type": "code",
      "source": [
        "import os\n",
        "import re\n",
        "import assemblyai as aai\n",
        "import pandas as pd\n",
        "from tqdm import tqdm\n",
        "\n",
        "# API key\n",
        "aai.settings.api_key = \"81eeb762933a405fb7a0cdc4f4e54334\"\n",
        "\n",
        "#transcription configuration\n",
        "config = aai.TranscriptionConfig()\n",
        "\n",
        "# Defining the transcriber\n",
        "transcriber = aai.Transcriber()\n",
        "\n",
        "# Audio files\n",
        "audio_dir = \"/content/drive/MyDrive/audio_files/Dataset_2_Cleaned\"\n",
        "\n",
        "# Transcribing and return the detected word and confidence\n",
        "def transcribe_audio(file_path, config):\n",
        "    try:\n",
        "        transcript = transcriber.transcribe(file_path, config=config)\n",
        "        if transcript and transcript.status == \"completed\" and hasattr(transcript, 'words') and transcript.words:\n",
        "            word = transcript.words[0]\n",
        "            return word.text.upper().strip().rstrip('.,?!'), word.confidence\n",
        "        return \"\", 0.0\n",
        "    except Exception as e:\n",
        "        print(f\"An error occurred: {e}\")\n",
        "        return \"\", 0.0\n",
        "\n",
        "# clean and normalize expected words\n",
        "def clean_expected_word(word):\n",
        "    # Remove any numeric prefix\n",
        "    word = re.sub(r'^\\d+_', '', word)\n",
        "    return word.upper().strip()\n",
        "\n",
        "# Getting all wav files\n",
        "wav_files = [os.path.join(root, file) for root, _, files in os.walk(audio_dir) for file in files if file.endswith(\".wav\")]\n",
        "\n",
        "# Process each wav file\n",
        "results = []\n",
        "for file_path in tqdm(wav_files, desc=\"Processing audio files\"):\n",
        "    detected_word, confidence = transcribe_audio(file_path, config)\n",
        "    expected_word = os.path.basename(os.path.dirname(file_path)).upper().strip()\n",
        "    # Clean the expected word\n",
        "    expected_word = clean_expected_word(expected_word)\n",
        "\n",
        "    # Debugging print statements\n",
        "    print(f\"File: {file_path}\")\n",
        "    print(f\"Expected Word: {expected_word}\")\n",
        "    print(f\"Detected Word: {detected_word}\")\n",
        "\n",
        "    correct = 1 if detected_word == expected_word else 0\n",
        "\n",
        "    # Print the result of the comparison\n",
        "    print(f\"Correct: {correct}\\n\")\n",
        "\n",
        "    results.append({\n",
        "        \"File\": file_path,\n",
        "        \"Expected Word\": expected_word,\n",
        "        \"Detected Word\": detected_word,\n",
        "        \"Confidence\": confidence,\n",
        "        \"Correct\": correct\n",
        "    })\n",
        "\n",
        "# Convert results to a DataFrame\n",
        "df = pd.DataFrame(results)\n",
        "\n",
        "# Save results to text and CSV files\n",
        "df.to_csv(\"transcription_results.txt\", index=False)\n",
        "df.to_csv(\"transcription_results.csv\", index=False)\n",
        "\n",
        "# Print DataFrame\n",
        "print(df)\n",
        "\n",
        "print(\"Transcription results saved to transcription_results.txt and transcription_results.csv\")\n",
        "\n",
        "\n"
      ],
      "metadata": {
        "colab": {
          "base_uri": "https://localhost:8080/"
        },
        "id": "kjY0Bei_PSjN",
        "outputId": "a5e84aae-b6c7-4f43-f53c-283e6f0ad3f2"
      },
      "execution_count": 4,
      "outputs": [
        {
          "output_type": "stream",
          "name": "stderr",
          "text": [
            "Processing audio files:   0%|          | 1/1050 [00:05<1:40:30,  5.75s/it]"
          ]
        },
        {
          "output_type": "stream",
          "name": "stdout",
          "text": [
            "File: /content/drive/MyDrive/audio_files/Dataset_2_Cleaned/untitled.wav\n",
            "Expected Word: DATASET_2_CLEANED\n",
            "Detected Word: FACADE\n",
            "Correct: 0\n",
            "\n"
          ]
        },
        {
          "output_type": "stream",
          "name": "stderr",
          "text": [
            "\rProcessing audio files:   0%|          | 2/1050 [00:11<1:36:57,  5.55s/it]"
          ]
        },
        {
          "output_type": "stream",
          "name": "stdout",
          "text": [
            "File: /content/drive/MyDrive/audio_files/Dataset_2_Cleaned/PLACEBO-2.wav\n",
            "Expected Word: DATASET_2_CLEANED\n",
            "Detected Word: PLACEBO\n",
            "Correct: 0\n",
            "\n"
          ]
        },
        {
          "output_type": "stream",
          "name": "stderr",
          "text": [
            "\rProcessing audio files:   0%|          | 3/1050 [00:16<1:37:29,  5.59s/it]"
          ]
        },
        {
          "output_type": "stream",
          "name": "stdout",
          "text": [
            "File: /content/drive/MyDrive/audio_files/Dataset_2_Cleaned/GOUGE-2.wav\n",
            "Expected Word: DATASET_2_CLEANED\n",
            "Detected Word: \n",
            "Correct: 0\n",
            "\n"
          ]
        },
        {
          "output_type": "stream",
          "name": "stderr",
          "text": [
            "\rProcessing audio files:   0%|          | 4/1050 [00:22<1:35:36,  5.48s/it]"
          ]
        },
        {
          "output_type": "stream",
          "name": "stdout",
          "text": [
            "File: /content/drive/MyDrive/audio_files/Dataset_2_Cleaned/EQUIVOCAL-2.wav\n",
            "Expected Word: DATASET_2_CLEANED\n",
            "Detected Word: EQUIVOCAL\n",
            "Correct: 0\n",
            "\n"
          ]
        },
        {
          "output_type": "stream",
          "name": "stderr",
          "text": [
            "\rProcessing audio files:   0%|          | 5/1050 [00:30<1:55:25,  6.63s/it]"
          ]
        },
        {
          "output_type": "stream",
          "name": "stdout",
          "text": [
            "File: /content/drive/MyDrive/audio_files/Dataset_2_Cleaned/SYNCOPE-2.wav\n",
            "Expected Word: DATASET_2_CLEANED\n",
            "Detected Word: SYNCOPE\n",
            "Correct: 0\n",
            "\n"
          ]
        },
        {
          "output_type": "stream",
          "name": "stderr",
          "text": [
            "\rProcessing audio files:   1%|          | 6/1050 [00:35<1:46:33,  6.12s/it]"
          ]
        },
        {
          "output_type": "stream",
          "name": "stdout",
          "text": [
            "File: /content/drive/MyDrive/audio_files/Dataset_2_Cleaned/IDYLL-2.wav\n",
            "Expected Word: DATASET_2_CLEANED\n",
            "Detected Word: \n",
            "Correct: 0\n",
            "\n"
          ]
        },
        {
          "output_type": "stream",
          "name": "stderr",
          "text": [
            "\rProcessing audio files:   1%|          | 7/1050 [00:41<1:41:39,  5.85s/it]"
          ]
        },
        {
          "output_type": "stream",
          "name": "stdout",
          "text": [
            "File: /content/drive/MyDrive/audio_files/Dataset_2_Cleaned/FACADE-2.wav\n",
            "Expected Word: DATASET_2_CLEANED\n",
            "Detected Word: \n",
            "Correct: 0\n",
            "\n"
          ]
        },
        {
          "output_type": "stream",
          "name": "stderr",
          "text": [
            "\rProcessing audio files:   1%|          | 8/1050 [00:46<1:40:01,  5.76s/it]"
          ]
        },
        {
          "output_type": "stream",
          "name": "stdout",
          "text": [
            "File: /content/drive/MyDrive/audio_files/Dataset_2_Cleaned/GAOLED-2.wav\n",
            "Expected Word: DATASET_2_CLEANED\n",
            "Detected Word: GO\n",
            "Correct: 0\n",
            "\n"
          ]
        },
        {
          "output_type": "stream",
          "name": "stderr",
          "text": [
            "\rProcessing audio files:   1%|          | 9/1050 [00:52<1:38:02,  5.65s/it]"
          ]
        },
        {
          "output_type": "stream",
          "name": "stdout",
          "text": [
            "File: /content/drive/MyDrive/audio_files/Dataset_2_Cleaned/DEMESNE-2.wav\n",
            "Expected Word: DATASET_2_CLEANED\n",
            "Detected Word: THE\n",
            "Correct: 0\n",
            "\n"
          ]
        },
        {
          "output_type": "stream",
          "name": "stderr",
          "text": [
            "\rProcessing audio files:   1%|          | 10/1050 [00:57<1:36:23,  5.56s/it]"
          ]
        },
        {
          "output_type": "stream",
          "name": "stdout",
          "text": [
            "File: /content/drive/MyDrive/audio_files/Dataset_2_Cleaned/BEATIFY-2.wav\n",
            "Expected Word: DATASET_2_CLEANED\n",
            "Detected Word: \n",
            "Correct: 0\n",
            "\n"
          ]
        },
        {
          "output_type": "stream",
          "name": "stderr",
          "text": [
            "\rProcessing audio files:   1%|          | 11/1050 [01:02<1:35:32,  5.52s/it]"
          ]
        },
        {
          "output_type": "stream",
          "name": "stdout",
          "text": [
            "File: /content/drive/MyDrive/audio_files/Dataset_2_Cleaned/PSALM-2.wav\n",
            "Expected Word: DATASET_2_CLEANED\n",
            "Detected Word: SONG\n",
            "Correct: 0\n",
            "\n"
          ]
        },
        {
          "output_type": "stream",
          "name": "stderr",
          "text": [
            "\rProcessing audio files:   1%|          | 12/1050 [01:08<1:34:58,  5.49s/it]"
          ]
        },
        {
          "output_type": "stream",
          "name": "stdout",
          "text": [
            "File: /content/drive/MyDrive/audio_files/Dataset_2_Cleaned/COURTEOUS-2.wav\n",
            "Expected Word: DATASET_2_CLEANED\n",
            "Detected Word: COURTEOUS\n",
            "Correct: 0\n",
            "\n"
          ]
        },
        {
          "output_type": "stream",
          "name": "stderr",
          "text": [
            "\rProcessing audio files:   1%|          | 13/1050 [01:13<1:34:37,  5.47s/it]"
          ]
        },
        {
          "output_type": "stream",
          "name": "stdout",
          "text": [
            "File: /content/drive/MyDrive/audio_files/Dataset_2_Cleaned/BANAL-2.wav\n",
            "Expected Word: DATASET_2_CLEANED\n",
            "Detected Word: BUT\n",
            "Correct: 0\n",
            "\n"
          ]
        },
        {
          "output_type": "stream",
          "name": "stderr",
          "text": [
            "\rProcessing audio files:   1%|▏         | 14/1050 [01:19<1:33:58,  5.44s/it]"
          ]
        },
        {
          "output_type": "stream",
          "name": "stdout",
          "text": [
            "File: /content/drive/MyDrive/audio_files/Dataset_2_Cleaned/LABILE-2.wav\n",
            "Expected Word: DATASET_2_CLEANED\n",
            "Detected Word: LAY\n",
            "Correct: 0\n",
            "\n"
          ]
        },
        {
          "output_type": "stream",
          "name": "stderr",
          "text": [
            "\rProcessing audio files:   1%|▏         | 15/1050 [01:27<1:50:07,  6.38s/it]"
          ]
        },
        {
          "output_type": "stream",
          "name": "stdout",
          "text": [
            "File: /content/drive/MyDrive/audio_files/Dataset_2_Cleaned/LEVIATHAN-2.wav\n",
            "Expected Word: DATASET_2_CLEANED\n",
            "Detected Word: LEVIATHAN\n",
            "Correct: 0\n",
            "\n"
          ]
        },
        {
          "output_type": "stream",
          "name": "stderr",
          "text": [
            "\rProcessing audio files:   2%|▏         | 16/1050 [01:32<1:43:29,  6.00s/it]"
          ]
        },
        {
          "output_type": "stream",
          "name": "stdout",
          "text": [
            "File: /content/drive/MyDrive/audio_files/Dataset_2_Cleaned/ASSIGNATE-2.wav\n",
            "Expected Word: DATASET_2_CLEANED\n",
            "Detected Word: SIGN\n",
            "Correct: 0\n",
            "\n"
          ]
        },
        {
          "output_type": "stream",
          "name": "stderr",
          "text": [
            "\rProcessing audio files:   2%|▏         | 17/1050 [01:38<1:39:17,  5.77s/it]"
          ]
        },
        {
          "output_type": "stream",
          "name": "stdout",
          "text": [
            "File: /content/drive/MyDrive/audio_files/Dataset_2_Cleaned/DENY-2.wav\n",
            "Expected Word: DATASET_2_CLEANED\n",
            "Detected Word: THE\n",
            "Correct: 0\n",
            "\n"
          ]
        },
        {
          "output_type": "stream",
          "name": "stderr",
          "text": [
            "\rProcessing audio files:   2%|▏         | 18/1050 [01:46<1:54:54,  6.68s/it]"
          ]
        },
        {
          "output_type": "stream",
          "name": "stdout",
          "text": [
            "File: /content/drive/MyDrive/audio_files/Dataset_2_Cleaned/DRACHM-2.wav\n",
            "Expected Word: DATASET_2_CLEANED\n",
            "Detected Word: \n",
            "Correct: 0\n",
            "\n"
          ]
        },
        {
          "output_type": "stream",
          "name": "stderr",
          "text": [
            "\rProcessing audio files:   2%|▏         | 19/1050 [01:52<1:49:42,  6.38s/it]"
          ]
        },
        {
          "output_type": "stream",
          "name": "stdout",
          "text": [
            "File: /content/drive/MyDrive/audio_files/Dataset_2_Cleaned/PUERPERAL-2.wav\n",
            "Expected Word: DATASET_2_CLEANED\n",
            "Detected Word: SQUARE\n",
            "Correct: 0\n",
            "\n"
          ]
        },
        {
          "output_type": "stream",
          "name": "stderr",
          "text": [
            "\rProcessing audio files:   2%|▏         | 20/1050 [02:01<2:00:38,  7.03s/it]"
          ]
        },
        {
          "output_type": "stream",
          "name": "stdout",
          "text": [
            "File: /content/drive/MyDrive/audio_files/Dataset_2_Cleaned/HAITUS-2.wav\n",
            "Expected Word: DATASET_2_CLEANED\n",
            "Detected Word: HIATUS\n",
            "Correct: 0\n",
            "\n"
          ]
        },
        {
          "output_type": "stream",
          "name": "stderr",
          "text": [
            "\rProcessing audio files:   2%|▏         | 21/1050 [02:09<2:09:45,  7.57s/it]"
          ]
        },
        {
          "output_type": "stream",
          "name": "stdout",
          "text": [
            "File: /content/drive/MyDrive/audio_files/Dataset_2_Cleaned/ABSTEMIOUS-2.wav\n",
            "Expected Word: DATASET_2_CLEANED\n",
            "Detected Word: \n",
            "Correct: 0\n",
            "\n"
          ]
        },
        {
          "output_type": "stream",
          "name": "stderr",
          "text": [
            "\rProcessing audio files:   2%|▏         | 22/1050 [02:18<2:14:24,  7.85s/it]"
          ]
        },
        {
          "output_type": "stream",
          "name": "stdout",
          "text": [
            "File: /content/drive/MyDrive/audio_files/Dataset_2_Cleaned/GIST-2.wav\n",
            "Expected Word: DATASET_2_CLEANED\n",
            "Detected Word: JUST\n",
            "Correct: 0\n",
            "\n"
          ]
        },
        {
          "output_type": "stream",
          "name": "stderr",
          "text": [
            "\rProcessing audio files:   2%|▏         | 23/1050 [02:30<2:33:32,  8.97s/it]"
          ]
        },
        {
          "output_type": "stream",
          "name": "stdout",
          "text": [
            "File: /content/drive/MyDrive/audio_files/Dataset_2_Cleaned/GAUCHE-2.wav\n",
            "Expected Word: DATASET_2_CLEANED\n",
            "Detected Word: \n",
            "Correct: 0\n",
            "\n"
          ]
        },
        {
          "output_type": "stream",
          "name": "stderr",
          "text": [
            "\rProcessing audio files:   2%|▏         | 24/1050 [02:35<2:14:19,  7.85s/it]"
          ]
        },
        {
          "output_type": "stream",
          "name": "stdout",
          "text": [
            "File: /content/drive/MyDrive/audio_files/Dataset_2_Cleaned/DEBT-2.wav\n",
            "Expected Word: DATASET_2_CLEANED\n",
            "Detected Word: THAT\n",
            "Correct: 0\n",
            "\n"
          ]
        },
        {
          "output_type": "stream",
          "name": "stderr",
          "text": [
            "\rProcessing audio files:   2%|▏         | 25/1050 [02:40<2:01:34,  7.12s/it]"
          ]
        },
        {
          "output_type": "stream",
          "name": "stdout",
          "text": [
            "File: /content/drive/MyDrive/audio_files/Dataset_2_Cleaned/DETENTE-2.wav\n",
            "Expected Word: DATASET_2_CLEANED\n",
            "Detected Word: THE\n",
            "Correct: 0\n",
            "\n"
          ]
        },
        {
          "output_type": "stream",
          "name": "stderr",
          "text": [
            "\rProcessing audio files:   2%|▏         | 26/1050 [02:49<2:07:39,  7.48s/it]"
          ]
        },
        {
          "output_type": "stream",
          "name": "stdout",
          "text": [
            "File: /content/drive/MyDrive/audio_files/Dataset_2_Cleaned/TOPIARY-2.wav\n",
            "Expected Word: DATASET_2_CLEANED\n",
            "Detected Word: TOPIARY\n",
            "Correct: 0\n",
            "\n"
          ]
        },
        {
          "output_type": "stream",
          "name": "stderr",
          "text": [
            "\rProcessing audio files:   3%|▎         | 27/1050 [02:54<1:55:45,  6.79s/it]"
          ]
        },
        {
          "output_type": "stream",
          "name": "stdout",
          "text": [
            "File: /content/drive/MyDrive/audio_files/Dataset_2_Cleaned/NAIVE-2.wav\n",
            "Expected Word: DATASET_2_CLEANED\n",
            "Detected Word: NAIVE\n",
            "Correct: 0\n",
            "\n"
          ]
        },
        {
          "output_type": "stream",
          "name": "stderr",
          "text": [
            "\rProcessing audio files:   3%|▎         | 28/1050 [03:02<2:03:49,  7.27s/it]"
          ]
        },
        {
          "output_type": "stream",
          "name": "stdout",
          "text": [
            "File: /content/drive/MyDrive/audio_files/Dataset_2_Cleaned/THYME-2.wav\n",
            "Expected Word: DATASET_2_CLEANED\n",
            "Detected Word: TIME\n",
            "Correct: 0\n",
            "\n"
          ]
        },
        {
          "output_type": "stream",
          "name": "stderr",
          "text": [
            "\rProcessing audio files:   3%|▎         | 29/1050 [03:10<2:09:11,  7.59s/it]"
          ]
        },
        {
          "output_type": "stream",
          "name": "stdout",
          "text": [
            "File: /content/drive/MyDrive/audio_files/Dataset_2_Cleaned/PROCREATE-2.wav\n",
            "Expected Word: DATASET_2_CLEANED\n",
            "Detected Word: \n",
            "Correct: 0\n",
            "\n"
          ]
        },
        {
          "output_type": "stream",
          "name": "stderr",
          "text": [
            "\rProcessing audio files:   3%|▎         | 30/1050 [03:16<1:57:17,  6.90s/it]"
          ]
        },
        {
          "output_type": "stream",
          "name": "stdout",
          "text": [
            "File: /content/drive/MyDrive/audio_files/Dataset_2_Cleaned/AISLE-2.wav\n",
            "Expected Word: DATASET_2_CLEANED\n",
            "Detected Word: OIL\n",
            "Correct: 0\n",
            "\n"
          ]
        },
        {
          "output_type": "stream",
          "name": "stderr",
          "text": [
            "\rProcessing audio files:   3%|▎         | 31/1050 [03:21<1:48:32,  6.39s/it]"
          ]
        },
        {
          "output_type": "stream",
          "name": "stdout",
          "text": [
            "File: /content/drive/MyDrive/audio_files/Dataset_2_Cleaned/CELLIST-2.wav\n",
            "Expected Word: DATASET_2_CLEANED\n",
            "Detected Word: \n",
            "Correct: 0\n",
            "\n"
          ]
        },
        {
          "output_type": "stream",
          "name": "stderr",
          "text": [
            "\rProcessing audio files:   3%|▎         | 32/1050 [03:26<1:42:36,  6.05s/it]"
          ]
        },
        {
          "output_type": "stream",
          "name": "stdout",
          "text": [
            "File: /content/drive/MyDrive/audio_files/Dataset_2_Cleaned/CATACOMB-2.wav\n",
            "Expected Word: DATASET_2_CLEANED\n",
            "Detected Word: CUT\n",
            "Correct: 0\n",
            "\n"
          ]
        },
        {
          "output_type": "stream",
          "name": "stderr",
          "text": [
            "\rProcessing audio files:   3%|▎         | 33/1050 [03:32<1:39:24,  5.86s/it]"
          ]
        },
        {
          "output_type": "stream",
          "name": "stdout",
          "text": [
            "File: /content/drive/MyDrive/audio_files/Dataset_2_Cleaned/SIDEREAL-2.wav\n",
            "Expected Word: DATASET_2_CLEANED\n",
            "Detected Word: SIDEREAL\n",
            "Correct: 0\n",
            "\n"
          ]
        },
        {
          "output_type": "stream",
          "name": "stderr",
          "text": [
            "\rProcessing audio files:   3%|▎         | 34/1050 [03:37<1:36:43,  5.71s/it]"
          ]
        },
        {
          "output_type": "stream",
          "name": "stdout",
          "text": [
            "File: /content/drive/MyDrive/audio_files/Dataset_2_Cleaned/CHORD-2.wav\n",
            "Expected Word: DATASET_2_CLEANED\n",
            "Detected Word: FORWARD\n",
            "Correct: 0\n",
            "\n"
          ]
        },
        {
          "output_type": "stream",
          "name": "stderr",
          "text": [
            "\rProcessing audio files:   3%|▎         | 35/1050 [03:42<1:34:01,  5.56s/it]"
          ]
        },
        {
          "output_type": "stream",
          "name": "stdout",
          "text": [
            "File: /content/drive/MyDrive/audio_files/Dataset_2_Cleaned/HEIR-2.wav\n",
            "Expected Word: DATASET_2_CLEANED\n",
            "Detected Word: \n",
            "Correct: 0\n",
            "\n"
          ]
        },
        {
          "output_type": "stream",
          "name": "stderr",
          "text": [
            "\rProcessing audio files:   3%|▎         | 36/1050 [03:48<1:32:55,  5.50s/it]"
          ]
        },
        {
          "output_type": "stream",
          "name": "stdout",
          "text": [
            "File: /content/drive/MyDrive/audio_files/Dataset_2_Cleaned/NAUSEA-2.wav\n",
            "Expected Word: DATASET_2_CLEANED\n",
            "Detected Word: NAUSEA\n",
            "Correct: 0\n",
            "\n"
          ]
        },
        {
          "output_type": "stream",
          "name": "stderr",
          "text": [
            "\rProcessing audio files:   4%|▎         | 37/1050 [03:53<1:32:09,  5.46s/it]"
          ]
        },
        {
          "output_type": "stream",
          "name": "stdout",
          "text": [
            "File: /content/drive/MyDrive/audio_files/Dataset_2_Cleaned/RADIX-2.wav\n",
            "Expected Word: DATASET_2_CLEANED\n",
            "Detected Word: \n",
            "Correct: 0\n",
            "\n"
          ]
        },
        {
          "output_type": "stream",
          "name": "stderr",
          "text": [
            "\rProcessing audio files:   4%|▎         | 38/1050 [04:01<1:46:27,  6.31s/it]"
          ]
        },
        {
          "output_type": "stream",
          "name": "stdout",
          "text": [
            "File: /content/drive/MyDrive/audio_files/Dataset_2_Cleaned/CAPON-2.wav\n",
            "Expected Word: DATASET_2_CLEANED\n",
            "Detected Word: UPON\n",
            "Correct: 0\n",
            "\n"
          ]
        },
        {
          "output_type": "stream",
          "name": "stderr",
          "text": [
            "\rProcessing audio files:   4%|▎         | 39/1050 [04:06<1:41:11,  6.01s/it]"
          ]
        },
        {
          "output_type": "stream",
          "name": "stdout",
          "text": [
            "File: /content/drive/MyDrive/audio_files/Dataset_2_Cleaned/CAMPANILE-2.wav\n",
            "Expected Word: DATASET_2_CLEANED\n",
            "Detected Word: \n",
            "Correct: 0\n",
            "\n"
          ]
        },
        {
          "output_type": "stream",
          "name": "stderr",
          "text": [
            "\rProcessing audio files:   4%|▍         | 40/1050 [04:12<1:37:07,  5.77s/it]"
          ]
        },
        {
          "output_type": "stream",
          "name": "stdout",
          "text": [
            "File: /content/drive/MyDrive/audio_files/Dataset_2_Cleaned/SIMILE-2.wav\n",
            "Expected Word: DATASET_2_CLEANED\n",
            "Detected Word: \n",
            "Correct: 0\n",
            "\n"
          ]
        },
        {
          "output_type": "stream",
          "name": "stderr",
          "text": [
            "\rProcessing audio files:   4%|▍         | 41/1050 [04:20<1:51:03,  6.60s/it]"
          ]
        },
        {
          "output_type": "stream",
          "name": "stdout",
          "text": [
            "File: /content/drive/MyDrive/audio_files/Dataset_2_Cleaned/RAREFY-2.wav\n",
            "Expected Word: DATASET_2_CLEANED\n",
            "Detected Word: RAREFIED\n",
            "Correct: 0\n",
            "\n"
          ]
        },
        {
          "output_type": "stream",
          "name": "stderr",
          "text": [
            "\rProcessing audio files:   4%|▍         | 42/1050 [04:25<1:43:36,  6.17s/it]"
          ]
        },
        {
          "output_type": "stream",
          "name": "stdout",
          "text": [
            "File: /content/drive/MyDrive/audio_files/Dataset_2_Cleaned/PRELATE-2.wav\n",
            "Expected Word: DATASET_2_CLEANED\n",
            "Detected Word: PUT\n",
            "Correct: 0\n",
            "\n"
          ]
        },
        {
          "output_type": "stream",
          "name": "stderr",
          "text": [
            "\rProcessing audio files:   4%|▍         | 43/1050 [04:31<1:39:45,  5.94s/it]"
          ]
        },
        {
          "output_type": "stream",
          "name": "stdout",
          "text": [
            "File: /content/drive/MyDrive/audio_files/Dataset_2_Cleaned/SUPERFLUOUS-2.wav\n",
            "Expected Word: DATASET_2_CLEANED\n",
            "Detected Word: SUPERFLUOUS\n",
            "Correct: 0\n",
            "\n"
          ]
        },
        {
          "output_type": "stream",
          "name": "stderr",
          "text": [
            "\rProcessing audio files:   4%|▍         | 44/1050 [04:36<1:36:57,  5.78s/it]"
          ]
        },
        {
          "output_type": "stream",
          "name": "stdout",
          "text": [
            "File: /content/drive/MyDrive/audio_files/Dataset_2_Cleaned/ZEALOT-2.wav\n",
            "Expected Word: DATASET_2_CLEANED\n",
            "Detected Word: ZEALOT\n",
            "Correct: 0\n",
            "\n"
          ]
        },
        {
          "output_type": "stream",
          "name": "stderr",
          "text": [
            "\rProcessing audio files:   4%|▍         | 45/1050 [04:42<1:34:27,  5.64s/it]"
          ]
        },
        {
          "output_type": "stream",
          "name": "stdout",
          "text": [
            "File: /content/drive/MyDrive/audio_files/Dataset_2_Cleaned/QUADRUPED-2.wav\n",
            "Expected Word: DATASET_2_CLEANED\n",
            "Detected Word: \n",
            "Correct: 0\n",
            "\n"
          ]
        },
        {
          "output_type": "stream",
          "name": "stderr",
          "text": [
            "\rProcessing audio files:   4%|▍         | 46/1050 [04:47<1:32:51,  5.55s/it]"
          ]
        },
        {
          "output_type": "stream",
          "name": "stdout",
          "text": [
            "File: /content/drive/MyDrive/audio_files/Dataset_2_Cleaned/ACHE-2.wav\n",
            "Expected Word: DATASET_2_CLEANED\n",
            "Detected Word: \n",
            "Correct: 0\n",
            "\n"
          ]
        },
        {
          "output_type": "stream",
          "name": "stderr",
          "text": [
            "\rProcessing audio files:   4%|▍         | 47/1050 [05:02<2:23:09,  8.56s/it]"
          ]
        },
        {
          "output_type": "stream",
          "name": "stdout",
          "text": [
            "File: /content/drive/MyDrive/audio_files/Dataset_2_Cleaned/AEON-2.wav\n",
            "Expected Word: DATASET_2_CLEANED\n",
            "Detected Word: \n",
            "Correct: 0\n",
            "\n"
          ]
        },
        {
          "output_type": "stream",
          "name": "stderr",
          "text": [
            "\rProcessing audio files:   5%|▍         | 48/1050 [05:08<2:07:05,  7.61s/it]"
          ]
        },
        {
          "output_type": "stream",
          "name": "stdout",
          "text": [
            "File: /content/drive/MyDrive/audio_files/Dataset_2_Cleaned/BOUQUET-2.wav\n",
            "Expected Word: DATASET_2_CLEANED\n",
            "Detected Word: BOUQUET\n",
            "Correct: 0\n",
            "\n"
          ]
        },
        {
          "output_type": "stream",
          "name": "stderr",
          "text": [
            "\rProcessing audio files:   5%|▍         | 49/1050 [05:13<1:54:43,  6.88s/it]"
          ]
        },
        {
          "output_type": "stream",
          "name": "stdout",
          "text": [
            "File: /content/drive/MyDrive/audio_files/Dataset_2_Cleaned/AVER-2.wav\n",
            "Expected Word: DATASET_2_CLEANED\n",
            "Detected Word: EIGHT\n",
            "Correct: 0\n",
            "\n"
          ]
        },
        {
          "output_type": "stream",
          "name": "stderr",
          "text": [
            "\rProcessing audio files:   5%|▍         | 50/1050 [05:18<1:47:33,  6.45s/it]"
          ]
        },
        {
          "output_type": "stream",
          "name": "stdout",
          "text": [
            "File: /content/drive/MyDrive/audio_files/Dataset_2_Cleaned/SUBTLE-2.wav\n",
            "Expected Word: DATASET_2_CLEANED\n",
            "Detected Word: SUBTLE\n",
            "Correct: 0\n",
            "\n"
          ]
        },
        {
          "output_type": "stream",
          "name": "stderr",
          "text": [
            "\rProcessing audio files:   5%|▍         | 51/1050 [05:24<1:42:06,  6.13s/it]"
          ]
        },
        {
          "output_type": "stream",
          "name": "stdout",
          "text": [
            "File: /content/drive/MyDrive/audio_files/Dataset_2_Cleaned/DEPOT-2.wav\n",
            "Expected Word: DATASET_2_CLEANED\n",
            "Detected Word: DEPOT\n",
            "Correct: 0\n",
            "\n"
          ]
        },
        {
          "output_type": "stream",
          "name": "stderr",
          "text": [
            "\rProcessing audio files:   5%|▍         | 52/1050 [05:29<1:39:14,  5.97s/it]"
          ]
        },
        {
          "output_type": "stream",
          "name": "stdout",
          "text": [
            "File: /content/drive/MyDrive/audio_files/Dataset_2_Cleaned/20_ASSIGNATE/P1.wav\n",
            "Expected Word: ASSIGNATE\n",
            "Detected Word: \n",
            "Correct: 0\n",
            "\n"
          ]
        },
        {
          "output_type": "stream",
          "name": "stderr",
          "text": [
            "\rProcessing audio files:   5%|▌         | 53/1050 [05:35<1:36:30,  5.81s/it]"
          ]
        },
        {
          "output_type": "stream",
          "name": "stdout",
          "text": [
            "File: /content/drive/MyDrive/audio_files/Dataset_2_Cleaned/20_ASSIGNATE/P2.wav\n",
            "Expected Word: ASSIGNATE\n",
            "Detected Word: SIGN\n",
            "Correct: 0\n",
            "\n"
          ]
        },
        {
          "output_type": "stream",
          "name": "stderr",
          "text": [
            "\rProcessing audio files:   5%|▌         | 54/1050 [05:40<1:33:52,  5.66s/it]"
          ]
        },
        {
          "output_type": "stream",
          "name": "stdout",
          "text": [
            "File: /content/drive/MyDrive/audio_files/Dataset_2_Cleaned/20_ASSIGNATE/P3.wav\n",
            "Expected Word: ASSIGNATE\n",
            "Detected Word: AGENT\n",
            "Correct: 0\n",
            "\n"
          ]
        },
        {
          "output_type": "stream",
          "name": "stderr",
          "text": [
            "\rProcessing audio files:   5%|▌         | 55/1050 [05:46<1:32:48,  5.60s/it]"
          ]
        },
        {
          "output_type": "stream",
          "name": "stdout",
          "text": [
            "File: /content/drive/MyDrive/audio_files/Dataset_2_Cleaned/20_ASSIGNATE/P4.wav\n",
            "Expected Word: ASSIGNATE\n",
            "Detected Word: \n",
            "Correct: 0\n",
            "\n"
          ]
        },
        {
          "output_type": "stream",
          "name": "stderr",
          "text": [
            "\rProcessing audio files:   5%|▌         | 56/1050 [05:51<1:32:12,  5.57s/it]"
          ]
        },
        {
          "output_type": "stream",
          "name": "stdout",
          "text": [
            "File: /content/drive/MyDrive/audio_files/Dataset_2_Cleaned/20_ASSIGNATE/P5.wav\n",
            "Expected Word: ASSIGNATE\n",
            "Detected Word: ASSIGNATE\n",
            "Correct: 1\n",
            "\n"
          ]
        },
        {
          "output_type": "stream",
          "name": "stderr",
          "text": [
            "\rProcessing audio files:   5%|▌         | 57/1050 [05:57<1:31:30,  5.53s/it]"
          ]
        },
        {
          "output_type": "stream",
          "name": "stdout",
          "text": [
            "File: /content/drive/MyDrive/audio_files/Dataset_2_Cleaned/20_ASSIGNATE/P6.wav\n",
            "Expected Word: ASSIGNATE\n",
            "Detected Word: SIGN\n",
            "Correct: 0\n",
            "\n"
          ]
        },
        {
          "output_type": "stream",
          "name": "stderr",
          "text": [
            "\rProcessing audio files:   6%|▌         | 58/1050 [06:02<1:29:50,  5.43s/it]"
          ]
        },
        {
          "output_type": "stream",
          "name": "stdout",
          "text": [
            "File: /content/drive/MyDrive/audio_files/Dataset_2_Cleaned/20_ASSIGNATE/P7.wav\n",
            "Expected Word: ASSIGNATE\n",
            "Detected Word: PASSING\n",
            "Correct: 0\n",
            "\n"
          ]
        },
        {
          "output_type": "stream",
          "name": "stderr",
          "text": [
            "\rProcessing audio files:   6%|▌         | 59/1050 [06:08<1:31:13,  5.52s/it]"
          ]
        },
        {
          "output_type": "stream",
          "name": "stdout",
          "text": [
            "File: /content/drive/MyDrive/audio_files/Dataset_2_Cleaned/20_ASSIGNATE/P8.wav\n",
            "Expected Word: ASSIGNATE\n",
            "Detected Word: A\n",
            "Correct: 0\n",
            "\n"
          ]
        },
        {
          "output_type": "stream",
          "name": "stderr",
          "text": [
            "\rProcessing audio files:   6%|▌         | 60/1050 [06:13<1:30:26,  5.48s/it]"
          ]
        },
        {
          "output_type": "stream",
          "name": "stdout",
          "text": [
            "File: /content/drive/MyDrive/audio_files/Dataset_2_Cleaned/20_ASSIGNATE/P9.wav\n",
            "Expected Word: ASSIGNATE\n",
            "Detected Word: ASSIGNATE\n",
            "Correct: 1\n",
            "\n"
          ]
        },
        {
          "output_type": "stream",
          "name": "stderr",
          "text": [
            "\rProcessing audio files:   6%|▌         | 61/1050 [06:18<1:30:34,  5.50s/it]"
          ]
        },
        {
          "output_type": "stream",
          "name": "stdout",
          "text": [
            "File: /content/drive/MyDrive/audio_files/Dataset_2_Cleaned/20_ASSIGNATE/P10.wav\n",
            "Expected Word: ASSIGNATE\n",
            "Detected Word: \n",
            "Correct: 0\n",
            "\n"
          ]
        },
        {
          "output_type": "stream",
          "name": "stderr",
          "text": [
            "\rProcessing audio files:   6%|▌         | 62/1050 [06:24<1:29:22,  5.43s/it]"
          ]
        },
        {
          "output_type": "stream",
          "name": "stdout",
          "text": [
            "File: /content/drive/MyDrive/audio_files/Dataset_2_Cleaned/20_ASSIGNATE/P11.wav\n",
            "Expected Word: ASSIGNATE\n",
            "Detected Word: \n",
            "Correct: 0\n",
            "\n"
          ]
        },
        {
          "output_type": "stream",
          "name": "stderr",
          "text": [
            "\rProcessing audio files:   6%|▌         | 63/1050 [06:29<1:29:07,  5.42s/it]"
          ]
        },
        {
          "output_type": "stream",
          "name": "stdout",
          "text": [
            "File: /content/drive/MyDrive/audio_files/Dataset_2_Cleaned/20_ASSIGNATE/P12.wav\n",
            "Expected Word: ASSIGNATE\n",
            "Detected Word: I'VE\n",
            "Correct: 0\n",
            "\n"
          ]
        },
        {
          "output_type": "stream",
          "name": "stderr",
          "text": [
            "\rProcessing audio files:   6%|▌         | 64/1050 [06:34<1:28:38,  5.39s/it]"
          ]
        },
        {
          "output_type": "stream",
          "name": "stdout",
          "text": [
            "File: /content/drive/MyDrive/audio_files/Dataset_2_Cleaned/20_ASSIGNATE/P13.wav\n",
            "Expected Word: ASSIGNATE\n",
            "Detected Word: \n",
            "Correct: 0\n",
            "\n"
          ]
        },
        {
          "output_type": "stream",
          "name": "stderr",
          "text": [
            "\rProcessing audio files:   6%|▌         | 65/1050 [06:40<1:27:08,  5.31s/it]"
          ]
        },
        {
          "output_type": "stream",
          "name": "stdout",
          "text": [
            "File: /content/drive/MyDrive/audio_files/Dataset_2_Cleaned/20_ASSIGNATE/P14.wav\n",
            "Expected Word: ASSIGNATE\n",
            "Detected Word: ACINATE\n",
            "Correct: 0\n",
            "\n"
          ]
        },
        {
          "output_type": "stream",
          "name": "stderr",
          "text": [
            "\rProcessing audio files:   6%|▋         | 66/1050 [06:45<1:27:32,  5.34s/it]"
          ]
        },
        {
          "output_type": "stream",
          "name": "stdout",
          "text": [
            "File: /content/drive/MyDrive/audio_files/Dataset_2_Cleaned/20_ASSIGNATE/P15.wav\n",
            "Expected Word: ASSIGNATE\n",
            "Detected Word: ASSIGNATE\n",
            "Correct: 1\n",
            "\n"
          ]
        },
        {
          "output_type": "stream",
          "name": "stderr",
          "text": [
            "\rProcessing audio files:   6%|▋         | 67/1050 [06:51<1:28:36,  5.41s/it]"
          ]
        },
        {
          "output_type": "stream",
          "name": "stdout",
          "text": [
            "File: /content/drive/MyDrive/audio_files/Dataset_2_Cleaned/20_ASSIGNATE/P16.wav\n",
            "Expected Word: ASSIGNATE\n",
            "Detected Word: \n",
            "Correct: 0\n",
            "\n"
          ]
        },
        {
          "output_type": "stream",
          "name": "stderr",
          "text": [
            "\rProcessing audio files:   6%|▋         | 68/1050 [06:56<1:27:37,  5.35s/it]"
          ]
        },
        {
          "output_type": "stream",
          "name": "stdout",
          "text": [
            "File: /content/drive/MyDrive/audio_files/Dataset_2_Cleaned/20_ASSIGNATE/P17.wav\n",
            "Expected Word: ASSIGNATE\n",
            "Detected Word: ASSIGNATE\n",
            "Correct: 1\n",
            "\n"
          ]
        },
        {
          "output_type": "stream",
          "name": "stderr",
          "text": [
            "\rProcessing audio files:   7%|▋         | 69/1050 [07:01<1:27:05,  5.33s/it]"
          ]
        },
        {
          "output_type": "stream",
          "name": "stdout",
          "text": [
            "File: /content/drive/MyDrive/audio_files/Dataset_2_Cleaned/20_ASSIGNATE/P18.wav\n",
            "Expected Word: ASSIGNATE\n",
            "Detected Word: \n",
            "Correct: 0\n",
            "\n"
          ]
        },
        {
          "output_type": "stream",
          "name": "stderr",
          "text": [
            "\rProcessing audio files:   7%|▋         | 70/1050 [07:06<1:27:05,  5.33s/it]"
          ]
        },
        {
          "output_type": "stream",
          "name": "stdout",
          "text": [
            "File: /content/drive/MyDrive/audio_files/Dataset_2_Cleaned/20_ASSIGNATE/P19.wav\n",
            "Expected Word: ASSIGNATE\n",
            "Detected Word: \n",
            "Correct: 0\n",
            "\n"
          ]
        },
        {
          "output_type": "stream",
          "name": "stderr",
          "text": [
            "\rProcessing audio files:   7%|▋         | 71/1050 [07:15<1:42:25,  6.28s/it]"
          ]
        },
        {
          "output_type": "stream",
          "name": "stdout",
          "text": [
            "File: /content/drive/MyDrive/audio_files/Dataset_2_Cleaned/20_ASSIGNATE/P20.wav\n",
            "Expected Word: ASSIGNATE\n",
            "Detected Word: AH\n",
            "Correct: 0\n",
            "\n"
          ]
        },
        {
          "output_type": "stream",
          "name": "stderr",
          "text": [
            "\rProcessing audio files:   7%|▋         | 72/1050 [07:20<1:37:09,  5.96s/it]"
          ]
        },
        {
          "output_type": "stream",
          "name": "stdout",
          "text": [
            "File: /content/drive/MyDrive/audio_files/Dataset_2_Cleaned/29_QUADRUPED/P1.wav\n",
            "Expected Word: QUADRUPED\n",
            "Detected Word: QUADRUPEDAL\n",
            "Correct: 0\n",
            "\n"
          ]
        },
        {
          "output_type": "stream",
          "name": "stderr",
          "text": [
            "\rProcessing audio files:   7%|▋         | 73/1050 [07:25<1:33:42,  5.75s/it]"
          ]
        },
        {
          "output_type": "stream",
          "name": "stdout",
          "text": [
            "File: /content/drive/MyDrive/audio_files/Dataset_2_Cleaned/29_QUADRUPED/P2.wav\n",
            "Expected Word: QUADRUPED\n",
            "Detected Word: \n",
            "Correct: 0\n",
            "\n"
          ]
        },
        {
          "output_type": "stream",
          "name": "stderr",
          "text": [
            "\rProcessing audio files:   7%|▋         | 74/1050 [07:31<1:31:47,  5.64s/it]"
          ]
        },
        {
          "output_type": "stream",
          "name": "stdout",
          "text": [
            "File: /content/drive/MyDrive/audio_files/Dataset_2_Cleaned/29_QUADRUPED/P3.wav\n",
            "Expected Word: QUADRUPED\n",
            "Detected Word: COULD\n",
            "Correct: 0\n",
            "\n"
          ]
        },
        {
          "output_type": "stream",
          "name": "stderr",
          "text": [
            "\rProcessing audio files:   7%|▋         | 75/1050 [07:36<1:29:27,  5.51s/it]"
          ]
        },
        {
          "output_type": "stream",
          "name": "stdout",
          "text": [
            "File: /content/drive/MyDrive/audio_files/Dataset_2_Cleaned/29_QUADRUPED/P4.wav\n",
            "Expected Word: QUADRUPED\n",
            "Detected Word: \n",
            "Correct: 0\n",
            "\n"
          ]
        },
        {
          "output_type": "stream",
          "name": "stderr",
          "text": [
            "\rProcessing audio files:   7%|▋         | 76/1050 [07:45<1:45:03,  6.47s/it]"
          ]
        },
        {
          "output_type": "stream",
          "name": "stdout",
          "text": [
            "File: /content/drive/MyDrive/audio_files/Dataset_2_Cleaned/29_QUADRUPED/P5.wav\n",
            "Expected Word: QUADRUPED\n",
            "Detected Word: QUADRUPED\n",
            "Correct: 1\n",
            "\n"
          ]
        },
        {
          "output_type": "stream",
          "name": "stderr",
          "text": [
            "\rProcessing audio files:   7%|▋         | 77/1050 [07:50<1:39:26,  6.13s/it]"
          ]
        },
        {
          "output_type": "stream",
          "name": "stdout",
          "text": [
            "File: /content/drive/MyDrive/audio_files/Dataset_2_Cleaned/29_QUADRUPED/P6.wav\n",
            "Expected Word: QUADRUPED\n",
            "Detected Word: \n",
            "Correct: 0\n",
            "\n"
          ]
        },
        {
          "output_type": "stream",
          "name": "stderr",
          "text": [
            "\rProcessing audio files:   7%|▋         | 78/1050 [07:55<1:35:12,  5.88s/it]"
          ]
        },
        {
          "output_type": "stream",
          "name": "stdout",
          "text": [
            "File: /content/drive/MyDrive/audio_files/Dataset_2_Cleaned/29_QUADRUPED/P7.wav\n",
            "Expected Word: QUADRUPED\n",
            "Detected Word: WHAT'S\n",
            "Correct: 0\n",
            "\n"
          ]
        },
        {
          "output_type": "stream",
          "name": "stderr",
          "text": [
            "\rProcessing audio files:   8%|▊         | 79/1050 [08:01<1:32:44,  5.73s/it]"
          ]
        },
        {
          "output_type": "stream",
          "name": "stdout",
          "text": [
            "File: /content/drive/MyDrive/audio_files/Dataset_2_Cleaned/29_QUADRUPED/P8.wav\n",
            "Expected Word: QUADRUPED\n",
            "Detected Word: \n",
            "Correct: 0\n",
            "\n"
          ]
        },
        {
          "output_type": "stream",
          "name": "stderr",
          "text": [
            "\rProcessing audio files:   8%|▊         | 80/1050 [08:06<1:30:42,  5.61s/it]"
          ]
        },
        {
          "output_type": "stream",
          "name": "stdout",
          "text": [
            "File: /content/drive/MyDrive/audio_files/Dataset_2_Cleaned/29_QUADRUPED/P9.wav\n",
            "Expected Word: QUADRUPED\n",
            "Detected Word: QUADRUPED\n",
            "Correct: 1\n",
            "\n"
          ]
        },
        {
          "output_type": "stream",
          "name": "stderr",
          "text": [
            "\rProcessing audio files:   8%|▊         | 81/1050 [08:11<1:29:17,  5.53s/it]"
          ]
        },
        {
          "output_type": "stream",
          "name": "stdout",
          "text": [
            "File: /content/drive/MyDrive/audio_files/Dataset_2_Cleaned/29_QUADRUPED/P10.wav\n",
            "Expected Word: QUADRUPED\n",
            "Detected Word: \n",
            "Correct: 0\n",
            "\n"
          ]
        },
        {
          "output_type": "stream",
          "name": "stderr",
          "text": [
            "\rProcessing audio files:   8%|▊         | 82/1050 [08:20<1:43:21,  6.41s/it]"
          ]
        },
        {
          "output_type": "stream",
          "name": "stdout",
          "text": [
            "File: /content/drive/MyDrive/audio_files/Dataset_2_Cleaned/29_QUADRUPED/P11.wav\n",
            "Expected Word: QUADRUPED\n",
            "Detected Word: QUADRA\n",
            "Correct: 0\n",
            "\n"
          ]
        },
        {
          "output_type": "stream",
          "name": "stderr",
          "text": [
            "\rProcessing audio files:   8%|▊         | 83/1050 [08:25<1:38:28,  6.11s/it]"
          ]
        },
        {
          "output_type": "stream",
          "name": "stdout",
          "text": [
            "File: /content/drive/MyDrive/audio_files/Dataset_2_Cleaned/29_QUADRUPED/P12.wav\n",
            "Expected Word: QUADRUPED\n",
            "Detected Word: QUADRUPED\n",
            "Correct: 1\n",
            "\n"
          ]
        },
        {
          "output_type": "stream",
          "name": "stderr",
          "text": [
            "\rProcessing audio files:   8%|▊         | 84/1050 [08:31<1:34:56,  5.90s/it]"
          ]
        },
        {
          "output_type": "stream",
          "name": "stdout",
          "text": [
            "File: /content/drive/MyDrive/audio_files/Dataset_2_Cleaned/29_QUADRUPED/P13.wav\n",
            "Expected Word: QUADRUPED\n",
            "Detected Word: \n",
            "Correct: 0\n",
            "\n"
          ]
        },
        {
          "output_type": "stream",
          "name": "stderr",
          "text": [
            "\rProcessing audio files:   8%|▊         | 85/1050 [08:36<1:31:17,  5.68s/it]"
          ]
        },
        {
          "output_type": "stream",
          "name": "stdout",
          "text": [
            "File: /content/drive/MyDrive/audio_files/Dataset_2_Cleaned/29_QUADRUPED/P14.wav\n",
            "Expected Word: QUADRUPED\n",
            "Detected Word: CALLED\n",
            "Correct: 0\n",
            "\n"
          ]
        },
        {
          "output_type": "stream",
          "name": "stderr",
          "text": [
            "\rProcessing audio files:   8%|▊         | 86/1050 [08:41<1:29:53,  5.60s/it]"
          ]
        },
        {
          "output_type": "stream",
          "name": "stdout",
          "text": [
            "File: /content/drive/MyDrive/audio_files/Dataset_2_Cleaned/29_QUADRUPED/P15.wav\n",
            "Expected Word: QUADRUPED\n",
            "Detected Word: QUADRUPED\n",
            "Correct: 1\n",
            "\n"
          ]
        },
        {
          "output_type": "stream",
          "name": "stderr",
          "text": [
            "\rProcessing audio files:   8%|▊         | 87/1050 [08:47<1:29:24,  5.57s/it]"
          ]
        },
        {
          "output_type": "stream",
          "name": "stdout",
          "text": [
            "File: /content/drive/MyDrive/audio_files/Dataset_2_Cleaned/29_QUADRUPED/P16.wav\n",
            "Expected Word: QUADRUPED\n",
            "Detected Word: \n",
            "Correct: 0\n",
            "\n"
          ]
        },
        {
          "output_type": "stream",
          "name": "stderr",
          "text": [
            "\rProcessing audio files:   8%|▊         | 88/1050 [08:52<1:28:24,  5.51s/it]"
          ]
        },
        {
          "output_type": "stream",
          "name": "stdout",
          "text": [
            "File: /content/drive/MyDrive/audio_files/Dataset_2_Cleaned/29_QUADRUPED/P17.wav\n",
            "Expected Word: QUADRUPED\n",
            "Detected Word: \n",
            "Correct: 0\n",
            "\n"
          ]
        },
        {
          "output_type": "stream",
          "name": "stderr",
          "text": [
            "\rProcessing audio files:   8%|▊         | 89/1050 [08:57<1:27:39,  5.47s/it]"
          ]
        },
        {
          "output_type": "stream",
          "name": "stdout",
          "text": [
            "File: /content/drive/MyDrive/audio_files/Dataset_2_Cleaned/29_QUADRUPED/P18.wav\n",
            "Expected Word: QUADRUPED\n",
            "Detected Word: QUADRUPED\n",
            "Correct: 1\n",
            "\n"
          ]
        },
        {
          "output_type": "stream",
          "name": "stderr",
          "text": [
            "\rProcessing audio files:   9%|▊         | 90/1050 [09:03<1:26:54,  5.43s/it]"
          ]
        },
        {
          "output_type": "stream",
          "name": "stdout",
          "text": [
            "File: /content/drive/MyDrive/audio_files/Dataset_2_Cleaned/29_QUADRUPED/P19.wav\n",
            "Expected Word: QUADRUPED\n",
            "Detected Word: \n",
            "Correct: 0\n",
            "\n"
          ]
        },
        {
          "output_type": "stream",
          "name": "stderr",
          "text": [
            "\rProcessing audio files:   9%|▊         | 91/1050 [09:08<1:26:14,  5.40s/it]"
          ]
        },
        {
          "output_type": "stream",
          "name": "stdout",
          "text": [
            "File: /content/drive/MyDrive/audio_files/Dataset_2_Cleaned/29_QUADRUPED/P20.wav\n",
            "Expected Word: QUADRUPED\n",
            "Detected Word: QUADRUPEDS\n",
            "Correct: 0\n",
            "\n"
          ]
        },
        {
          "output_type": "stream",
          "name": "stderr",
          "text": [
            "\rProcessing audio files:   9%|▉         | 92/1050 [09:13<1:24:04,  5.27s/it]"
          ]
        },
        {
          "output_type": "stream",
          "name": "stdout",
          "text": [
            "File: /content/drive/MyDrive/audio_files/Dataset_2_Cleaned/19_RADIX/P1.wav\n",
            "Expected Word: RADIX\n",
            "Detected Word: \n",
            "Correct: 0\n",
            "\n"
          ]
        },
        {
          "output_type": "stream",
          "name": "stderr",
          "text": [
            "\rProcessing audio files:   9%|▉         | 93/1050 [09:18<1:24:37,  5.31s/it]"
          ]
        },
        {
          "output_type": "stream",
          "name": "stdout",
          "text": [
            "File: /content/drive/MyDrive/audio_files/Dataset_2_Cleaned/19_RADIX/P2.wav\n",
            "Expected Word: RADIX\n",
            "Detected Word: \n",
            "Correct: 0\n",
            "\n"
          ]
        },
        {
          "output_type": "stream",
          "name": "stderr",
          "text": [
            "\rProcessing audio files:   9%|▉         | 94/1050 [09:24<1:24:02,  5.27s/it]"
          ]
        },
        {
          "output_type": "stream",
          "name": "stdout",
          "text": [
            "File: /content/drive/MyDrive/audio_files/Dataset_2_Cleaned/19_RADIX/P3.wav\n",
            "Expected Word: RADIX\n",
            "Detected Word: \n",
            "Correct: 0\n",
            "\n"
          ]
        },
        {
          "output_type": "stream",
          "name": "stderr",
          "text": [
            "\rProcessing audio files:   9%|▉         | 95/1050 [09:29<1:24:33,  5.31s/it]"
          ]
        },
        {
          "output_type": "stream",
          "name": "stdout",
          "text": [
            "File: /content/drive/MyDrive/audio_files/Dataset_2_Cleaned/19_RADIX/P4.wav\n",
            "Expected Word: RADIX\n",
            "Detected Word: \n",
            "Correct: 0\n",
            "\n"
          ]
        },
        {
          "output_type": "stream",
          "name": "stderr",
          "text": [
            "\rProcessing audio files:   9%|▉         | 96/1050 [09:37<1:39:16,  6.24s/it]"
          ]
        },
        {
          "output_type": "stream",
          "name": "stdout",
          "text": [
            "File: /content/drive/MyDrive/audio_files/Dataset_2_Cleaned/19_RADIX/P5.wav\n",
            "Expected Word: RADIX\n",
            "Detected Word: READ\n",
            "Correct: 0\n",
            "\n"
          ]
        },
        {
          "output_type": "stream",
          "name": "stderr",
          "text": [
            "\rProcessing audio files:   9%|▉         | 97/1050 [09:43<1:35:26,  6.01s/it]"
          ]
        },
        {
          "output_type": "stream",
          "name": "stdout",
          "text": [
            "File: /content/drive/MyDrive/audio_files/Dataset_2_Cleaned/19_RADIX/P6.wav\n",
            "Expected Word: RADIX\n",
            "Detected Word: RADIX\n",
            "Correct: 1\n",
            "\n"
          ]
        },
        {
          "output_type": "stream",
          "name": "stderr",
          "text": [
            "\rProcessing audio files:   9%|▉         | 98/1050 [09:48<1:31:26,  5.76s/it]"
          ]
        },
        {
          "output_type": "stream",
          "name": "stdout",
          "text": [
            "File: /content/drive/MyDrive/audio_files/Dataset_2_Cleaned/19_RADIX/P7.wav\n",
            "Expected Word: RADIX\n",
            "Detected Word: RATE\n",
            "Correct: 0\n",
            "\n"
          ]
        },
        {
          "output_type": "stream",
          "name": "stderr",
          "text": [
            "\rProcessing audio files:   9%|▉         | 99/1050 [09:54<1:31:14,  5.76s/it]"
          ]
        },
        {
          "output_type": "stream",
          "name": "stdout",
          "text": [
            "File: /content/drive/MyDrive/audio_files/Dataset_2_Cleaned/19_RADIX/P8.wav\n",
            "Expected Word: RADIX\n",
            "Detected Word: \n",
            "Correct: 0\n",
            "\n"
          ]
        },
        {
          "output_type": "stream",
          "name": "stderr",
          "text": [
            "\rProcessing audio files:  10%|▉         | 100/1050 [09:59<1:29:24,  5.65s/it]"
          ]
        },
        {
          "output_type": "stream",
          "name": "stdout",
          "text": [
            "File: /content/drive/MyDrive/audio_files/Dataset_2_Cleaned/19_RADIX/P9.wav\n",
            "Expected Word: RADIX\n",
            "Detected Word: READ\n",
            "Correct: 0\n",
            "\n"
          ]
        },
        {
          "output_type": "stream",
          "name": "stderr",
          "text": [
            "\rProcessing audio files:  10%|▉         | 101/1050 [10:05<1:27:40,  5.54s/it]"
          ]
        },
        {
          "output_type": "stream",
          "name": "stdout",
          "text": [
            "File: /content/drive/MyDrive/audio_files/Dataset_2_Cleaned/19_RADIX/P10.wav\n",
            "Expected Word: RADIX\n",
            "Detected Word: READ\n",
            "Correct: 0\n",
            "\n"
          ]
        },
        {
          "output_type": "stream",
          "name": "stderr",
          "text": [
            "\rProcessing audio files:  10%|▉         | 102/1050 [10:10<1:26:08,  5.45s/it]"
          ]
        },
        {
          "output_type": "stream",
          "name": "stdout",
          "text": [
            "File: /content/drive/MyDrive/audio_files/Dataset_2_Cleaned/19_RADIX/P11.wav\n",
            "Expected Word: RADIX\n",
            "Detected Word: \n",
            "Correct: 0\n",
            "\n"
          ]
        },
        {
          "output_type": "stream",
          "name": "stderr",
          "text": [
            "\rProcessing audio files:  10%|▉         | 103/1050 [10:15<1:25:33,  5.42s/it]"
          ]
        },
        {
          "output_type": "stream",
          "name": "stdout",
          "text": [
            "File: /content/drive/MyDrive/audio_files/Dataset_2_Cleaned/19_RADIX/P12.wav\n",
            "Expected Word: RADIX\n",
            "Detected Word: RADIX\n",
            "Correct: 1\n",
            "\n"
          ]
        },
        {
          "output_type": "stream",
          "name": "stderr",
          "text": [
            "\rProcessing audio files:  10%|▉         | 104/1050 [10:21<1:25:28,  5.42s/it]"
          ]
        },
        {
          "output_type": "stream",
          "name": "stdout",
          "text": [
            "File: /content/drive/MyDrive/audio_files/Dataset_2_Cleaned/19_RADIX/P13.wav\n",
            "Expected Word: RADIX\n",
            "Detected Word: \n",
            "Correct: 0\n",
            "\n"
          ]
        },
        {
          "output_type": "stream",
          "name": "stderr",
          "text": [
            "\rProcessing audio files:  10%|█         | 105/1050 [10:26<1:25:21,  5.42s/it]"
          ]
        },
        {
          "output_type": "stream",
          "name": "stdout",
          "text": [
            "File: /content/drive/MyDrive/audio_files/Dataset_2_Cleaned/19_RADIX/P14.wav\n",
            "Expected Word: RADIX\n",
            "Detected Word: \n",
            "Correct: 0\n",
            "\n"
          ]
        },
        {
          "output_type": "stream",
          "name": "stderr",
          "text": [
            "\rProcessing audio files:  10%|█         | 106/1050 [10:31<1:25:20,  5.42s/it]"
          ]
        },
        {
          "output_type": "stream",
          "name": "stdout",
          "text": [
            "File: /content/drive/MyDrive/audio_files/Dataset_2_Cleaned/19_RADIX/P15.wav\n",
            "Expected Word: RADIX\n",
            "Detected Word: RADIX\n",
            "Correct: 1\n",
            "\n"
          ]
        },
        {
          "output_type": "stream",
          "name": "stderr",
          "text": [
            "\rProcessing audio files:  10%|█         | 107/1050 [10:37<1:25:06,  5.42s/it]"
          ]
        },
        {
          "output_type": "stream",
          "name": "stdout",
          "text": [
            "File: /content/drive/MyDrive/audio_files/Dataset_2_Cleaned/19_RADIX/P16.wav\n",
            "Expected Word: RADIX\n",
            "Detected Word: \n",
            "Correct: 0\n",
            "\n"
          ]
        },
        {
          "output_type": "stream",
          "name": "stderr",
          "text": [
            "\rProcessing audio files:  10%|█         | 108/1050 [10:42<1:24:49,  5.40s/it]"
          ]
        },
        {
          "output_type": "stream",
          "name": "stdout",
          "text": [
            "File: /content/drive/MyDrive/audio_files/Dataset_2_Cleaned/19_RADIX/P17.wav\n",
            "Expected Word: RADIX\n",
            "Detected Word: \n",
            "Correct: 0\n",
            "\n"
          ]
        },
        {
          "output_type": "stream",
          "name": "stderr",
          "text": [
            "\rProcessing audio files:  10%|█         | 109/1050 [10:48<1:25:44,  5.47s/it]"
          ]
        },
        {
          "output_type": "stream",
          "name": "stdout",
          "text": [
            "File: /content/drive/MyDrive/audio_files/Dataset_2_Cleaned/19_RADIX/P18.wav\n",
            "Expected Word: RADIX\n",
            "Detected Word: \n",
            "Correct: 0\n",
            "\n"
          ]
        },
        {
          "output_type": "stream",
          "name": "stderr",
          "text": [
            "\rProcessing audio files:  10%|█         | 110/1050 [10:53<1:24:51,  5.42s/it]"
          ]
        },
        {
          "output_type": "stream",
          "name": "stdout",
          "text": [
            "File: /content/drive/MyDrive/audio_files/Dataset_2_Cleaned/19_RADIX/P19.wav\n",
            "Expected Word: RADIX\n",
            "Detected Word: RADIX\n",
            "Correct: 1\n",
            "\n"
          ]
        },
        {
          "output_type": "stream",
          "name": "stderr",
          "text": [
            "\rProcessing audio files:  11%|█         | 111/1050 [10:58<1:23:29,  5.33s/it]"
          ]
        },
        {
          "output_type": "stream",
          "name": "stdout",
          "text": [
            "File: /content/drive/MyDrive/audio_files/Dataset_2_Cleaned/19_RADIX/P20.wav\n",
            "Expected Word: RADIX\n",
            "Detected Word: \n",
            "Correct: 0\n",
            "\n"
          ]
        },
        {
          "output_type": "stream",
          "name": "stderr",
          "text": [
            "\rProcessing audio files:  11%|█         | 112/1050 [11:03<1:22:57,  5.31s/it]"
          ]
        },
        {
          "output_type": "stream",
          "name": "stdout",
          "text": [
            "File: /content/drive/MyDrive/audio_files/Dataset_2_Cleaned/45_PRELATE/P1.wav\n",
            "Expected Word: PRELATE\n",
            "Detected Word: \n",
            "Correct: 0\n",
            "\n"
          ]
        },
        {
          "output_type": "stream",
          "name": "stderr",
          "text": [
            "\rProcessing audio files:  11%|█         | 113/1050 [11:09<1:22:29,  5.28s/it]"
          ]
        },
        {
          "output_type": "stream",
          "name": "stdout",
          "text": [
            "File: /content/drive/MyDrive/audio_files/Dataset_2_Cleaned/45_PRELATE/P2.wav\n",
            "Expected Word: PRELATE\n",
            "Detected Word: PUT\n",
            "Correct: 0\n",
            "\n"
          ]
        },
        {
          "output_type": "stream",
          "name": "stderr",
          "text": [
            "\rProcessing audio files:  11%|█         | 114/1050 [11:17<1:37:36,  6.26s/it]"
          ]
        },
        {
          "output_type": "stream",
          "name": "stdout",
          "text": [
            "File: /content/drive/MyDrive/audio_files/Dataset_2_Cleaned/45_PRELATE/P3.wav\n",
            "Expected Word: PRELATE\n",
            "Detected Word: RELATE\n",
            "Correct: 0\n",
            "\n"
          ]
        },
        {
          "output_type": "stream",
          "name": "stderr",
          "text": [
            "\rProcessing audio files:  11%|█         | 115/1050 [11:23<1:33:03,  5.97s/it]"
          ]
        },
        {
          "output_type": "stream",
          "name": "stdout",
          "text": [
            "File: /content/drive/MyDrive/audio_files/Dataset_2_Cleaned/45_PRELATE/P4.wav\n",
            "Expected Word: PRELATE\n",
            "Detected Word: \n",
            "Correct: 0\n",
            "\n"
          ]
        },
        {
          "output_type": "stream",
          "name": "stderr",
          "text": [
            "\rProcessing audio files:  11%|█         | 116/1050 [11:31<1:45:11,  6.76s/it]"
          ]
        },
        {
          "output_type": "stream",
          "name": "stdout",
          "text": [
            "File: /content/drive/MyDrive/audio_files/Dataset_2_Cleaned/45_PRELATE/P5.wav\n",
            "Expected Word: PRELATE\n",
            "Detected Word: RELATE\n",
            "Correct: 0\n",
            "\n"
          ]
        },
        {
          "output_type": "stream",
          "name": "stderr",
          "text": [
            "\rProcessing audio files:  11%|█         | 117/1050 [11:40<1:54:00,  7.33s/it]"
          ]
        },
        {
          "output_type": "stream",
          "name": "stdout",
          "text": [
            "File: /content/drive/MyDrive/audio_files/Dataset_2_Cleaned/45_PRELATE/P6.wav\n",
            "Expected Word: PRELATE\n",
            "Detected Word: \n",
            "Correct: 0\n",
            "\n"
          ]
        },
        {
          "output_type": "stream",
          "name": "stderr",
          "text": [
            "\rProcessing audio files:  11%|█         | 118/1050 [11:45<1:44:57,  6.76s/it]"
          ]
        },
        {
          "output_type": "stream",
          "name": "stdout",
          "text": [
            "File: /content/drive/MyDrive/audio_files/Dataset_2_Cleaned/45_PRELATE/P7.wav\n",
            "Expected Word: PRELATE\n",
            "Detected Word: \n",
            "Correct: 0\n",
            "\n"
          ]
        },
        {
          "output_type": "stream",
          "name": "stderr",
          "text": [
            "\rProcessing audio files:  11%|█▏        | 119/1050 [11:51<1:38:37,  6.36s/it]"
          ]
        },
        {
          "output_type": "stream",
          "name": "stdout",
          "text": [
            "File: /content/drive/MyDrive/audio_files/Dataset_2_Cleaned/45_PRELATE/P8.wav\n",
            "Expected Word: PRELATE\n",
            "Detected Word: \n",
            "Correct: 0\n",
            "\n"
          ]
        },
        {
          "output_type": "stream",
          "name": "stderr",
          "text": [
            "\rProcessing audio files:  11%|█▏        | 120/1050 [11:59<1:48:16,  6.99s/it]"
          ]
        },
        {
          "output_type": "stream",
          "name": "stdout",
          "text": [
            "File: /content/drive/MyDrive/audio_files/Dataset_2_Cleaned/45_PRELATE/P9.wav\n",
            "Expected Word: PRELATE\n",
            "Detected Word: \n",
            "Correct: 0\n",
            "\n"
          ]
        },
        {
          "output_type": "stream",
          "name": "stderr",
          "text": [
            "\rProcessing audio files:  12%|█▏        | 121/1050 [12:11<2:09:55,  8.39s/it]"
          ]
        },
        {
          "output_type": "stream",
          "name": "stdout",
          "text": [
            "File: /content/drive/MyDrive/audio_files/Dataset_2_Cleaned/45_PRELATE/P10.wav\n",
            "Expected Word: PRELATE\n",
            "Detected Word: PRELATE\n",
            "Correct: 1\n",
            "\n"
          ]
        },
        {
          "output_type": "stream",
          "name": "stderr",
          "text": [
            "\rProcessing audio files:  12%|█▏        | 122/1050 [12:16<1:54:35,  7.41s/it]"
          ]
        },
        {
          "output_type": "stream",
          "name": "stdout",
          "text": [
            "File: /content/drive/MyDrive/audio_files/Dataset_2_Cleaned/45_PRELATE/P11.wav\n",
            "Expected Word: PRELATE\n",
            "Detected Word: \n",
            "Correct: 0\n",
            "\n"
          ]
        },
        {
          "output_type": "stream",
          "name": "stderr",
          "text": [
            "\rProcessing audio files:  12%|█▏        | 123/1050 [12:21<1:43:59,  6.73s/it]"
          ]
        },
        {
          "output_type": "stream",
          "name": "stdout",
          "text": [
            "File: /content/drive/MyDrive/audio_files/Dataset_2_Cleaned/45_PRELATE/P12.wav\n",
            "Expected Word: PRELATE\n",
            "Detected Word: \n",
            "Correct: 0\n",
            "\n"
          ]
        },
        {
          "output_type": "stream",
          "name": "stderr",
          "text": [
            "\rProcessing audio files:  12%|█▏        | 124/1050 [12:26<1:36:25,  6.25s/it]"
          ]
        },
        {
          "output_type": "stream",
          "name": "stdout",
          "text": [
            "File: /content/drive/MyDrive/audio_files/Dataset_2_Cleaned/45_PRELATE/P13.wav\n",
            "Expected Word: PRELATE\n",
            "Detected Word: \n",
            "Correct: 0\n",
            "\n"
          ]
        },
        {
          "output_type": "stream",
          "name": "stderr",
          "text": [
            "\rProcessing audio files:  12%|█▏        | 125/1050 [12:31<1:32:07,  5.98s/it]"
          ]
        },
        {
          "output_type": "stream",
          "name": "stdout",
          "text": [
            "File: /content/drive/MyDrive/audio_files/Dataset_2_Cleaned/45_PRELATE/P14.wav\n",
            "Expected Word: PRELATE\n",
            "Detected Word: \n",
            "Correct: 0\n",
            "\n"
          ]
        },
        {
          "output_type": "stream",
          "name": "stderr",
          "text": [
            "\rProcessing audio files:  12%|█▏        | 126/1050 [12:37<1:29:11,  5.79s/it]"
          ]
        },
        {
          "output_type": "stream",
          "name": "stdout",
          "text": [
            "File: /content/drive/MyDrive/audio_files/Dataset_2_Cleaned/45_PRELATE/P15.wav\n",
            "Expected Word: PRELATE\n",
            "Detected Word: \n",
            "Correct: 0\n",
            "\n"
          ]
        },
        {
          "output_type": "stream",
          "name": "stderr",
          "text": [
            "\rProcessing audio files:  12%|█▏        | 127/1050 [12:42<1:28:12,  5.73s/it]"
          ]
        },
        {
          "output_type": "stream",
          "name": "stdout",
          "text": [
            "File: /content/drive/MyDrive/audio_files/Dataset_2_Cleaned/45_PRELATE/P16.wav\n",
            "Expected Word: PRELATE\n",
            "Detected Word: \n",
            "Correct: 0\n",
            "\n"
          ]
        },
        {
          "output_type": "stream",
          "name": "stderr",
          "text": [
            "\rProcessing audio files:  12%|█▏        | 128/1050 [12:51<1:41:07,  6.58s/it]"
          ]
        },
        {
          "output_type": "stream",
          "name": "stdout",
          "text": [
            "File: /content/drive/MyDrive/audio_files/Dataset_2_Cleaned/45_PRELATE/P17.wav\n",
            "Expected Word: PRELATE\n",
            "Detected Word: FREELY\n",
            "Correct: 0\n",
            "\n"
          ]
        },
        {
          "output_type": "stream",
          "name": "stderr",
          "text": [
            "\rProcessing audio files:  12%|█▏        | 129/1050 [12:56<1:35:26,  6.22s/it]"
          ]
        },
        {
          "output_type": "stream",
          "name": "stdout",
          "text": [
            "File: /content/drive/MyDrive/audio_files/Dataset_2_Cleaned/45_PRELATE/P18.wav\n",
            "Expected Word: PRELATE\n",
            "Detected Word: \n",
            "Correct: 0\n",
            "\n"
          ]
        },
        {
          "output_type": "stream",
          "name": "stderr",
          "text": [
            "\rProcessing audio files:  12%|█▏        | 130/1050 [13:02<1:31:48,  5.99s/it]"
          ]
        },
        {
          "output_type": "stream",
          "name": "stdout",
          "text": [
            "File: /content/drive/MyDrive/audio_files/Dataset_2_Cleaned/45_PRELATE/P19.wav\n",
            "Expected Word: PRELATE\n",
            "Detected Word: \n",
            "Correct: 0\n",
            "\n"
          ]
        },
        {
          "output_type": "stream",
          "name": "stderr",
          "text": [
            "\rProcessing audio files:  12%|█▏        | 131/1050 [13:07<1:28:29,  5.78s/it]"
          ]
        },
        {
          "output_type": "stream",
          "name": "stdout",
          "text": [
            "File: /content/drive/MyDrive/audio_files/Dataset_2_Cleaned/45_PRELATE/P20.wav\n",
            "Expected Word: PRELATE\n",
            "Detected Word: \n",
            "Correct: 0\n",
            "\n"
          ]
        },
        {
          "output_type": "stream",
          "name": "stderr",
          "text": [
            "\rProcessing audio files:  13%|█▎        | 132/1050 [13:12<1:25:29,  5.59s/it]"
          ]
        },
        {
          "output_type": "stream",
          "name": "stdout",
          "text": [
            "File: /content/drive/MyDrive/audio_files/Dataset_2_Cleaned/40_AVER/P1.wav\n",
            "Expected Word: AVER\n",
            "Detected Word: \n",
            "Correct: 0\n",
            "\n"
          ]
        },
        {
          "output_type": "stream",
          "name": "stderr",
          "text": [
            "\rProcessing audio files:  13%|█▎        | 133/1050 [13:18<1:23:52,  5.49s/it]"
          ]
        },
        {
          "output_type": "stream",
          "name": "stdout",
          "text": [
            "File: /content/drive/MyDrive/audio_files/Dataset_2_Cleaned/40_AVER/P2.wav\n",
            "Expected Word: AVER\n",
            "Detected Word: EIGHT\n",
            "Correct: 0\n",
            "\n"
          ]
        },
        {
          "output_type": "stream",
          "name": "stderr",
          "text": [
            "\rProcessing audio files:  13%|█▎        | 134/1050 [13:23<1:23:22,  5.46s/it]"
          ]
        },
        {
          "output_type": "stream",
          "name": "stdout",
          "text": [
            "File: /content/drive/MyDrive/audio_files/Dataset_2_Cleaned/40_AVER/P3.wav\n",
            "Expected Word: AVER\n",
            "Detected Word: EVER\n",
            "Correct: 0\n",
            "\n"
          ]
        },
        {
          "output_type": "stream",
          "name": "stderr",
          "text": [
            "\rProcessing audio files:  13%|█▎        | 135/1050 [13:29<1:24:03,  5.51s/it]"
          ]
        },
        {
          "output_type": "stream",
          "name": "stdout",
          "text": [
            "File: /content/drive/MyDrive/audio_files/Dataset_2_Cleaned/40_AVER/P4.wav\n",
            "Expected Word: AVER\n",
            "Detected Word: \n",
            "Correct: 0\n",
            "\n"
          ]
        },
        {
          "output_type": "stream",
          "name": "stderr",
          "text": [
            "\rProcessing audio files:  13%|█▎        | 136/1050 [13:37<1:38:32,  6.47s/it]"
          ]
        },
        {
          "output_type": "stream",
          "name": "stdout",
          "text": [
            "File: /content/drive/MyDrive/audio_files/Dataset_2_Cleaned/40_AVER/P5.wav\n",
            "Expected Word: AVER\n",
            "Detected Word: OF\n",
            "Correct: 0\n",
            "\n"
          ]
        },
        {
          "output_type": "stream",
          "name": "stderr",
          "text": [
            "\rProcessing audio files:  13%|█▎        | 137/1050 [13:43<1:33:07,  6.12s/it]"
          ]
        },
        {
          "output_type": "stream",
          "name": "stdout",
          "text": [
            "File: /content/drive/MyDrive/audio_files/Dataset_2_Cleaned/40_AVER/P6.wav\n",
            "Expected Word: AVER\n",
            "Detected Word: AVA\n",
            "Correct: 0\n",
            "\n"
          ]
        },
        {
          "output_type": "stream",
          "name": "stderr",
          "text": [
            "\rProcessing audio files:  13%|█▎        | 138/1050 [13:48<1:29:39,  5.90s/it]"
          ]
        },
        {
          "output_type": "stream",
          "name": "stdout",
          "text": [
            "File: /content/drive/MyDrive/audio_files/Dataset_2_Cleaned/40_AVER/P7.wav\n",
            "Expected Word: AVER\n",
            "Detected Word: \n",
            "Correct: 0\n",
            "\n"
          ]
        },
        {
          "output_type": "stream",
          "name": "stderr",
          "text": [
            "\rProcessing audio files:  13%|█▎        | 139/1050 [13:54<1:28:13,  5.81s/it]"
          ]
        },
        {
          "output_type": "stream",
          "name": "stdout",
          "text": [
            "File: /content/drive/MyDrive/audio_files/Dataset_2_Cleaned/40_AVER/P8.wav\n",
            "Expected Word: AVER\n",
            "Detected Word: AVA\n",
            "Correct: 0\n",
            "\n"
          ]
        },
        {
          "output_type": "stream",
          "name": "stderr",
          "text": [
            "\rProcessing audio files:  13%|█▎        | 140/1050 [13:59<1:26:50,  5.73s/it]"
          ]
        },
        {
          "output_type": "stream",
          "name": "stdout",
          "text": [
            "File: /content/drive/MyDrive/audio_files/Dataset_2_Cleaned/40_AVER/P9.wav\n",
            "Expected Word: AVER\n",
            "Detected Word: AVA\n",
            "Correct: 0\n",
            "\n"
          ]
        },
        {
          "output_type": "stream",
          "name": "stderr",
          "text": [
            "\rProcessing audio files:  13%|█▎        | 141/1050 [14:04<1:24:30,  5.58s/it]"
          ]
        },
        {
          "output_type": "stream",
          "name": "stdout",
          "text": [
            "File: /content/drive/MyDrive/audio_files/Dataset_2_Cleaned/40_AVER/P10.wav\n",
            "Expected Word: AVER\n",
            "Detected Word: \n",
            "Correct: 0\n",
            "\n"
          ]
        },
        {
          "output_type": "stream",
          "name": "stderr",
          "text": [
            "\rProcessing audio files:  14%|█▎        | 142/1050 [14:13<1:37:33,  6.45s/it]"
          ]
        },
        {
          "output_type": "stream",
          "name": "stdout",
          "text": [
            "File: /content/drive/MyDrive/audio_files/Dataset_2_Cleaned/40_AVER/P11.wav\n",
            "Expected Word: AVER\n",
            "Detected Word: \n",
            "Correct: 0\n",
            "\n"
          ]
        },
        {
          "output_type": "stream",
          "name": "stderr",
          "text": [
            "\rProcessing audio files:  14%|█▎        | 143/1050 [14:21<1:47:36,  7.12s/it]"
          ]
        },
        {
          "output_type": "stream",
          "name": "stdout",
          "text": [
            "File: /content/drive/MyDrive/audio_files/Dataset_2_Cleaned/40_AVER/P12.wav\n",
            "Expected Word: AVER\n",
            "Detected Word: \n",
            "Correct: 0\n",
            "\n"
          ]
        },
        {
          "output_type": "stream",
          "name": "stderr",
          "text": [
            "\rProcessing audio files:  14%|█▎        | 144/1050 [14:27<1:39:53,  6.61s/it]"
          ]
        },
        {
          "output_type": "stream",
          "name": "stdout",
          "text": [
            "File: /content/drive/MyDrive/audio_files/Dataset_2_Cleaned/40_AVER/P13.wav\n",
            "Expected Word: AVER\n",
            "Detected Word: I\n",
            "Correct: 0\n",
            "\n"
          ]
        },
        {
          "output_type": "stream",
          "name": "stderr",
          "text": [
            "\rProcessing audio files:  14%|█▍        | 145/1050 [14:32<1:34:33,  6.27s/it]"
          ]
        },
        {
          "output_type": "stream",
          "name": "stdout",
          "text": [
            "File: /content/drive/MyDrive/audio_files/Dataset_2_Cleaned/40_AVER/P14.wav\n",
            "Expected Word: AVER\n",
            "Detected Word: \n",
            "Correct: 0\n",
            "\n"
          ]
        },
        {
          "output_type": "stream",
          "name": "stderr",
          "text": [
            "\rProcessing audio files:  14%|█▍        | 146/1050 [14:38<1:30:04,  5.98s/it]"
          ]
        },
        {
          "output_type": "stream",
          "name": "stdout",
          "text": [
            "File: /content/drive/MyDrive/audio_files/Dataset_2_Cleaned/40_AVER/P15.wav\n",
            "Expected Word: AVER\n",
            "Detected Word: \n",
            "Correct: 0\n",
            "\n"
          ]
        },
        {
          "output_type": "stream",
          "name": "stderr",
          "text": [
            "\rProcessing audio files:  14%|█▍        | 147/1050 [14:46<1:41:25,  6.74s/it]"
          ]
        },
        {
          "output_type": "stream",
          "name": "stdout",
          "text": [
            "File: /content/drive/MyDrive/audio_files/Dataset_2_Cleaned/40_AVER/P16.wav\n",
            "Expected Word: AVER\n",
            "Detected Word: \n",
            "Correct: 0\n",
            "\n"
          ]
        },
        {
          "output_type": "stream",
          "name": "stderr",
          "text": [
            "\rProcessing audio files:  14%|█▍        | 148/1050 [14:52<1:35:55,  6.38s/it]"
          ]
        },
        {
          "output_type": "stream",
          "name": "stdout",
          "text": [
            "File: /content/drive/MyDrive/audio_files/Dataset_2_Cleaned/40_AVER/P17.wav\n",
            "Expected Word: AVER\n",
            "Detected Word: AND\n",
            "Correct: 0\n",
            "\n"
          ]
        },
        {
          "output_type": "stream",
          "name": "stderr",
          "text": [
            "\rProcessing audio files:  14%|█▍        | 149/1050 [14:57<1:32:46,  6.18s/it]"
          ]
        },
        {
          "output_type": "stream",
          "name": "stdout",
          "text": [
            "File: /content/drive/MyDrive/audio_files/Dataset_2_Cleaned/40_AVER/P18.wav\n",
            "Expected Word: AVER\n",
            "Detected Word: \n",
            "Correct: 0\n",
            "\n"
          ]
        },
        {
          "output_type": "stream",
          "name": "stderr",
          "text": [
            "\rProcessing audio files:  14%|█▍        | 150/1050 [15:03<1:29:10,  5.95s/it]"
          ]
        },
        {
          "output_type": "stream",
          "name": "stdout",
          "text": [
            "File: /content/drive/MyDrive/audio_files/Dataset_2_Cleaned/40_AVER/P19.wav\n",
            "Expected Word: AVER\n",
            "Detected Word: \n",
            "Correct: 0\n",
            "\n"
          ]
        },
        {
          "output_type": "stream",
          "name": "stderr",
          "text": [
            "\rProcessing audio files:  14%|█▍        | 151/1050 [15:08<1:27:16,  5.83s/it]"
          ]
        },
        {
          "output_type": "stream",
          "name": "stdout",
          "text": [
            "File: /content/drive/MyDrive/audio_files/Dataset_2_Cleaned/40_AVER/P20.wav\n",
            "Expected Word: AVER\n",
            "Detected Word: AND\n",
            "Correct: 0\n",
            "\n"
          ]
        },
        {
          "output_type": "stream",
          "name": "stderr",
          "text": [
            "\rProcessing audio files:  14%|█▍        | 152/1050 [15:13<1:23:25,  5.57s/it]"
          ]
        },
        {
          "output_type": "stream",
          "name": "stdout",
          "text": [
            "File: /content/drive/MyDrive/audio_files/Dataset_2_Cleaned/37_DETENTE/P1.wav\n",
            "Expected Word: DETENTE\n",
            "Detected Word: IT\n",
            "Correct: 0\n",
            "\n"
          ]
        },
        {
          "output_type": "stream",
          "name": "stderr",
          "text": [
            "\rProcessing audio files:  15%|█▍        | 153/1050 [15:19<1:22:56,  5.55s/it]"
          ]
        },
        {
          "output_type": "stream",
          "name": "stdout",
          "text": [
            "File: /content/drive/MyDrive/audio_files/Dataset_2_Cleaned/37_DETENTE/P2.wav\n",
            "Expected Word: DETENTE\n",
            "Detected Word: THE\n",
            "Correct: 0\n",
            "\n"
          ]
        },
        {
          "output_type": "stream",
          "name": "stderr",
          "text": [
            "\rProcessing audio files:  15%|█▍        | 154/1050 [15:27<1:36:19,  6.45s/it]"
          ]
        },
        {
          "output_type": "stream",
          "name": "stdout",
          "text": [
            "File: /content/drive/MyDrive/audio_files/Dataset_2_Cleaned/37_DETENTE/P3.wav\n",
            "Expected Word: DETENTE\n",
            "Detected Word: \n",
            "Correct: 0\n",
            "\n"
          ]
        },
        {
          "output_type": "stream",
          "name": "stderr",
          "text": [
            "\rProcessing audio files:  15%|█▍        | 155/1050 [15:33<1:31:37,  6.14s/it]"
          ]
        },
        {
          "output_type": "stream",
          "name": "stdout",
          "text": [
            "File: /content/drive/MyDrive/audio_files/Dataset_2_Cleaned/37_DETENTE/P4.wav\n",
            "Expected Word: DETENTE\n",
            "Detected Word: \n",
            "Correct: 0\n",
            "\n"
          ]
        },
        {
          "output_type": "stream",
          "name": "stderr",
          "text": [
            "\rProcessing audio files:  15%|█▍        | 156/1050 [15:38<1:28:27,  5.94s/it]"
          ]
        },
        {
          "output_type": "stream",
          "name": "stdout",
          "text": [
            "File: /content/drive/MyDrive/audio_files/Dataset_2_Cleaned/37_DETENTE/P5.wav\n",
            "Expected Word: DETENTE\n",
            "Detected Word: \n",
            "Correct: 0\n",
            "\n"
          ]
        },
        {
          "output_type": "stream",
          "name": "stderr",
          "text": [
            "\rProcessing audio files:  15%|█▍        | 157/1050 [15:47<1:40:07,  6.73s/it]"
          ]
        },
        {
          "output_type": "stream",
          "name": "stdout",
          "text": [
            "File: /content/drive/MyDrive/audio_files/Dataset_2_Cleaned/37_DETENTE/P6.wav\n",
            "Expected Word: DETENTE\n",
            "Detected Word: TEN\n",
            "Correct: 0\n",
            "\n"
          ]
        },
        {
          "output_type": "stream",
          "name": "stderr",
          "text": [
            "\rProcessing audio files:  15%|█▌        | 158/1050 [15:52<1:34:16,  6.34s/it]"
          ]
        },
        {
          "output_type": "stream",
          "name": "stdout",
          "text": [
            "File: /content/drive/MyDrive/audio_files/Dataset_2_Cleaned/37_DETENTE/P7.wav\n",
            "Expected Word: DETENTE\n",
            "Detected Word: INTO\n",
            "Correct: 0\n",
            "\n"
          ]
        },
        {
          "output_type": "stream",
          "name": "stderr",
          "text": [
            "\rProcessing audio files:  15%|█▌        | 159/1050 [15:58<1:31:06,  6.13s/it]"
          ]
        },
        {
          "output_type": "stream",
          "name": "stdout",
          "text": [
            "File: /content/drive/MyDrive/audio_files/Dataset_2_Cleaned/37_DETENTE/P8.wav\n",
            "Expected Word: DETENTE\n",
            "Detected Word: \n",
            "Correct: 0\n",
            "\n"
          ]
        },
        {
          "output_type": "stream",
          "name": "stderr",
          "text": [
            "\rProcessing audio files:  15%|█▌        | 160/1050 [16:03<1:28:16,  5.95s/it]"
          ]
        },
        {
          "output_type": "stream",
          "name": "stdout",
          "text": [
            "File: /content/drive/MyDrive/audio_files/Dataset_2_Cleaned/37_DETENTE/P9.wav\n",
            "Expected Word: DETENTE\n",
            "Detected Word: DETAINEE\n",
            "Correct: 0\n",
            "\n"
          ]
        },
        {
          "output_type": "stream",
          "name": "stderr",
          "text": [
            "\rProcessing audio files:  15%|█▌        | 161/1050 [16:09<1:26:21,  5.83s/it]"
          ]
        },
        {
          "output_type": "stream",
          "name": "stdout",
          "text": [
            "File: /content/drive/MyDrive/audio_files/Dataset_2_Cleaned/37_DETENTE/P10.wav\n",
            "Expected Word: DETENTE\n",
            "Detected Word: THE\n",
            "Correct: 0\n",
            "\n"
          ]
        },
        {
          "output_type": "stream",
          "name": "stderr",
          "text": [
            "\rProcessing audio files:  15%|█▌        | 162/1050 [16:14<1:23:07,  5.62s/it]"
          ]
        },
        {
          "output_type": "stream",
          "name": "stdout",
          "text": [
            "File: /content/drive/MyDrive/audio_files/Dataset_2_Cleaned/37_DETENTE/P11.wav\n",
            "Expected Word: DETENTE\n",
            "Detected Word: \n",
            "Correct: 0\n",
            "\n"
          ]
        },
        {
          "output_type": "stream",
          "name": "stderr",
          "text": [
            "\rProcessing audio files:  16%|█▌        | 163/1050 [16:20<1:22:24,  5.57s/it]"
          ]
        },
        {
          "output_type": "stream",
          "name": "stdout",
          "text": [
            "File: /content/drive/MyDrive/audio_files/Dataset_2_Cleaned/37_DETENTE/P12.wav\n",
            "Expected Word: DETENTE\n",
            "Detected Word: TO\n",
            "Correct: 0\n",
            "\n"
          ]
        },
        {
          "output_type": "stream",
          "name": "stderr",
          "text": [
            "\rProcessing audio files:  16%|█▌        | 164/1050 [16:25<1:21:33,  5.52s/it]"
          ]
        },
        {
          "output_type": "stream",
          "name": "stdout",
          "text": [
            "File: /content/drive/MyDrive/audio_files/Dataset_2_Cleaned/37_DETENTE/P13.wav\n",
            "Expected Word: DETENTE\n",
            "Detected Word: \n",
            "Correct: 0\n",
            "\n"
          ]
        },
        {
          "output_type": "stream",
          "name": "stderr",
          "text": [
            "\rProcessing audio files:  16%|█▌        | 165/1050 [16:34<1:35:06,  6.45s/it]"
          ]
        },
        {
          "output_type": "stream",
          "name": "stdout",
          "text": [
            "File: /content/drive/MyDrive/audio_files/Dataset_2_Cleaned/37_DETENTE/P14.wav\n",
            "Expected Word: DETENTE\n",
            "Detected Word: \n",
            "Correct: 0\n",
            "\n"
          ]
        },
        {
          "output_type": "stream",
          "name": "stderr",
          "text": [
            "\rProcessing audio files:  16%|█▌        | 166/1050 [16:39<1:30:41,  6.16s/it]"
          ]
        },
        {
          "output_type": "stream",
          "name": "stdout",
          "text": [
            "File: /content/drive/MyDrive/audio_files/Dataset_2_Cleaned/37_DETENTE/P15.wav\n",
            "Expected Word: DETENTE\n",
            "Detected Word: DID\n",
            "Correct: 0\n",
            "\n"
          ]
        },
        {
          "output_type": "stream",
          "name": "stderr",
          "text": [
            "\rProcessing audio files:  16%|█▌        | 167/1050 [16:45<1:28:14,  6.00s/it]"
          ]
        },
        {
          "output_type": "stream",
          "name": "stdout",
          "text": [
            "File: /content/drive/MyDrive/audio_files/Dataset_2_Cleaned/37_DETENTE/P16.wav\n",
            "Expected Word: DETENTE\n",
            "Detected Word: DETENTE\n",
            "Correct: 1\n",
            "\n"
          ]
        },
        {
          "output_type": "stream",
          "name": "stderr",
          "text": [
            "\rProcessing audio files:  16%|█▌        | 168/1050 [16:54<1:40:56,  6.87s/it]"
          ]
        },
        {
          "output_type": "stream",
          "name": "stdout",
          "text": [
            "File: /content/drive/MyDrive/audio_files/Dataset_2_Cleaned/37_DETENTE/P17.wav\n",
            "Expected Word: DETENTE\n",
            "Detected Word: \n",
            "Correct: 0\n",
            "\n"
          ]
        },
        {
          "output_type": "stream",
          "name": "stderr",
          "text": [
            "\rProcessing audio files:  16%|█▌        | 169/1050 [16:59<1:34:27,  6.43s/it]"
          ]
        },
        {
          "output_type": "stream",
          "name": "stdout",
          "text": [
            "File: /content/drive/MyDrive/audio_files/Dataset_2_Cleaned/37_DETENTE/P18.wav\n",
            "Expected Word: DETENTE\n",
            "Detected Word: \n",
            "Correct: 0\n",
            "\n"
          ]
        },
        {
          "output_type": "stream",
          "name": "stderr",
          "text": [
            "\rProcessing audio files:  16%|█▌        | 170/1050 [17:11<1:57:22,  8.00s/it]"
          ]
        },
        {
          "output_type": "stream",
          "name": "stdout",
          "text": [
            "File: /content/drive/MyDrive/audio_files/Dataset_2_Cleaned/37_DETENTE/P19.wav\n",
            "Expected Word: DETENTE\n",
            "Detected Word: THE\n",
            "Correct: 0\n",
            "\n"
          ]
        },
        {
          "output_type": "stream",
          "name": "stderr",
          "text": [
            "\rProcessing audio files:  16%|█▋        | 171/1050 [17:16<1:46:16,  7.25s/it]"
          ]
        },
        {
          "output_type": "stream",
          "name": "stdout",
          "text": [
            "File: /content/drive/MyDrive/audio_files/Dataset_2_Cleaned/37_DETENTE/P20.wav\n",
            "Expected Word: DETENTE\n",
            "Detected Word: \n",
            "Correct: 0\n",
            "\n"
          ]
        },
        {
          "output_type": "stream",
          "name": "stderr",
          "text": [
            "\rProcessing audio files:  16%|█▋        | 172/1050 [17:25<1:51:09,  7.60s/it]"
          ]
        },
        {
          "output_type": "stream",
          "name": "stdout",
          "text": [
            "File: /content/drive/MyDrive/audio_files/Dataset_2_Cleaned/28_BANAL/P1.wav\n",
            "Expected Word: BANAL\n",
            "Detected Word: \n",
            "Correct: 0\n",
            "\n"
          ]
        },
        {
          "output_type": "stream",
          "name": "stderr",
          "text": [
            "\rProcessing audio files:  16%|█▋        | 173/1050 [17:33<1:55:37,  7.91s/it]"
          ]
        },
        {
          "output_type": "stream",
          "name": "stdout",
          "text": [
            "File: /content/drive/MyDrive/audio_files/Dataset_2_Cleaned/28_BANAL/P2.wav\n",
            "Expected Word: BANAL\n",
            "Detected Word: BUT\n",
            "Correct: 0\n",
            "\n"
          ]
        },
        {
          "output_type": "stream",
          "name": "stderr",
          "text": [
            "\rProcessing audio files:  17%|█▋        | 174/1050 [17:42<1:57:46,  8.07s/it]"
          ]
        },
        {
          "output_type": "stream",
          "name": "stdout",
          "text": [
            "File: /content/drive/MyDrive/audio_files/Dataset_2_Cleaned/28_BANAL/P3.wav\n",
            "Expected Word: BANAL\n",
            "Detected Word: \n",
            "Correct: 0\n",
            "\n"
          ]
        },
        {
          "output_type": "stream",
          "name": "stderr",
          "text": [
            "\rProcessing audio files:  17%|█▋        | 175/1050 [17:50<2:00:36,  8.27s/it]"
          ]
        },
        {
          "output_type": "stream",
          "name": "stdout",
          "text": [
            "File: /content/drive/MyDrive/audio_files/Dataset_2_Cleaned/28_BANAL/P4.wav\n",
            "Expected Word: BANAL\n",
            "Detected Word: \n",
            "Correct: 0\n",
            "\n"
          ]
        },
        {
          "output_type": "stream",
          "name": "stderr",
          "text": [
            "\rProcessing audio files:  17%|█▋        | 176/1050 [17:59<2:02:45,  8.43s/it]"
          ]
        },
        {
          "output_type": "stream",
          "name": "stdout",
          "text": [
            "File: /content/drive/MyDrive/audio_files/Dataset_2_Cleaned/28_BANAL/P5.wav\n",
            "Expected Word: BANAL\n",
            "Detected Word: AND\n",
            "Correct: 0\n",
            "\n"
          ]
        },
        {
          "output_type": "stream",
          "name": "stderr",
          "text": [
            "\rProcessing audio files:  17%|█▋        | 177/1050 [18:14<2:30:46, 10.36s/it]"
          ]
        },
        {
          "output_type": "stream",
          "name": "stdout",
          "text": [
            "File: /content/drive/MyDrive/audio_files/Dataset_2_Cleaned/28_BANAL/P6.wav\n",
            "Expected Word: BANAL\n",
            "Detected Word: \n",
            "Correct: 0\n",
            "\n"
          ]
        },
        {
          "output_type": "stream",
          "name": "stderr",
          "text": [
            "\rProcessing audio files:  17%|█▋        | 178/1050 [18:20<2:09:20,  8.90s/it]"
          ]
        },
        {
          "output_type": "stream",
          "name": "stdout",
          "text": [
            "File: /content/drive/MyDrive/audio_files/Dataset_2_Cleaned/28_BANAL/P7.wav\n",
            "Expected Word: BANAL\n",
            "Detected Word: \n",
            "Correct: 0\n",
            "\n"
          ]
        },
        {
          "output_type": "stream",
          "name": "stderr",
          "text": [
            "\rProcessing audio files:  17%|█▋        | 179/1050 [18:25<1:54:26,  7.88s/it]"
          ]
        },
        {
          "output_type": "stream",
          "name": "stdout",
          "text": [
            "File: /content/drive/MyDrive/audio_files/Dataset_2_Cleaned/28_BANAL/P8.wav\n",
            "Expected Word: BANAL\n",
            "Detected Word: \n",
            "Correct: 0\n",
            "\n"
          ]
        },
        {
          "output_type": "stream",
          "name": "stderr",
          "text": [
            "\rProcessing audio files:  17%|█▋        | 180/1050 [18:32<1:50:03,  7.59s/it]"
          ]
        },
        {
          "output_type": "stream",
          "name": "stdout",
          "text": [
            "File: /content/drive/MyDrive/audio_files/Dataset_2_Cleaned/28_BANAL/P9.wav\n",
            "Expected Word: BANAL\n",
            "Detected Word: \n",
            "Correct: 0\n",
            "\n"
          ]
        },
        {
          "output_type": "stream",
          "name": "stderr",
          "text": [
            "\rProcessing audio files:  17%|█▋        | 181/1050 [18:37<1:39:27,  6.87s/it]"
          ]
        },
        {
          "output_type": "stream",
          "name": "stdout",
          "text": [
            "File: /content/drive/MyDrive/audio_files/Dataset_2_Cleaned/28_BANAL/P10.wav\n",
            "Expected Word: BANAL\n",
            "Detected Word: FOR\n",
            "Correct: 0\n",
            "\n"
          ]
        },
        {
          "output_type": "stream",
          "name": "stderr",
          "text": [
            "\rProcessing audio files:  17%|█▋        | 182/1050 [18:42<1:31:50,  6.35s/it]"
          ]
        },
        {
          "output_type": "stream",
          "name": "stdout",
          "text": [
            "File: /content/drive/MyDrive/audio_files/Dataset_2_Cleaned/28_BANAL/P11.wav\n",
            "Expected Word: BANAL\n",
            "Detected Word: YOU\n",
            "Correct: 0\n",
            "\n"
          ]
        },
        {
          "output_type": "stream",
          "name": "stderr",
          "text": [
            "\rProcessing audio files:  17%|█▋        | 183/1050 [18:48<1:27:59,  6.09s/it]"
          ]
        },
        {
          "output_type": "stream",
          "name": "stdout",
          "text": [
            "File: /content/drive/MyDrive/audio_files/Dataset_2_Cleaned/28_BANAL/P12.wav\n",
            "Expected Word: BANAL\n",
            "Detected Word: BUT\n",
            "Correct: 0\n",
            "\n"
          ]
        },
        {
          "output_type": "stream",
          "name": "stderr",
          "text": [
            "\rProcessing audio files:  18%|█▊        | 184/1050 [18:53<1:24:56,  5.89s/it]"
          ]
        },
        {
          "output_type": "stream",
          "name": "stdout",
          "text": [
            "File: /content/drive/MyDrive/audio_files/Dataset_2_Cleaned/28_BANAL/P13.wav\n",
            "Expected Word: BANAL\n",
            "Detected Word: YOU\n",
            "Correct: 0\n",
            "\n"
          ]
        },
        {
          "output_type": "stream",
          "name": "stderr",
          "text": [
            "\rProcessing audio files:  18%|█▊        | 185/1050 [18:59<1:23:00,  5.76s/it]"
          ]
        },
        {
          "output_type": "stream",
          "name": "stdout",
          "text": [
            "File: /content/drive/MyDrive/audio_files/Dataset_2_Cleaned/28_BANAL/P14.wav\n",
            "Expected Word: BANAL\n",
            "Detected Word: BUT\n",
            "Correct: 0\n",
            "\n"
          ]
        },
        {
          "output_type": "stream",
          "name": "stderr",
          "text": [
            "\rProcessing audio files:  18%|█▊        | 186/1050 [19:07<1:35:39,  6.64s/it]"
          ]
        },
        {
          "output_type": "stream",
          "name": "stdout",
          "text": [
            "File: /content/drive/MyDrive/audio_files/Dataset_2_Cleaned/28_BANAL/P15.wav\n",
            "Expected Word: BANAL\n",
            "Detected Word: BANAL\n",
            "Correct: 1\n",
            "\n"
          ]
        },
        {
          "output_type": "stream",
          "name": "stderr",
          "text": [
            "\rProcessing audio files:  18%|█▊        | 187/1050 [19:13<1:30:41,  6.31s/it]"
          ]
        },
        {
          "output_type": "stream",
          "name": "stdout",
          "text": [
            "File: /content/drive/MyDrive/audio_files/Dataset_2_Cleaned/28_BANAL/P16.wav\n",
            "Expected Word: BANAL\n",
            "Detected Word: \n",
            "Correct: 0\n",
            "\n"
          ]
        },
        {
          "output_type": "stream",
          "name": "stderr",
          "text": [
            "\rProcessing audio files:  18%|█▊        | 188/1050 [19:18<1:26:28,  6.02s/it]"
          ]
        },
        {
          "output_type": "stream",
          "name": "stdout",
          "text": [
            "File: /content/drive/MyDrive/audio_files/Dataset_2_Cleaned/28_BANAL/P17.wav\n",
            "Expected Word: BANAL\n",
            "Detected Word: THEY\n",
            "Correct: 0\n",
            "\n"
          ]
        },
        {
          "output_type": "stream",
          "name": "stderr",
          "text": [
            "\rProcessing audio files:  18%|█▊        | 189/1050 [19:23<1:22:48,  5.77s/it]"
          ]
        },
        {
          "output_type": "stream",
          "name": "stdout",
          "text": [
            "File: /content/drive/MyDrive/audio_files/Dataset_2_Cleaned/28_BANAL/P18.wav\n",
            "Expected Word: BANAL\n",
            "Detected Word: BANGING\n",
            "Correct: 0\n",
            "\n"
          ]
        },
        {
          "output_type": "stream",
          "name": "stderr",
          "text": [
            "\rProcessing audio files:  18%|█▊        | 190/1050 [19:29<1:22:43,  5.77s/it]"
          ]
        },
        {
          "output_type": "stream",
          "name": "stdout",
          "text": [
            "File: /content/drive/MyDrive/audio_files/Dataset_2_Cleaned/28_BANAL/P19.wav\n",
            "Expected Word: BANAL\n",
            "Detected Word: \n",
            "Correct: 0\n",
            "\n"
          ]
        },
        {
          "output_type": "stream",
          "name": "stderr",
          "text": [
            "\rProcessing audio files:  18%|█▊        | 191/1050 [19:41<1:49:06,  7.62s/it]"
          ]
        },
        {
          "output_type": "stream",
          "name": "stdout",
          "text": [
            "File: /content/drive/MyDrive/audio_files/Dataset_2_Cleaned/28_BANAL/P20.wav\n",
            "Expected Word: BANAL\n",
            "Detected Word: NOW\n",
            "Correct: 0\n",
            "\n"
          ]
        },
        {
          "output_type": "stream",
          "name": "stderr",
          "text": [
            "\rProcessing audio files:  18%|█▊        | 192/1050 [19:46<1:39:05,  6.93s/it]"
          ]
        },
        {
          "output_type": "stream",
          "name": "stdout",
          "text": [
            "File: /content/drive/MyDrive/audio_files/Dataset_2_Cleaned/21_HIATUS/P1.wav\n",
            "Expected Word: HIATUS\n",
            "Detected Word: HIDE\n",
            "Correct: 0\n",
            "\n"
          ]
        },
        {
          "output_type": "stream",
          "name": "stderr",
          "text": [
            "\rProcessing audio files:  18%|█▊        | 193/1050 [19:55<1:44:57,  7.35s/it]"
          ]
        },
        {
          "output_type": "stream",
          "name": "stdout",
          "text": [
            "File: /content/drive/MyDrive/audio_files/Dataset_2_Cleaned/21_HIATUS/P2.wav\n",
            "Expected Word: HIATUS\n",
            "Detected Word: HIATUS\n",
            "Correct: 1\n",
            "\n"
          ]
        },
        {
          "output_type": "stream",
          "name": "stderr",
          "text": [
            "\rProcessing audio files:  18%|█▊        | 194/1050 [20:00<1:36:45,  6.78s/it]"
          ]
        },
        {
          "output_type": "stream",
          "name": "stdout",
          "text": [
            "File: /content/drive/MyDrive/audio_files/Dataset_2_Cleaned/21_HIATUS/P3.wav\n",
            "Expected Word: HIATUS\n",
            "Detected Word: HIATUS\n",
            "Correct: 1\n",
            "\n"
          ]
        },
        {
          "output_type": "stream",
          "name": "stderr",
          "text": [
            "\rProcessing audio files:  19%|█▊        | 195/1050 [20:09<1:45:06,  7.38s/it]"
          ]
        },
        {
          "output_type": "stream",
          "name": "stdout",
          "text": [
            "File: /content/drive/MyDrive/audio_files/Dataset_2_Cleaned/21_HIATUS/P4.wav\n",
            "Expected Word: HIATUS\n",
            "Detected Word: HIATUS\n",
            "Correct: 1\n",
            "\n"
          ]
        },
        {
          "output_type": "stream",
          "name": "stderr",
          "text": [
            "\rProcessing audio files:  19%|█▊        | 196/1050 [20:14<1:36:38,  6.79s/it]"
          ]
        },
        {
          "output_type": "stream",
          "name": "stdout",
          "text": [
            "File: /content/drive/MyDrive/audio_files/Dataset_2_Cleaned/21_HIATUS/P5.wav\n",
            "Expected Word: HIATUS\n",
            "Detected Word: \n",
            "Correct: 0\n",
            "\n"
          ]
        },
        {
          "output_type": "stream",
          "name": "stderr",
          "text": [
            "\rProcessing audio files:  19%|█▉        | 197/1050 [20:20<1:30:37,  6.37s/it]"
          ]
        },
        {
          "output_type": "stream",
          "name": "stdout",
          "text": [
            "File: /content/drive/MyDrive/audio_files/Dataset_2_Cleaned/21_HIATUS/P6.wav\n",
            "Expected Word: HIATUS\n",
            "Detected Word: HATERS\n",
            "Correct: 0\n",
            "\n"
          ]
        },
        {
          "output_type": "stream",
          "name": "stderr",
          "text": [
            "\rProcessing audio files:  19%|█▉        | 198/1050 [20:25<1:25:51,  6.05s/it]"
          ]
        },
        {
          "output_type": "stream",
          "name": "stdout",
          "text": [
            "File: /content/drive/MyDrive/audio_files/Dataset_2_Cleaned/21_HIATUS/P7.wav\n",
            "Expected Word: HIATUS\n",
            "Detected Word: I\n",
            "Correct: 0\n",
            "\n"
          ]
        },
        {
          "output_type": "stream",
          "name": "stderr",
          "text": [
            "\rProcessing audio files:  19%|█▉        | 199/1050 [20:30<1:22:53,  5.84s/it]"
          ]
        },
        {
          "output_type": "stream",
          "name": "stdout",
          "text": [
            "File: /content/drive/MyDrive/audio_files/Dataset_2_Cleaned/21_HIATUS/P8.wav\n",
            "Expected Word: HIATUS\n",
            "Detected Word: HIATUS\n",
            "Correct: 1\n",
            "\n"
          ]
        },
        {
          "output_type": "stream",
          "name": "stderr",
          "text": [
            "\rProcessing audio files:  19%|█▉        | 200/1050 [20:39<1:35:21,  6.73s/it]"
          ]
        },
        {
          "output_type": "stream",
          "name": "stdout",
          "text": [
            "File: /content/drive/MyDrive/audio_files/Dataset_2_Cleaned/21_HIATUS/P9.wav\n",
            "Expected Word: HIATUS\n",
            "Detected Word: HIATUS\n",
            "Correct: 1\n",
            "\n"
          ]
        },
        {
          "output_type": "stream",
          "name": "stderr",
          "text": [
            "\rProcessing audio files:  19%|█▉        | 201/1050 [20:45<1:29:04,  6.30s/it]"
          ]
        },
        {
          "output_type": "stream",
          "name": "stdout",
          "text": [
            "File: /content/drive/MyDrive/audio_files/Dataset_2_Cleaned/21_HIATUS/P10.wav\n",
            "Expected Word: HIATUS\n",
            "Detected Word: \n",
            "Correct: 0\n",
            "\n"
          ]
        },
        {
          "output_type": "stream",
          "name": "stderr",
          "text": [
            "\rProcessing audio files:  19%|█▉        | 202/1050 [20:50<1:25:04,  6.02s/it]"
          ]
        },
        {
          "output_type": "stream",
          "name": "stdout",
          "text": [
            "File: /content/drive/MyDrive/audio_files/Dataset_2_Cleaned/21_HIATUS/P11.wav\n",
            "Expected Word: HIATUS\n",
            "Detected Word: \n",
            "Correct: 0\n",
            "\n"
          ]
        },
        {
          "output_type": "stream",
          "name": "stderr",
          "text": [
            "\rProcessing audio files:  19%|█▉        | 203/1050 [21:05<2:03:28,  8.75s/it]"
          ]
        },
        {
          "output_type": "stream",
          "name": "stdout",
          "text": [
            "File: /content/drive/MyDrive/audio_files/Dataset_2_Cleaned/21_HIATUS/P12.wav\n",
            "Expected Word: HIATUS\n",
            "Detected Word: HIATUS\n",
            "Correct: 1\n",
            "\n"
          ]
        },
        {
          "output_type": "stream",
          "name": "stderr",
          "text": [
            "\rProcessing audio files:  19%|█▉        | 204/1050 [21:15<2:09:01,  9.15s/it]"
          ]
        },
        {
          "output_type": "stream",
          "name": "stdout",
          "text": [
            "File: /content/drive/MyDrive/audio_files/Dataset_2_Cleaned/21_HIATUS/P13.wav\n",
            "Expected Word: HIATUS\n",
            "Detected Word: I\n",
            "Correct: 0\n",
            "\n"
          ]
        },
        {
          "output_type": "stream",
          "name": "stderr",
          "text": [
            "\rProcessing audio files:  20%|█▉        | 205/1050 [21:21<1:53:10,  8.04s/it]"
          ]
        },
        {
          "output_type": "stream",
          "name": "stdout",
          "text": [
            "File: /content/drive/MyDrive/audio_files/Dataset_2_Cleaned/21_HIATUS/P14.wav\n",
            "Expected Word: HIATUS\n",
            "Detected Word: HIATUS\n",
            "Correct: 1\n",
            "\n"
          ]
        },
        {
          "output_type": "stream",
          "name": "stderr",
          "text": [
            "\rProcessing audio files:  20%|█▉        | 206/1050 [21:26<1:41:33,  7.22s/it]"
          ]
        },
        {
          "output_type": "stream",
          "name": "stdout",
          "text": [
            "File: /content/drive/MyDrive/audio_files/Dataset_2_Cleaned/21_HIATUS/P15.wav\n",
            "Expected Word: HIATUS\n",
            "Detected Word: HIATUS\n",
            "Correct: 1\n",
            "\n"
          ]
        },
        {
          "output_type": "stream",
          "name": "stderr",
          "text": [
            "\rProcessing audio files:  20%|█▉        | 207/1050 [21:31<1:33:28,  6.65s/it]"
          ]
        },
        {
          "output_type": "stream",
          "name": "stdout",
          "text": [
            "File: /content/drive/MyDrive/audio_files/Dataset_2_Cleaned/21_HIATUS/P16.wav\n",
            "Expected Word: HIATUS\n",
            "Detected Word: HIATUS\n",
            "Correct: 1\n",
            "\n"
          ]
        },
        {
          "output_type": "stream",
          "name": "stderr",
          "text": [
            "\rProcessing audio files:  20%|█▉        | 208/1050 [21:37<1:28:53,  6.33s/it]"
          ]
        },
        {
          "output_type": "stream",
          "name": "stdout",
          "text": [
            "File: /content/drive/MyDrive/audio_files/Dataset_2_Cleaned/21_HIATUS/P17.wav\n",
            "Expected Word: HIATUS\n",
            "Detected Word: \n",
            "Correct: 0\n",
            "\n"
          ]
        },
        {
          "output_type": "stream",
          "name": "stderr",
          "text": [
            "\rProcessing audio files:  20%|█▉        | 209/1050 [21:42<1:25:18,  6.09s/it]"
          ]
        },
        {
          "output_type": "stream",
          "name": "stdout",
          "text": [
            "File: /content/drive/MyDrive/audio_files/Dataset_2_Cleaned/21_HIATUS/P18.wav\n",
            "Expected Word: HIATUS\n",
            "Detected Word: HATE\n",
            "Correct: 0\n",
            "\n"
          ]
        },
        {
          "output_type": "stream",
          "name": "stderr",
          "text": [
            "\rProcessing audio files:  20%|██        | 210/1050 [21:48<1:22:40,  5.91s/it]"
          ]
        },
        {
          "output_type": "stream",
          "name": "stdout",
          "text": [
            "File: /content/drive/MyDrive/audio_files/Dataset_2_Cleaned/21_HIATUS/P19.wav\n",
            "Expected Word: HIATUS\n",
            "Detected Word: \n",
            "Correct: 0\n",
            "\n"
          ]
        },
        {
          "output_type": "stream",
          "name": "stderr",
          "text": [
            "\rProcessing audio files:  20%|██        | 211/1050 [21:57<1:35:11,  6.81s/it]"
          ]
        },
        {
          "output_type": "stream",
          "name": "stdout",
          "text": [
            "File: /content/drive/MyDrive/audio_files/Dataset_2_Cleaned/21_HIATUS/P20.wav\n",
            "Expected Word: HIATUS\n",
            "Detected Word: \n",
            "Correct: 0\n",
            "\n"
          ]
        },
        {
          "output_type": "stream",
          "name": "stderr",
          "text": [
            "\rProcessing audio files:  20%|██        | 212/1050 [22:02<1:28:53,  6.37s/it]"
          ]
        },
        {
          "output_type": "stream",
          "name": "stdout",
          "text": [
            "File: /content/drive/MyDrive/audio_files/Dataset_2_Cleaned/08_DENY/P1.wav\n",
            "Expected Word: DENY\n",
            "Detected Word: DENY\n",
            "Correct: 1\n",
            "\n"
          ]
        },
        {
          "output_type": "stream",
          "name": "stderr",
          "text": [
            "\rProcessing audio files:  20%|██        | 213/1050 [22:07<1:23:51,  6.01s/it]"
          ]
        },
        {
          "output_type": "stream",
          "name": "stdout",
          "text": [
            "File: /content/drive/MyDrive/audio_files/Dataset_2_Cleaned/08_DENY/P2.wav\n",
            "Expected Word: DENY\n",
            "Detected Word: THE\n",
            "Correct: 0\n",
            "\n"
          ]
        },
        {
          "output_type": "stream",
          "name": "stderr",
          "text": [
            "\rProcessing audio files:  20%|██        | 214/1050 [22:12<1:20:09,  5.75s/it]"
          ]
        },
        {
          "output_type": "stream",
          "name": "stdout",
          "text": [
            "File: /content/drive/MyDrive/audio_files/Dataset_2_Cleaned/08_DENY/P3.wav\n",
            "Expected Word: DENY\n",
            "Detected Word: \n",
            "Correct: 0\n",
            "\n"
          ]
        },
        {
          "output_type": "stream",
          "name": "stderr",
          "text": [
            "\rProcessing audio files:  20%|██        | 215/1050 [22:18<1:17:31,  5.57s/it]"
          ]
        },
        {
          "output_type": "stream",
          "name": "stdout",
          "text": [
            "File: /content/drive/MyDrive/audio_files/Dataset_2_Cleaned/08_DENY/P4.wav\n",
            "Expected Word: DENY\n",
            "Detected Word: \n",
            "Correct: 0\n",
            "\n"
          ]
        },
        {
          "output_type": "stream",
          "name": "stderr",
          "text": [
            "\rProcessing audio files:  21%|██        | 216/1050 [22:23<1:16:01,  5.47s/it]"
          ]
        },
        {
          "output_type": "stream",
          "name": "stdout",
          "text": [
            "File: /content/drive/MyDrive/audio_files/Dataset_2_Cleaned/08_DENY/P5wav.wav\n",
            "Expected Word: DENY\n",
            "Detected Word: \n",
            "Correct: 0\n",
            "\n"
          ]
        },
        {
          "output_type": "stream",
          "name": "stderr",
          "text": [
            "\rProcessing audio files:  21%|██        | 217/1050 [22:28<1:16:05,  5.48s/it]"
          ]
        },
        {
          "output_type": "stream",
          "name": "stdout",
          "text": [
            "File: /content/drive/MyDrive/audio_files/Dataset_2_Cleaned/08_DENY/P6.wav\n",
            "Expected Word: DENY\n",
            "Detected Word: \n",
            "Correct: 0\n",
            "\n"
          ]
        },
        {
          "output_type": "stream",
          "name": "stderr",
          "text": [
            "\rProcessing audio files:  21%|██        | 218/1050 [22:37<1:28:53,  6.41s/it]"
          ]
        },
        {
          "output_type": "stream",
          "name": "stdout",
          "text": [
            "File: /content/drive/MyDrive/audio_files/Dataset_2_Cleaned/08_DENY/P7.wav\n",
            "Expected Word: DENY\n",
            "Detected Word: DENY\n",
            "Correct: 1\n",
            "\n"
          ]
        },
        {
          "output_type": "stream",
          "name": "stderr",
          "text": [
            "\rProcessing audio files:  21%|██        | 219/1050 [22:42<1:25:23,  6.17s/it]"
          ]
        },
        {
          "output_type": "stream",
          "name": "stdout",
          "text": [
            "File: /content/drive/MyDrive/audio_files/Dataset_2_Cleaned/08_DENY/P8.wav\n",
            "Expected Word: DENY\n",
            "Detected Word: \n",
            "Correct: 0\n",
            "\n"
          ]
        },
        {
          "output_type": "stream",
          "name": "stderr",
          "text": [
            "\rProcessing audio files:  21%|██        | 220/1050 [22:48<1:22:03,  5.93s/it]"
          ]
        },
        {
          "output_type": "stream",
          "name": "stdout",
          "text": [
            "File: /content/drive/MyDrive/audio_files/Dataset_2_Cleaned/08_DENY/P9.wav\n",
            "Expected Word: DENY\n",
            "Detected Word: DENY\n",
            "Correct: 1\n",
            "\n"
          ]
        },
        {
          "output_type": "stream",
          "name": "stderr",
          "text": [
            "\rProcessing audio files:  21%|██        | 221/1050 [22:56<1:33:10,  6.74s/it]"
          ]
        },
        {
          "output_type": "stream",
          "name": "stdout",
          "text": [
            "File: /content/drive/MyDrive/audio_files/Dataset_2_Cleaned/08_DENY/P10.wav\n",
            "Expected Word: DENY\n",
            "Detected Word: DID\n",
            "Correct: 0\n",
            "\n"
          ]
        },
        {
          "output_type": "stream",
          "name": "stderr",
          "text": [
            "\rProcessing audio files:  21%|██        | 222/1050 [23:02<1:26:31,  6.27s/it]"
          ]
        },
        {
          "output_type": "stream",
          "name": "stdout",
          "text": [
            "File: /content/drive/MyDrive/audio_files/Dataset_2_Cleaned/08_DENY/P11.wav\n",
            "Expected Word: DENY\n",
            "Detected Word: DENY\n",
            "Correct: 1\n",
            "\n"
          ]
        },
        {
          "output_type": "stream",
          "name": "stderr",
          "text": [
            "\rProcessing audio files:  21%|██        | 223/1050 [23:07<1:23:08,  6.03s/it]"
          ]
        },
        {
          "output_type": "stream",
          "name": "stdout",
          "text": [
            "File: /content/drive/MyDrive/audio_files/Dataset_2_Cleaned/08_DENY/P12.wav\n",
            "Expected Word: DENY\n",
            "Detected Word: \n",
            "Correct: 0\n",
            "\n"
          ]
        },
        {
          "output_type": "stream",
          "name": "stderr",
          "text": [
            "\rProcessing audio files:  21%|██▏       | 224/1050 [23:13<1:20:22,  5.84s/it]"
          ]
        },
        {
          "output_type": "stream",
          "name": "stdout",
          "text": [
            "File: /content/drive/MyDrive/audio_files/Dataset_2_Cleaned/08_DENY/P13.wav\n",
            "Expected Word: DENY\n",
            "Detected Word: YOU\n",
            "Correct: 0\n",
            "\n"
          ]
        },
        {
          "output_type": "stream",
          "name": "stderr",
          "text": [
            "\rProcessing audio files:  21%|██▏       | 225/1050 [23:18<1:18:50,  5.73s/it]"
          ]
        },
        {
          "output_type": "stream",
          "name": "stdout",
          "text": [
            "File: /content/drive/MyDrive/audio_files/Dataset_2_Cleaned/08_DENY/P14.wav\n",
            "Expected Word: DENY\n",
            "Detected Word: TO\n",
            "Correct: 0\n",
            "\n"
          ]
        },
        {
          "output_type": "stream",
          "name": "stderr",
          "text": [
            "\rProcessing audio files:  22%|██▏       | 226/1050 [23:27<1:30:15,  6.57s/it]"
          ]
        },
        {
          "output_type": "stream",
          "name": "stdout",
          "text": [
            "File: /content/drive/MyDrive/audio_files/Dataset_2_Cleaned/08_DENY/P15.wav\n",
            "Expected Word: DENY\n",
            "Detected Word: DENY\n",
            "Correct: 1\n",
            "\n"
          ]
        },
        {
          "output_type": "stream",
          "name": "stderr",
          "text": [
            "\rProcessing audio files:  22%|██▏       | 227/1050 [23:32<1:25:08,  6.21s/it]"
          ]
        },
        {
          "output_type": "stream",
          "name": "stdout",
          "text": [
            "File: /content/drive/MyDrive/audio_files/Dataset_2_Cleaned/08_DENY/P16.wav\n",
            "Expected Word: DENY\n",
            "Detected Word: \n",
            "Correct: 0\n",
            "\n"
          ]
        },
        {
          "output_type": "stream",
          "name": "stderr",
          "text": [
            "\rProcessing audio files:  22%|██▏       | 228/1050 [23:37<1:21:50,  5.97s/it]"
          ]
        },
        {
          "output_type": "stream",
          "name": "stdout",
          "text": [
            "File: /content/drive/MyDrive/audio_files/Dataset_2_Cleaned/08_DENY/P17.wav\n",
            "Expected Word: DENY\n",
            "Detected Word: \n",
            "Correct: 0\n",
            "\n"
          ]
        },
        {
          "output_type": "stream",
          "name": "stderr",
          "text": [
            "\rProcessing audio files:  22%|██▏       | 229/1050 [23:43<1:20:04,  5.85s/it]"
          ]
        },
        {
          "output_type": "stream",
          "name": "stdout",
          "text": [
            "File: /content/drive/MyDrive/audio_files/Dataset_2_Cleaned/08_DENY/P18.wav\n",
            "Expected Word: DENY\n",
            "Detected Word: DENY\n",
            "Correct: 1\n",
            "\n"
          ]
        },
        {
          "output_type": "stream",
          "name": "stderr",
          "text": [
            "\rProcessing audio files:  22%|██▏       | 230/1050 [23:48<1:18:19,  5.73s/it]"
          ]
        },
        {
          "output_type": "stream",
          "name": "stdout",
          "text": [
            "File: /content/drive/MyDrive/audio_files/Dataset_2_Cleaned/08_DENY/P19.wav\n",
            "Expected Word: DENY\n",
            "Detected Word: DON'T\n",
            "Correct: 0\n",
            "\n"
          ]
        },
        {
          "output_type": "stream",
          "name": "stderr",
          "text": [
            "\rProcessing audio files:  22%|██▏       | 231/1050 [23:54<1:16:19,  5.59s/it]"
          ]
        },
        {
          "output_type": "stream",
          "name": "stdout",
          "text": [
            "File: /content/drive/MyDrive/audio_files/Dataset_2_Cleaned/08_DENY/P20.wav\n",
            "Expected Word: DENY\n",
            "Detected Word: \n",
            "Correct: 0\n",
            "\n"
          ]
        },
        {
          "output_type": "stream",
          "name": "stderr",
          "text": [
            "\rProcessing audio files:  22%|██▏       | 232/1050 [23:59<1:15:53,  5.57s/it]"
          ]
        },
        {
          "output_type": "stream",
          "name": "stdout",
          "text": [
            "File: /content/drive/MyDrive/audio_files/Dataset_2_Cleaned/22_SUBTLE/P1.wav\n",
            "Expected Word: SUBTLE\n",
            "Detected Word: \n",
            "Correct: 0\n",
            "\n"
          ]
        },
        {
          "output_type": "stream",
          "name": "stderr",
          "text": [
            "\rProcessing audio files:  22%|██▏       | 233/1050 [24:05<1:17:21,  5.68s/it]"
          ]
        },
        {
          "output_type": "stream",
          "name": "stdout",
          "text": [
            "File: /content/drive/MyDrive/audio_files/Dataset_2_Cleaned/22_SUBTLE/P2.wav\n",
            "Expected Word: SUBTLE\n",
            "Detected Word: SUBTLE\n",
            "Correct: 1\n",
            "\n"
          ]
        },
        {
          "output_type": "stream",
          "name": "stderr",
          "text": [
            "\rProcessing audio files:  22%|██▏       | 234/1050 [24:10<1:15:02,  5.52s/it]"
          ]
        },
        {
          "output_type": "stream",
          "name": "stdout",
          "text": [
            "File: /content/drive/MyDrive/audio_files/Dataset_2_Cleaned/22_SUBTLE/P3.wav\n",
            "Expected Word: SUBTLE\n",
            "Detected Word: \n",
            "Correct: 0\n",
            "\n"
          ]
        },
        {
          "output_type": "stream",
          "name": "stderr",
          "text": [
            "\rProcessing audio files:  22%|██▏       | 235/1050 [24:16<1:15:04,  5.53s/it]"
          ]
        },
        {
          "output_type": "stream",
          "name": "stdout",
          "text": [
            "File: /content/drive/MyDrive/audio_files/Dataset_2_Cleaned/22_SUBTLE/P4.wav\n",
            "Expected Word: SUBTLE\n",
            "Detected Word: SUBTLE\n",
            "Correct: 1\n",
            "\n"
          ]
        },
        {
          "output_type": "stream",
          "name": "stderr",
          "text": [
            "\rProcessing audio files:  22%|██▏       | 236/1050 [24:21<1:13:29,  5.42s/it]"
          ]
        },
        {
          "output_type": "stream",
          "name": "stdout",
          "text": [
            "File: /content/drive/MyDrive/audio_files/Dataset_2_Cleaned/22_SUBTLE/P5.wav\n",
            "Expected Word: SUBTLE\n",
            "Detected Word: THAT\n",
            "Correct: 0\n",
            "\n"
          ]
        },
        {
          "output_type": "stream",
          "name": "stderr",
          "text": [
            "\rProcessing audio files:  23%|██▎       | 237/1050 [24:26<1:12:23,  5.34s/it]"
          ]
        },
        {
          "output_type": "stream",
          "name": "stdout",
          "text": [
            "File: /content/drive/MyDrive/audio_files/Dataset_2_Cleaned/22_SUBTLE/P6.wav\n",
            "Expected Word: SUBTLE\n",
            "Detected Word: SO\n",
            "Correct: 0\n",
            "\n"
          ]
        },
        {
          "output_type": "stream",
          "name": "stderr",
          "text": [
            "\rProcessing audio files:  23%|██▎       | 238/1050 [24:31<1:11:30,  5.28s/it]"
          ]
        },
        {
          "output_type": "stream",
          "name": "stdout",
          "text": [
            "File: /content/drive/MyDrive/audio_files/Dataset_2_Cleaned/22_SUBTLE/P7.wav\n",
            "Expected Word: SUBTLE\n",
            "Detected Word: \n",
            "Correct: 0\n",
            "\n"
          ]
        },
        {
          "output_type": "stream",
          "name": "stderr",
          "text": [
            "\rProcessing audio files:  23%|██▎       | 239/1050 [24:37<1:12:30,  5.36s/it]"
          ]
        },
        {
          "output_type": "stream",
          "name": "stdout",
          "text": [
            "File: /content/drive/MyDrive/audio_files/Dataset_2_Cleaned/22_SUBTLE/P8.wav\n",
            "Expected Word: SUBTLE\n",
            "Detected Word: SUBTLE\n",
            "Correct: 1\n",
            "\n"
          ]
        },
        {
          "output_type": "stream",
          "name": "stderr",
          "text": [
            "\rProcessing audio files:  23%|██▎       | 240/1050 [24:42<1:12:46,  5.39s/it]"
          ]
        },
        {
          "output_type": "stream",
          "name": "stdout",
          "text": [
            "File: /content/drive/MyDrive/audio_files/Dataset_2_Cleaned/22_SUBTLE/P9.wav\n",
            "Expected Word: SUBTLE\n",
            "Detected Word: SUBTLE\n",
            "Correct: 1\n",
            "\n"
          ]
        },
        {
          "output_type": "stream",
          "name": "stderr",
          "text": [
            "\rProcessing audio files:  23%|██▎       | 241/1050 [24:51<1:24:30,  6.27s/it]"
          ]
        },
        {
          "output_type": "stream",
          "name": "stdout",
          "text": [
            "File: /content/drive/MyDrive/audio_files/Dataset_2_Cleaned/22_SUBTLE/P10.wav\n",
            "Expected Word: SUBTLE\n",
            "Detected Word: SUBTLE\n",
            "Correct: 1\n",
            "\n"
          ]
        },
        {
          "output_type": "stream",
          "name": "stderr",
          "text": [
            "\rProcessing audio files:  23%|██▎       | 242/1050 [25:15<2:38:10, 11.75s/it]"
          ]
        },
        {
          "output_type": "stream",
          "name": "stdout",
          "text": [
            "File: /content/drive/MyDrive/audio_files/Dataset_2_Cleaned/22_SUBTLE/P11.wav\n",
            "Expected Word: SUBTLE\n",
            "Detected Word: SORT\n",
            "Correct: 0\n",
            "\n"
          ]
        },
        {
          "output_type": "stream",
          "name": "stderr",
          "text": [
            "\rProcessing audio files:  23%|██▎       | 243/1050 [25:24<2:24:52, 10.77s/it]"
          ]
        },
        {
          "output_type": "stream",
          "name": "stdout",
          "text": [
            "File: /content/drive/MyDrive/audio_files/Dataset_2_Cleaned/22_SUBTLE/P12.wav\n",
            "Expected Word: SUBTLE\n",
            "Detected Word: SUBTLE\n",
            "Correct: 1\n",
            "\n"
          ]
        },
        {
          "output_type": "stream",
          "name": "stderr",
          "text": [
            "\rProcessing audio files:  23%|██▎       | 244/1050 [25:29<2:03:45,  9.21s/it]"
          ]
        },
        {
          "output_type": "stream",
          "name": "stdout",
          "text": [
            "File: /content/drive/MyDrive/audio_files/Dataset_2_Cleaned/22_SUBTLE/P13.wav\n",
            "Expected Word: SUBTLE\n",
            "Detected Word: SO\n",
            "Correct: 0\n",
            "\n"
          ]
        },
        {
          "output_type": "stream",
          "name": "stderr",
          "text": [
            "\rProcessing audio files:  23%|██▎       | 245/1050 [25:34<1:47:14,  7.99s/it]"
          ]
        },
        {
          "output_type": "stream",
          "name": "stdout",
          "text": [
            "File: /content/drive/MyDrive/audio_files/Dataset_2_Cleaned/22_SUBTLE/P14.wav\n",
            "Expected Word: SUBTLE\n",
            "Detected Word: SUBTLE\n",
            "Correct: 1\n",
            "\n"
          ]
        },
        {
          "output_type": "stream",
          "name": "stderr",
          "text": [
            "\rProcessing audio files:  23%|██▎       | 246/1050 [25:40<1:37:10,  7.25s/it]"
          ]
        },
        {
          "output_type": "stream",
          "name": "stdout",
          "text": [
            "File: /content/drive/MyDrive/audio_files/Dataset_2_Cleaned/22_SUBTLE/P15.wav\n",
            "Expected Word: SUBTLE\n",
            "Detected Word: SUBTLE\n",
            "Correct: 1\n",
            "\n"
          ]
        },
        {
          "output_type": "stream",
          "name": "stderr",
          "text": [
            "\rProcessing audio files:  24%|██▎       | 247/1050 [25:49<1:43:32,  7.74s/it]"
          ]
        },
        {
          "output_type": "stream",
          "name": "stdout",
          "text": [
            "File: /content/drive/MyDrive/audio_files/Dataset_2_Cleaned/22_SUBTLE/P16.wav\n",
            "Expected Word: SUBTLE\n",
            "Detected Word: SUBTLE\n",
            "Correct: 1\n",
            "\n"
          ]
        },
        {
          "output_type": "stream",
          "name": "stderr",
          "text": [
            "\rProcessing audio files:  24%|██▎       | 248/1050 [25:54<1:34:03,  7.04s/it]"
          ]
        },
        {
          "output_type": "stream",
          "name": "stdout",
          "text": [
            "File: /content/drive/MyDrive/audio_files/Dataset_2_Cleaned/22_SUBTLE/P17.wav\n",
            "Expected Word: SUBTLE\n",
            "Detected Word: SETTLE\n",
            "Correct: 0\n",
            "\n"
          ]
        },
        {
          "output_type": "stream",
          "name": "stderr",
          "text": [
            "\rProcessing audio files:  24%|██▎       | 249/1050 [25:59<1:27:13,  6.53s/it]"
          ]
        },
        {
          "output_type": "stream",
          "name": "stdout",
          "text": [
            "File: /content/drive/MyDrive/audio_files/Dataset_2_Cleaned/22_SUBTLE/P18.wav\n",
            "Expected Word: SUBTLE\n",
            "Detected Word: SUBTLE\n",
            "Correct: 1\n",
            "\n"
          ]
        },
        {
          "output_type": "stream",
          "name": "stderr",
          "text": [
            "\rProcessing audio files:  24%|██▍       | 250/1050 [26:05<1:22:10,  6.16s/it]"
          ]
        },
        {
          "output_type": "stream",
          "name": "stdout",
          "text": [
            "File: /content/drive/MyDrive/audio_files/Dataset_2_Cleaned/22_SUBTLE/P19.wav\n",
            "Expected Word: SUBTLE\n",
            "Detected Word: \n",
            "Correct: 0\n",
            "\n"
          ]
        },
        {
          "output_type": "stream",
          "name": "stderr",
          "text": [
            "\rProcessing audio files:  24%|██▍       | 251/1050 [26:10<1:18:16,  5.88s/it]"
          ]
        },
        {
          "output_type": "stream",
          "name": "stdout",
          "text": [
            "File: /content/drive/MyDrive/audio_files/Dataset_2_Cleaned/22_SUBTLE/P20.wav\n",
            "Expected Word: SUBTLE\n",
            "Detected Word: THAT\n",
            "Correct: 0\n",
            "\n"
          ]
        },
        {
          "output_type": "stream",
          "name": "stderr",
          "text": [
            "\rProcessing audio files:  24%|██▍       | 252/1050 [26:15<1:16:28,  5.75s/it]"
          ]
        },
        {
          "output_type": "stream",
          "name": "stdout",
          "text": [
            "File: /content/drive/MyDrive/audio_files/Dataset_2_Cleaned/26_SUPERFLUOUS/P1.wav\n",
            "Expected Word: SUPERFLUOUS\n",
            "Detected Word: POOPER\n",
            "Correct: 0\n",
            "\n"
          ]
        },
        {
          "output_type": "stream",
          "name": "stderr",
          "text": [
            "\rProcessing audio files:  24%|██▍       | 253/1050 [26:21<1:15:01,  5.65s/it]"
          ]
        },
        {
          "output_type": "stream",
          "name": "stdout",
          "text": [
            "File: /content/drive/MyDrive/audio_files/Dataset_2_Cleaned/26_SUPERFLUOUS/P2.wav\n",
            "Expected Word: SUPERFLUOUS\n",
            "Detected Word: SUPERFLUOUS\n",
            "Correct: 1\n",
            "\n"
          ]
        },
        {
          "output_type": "stream",
          "name": "stderr",
          "text": [
            "\rProcessing audio files:  24%|██▍       | 254/1050 [26:26<1:13:20,  5.53s/it]"
          ]
        },
        {
          "output_type": "stream",
          "name": "stdout",
          "text": [
            "File: /content/drive/MyDrive/audio_files/Dataset_2_Cleaned/26_SUPERFLUOUS/P3.wav\n",
            "Expected Word: SUPERFLUOUS\n",
            "Detected Word: \n",
            "Correct: 0\n",
            "\n"
          ]
        },
        {
          "output_type": "stream",
          "name": "stderr",
          "text": [
            "\rProcessing audio files:  24%|██▍       | 255/1050 [26:31<1:12:41,  5.49s/it]"
          ]
        },
        {
          "output_type": "stream",
          "name": "stdout",
          "text": [
            "File: /content/drive/MyDrive/audio_files/Dataset_2_Cleaned/26_SUPERFLUOUS/P4.wav\n",
            "Expected Word: SUPERFLUOUS\n",
            "Detected Word: \n",
            "Correct: 0\n",
            "\n"
          ]
        },
        {
          "output_type": "stream",
          "name": "stderr",
          "text": [
            "\rProcessing audio files:  24%|██▍       | 256/1050 [26:37<1:12:15,  5.46s/it]"
          ]
        },
        {
          "output_type": "stream",
          "name": "stdout",
          "text": [
            "File: /content/drive/MyDrive/audio_files/Dataset_2_Cleaned/26_SUPERFLUOUS/P5.wav\n",
            "Expected Word: SUPERFLUOUS\n",
            "Detected Word: SUPERFLUOUS\n",
            "Correct: 1\n",
            "\n"
          ]
        },
        {
          "output_type": "stream",
          "name": "stderr",
          "text": [
            "\rProcessing audio files:  24%|██▍       | 257/1050 [26:46<1:26:02,  6.51s/it]"
          ]
        },
        {
          "output_type": "stream",
          "name": "stdout",
          "text": [
            "File: /content/drive/MyDrive/audio_files/Dataset_2_Cleaned/26_SUPERFLUOUS/P6.wav\n",
            "Expected Word: SUPERFLUOUS\n",
            "Detected Word: DEEPER\n",
            "Correct: 0\n",
            "\n"
          ]
        },
        {
          "output_type": "stream",
          "name": "stderr",
          "text": [
            "\rProcessing audio files:  25%|██▍       | 258/1050 [26:51<1:21:46,  6.20s/it]"
          ]
        },
        {
          "output_type": "stream",
          "name": "stdout",
          "text": [
            "File: /content/drive/MyDrive/audio_files/Dataset_2_Cleaned/26_SUPERFLUOUS/P7.wav\n",
            "Expected Word: SUPERFLUOUS\n",
            "Detected Word: \n",
            "Correct: 0\n",
            "\n"
          ]
        },
        {
          "output_type": "stream",
          "name": "stderr",
          "text": [
            "\rProcessing audio files:  25%|██▍       | 259/1050 [26:57<1:18:44,  5.97s/it]"
          ]
        },
        {
          "output_type": "stream",
          "name": "stdout",
          "text": [
            "File: /content/drive/MyDrive/audio_files/Dataset_2_Cleaned/26_SUPERFLUOUS/P8.wav\n",
            "Expected Word: SUPERFLUOUS\n",
            "Detected Word: SUPERFLUOUS\n",
            "Correct: 1\n",
            "\n"
          ]
        },
        {
          "output_type": "stream",
          "name": "stderr",
          "text": [
            "\rProcessing audio files:  25%|██▍       | 260/1050 [27:02<1:16:19,  5.80s/it]"
          ]
        },
        {
          "output_type": "stream",
          "name": "stdout",
          "text": [
            "File: /content/drive/MyDrive/audio_files/Dataset_2_Cleaned/26_SUPERFLUOUS/P9.wav\n",
            "Expected Word: SUPERFLUOUS\n",
            "Detected Word: SUPERFLUOUS\n",
            "Correct: 1\n",
            "\n"
          ]
        },
        {
          "output_type": "stream",
          "name": "stderr",
          "text": [
            "\rProcessing audio files:  25%|██▍       | 261/1050 [27:11<1:27:34,  6.66s/it]"
          ]
        },
        {
          "output_type": "stream",
          "name": "stdout",
          "text": [
            "File: /content/drive/MyDrive/audio_files/Dataset_2_Cleaned/26_SUPERFLUOUS/P10.wav\n",
            "Expected Word: SUPERFLUOUS\n",
            "Detected Word: SUPERFLUOUS\n",
            "Correct: 1\n",
            "\n"
          ]
        },
        {
          "output_type": "stream",
          "name": "stderr",
          "text": [
            "\rProcessing audio files:  25%|██▍       | 262/1050 [27:16<1:22:13,  6.26s/it]"
          ]
        },
        {
          "output_type": "stream",
          "name": "stdout",
          "text": [
            "File: /content/drive/MyDrive/audio_files/Dataset_2_Cleaned/26_SUPERFLUOUS/P11.wav\n",
            "Expected Word: SUPERFLUOUS\n",
            "Detected Word: \n",
            "Correct: 0\n",
            "\n"
          ]
        },
        {
          "output_type": "stream",
          "name": "stderr",
          "text": [
            "\rProcessing audio files:  25%|██▌       | 263/1050 [27:22<1:18:55,  6.02s/it]"
          ]
        },
        {
          "output_type": "stream",
          "name": "stdout",
          "text": [
            "File: /content/drive/MyDrive/audio_files/Dataset_2_Cleaned/26_SUPERFLUOUS/P12.wav\n",
            "Expected Word: SUPERFLUOUS\n",
            "Detected Word: \n",
            "Correct: 0\n",
            "\n"
          ]
        },
        {
          "output_type": "stream",
          "name": "stderr",
          "text": [
            "\rProcessing audio files:  25%|██▌       | 264/1050 [27:27<1:16:32,  5.84s/it]"
          ]
        },
        {
          "output_type": "stream",
          "name": "stdout",
          "text": [
            "File: /content/drive/MyDrive/audio_files/Dataset_2_Cleaned/26_SUPERFLUOUS/P13.wav\n",
            "Expected Word: SUPERFLUOUS\n",
            "Detected Word: \n",
            "Correct: 0\n",
            "\n"
          ]
        },
        {
          "output_type": "stream",
          "name": "stderr",
          "text": [
            "\rProcessing audio files:  25%|██▌       | 265/1050 [27:32<1:14:33,  5.70s/it]"
          ]
        },
        {
          "output_type": "stream",
          "name": "stdout",
          "text": [
            "File: /content/drive/MyDrive/audio_files/Dataset_2_Cleaned/26_SUPERFLUOUS/P14.wav\n",
            "Expected Word: SUPERFLUOUS\n",
            "Detected Word: \n",
            "Correct: 0\n",
            "\n"
          ]
        },
        {
          "output_type": "stream",
          "name": "stderr",
          "text": [
            "\rProcessing audio files:  25%|██▌       | 266/1050 [27:38<1:14:17,  5.69s/it]"
          ]
        },
        {
          "output_type": "stream",
          "name": "stdout",
          "text": [
            "File: /content/drive/MyDrive/audio_files/Dataset_2_Cleaned/26_SUPERFLUOUS/P15.wav\n",
            "Expected Word: SUPERFLUOUS\n",
            "Detected Word: SUPERFLUOUS\n",
            "Correct: 1\n",
            "\n"
          ]
        },
        {
          "output_type": "stream",
          "name": "stderr",
          "text": [
            "\rProcessing audio files:  25%|██▌       | 267/1050 [27:44<1:14:17,  5.69s/it]"
          ]
        },
        {
          "output_type": "stream",
          "name": "stdout",
          "text": [
            "File: /content/drive/MyDrive/audio_files/Dataset_2_Cleaned/26_SUPERFLUOUS/P16.wav\n",
            "Expected Word: SUPERFLUOUS\n",
            "Detected Word: SUPERFLUOUS\n",
            "Correct: 1\n",
            "\n"
          ]
        },
        {
          "output_type": "stream",
          "name": "stderr",
          "text": [
            "\rProcessing audio files:  26%|██▌       | 268/1050 [27:50<1:14:47,  5.74s/it]"
          ]
        },
        {
          "output_type": "stream",
          "name": "stdout",
          "text": [
            "File: /content/drive/MyDrive/audio_files/Dataset_2_Cleaned/26_SUPERFLUOUS/P17.wav\n",
            "Expected Word: SUPERFLUOUS\n",
            "Detected Word: \n",
            "Correct: 0\n",
            "\n"
          ]
        },
        {
          "output_type": "stream",
          "name": "stderr",
          "text": [
            "\rProcessing audio files:  26%|██▌       | 269/1050 [27:55<1:13:54,  5.68s/it]"
          ]
        },
        {
          "output_type": "stream",
          "name": "stdout",
          "text": [
            "File: /content/drive/MyDrive/audio_files/Dataset_2_Cleaned/26_SUPERFLUOUS/P18.wav\n",
            "Expected Word: SUPERFLUOUS\n",
            "Detected Word: \n",
            "Correct: 0\n",
            "\n"
          ]
        },
        {
          "output_type": "stream",
          "name": "stderr",
          "text": [
            "\rProcessing audio files:  26%|██▌       | 270/1050 [28:00<1:12:08,  5.55s/it]"
          ]
        },
        {
          "output_type": "stream",
          "name": "stdout",
          "text": [
            "File: /content/drive/MyDrive/audio_files/Dataset_2_Cleaned/26_SUPERFLUOUS/P19.wav\n",
            "Expected Word: SUPERFLUOUS\n",
            "Detected Word: \n",
            "Correct: 0\n",
            "\n"
          ]
        },
        {
          "output_type": "stream",
          "name": "stderr",
          "text": [
            "\rProcessing audio files:  26%|██▌       | 271/1050 [28:06<1:11:54,  5.54s/it]"
          ]
        },
        {
          "output_type": "stream",
          "name": "stdout",
          "text": [
            "File: /content/drive/MyDrive/audio_files/Dataset_2_Cleaned/26_SUPERFLUOUS/P20.wav\n",
            "Expected Word: SUPERFLUOUS\n",
            "Detected Word: \n",
            "Correct: 0\n",
            "\n"
          ]
        },
        {
          "output_type": "stream",
          "name": "stderr",
          "text": [
            "\rProcessing audio files:  26%|██▌       | 272/1050 [28:11<1:10:23,  5.43s/it]"
          ]
        },
        {
          "output_type": "stream",
          "name": "stdout",
          "text": [
            "File: /content/drive/MyDrive/audio_files/Dataset_2_Cleaned/25_GOUGE/P1.wav\n",
            "Expected Word: GOUGE\n",
            "Detected Word: \n",
            "Correct: 0\n",
            "\n"
          ]
        },
        {
          "output_type": "stream",
          "name": "stderr",
          "text": [
            "\rProcessing audio files:  26%|██▌       | 273/1050 [28:16<1:09:29,  5.37s/it]"
          ]
        },
        {
          "output_type": "stream",
          "name": "stdout",
          "text": [
            "File: /content/drive/MyDrive/audio_files/Dataset_2_Cleaned/25_GOUGE/P2.wav\n",
            "Expected Word: GOUGE\n",
            "Detected Word: \n",
            "Correct: 0\n",
            "\n"
          ]
        },
        {
          "output_type": "stream",
          "name": "stderr",
          "text": [
            "\rProcessing audio files:  26%|██▌       | 274/1050 [28:21<1:08:40,  5.31s/it]"
          ]
        },
        {
          "output_type": "stream",
          "name": "stdout",
          "text": [
            "File: /content/drive/MyDrive/audio_files/Dataset_2_Cleaned/25_GOUGE/P3.wav\n",
            "Expected Word: GOUGE\n",
            "Detected Word: \n",
            "Correct: 0\n",
            "\n"
          ]
        },
        {
          "output_type": "stream",
          "name": "stderr",
          "text": [
            "\rProcessing audio files:  26%|██▌       | 275/1050 [28:27<1:07:43,  5.24s/it]"
          ]
        },
        {
          "output_type": "stream",
          "name": "stdout",
          "text": [
            "File: /content/drive/MyDrive/audio_files/Dataset_2_Cleaned/25_GOUGE/P4.wav\n",
            "Expected Word: GOUGE\n",
            "Detected Word: \n",
            "Correct: 0\n",
            "\n"
          ]
        },
        {
          "output_type": "stream",
          "name": "stderr",
          "text": [
            "\rProcessing audio files:  26%|██▋       | 276/1050 [28:32<1:08:03,  5.28s/it]"
          ]
        },
        {
          "output_type": "stream",
          "name": "stdout",
          "text": [
            "File: /content/drive/MyDrive/audio_files/Dataset_2_Cleaned/25_GOUGE/P5.wav\n",
            "Expected Word: GOUGE\n",
            "Detected Word: \n",
            "Correct: 0\n",
            "\n"
          ]
        },
        {
          "output_type": "stream",
          "name": "stderr",
          "text": [
            "\rProcessing audio files:  26%|██▋       | 277/1050 [28:37<1:07:43,  5.26s/it]"
          ]
        },
        {
          "output_type": "stream",
          "name": "stdout",
          "text": [
            "File: /content/drive/MyDrive/audio_files/Dataset_2_Cleaned/25_GOUGE/P6.wav\n",
            "Expected Word: GOUGE\n",
            "Detected Word: \n",
            "Correct: 0\n",
            "\n"
          ]
        },
        {
          "output_type": "stream",
          "name": "stderr",
          "text": [
            "\rProcessing audio files:  26%|██▋       | 278/1050 [28:46<1:21:06,  6.30s/it]"
          ]
        },
        {
          "output_type": "stream",
          "name": "stdout",
          "text": [
            "File: /content/drive/MyDrive/audio_files/Dataset_2_Cleaned/25_GOUGE/P7.wav\n",
            "Expected Word: GOUGE\n",
            "Detected Word: GORGEOUS\n",
            "Correct: 0\n",
            "\n"
          ]
        },
        {
          "output_type": "stream",
          "name": "stderr",
          "text": [
            "\rProcessing audio files:  27%|██▋       | 279/1050 [28:51<1:17:30,  6.03s/it]"
          ]
        },
        {
          "output_type": "stream",
          "name": "stdout",
          "text": [
            "File: /content/drive/MyDrive/audio_files/Dataset_2_Cleaned/25_GOUGE/P8.wav\n",
            "Expected Word: GOUGE\n",
            "Detected Word: GOUGE\n",
            "Correct: 1\n",
            "\n"
          ]
        },
        {
          "output_type": "stream",
          "name": "stderr",
          "text": [
            "\rProcessing audio files:  27%|██▋       | 280/1050 [28:57<1:14:38,  5.82s/it]"
          ]
        },
        {
          "output_type": "stream",
          "name": "stdout",
          "text": [
            "File: /content/drive/MyDrive/audio_files/Dataset_2_Cleaned/25_GOUGE/P9.wav\n",
            "Expected Word: GOUGE\n",
            "Detected Word: \n",
            "Correct: 0\n",
            "\n"
          ]
        },
        {
          "output_type": "stream",
          "name": "stderr",
          "text": [
            "\rProcessing audio files:  27%|██▋       | 281/1050 [29:02<1:13:01,  5.70s/it]"
          ]
        },
        {
          "output_type": "stream",
          "name": "stdout",
          "text": [
            "File: /content/drive/MyDrive/audio_files/Dataset_2_Cleaned/25_GOUGE/P10.wav\n",
            "Expected Word: GOUGE\n",
            "Detected Word: \n",
            "Correct: 0\n",
            "\n"
          ]
        },
        {
          "output_type": "stream",
          "name": "stderr",
          "text": [
            "\rProcessing audio files:  27%|██▋       | 282/1050 [29:07<1:11:39,  5.60s/it]"
          ]
        },
        {
          "output_type": "stream",
          "name": "stdout",
          "text": [
            "File: /content/drive/MyDrive/audio_files/Dataset_2_Cleaned/25_GOUGE/P11.wav\n",
            "Expected Word: GOUGE\n",
            "Detected Word: \n",
            "Correct: 0\n",
            "\n"
          ]
        },
        {
          "output_type": "stream",
          "name": "stderr",
          "text": [
            "\rProcessing audio files:  27%|██▋       | 283/1050 [29:16<1:23:45,  6.55s/it]"
          ]
        },
        {
          "output_type": "stream",
          "name": "stdout",
          "text": [
            "File: /content/drive/MyDrive/audio_files/Dataset_2_Cleaned/25_GOUGE/P12.wav\n",
            "Expected Word: GOUGE\n",
            "Detected Word: \n",
            "Correct: 0\n",
            "\n"
          ]
        },
        {
          "output_type": "stream",
          "name": "stderr",
          "text": [
            "\rProcessing audio files:  27%|██▋       | 284/1050 [29:22<1:19:50,  6.25s/it]"
          ]
        },
        {
          "output_type": "stream",
          "name": "stdout",
          "text": [
            "File: /content/drive/MyDrive/audio_files/Dataset_2_Cleaned/25_GOUGE/P13.wav\n",
            "Expected Word: GOUGE\n",
            "Detected Word: \n",
            "Correct: 0\n",
            "\n"
          ]
        },
        {
          "output_type": "stream",
          "name": "stderr",
          "text": [
            "\rProcessing audio files:  27%|██▋       | 285/1050 [29:27<1:17:13,  6.06s/it]"
          ]
        },
        {
          "output_type": "stream",
          "name": "stdout",
          "text": [
            "File: /content/drive/MyDrive/audio_files/Dataset_2_Cleaned/25_GOUGE/P14.wav\n",
            "Expected Word: GOUGE\n",
            "Detected Word: GOUGE\n",
            "Correct: 1\n",
            "\n"
          ]
        },
        {
          "output_type": "stream",
          "name": "stderr",
          "text": [
            "\rProcessing audio files:  27%|██▋       | 286/1050 [29:33<1:14:47,  5.87s/it]"
          ]
        },
        {
          "output_type": "stream",
          "name": "stdout",
          "text": [
            "File: /content/drive/MyDrive/audio_files/Dataset_2_Cleaned/25_GOUGE/P15.wav\n",
            "Expected Word: GOUGE\n",
            "Detected Word: GOUGE\n",
            "Correct: 1\n",
            "\n"
          ]
        },
        {
          "output_type": "stream",
          "name": "stderr",
          "text": [
            "\rProcessing audio files:  27%|██▋       | 287/1050 [29:38<1:12:57,  5.74s/it]"
          ]
        },
        {
          "output_type": "stream",
          "name": "stdout",
          "text": [
            "File: /content/drive/MyDrive/audio_files/Dataset_2_Cleaned/25_GOUGE/P16.wav\n",
            "Expected Word: GOUGE\n",
            "Detected Word: GOUGE\n",
            "Correct: 1\n",
            "\n"
          ]
        },
        {
          "output_type": "stream",
          "name": "stderr",
          "text": [
            "\rProcessing audio files:  27%|██▋       | 288/1050 [29:44<1:11:50,  5.66s/it]"
          ]
        },
        {
          "output_type": "stream",
          "name": "stdout",
          "text": [
            "File: /content/drive/MyDrive/audio_files/Dataset_2_Cleaned/25_GOUGE/P17.wav\n",
            "Expected Word: GOUGE\n",
            "Detected Word: \n",
            "Correct: 0\n",
            "\n"
          ]
        },
        {
          "output_type": "stream",
          "name": "stderr",
          "text": [
            "\rProcessing audio files:  28%|██▊       | 289/1050 [29:49<1:10:34,  5.56s/it]"
          ]
        },
        {
          "output_type": "stream",
          "name": "stdout",
          "text": [
            "File: /content/drive/MyDrive/audio_files/Dataset_2_Cleaned/25_GOUGE/P18.wav\n",
            "Expected Word: GOUGE\n",
            "Detected Word: GOUGE\n",
            "Correct: 1\n",
            "\n"
          ]
        },
        {
          "output_type": "stream",
          "name": "stderr",
          "text": [
            "\rProcessing audio files:  28%|██▊       | 290/1050 [29:54<1:10:03,  5.53s/it]"
          ]
        },
        {
          "output_type": "stream",
          "name": "stdout",
          "text": [
            "File: /content/drive/MyDrive/audio_files/Dataset_2_Cleaned/25_GOUGE/P19.wav\n",
            "Expected Word: GOUGE\n",
            "Detected Word: GOUGE\n",
            "Correct: 1\n",
            "\n"
          ]
        },
        {
          "output_type": "stream",
          "name": "stderr",
          "text": [
            "\rProcessing audio files:  28%|██▊       | 291/1050 [30:00<1:09:49,  5.52s/it]"
          ]
        },
        {
          "output_type": "stream",
          "name": "stdout",
          "text": [
            "File: /content/drive/MyDrive/audio_files/Dataset_2_Cleaned/25_GOUGE/P20.wav\n",
            "Expected Word: GOUGE\n",
            "Detected Word: \n",
            "Correct: 0\n",
            "\n"
          ]
        },
        {
          "output_type": "stream",
          "name": "stderr",
          "text": [
            "\rProcessing audio files:  28%|██▊       | 292/1050 [30:08<1:20:41,  6.39s/it]"
          ]
        },
        {
          "output_type": "stream",
          "name": "stdout",
          "text": [
            "File: /content/drive/MyDrive/audio_files/Dataset_2_Cleaned/33_DRACHM/P1.wav\n",
            "Expected Word: DRACHM\n",
            "Detected Word: DRAGON\n",
            "Correct: 0\n",
            "\n"
          ]
        },
        {
          "output_type": "stream",
          "name": "stderr",
          "text": [
            "\rProcessing audio files:  28%|██▊       | 293/1050 [30:14<1:17:23,  6.13s/it]"
          ]
        },
        {
          "output_type": "stream",
          "name": "stdout",
          "text": [
            "File: /content/drive/MyDrive/audio_files/Dataset_2_Cleaned/33_DRACHM/P2.wav\n",
            "Expected Word: DRACHM\n",
            "Detected Word: \n",
            "Correct: 0\n",
            "\n"
          ]
        },
        {
          "output_type": "stream",
          "name": "stderr",
          "text": [
            "\rProcessing audio files:  28%|██▊       | 294/1050 [30:19<1:13:54,  5.87s/it]"
          ]
        },
        {
          "output_type": "stream",
          "name": "stdout",
          "text": [
            "File: /content/drive/MyDrive/audio_files/Dataset_2_Cleaned/33_DRACHM/P3.wav\n",
            "Expected Word: DRACHM\n",
            "Detected Word: BACK\n",
            "Correct: 0\n",
            "\n"
          ]
        },
        {
          "output_type": "stream",
          "name": "stderr",
          "text": [
            "\rProcessing audio files:  28%|██▊       | 295/1050 [30:25<1:13:19,  5.83s/it]"
          ]
        },
        {
          "output_type": "stream",
          "name": "stdout",
          "text": [
            "File: /content/drive/MyDrive/audio_files/Dataset_2_Cleaned/33_DRACHM/P4.wav\n",
            "Expected Word: DRACHM\n",
            "Detected Word: FOR\n",
            "Correct: 0\n",
            "\n"
          ]
        },
        {
          "output_type": "stream",
          "name": "stderr",
          "text": [
            "\rProcessing audio files:  28%|██▊       | 296/1050 [30:30<1:11:43,  5.71s/it]"
          ]
        },
        {
          "output_type": "stream",
          "name": "stdout",
          "text": [
            "File: /content/drive/MyDrive/audio_files/Dataset_2_Cleaned/33_DRACHM/P5.wav\n",
            "Expected Word: DRACHM\n",
            "Detected Word: \n",
            "Correct: 0\n",
            "\n"
          ]
        },
        {
          "output_type": "stream",
          "name": "stderr",
          "text": [
            "\rProcessing audio files:  28%|██▊       | 297/1050 [30:36<1:12:02,  5.74s/it]"
          ]
        },
        {
          "output_type": "stream",
          "name": "stdout",
          "text": [
            "File: /content/drive/MyDrive/audio_files/Dataset_2_Cleaned/33_DRACHM/P6.wav\n",
            "Expected Word: DRACHM\n",
            "Detected Word: \n",
            "Correct: 0\n",
            "\n"
          ]
        },
        {
          "output_type": "stream",
          "name": "stderr",
          "text": [
            "\rProcessing audio files:  28%|██▊       | 298/1050 [30:41<1:09:38,  5.56s/it]"
          ]
        },
        {
          "output_type": "stream",
          "name": "stdout",
          "text": [
            "File: /content/drive/MyDrive/audio_files/Dataset_2_Cleaned/33_DRACHM/P7.wav\n",
            "Expected Word: DRACHM\n",
            "Detected Word: \n",
            "Correct: 0\n",
            "\n"
          ]
        },
        {
          "output_type": "stream",
          "name": "stderr",
          "text": [
            "\rProcessing audio files:  28%|██▊       | 299/1050 [30:47<1:10:00,  5.59s/it]"
          ]
        },
        {
          "output_type": "stream",
          "name": "stdout",
          "text": [
            "File: /content/drive/MyDrive/audio_files/Dataset_2_Cleaned/33_DRACHM/P8.wav\n",
            "Expected Word: DRACHM\n",
            "Detected Word: \n",
            "Correct: 0\n",
            "\n"
          ]
        },
        {
          "output_type": "stream",
          "name": "stderr",
          "text": [
            "\rProcessing audio files:  29%|██▊       | 300/1050 [30:52<1:09:33,  5.57s/it]"
          ]
        },
        {
          "output_type": "stream",
          "name": "stdout",
          "text": [
            "File: /content/drive/MyDrive/audio_files/Dataset_2_Cleaned/33_DRACHM/P9.wav\n",
            "Expected Word: DRACHM\n",
            "Detected Word: \n",
            "Correct: 0\n",
            "\n"
          ]
        },
        {
          "output_type": "stream",
          "name": "stderr",
          "text": [
            "\rProcessing audio files:  29%|██▊       | 301/1050 [30:58<1:08:48,  5.51s/it]"
          ]
        },
        {
          "output_type": "stream",
          "name": "stdout",
          "text": [
            "File: /content/drive/MyDrive/audio_files/Dataset_2_Cleaned/33_DRACHM/P10.wav\n",
            "Expected Word: DRACHM\n",
            "Detected Word: HIM\n",
            "Correct: 0\n",
            "\n"
          ]
        },
        {
          "output_type": "stream",
          "name": "stderr",
          "text": [
            "\rProcessing audio files:  29%|██▉       | 302/1050 [31:03<1:08:16,  5.48s/it]"
          ]
        },
        {
          "output_type": "stream",
          "name": "stdout",
          "text": [
            "File: /content/drive/MyDrive/audio_files/Dataset_2_Cleaned/33_DRACHM/P11.wav\n",
            "Expected Word: DRACHM\n",
            "Detected Word: \n",
            "Correct: 0\n",
            "\n"
          ]
        },
        {
          "output_type": "stream",
          "name": "stderr",
          "text": [
            "\rProcessing audio files:  29%|██▉       | 303/1050 [31:08<1:06:55,  5.38s/it]"
          ]
        },
        {
          "output_type": "stream",
          "name": "stdout",
          "text": [
            "File: /content/drive/MyDrive/audio_files/Dataset_2_Cleaned/33_DRACHM/P12.wav\n",
            "Expected Word: DRACHM\n",
            "Detected Word: \n",
            "Correct: 0\n",
            "\n"
          ]
        },
        {
          "output_type": "stream",
          "name": "stderr",
          "text": [
            "\rProcessing audio files:  29%|██▉       | 304/1050 [31:17<1:18:32,  6.32s/it]"
          ]
        },
        {
          "output_type": "stream",
          "name": "stdout",
          "text": [
            "File: /content/drive/MyDrive/audio_files/Dataset_2_Cleaned/33_DRACHM/P13.wav\n",
            "Expected Word: DRACHM\n",
            "Detected Word: \n",
            "Correct: 0\n",
            "\n"
          ]
        },
        {
          "output_type": "stream",
          "name": "stderr",
          "text": [
            "\rProcessing audio files:  29%|██▉       | 305/1050 [31:22<1:15:12,  6.06s/it]"
          ]
        },
        {
          "output_type": "stream",
          "name": "stdout",
          "text": [
            "File: /content/drive/MyDrive/audio_files/Dataset_2_Cleaned/33_DRACHM/P14.wav\n",
            "Expected Word: DRACHM\n",
            "Detected Word: DRENCHED\n",
            "Correct: 0\n",
            "\n"
          ]
        },
        {
          "output_type": "stream",
          "name": "stderr",
          "text": [
            "\rProcessing audio files:  29%|██▉       | 306/1050 [31:28<1:12:57,  5.88s/it]"
          ]
        },
        {
          "output_type": "stream",
          "name": "stdout",
          "text": [
            "File: /content/drive/MyDrive/audio_files/Dataset_2_Cleaned/33_DRACHM/P15.wav\n",
            "Expected Word: DRACHM\n",
            "Detected Word: DRACHM\n",
            "Correct: 1\n",
            "\n"
          ]
        },
        {
          "output_type": "stream",
          "name": "stderr",
          "text": [
            "\rProcessing audio files:  29%|██▉       | 307/1050 [31:33<1:11:08,  5.75s/it]"
          ]
        },
        {
          "output_type": "stream",
          "name": "stdout",
          "text": [
            "File: /content/drive/MyDrive/audio_files/Dataset_2_Cleaned/33_DRACHM/P16.wav\n",
            "Expected Word: DRACHM\n",
            "Detected Word: \n",
            "Correct: 0\n",
            "\n"
          ]
        },
        {
          "output_type": "stream",
          "name": "stderr",
          "text": [
            "\rProcessing audio files:  29%|██▉       | 308/1050 [31:39<1:09:44,  5.64s/it]"
          ]
        },
        {
          "output_type": "stream",
          "name": "stdout",
          "text": [
            "File: /content/drive/MyDrive/audio_files/Dataset_2_Cleaned/33_DRACHM/P17.wav\n",
            "Expected Word: DRACHM\n",
            "Detected Word: \n",
            "Correct: 0\n",
            "\n"
          ]
        },
        {
          "output_type": "stream",
          "name": "stderr",
          "text": [
            "\rProcessing audio files:  29%|██▉       | 309/1050 [31:44<1:09:21,  5.62s/it]"
          ]
        },
        {
          "output_type": "stream",
          "name": "stdout",
          "text": [
            "File: /content/drive/MyDrive/audio_files/Dataset_2_Cleaned/33_DRACHM/P18.wav\n",
            "Expected Word: DRACHM\n",
            "Detected Word: \n",
            "Correct: 0\n",
            "\n"
          ]
        },
        {
          "output_type": "stream",
          "name": "stderr",
          "text": [
            "\rProcessing audio files:  30%|██▉       | 310/1050 [31:50<1:09:05,  5.60s/it]"
          ]
        },
        {
          "output_type": "stream",
          "name": "stdout",
          "text": [
            "File: /content/drive/MyDrive/audio_files/Dataset_2_Cleaned/33_DRACHM/P19.wav\n",
            "Expected Word: DRACHM\n",
            "Detected Word: TRACK\n",
            "Correct: 0\n",
            "\n"
          ]
        },
        {
          "output_type": "stream",
          "name": "stderr",
          "text": [
            "\rProcessing audio files:  30%|██▉       | 311/1050 [31:55<1:08:15,  5.54s/it]"
          ]
        },
        {
          "output_type": "stream",
          "name": "stdout",
          "text": [
            "File: /content/drive/MyDrive/audio_files/Dataset_2_Cleaned/33_DRACHM/P20.wav\n",
            "Expected Word: DRACHM\n",
            "Detected Word: \n",
            "Correct: 0\n",
            "\n"
          ]
        },
        {
          "output_type": "stream",
          "name": "stderr",
          "text": [
            "\rProcessing audio files:  30%|██▉       | 312/1050 [32:00<1:07:05,  5.45s/it]"
          ]
        },
        {
          "output_type": "stream",
          "name": "stdout",
          "text": [
            "File: /content/drive/MyDrive/audio_files/Dataset_2_Cleaned/34_AEON/P1.wav\n",
            "Expected Word: AEON\n",
            "Detected Word: A\n",
            "Correct: 0\n",
            "\n"
          ]
        },
        {
          "output_type": "stream",
          "name": "stderr",
          "text": [
            "\rProcessing audio files:  30%|██▉       | 313/1050 [32:09<1:18:43,  6.41s/it]"
          ]
        },
        {
          "output_type": "stream",
          "name": "stdout",
          "text": [
            "File: /content/drive/MyDrive/audio_files/Dataset_2_Cleaned/34_AEON/P2.wav\n",
            "Expected Word: AEON\n",
            "Detected Word: \n",
            "Correct: 0\n",
            "\n"
          ]
        },
        {
          "output_type": "stream",
          "name": "stderr",
          "text": [
            "\rProcessing audio files:  30%|██▉       | 314/1050 [32:27<2:01:15,  9.88s/it]"
          ]
        },
        {
          "output_type": "stream",
          "name": "stdout",
          "text": [
            "File: /content/drive/MyDrive/audio_files/Dataset_2_Cleaned/34_AEON/P3.wav\n",
            "Expected Word: AEON\n",
            "Detected Word: \n",
            "Correct: 0\n",
            "\n"
          ]
        },
        {
          "output_type": "stream",
          "name": "stderr",
          "text": [
            "\rProcessing audio files:  30%|███       | 315/1050 [32:39<2:08:38, 10.50s/it]"
          ]
        },
        {
          "output_type": "stream",
          "name": "stdout",
          "text": [
            "File: /content/drive/MyDrive/audio_files/Dataset_2_Cleaned/34_AEON/P4.wav\n",
            "Expected Word: AEON\n",
            "Detected Word: \n",
            "Correct: 0\n",
            "\n"
          ]
        },
        {
          "output_type": "stream",
          "name": "stderr",
          "text": [
            "\rProcessing audio files:  30%|███       | 316/1050 [32:54<2:24:48, 11.84s/it]"
          ]
        },
        {
          "output_type": "stream",
          "name": "stdout",
          "text": [
            "File: /content/drive/MyDrive/audio_files/Dataset_2_Cleaned/34_AEON/P5.wav\n",
            "Expected Word: AEON\n",
            "Detected Word: \n",
            "Correct: 0\n",
            "\n"
          ]
        },
        {
          "output_type": "stream",
          "name": "stderr",
          "text": [
            "\rProcessing audio files:  30%|███       | 317/1050 [33:01<2:06:35, 10.36s/it]"
          ]
        },
        {
          "output_type": "stream",
          "name": "stdout",
          "text": [
            "File: /content/drive/MyDrive/audio_files/Dataset_2_Cleaned/34_AEON/P6.wav\n",
            "Expected Word: AEON\n",
            "Detected Word: \n",
            "Correct: 0\n",
            "\n"
          ]
        },
        {
          "output_type": "stream",
          "name": "stderr",
          "text": [
            "\rProcessing audio files:  30%|███       | 318/1050 [33:06<1:47:09,  8.78s/it]"
          ]
        },
        {
          "output_type": "stream",
          "name": "stdout",
          "text": [
            "File: /content/drive/MyDrive/audio_files/Dataset_2_Cleaned/34_AEON/P7.wav\n",
            "Expected Word: AEON\n",
            "Detected Word: \n",
            "Correct: 0\n",
            "\n"
          ]
        },
        {
          "output_type": "stream",
          "name": "stderr",
          "text": [
            "\rProcessing audio files:  30%|███       | 319/1050 [33:11<1:34:37,  7.77s/it]"
          ]
        },
        {
          "output_type": "stream",
          "name": "stdout",
          "text": [
            "File: /content/drive/MyDrive/audio_files/Dataset_2_Cleaned/34_AEON/P8.wav\n",
            "Expected Word: AEON\n",
            "Detected Word: \n",
            "Correct: 0\n",
            "\n"
          ]
        },
        {
          "output_type": "stream",
          "name": "stderr",
          "text": [
            "\rProcessing audio files:  30%|███       | 320/1050 [33:17<1:26:20,  7.10s/it]"
          ]
        },
        {
          "output_type": "stream",
          "name": "stdout",
          "text": [
            "File: /content/drive/MyDrive/audio_files/Dataset_2_Cleaned/34_AEON/P9.wav\n",
            "Expected Word: AEON\n",
            "Detected Word: \n",
            "Correct: 0\n",
            "\n"
          ]
        },
        {
          "output_type": "stream",
          "name": "stderr",
          "text": [
            "\rProcessing audio files:  31%|███       | 321/1050 [33:25<1:31:16,  7.51s/it]"
          ]
        },
        {
          "output_type": "stream",
          "name": "stdout",
          "text": [
            "File: /content/drive/MyDrive/audio_files/Dataset_2_Cleaned/34_AEON/P11.wav\n",
            "Expected Word: AEON\n",
            "Detected Word: THEY\n",
            "Correct: 0\n",
            "\n"
          ]
        },
        {
          "output_type": "stream",
          "name": "stderr",
          "text": [
            "\rProcessing audio files:  31%|███       | 322/1050 [33:30<1:22:42,  6.82s/it]"
          ]
        },
        {
          "output_type": "stream",
          "name": "stdout",
          "text": [
            "File: /content/drive/MyDrive/audio_files/Dataset_2_Cleaned/34_AEON/P12.wav\n",
            "Expected Word: AEON\n",
            "Detected Word: \n",
            "Correct: 0\n",
            "\n"
          ]
        },
        {
          "output_type": "stream",
          "name": "stderr",
          "text": [
            "\rProcessing audio files:  31%|███       | 323/1050 [33:37<1:23:04,  6.86s/it]"
          ]
        },
        {
          "output_type": "stream",
          "name": "stdout",
          "text": [
            "File: /content/drive/MyDrive/audio_files/Dataset_2_Cleaned/34_AEON/P13.wav\n",
            "Expected Word: AEON\n",
            "Detected Word: \n",
            "Correct: 0\n",
            "\n"
          ]
        },
        {
          "output_type": "stream",
          "name": "stderr",
          "text": [
            "\rProcessing audio files:  31%|███       | 324/1050 [33:43<1:17:25,  6.40s/it]"
          ]
        },
        {
          "output_type": "stream",
          "name": "stdout",
          "text": [
            "File: /content/drive/MyDrive/audio_files/Dataset_2_Cleaned/34_AEON/P14.wav\n",
            "Expected Word: AEON\n",
            "Detected Word: \n",
            "Correct: 0\n",
            "\n"
          ]
        },
        {
          "output_type": "stream",
          "name": "stderr",
          "text": [
            "\rProcessing audio files:  31%|███       | 325/1050 [33:48<1:13:47,  6.11s/it]"
          ]
        },
        {
          "output_type": "stream",
          "name": "stdout",
          "text": [
            "File: /content/drive/MyDrive/audio_files/Dataset_2_Cleaned/34_AEON/P15.wav\n",
            "Expected Word: AEON\n",
            "Detected Word: \n",
            "Correct: 0\n",
            "\n"
          ]
        },
        {
          "output_type": "stream",
          "name": "stderr",
          "text": [
            "\rProcessing audio files:  31%|███       | 326/1050 [33:54<1:11:04,  5.89s/it]"
          ]
        },
        {
          "output_type": "stream",
          "name": "stdout",
          "text": [
            "File: /content/drive/MyDrive/audio_files/Dataset_2_Cleaned/34_AEON/P16.wav\n",
            "Expected Word: AEON\n",
            "Detected Word: \n",
            "Correct: 0\n",
            "\n"
          ]
        },
        {
          "output_type": "stream",
          "name": "stderr",
          "text": [
            "\rProcessing audio files:  31%|███       | 327/1050 [33:59<1:09:24,  5.76s/it]"
          ]
        },
        {
          "output_type": "stream",
          "name": "stdout",
          "text": [
            "File: /content/drive/MyDrive/audio_files/Dataset_2_Cleaned/34_AEON/P17.wav\n",
            "Expected Word: AEON\n",
            "Detected Word: \n",
            "Correct: 0\n",
            "\n"
          ]
        },
        {
          "output_type": "stream",
          "name": "stderr",
          "text": [
            "\rProcessing audio files:  31%|███       | 328/1050 [34:04<1:07:58,  5.65s/it]"
          ]
        },
        {
          "output_type": "stream",
          "name": "stdout",
          "text": [
            "File: /content/drive/MyDrive/audio_files/Dataset_2_Cleaned/34_AEON/P18.wav\n",
            "Expected Word: AEON\n",
            "Detected Word: \n",
            "Correct: 0\n",
            "\n"
          ]
        },
        {
          "output_type": "stream",
          "name": "stderr",
          "text": [
            "\rProcessing audio files:  31%|███▏      | 329/1050 [34:13<1:18:13,  6.51s/it]"
          ]
        },
        {
          "output_type": "stream",
          "name": "stdout",
          "text": [
            "File: /content/drive/MyDrive/audio_files/Dataset_2_Cleaned/34_AEON/P19.wav\n",
            "Expected Word: AEON\n",
            "Detected Word: \n",
            "Correct: 0\n",
            "\n"
          ]
        },
        {
          "output_type": "stream",
          "name": "stderr",
          "text": [
            "\rProcessing audio files:  31%|███▏      | 330/1050 [34:25<1:36:58,  8.08s/it]"
          ]
        },
        {
          "output_type": "stream",
          "name": "stdout",
          "text": [
            "File: /content/drive/MyDrive/audio_files/Dataset_2_Cleaned/34_AEON/P20.wav\n",
            "Expected Word: AEON\n",
            "Detected Word: YOU\n",
            "Correct: 0\n",
            "\n"
          ]
        },
        {
          "output_type": "stream",
          "name": "stderr",
          "text": [
            "\rProcessing audio files:  32%|███▏      | 331/1050 [34:30<1:26:20,  7.21s/it]"
          ]
        },
        {
          "output_type": "stream",
          "name": "stdout",
          "text": [
            "File: /content/drive/MyDrive/audio_files/Dataset_2_Cleaned/06_PSALM/P1.wav\n",
            "Expected Word: PSALM\n",
            "Detected Word: \n",
            "Correct: 0\n",
            "\n"
          ]
        },
        {
          "output_type": "stream",
          "name": "stderr",
          "text": [
            "\rProcessing audio files:  32%|███▏      | 332/1050 [34:35<1:18:56,  6.60s/it]"
          ]
        },
        {
          "output_type": "stream",
          "name": "stdout",
          "text": [
            "File: /content/drive/MyDrive/audio_files/Dataset_2_Cleaned/06_PSALM/P2.wav\n",
            "Expected Word: PSALM\n",
            "Detected Word: SONG\n",
            "Correct: 0\n",
            "\n"
          ]
        },
        {
          "output_type": "stream",
          "name": "stderr",
          "text": [
            "\rProcessing audio files:  32%|███▏      | 333/1050 [34:43<1:25:04,  7.12s/it]"
          ]
        },
        {
          "output_type": "stream",
          "name": "stdout",
          "text": [
            "File: /content/drive/MyDrive/audio_files/Dataset_2_Cleaned/06_PSALM/P3.wav\n",
            "Expected Word: PSALM\n",
            "Detected Word: \n",
            "Correct: 0\n",
            "\n"
          ]
        },
        {
          "output_type": "stream",
          "name": "stderr",
          "text": [
            "\rProcessing audio files:  32%|███▏      | 334/1050 [34:49<1:18:27,  6.58s/it]"
          ]
        },
        {
          "output_type": "stream",
          "name": "stdout",
          "text": [
            "File: /content/drive/MyDrive/audio_files/Dataset_2_Cleaned/06_PSALM/P4.wav\n",
            "Expected Word: PSALM\n",
            "Detected Word: \n",
            "Correct: 0\n",
            "\n"
          ]
        },
        {
          "output_type": "stream",
          "name": "stderr",
          "text": [
            "\rProcessing audio files:  32%|███▏      | 335/1050 [34:54<1:13:47,  6.19s/it]"
          ]
        },
        {
          "output_type": "stream",
          "name": "stdout",
          "text": [
            "File: /content/drive/MyDrive/audio_files/Dataset_2_Cleaned/06_PSALM/P5.wav\n",
            "Expected Word: PSALM\n",
            "Detected Word: \n",
            "Correct: 0\n",
            "\n"
          ]
        },
        {
          "output_type": "stream",
          "name": "stderr",
          "text": [
            "\rProcessing audio files:  32%|███▏      | 336/1050 [34:59<1:10:33,  5.93s/it]"
          ]
        },
        {
          "output_type": "stream",
          "name": "stdout",
          "text": [
            "File: /content/drive/MyDrive/audio_files/Dataset_2_Cleaned/06_PSALM/P6.wav\n",
            "Expected Word: PSALM\n",
            "Detected Word: \n",
            "Correct: 0\n",
            "\n"
          ]
        },
        {
          "output_type": "stream",
          "name": "stderr",
          "text": [
            "\rProcessing audio files:  32%|███▏      | 337/1050 [35:04<1:07:51,  5.71s/it]"
          ]
        },
        {
          "output_type": "stream",
          "name": "stdout",
          "text": [
            "File: /content/drive/MyDrive/audio_files/Dataset_2_Cleaned/06_PSALM/P7.wav\n",
            "Expected Word: PSALM\n",
            "Detected Word: \n",
            "Correct: 0\n",
            "\n"
          ]
        },
        {
          "output_type": "stream",
          "name": "stderr",
          "text": [
            "\rProcessing audio files:  32%|███▏      | 338/1050 [35:10<1:06:40,  5.62s/it]"
          ]
        },
        {
          "output_type": "stream",
          "name": "stdout",
          "text": [
            "File: /content/drive/MyDrive/audio_files/Dataset_2_Cleaned/06_PSALM/P8.wav\n",
            "Expected Word: PSALM\n",
            "Detected Word: \n",
            "Correct: 0\n",
            "\n"
          ]
        },
        {
          "output_type": "stream",
          "name": "stderr",
          "text": [
            "\rProcessing audio files:  32%|███▏      | 339/1050 [35:15<1:05:29,  5.53s/it]"
          ]
        },
        {
          "output_type": "stream",
          "name": "stdout",
          "text": [
            "File: /content/drive/MyDrive/audio_files/Dataset_2_Cleaned/06_PSALM/P9.wav\n",
            "Expected Word: PSALM\n",
            "Detected Word: CALM\n",
            "Correct: 0\n",
            "\n"
          ]
        },
        {
          "output_type": "stream",
          "name": "stderr",
          "text": [
            "\rProcessing audio files:  32%|███▏      | 340/1050 [35:23<1:11:52,  6.07s/it]"
          ]
        },
        {
          "output_type": "stream",
          "name": "stdout",
          "text": [
            "File: /content/drive/MyDrive/audio_files/Dataset_2_Cleaned/06_PSALM/P10.wav\n",
            "Expected Word: PSALM\n",
            "Detected Word: SO\n",
            "Correct: 0\n",
            "\n"
          ]
        },
        {
          "output_type": "stream",
          "name": "stderr",
          "text": [
            "\rProcessing audio files:  32%|███▏      | 341/1050 [35:28<1:08:49,  5.82s/it]"
          ]
        },
        {
          "output_type": "stream",
          "name": "stdout",
          "text": [
            "File: /content/drive/MyDrive/audio_files/Dataset_2_Cleaned/06_PSALM/P11.wav\n",
            "Expected Word: PSALM\n",
            "Detected Word: SO\n",
            "Correct: 0\n",
            "\n"
          ]
        },
        {
          "output_type": "stream",
          "name": "stderr",
          "text": [
            "\rProcessing audio files:  33%|███▎      | 342/1050 [35:33<1:06:17,  5.62s/it]"
          ]
        },
        {
          "output_type": "stream",
          "name": "stdout",
          "text": [
            "File: /content/drive/MyDrive/audio_files/Dataset_2_Cleaned/06_PSALM/P12.wav\n",
            "Expected Word: PSALM\n",
            "Detected Word: \n",
            "Correct: 0\n",
            "\n"
          ]
        },
        {
          "output_type": "stream",
          "name": "stderr",
          "text": [
            "\rProcessing audio files:  33%|███▎      | 343/1050 [35:38<1:05:46,  5.58s/it]"
          ]
        },
        {
          "output_type": "stream",
          "name": "stdout",
          "text": [
            "File: /content/drive/MyDrive/audio_files/Dataset_2_Cleaned/06_PSALM/P13.wav\n",
            "Expected Word: PSALM\n",
            "Detected Word: \n",
            "Correct: 0\n",
            "\n"
          ]
        },
        {
          "output_type": "stream",
          "name": "stderr",
          "text": [
            "\rProcessing audio files:  33%|███▎      | 344/1050 [35:44<1:04:48,  5.51s/it]"
          ]
        },
        {
          "output_type": "stream",
          "name": "stdout",
          "text": [
            "File: /content/drive/MyDrive/audio_files/Dataset_2_Cleaned/06_PSALM/P14.wav\n",
            "Expected Word: PSALM\n",
            "Detected Word: PSALM\n",
            "Correct: 1\n",
            "\n"
          ]
        },
        {
          "output_type": "stream",
          "name": "stderr",
          "text": [
            "\rProcessing audio files:  33%|███▎      | 345/1050 [35:52<1:15:22,  6.42s/it]"
          ]
        },
        {
          "output_type": "stream",
          "name": "stdout",
          "text": [
            "File: /content/drive/MyDrive/audio_files/Dataset_2_Cleaned/06_PSALM/P15.wav\n",
            "Expected Word: PSALM\n",
            "Detected Word: SO\n",
            "Correct: 0\n",
            "\n"
          ]
        },
        {
          "output_type": "stream",
          "name": "stderr",
          "text": [
            "\rProcessing audio files:  33%|███▎      | 346/1050 [35:58<1:11:49,  6.12s/it]"
          ]
        },
        {
          "output_type": "stream",
          "name": "stdout",
          "text": [
            "File: /content/drive/MyDrive/audio_files/Dataset_2_Cleaned/06_PSALM/P16.wav\n",
            "Expected Word: PSALM\n",
            "Detected Word: SO\n",
            "Correct: 0\n",
            "\n"
          ]
        },
        {
          "output_type": "stream",
          "name": "stderr",
          "text": [
            "\rProcessing audio files:  33%|███▎      | 347/1050 [36:06<1:20:14,  6.85s/it]"
          ]
        },
        {
          "output_type": "stream",
          "name": "stdout",
          "text": [
            "File: /content/drive/MyDrive/audio_files/Dataset_2_Cleaned/06_PSALM/P17.wav\n",
            "Expected Word: PSALM\n",
            "Detected Word: SO\n",
            "Correct: 0\n",
            "\n"
          ]
        },
        {
          "output_type": "stream",
          "name": "stderr",
          "text": [
            "\rProcessing audio files:  33%|███▎      | 348/1050 [36:12<1:15:42,  6.47s/it]"
          ]
        },
        {
          "output_type": "stream",
          "name": "stdout",
          "text": [
            "File: /content/drive/MyDrive/audio_files/Dataset_2_Cleaned/06_PSALM/P18.wav\n",
            "Expected Word: PSALM\n",
            "Detected Word: \n",
            "Correct: 0\n",
            "\n"
          ]
        },
        {
          "output_type": "stream",
          "name": "stderr",
          "text": [
            "\rProcessing audio files:  33%|███▎      | 349/1050 [36:17<1:12:13,  6.18s/it]"
          ]
        },
        {
          "output_type": "stream",
          "name": "stdout",
          "text": [
            "File: /content/drive/MyDrive/audio_files/Dataset_2_Cleaned/06_PSALM/P19.wav\n",
            "Expected Word: PSALM\n",
            "Detected Word: PSALM\n",
            "Correct: 1\n",
            "\n"
          ]
        },
        {
          "output_type": "stream",
          "name": "stderr",
          "text": [
            "\rProcessing audio files:  33%|███▎      | 350/1050 [36:22<1:08:00,  5.83s/it]"
          ]
        },
        {
          "output_type": "stream",
          "name": "stdout",
          "text": [
            "File: /content/drive/MyDrive/audio_files/Dataset_2_Cleaned/06_PSALM/P20.wav\n",
            "Expected Word: PSALM\n",
            "Detected Word: \n",
            "Correct: 0\n",
            "\n"
          ]
        },
        {
          "output_type": "stream",
          "name": "stderr",
          "text": [
            "\rProcessing audio files:  33%|███▎      | 351/1050 [36:28<1:05:30,  5.62s/it]"
          ]
        },
        {
          "output_type": "stream",
          "name": "stdout",
          "text": [
            "File: /content/drive/MyDrive/audio_files/Dataset_2_Cleaned/01_CHORD/P1.wav\n",
            "Expected Word: CHORD\n",
            "Detected Word: \n",
            "Correct: 0\n",
            "\n"
          ]
        },
        {
          "output_type": "stream",
          "name": "stderr",
          "text": [
            "\rProcessing audio files:  34%|███▎      | 352/1050 [36:33<1:04:30,  5.54s/it]"
          ]
        },
        {
          "output_type": "stream",
          "name": "stdout",
          "text": [
            "File: /content/drive/MyDrive/audio_files/Dataset_2_Cleaned/01_CHORD/P2.wav\n",
            "Expected Word: CHORD\n",
            "Detected Word: FORWARD\n",
            "Correct: 0\n",
            "\n"
          ]
        },
        {
          "output_type": "stream",
          "name": "stderr",
          "text": [
            "\rProcessing audio files:  34%|███▎      | 353/1050 [36:38<1:03:21,  5.45s/it]"
          ]
        },
        {
          "output_type": "stream",
          "name": "stdout",
          "text": [
            "File: /content/drive/MyDrive/audio_files/Dataset_2_Cleaned/01_CHORD/P3.wav\n",
            "Expected Word: CHORD\n",
            "Detected Word: \n",
            "Correct: 0\n",
            "\n"
          ]
        },
        {
          "output_type": "stream",
          "name": "stderr",
          "text": [
            "\rProcessing audio files:  34%|███▎      | 354/1050 [36:43<1:01:54,  5.34s/it]"
          ]
        },
        {
          "output_type": "stream",
          "name": "stdout",
          "text": [
            "File: /content/drive/MyDrive/audio_files/Dataset_2_Cleaned/01_CHORD/P4.wav\n",
            "Expected Word: CHORD\n",
            "Detected Word: \n",
            "Correct: 0\n",
            "\n"
          ]
        },
        {
          "output_type": "stream",
          "name": "stderr",
          "text": [
            "\rProcessing audio files:  34%|███▍      | 355/1050 [36:48<1:01:22,  5.30s/it]"
          ]
        },
        {
          "output_type": "stream",
          "name": "stdout",
          "text": [
            "File: /content/drive/MyDrive/audio_files/Dataset_2_Cleaned/01_CHORD/P5.wav\n",
            "Expected Word: CHORD\n",
            "Detected Word: FORWARD\n",
            "Correct: 0\n",
            "\n"
          ]
        },
        {
          "output_type": "stream",
          "name": "stderr",
          "text": [
            "\rProcessing audio files:  34%|███▍      | 356/1050 [36:54<1:01:01,  5.28s/it]"
          ]
        },
        {
          "output_type": "stream",
          "name": "stdout",
          "text": [
            "File: /content/drive/MyDrive/audio_files/Dataset_2_Cleaned/01_CHORD/P6.wav\n",
            "Expected Word: CHORD\n",
            "Detected Word: \n",
            "Correct: 0\n",
            "\n"
          ]
        },
        {
          "output_type": "stream",
          "name": "stderr",
          "text": [
            "\rProcessing audio files:  34%|███▍      | 357/1050 [36:59<1:00:20,  5.22s/it]"
          ]
        },
        {
          "output_type": "stream",
          "name": "stdout",
          "text": [
            "File: /content/drive/MyDrive/audio_files/Dataset_2_Cleaned/01_CHORD/P7.wav\n",
            "Expected Word: CHORD\n",
            "Detected Word: \n",
            "Correct: 0\n",
            "\n"
          ]
        },
        {
          "output_type": "stream",
          "name": "stderr",
          "text": [
            "\rProcessing audio files:  34%|███▍      | 358/1050 [37:07<1:11:01,  6.16s/it]"
          ]
        },
        {
          "output_type": "stream",
          "name": "stdout",
          "text": [
            "File: /content/drive/MyDrive/audio_files/Dataset_2_Cleaned/01_CHORD/P8.wav\n",
            "Expected Word: CHORD\n",
            "Detected Word: \n",
            "Correct: 0\n",
            "\n"
          ]
        },
        {
          "output_type": "stream",
          "name": "stderr",
          "text": [
            "\rProcessing audio files:  34%|███▍      | 359/1050 [37:12<1:08:12,  5.92s/it]"
          ]
        },
        {
          "output_type": "stream",
          "name": "stdout",
          "text": [
            "File: /content/drive/MyDrive/audio_files/Dataset_2_Cleaned/01_CHORD/P9.wav\n",
            "Expected Word: CHORD\n",
            "Detected Word: CHORD\n",
            "Correct: 1\n",
            "\n"
          ]
        },
        {
          "output_type": "stream",
          "name": "stderr",
          "text": [
            "\rProcessing audio files:  34%|███▍      | 360/1050 [37:18<1:05:43,  5.72s/it]"
          ]
        },
        {
          "output_type": "stream",
          "name": "stdout",
          "text": [
            "File: /content/drive/MyDrive/audio_files/Dataset_2_Cleaned/01_CHORD/P10.wav\n",
            "Expected Word: CHORD\n",
            "Detected Word: \n",
            "Correct: 0\n",
            "\n"
          ]
        },
        {
          "output_type": "stream",
          "name": "stderr",
          "text": [
            "\rProcessing audio files:  34%|███▍      | 361/1050 [37:23<1:03:17,  5.51s/it]"
          ]
        },
        {
          "output_type": "stream",
          "name": "stdout",
          "text": [
            "File: /content/drive/MyDrive/audio_files/Dataset_2_Cleaned/01_CHORD/P11.wav\n",
            "Expected Word: CHORD\n",
            "Detected Word: CALLED\n",
            "Correct: 0\n",
            "\n"
          ]
        },
        {
          "output_type": "stream",
          "name": "stderr",
          "text": [
            "\rProcessing audio files:  34%|███▍      | 362/1050 [37:28<1:02:15,  5.43s/it]"
          ]
        },
        {
          "output_type": "stream",
          "name": "stdout",
          "text": [
            "File: /content/drive/MyDrive/audio_files/Dataset_2_Cleaned/01_CHORD/P12.wav\n",
            "Expected Word: CHORD\n",
            "Detected Word: \n",
            "Correct: 0\n",
            "\n"
          ]
        },
        {
          "output_type": "stream",
          "name": "stderr",
          "text": [
            "\rProcessing audio files:  35%|███▍      | 363/1050 [37:36<1:12:31,  6.33s/it]"
          ]
        },
        {
          "output_type": "stream",
          "name": "stdout",
          "text": [
            "File: /content/drive/MyDrive/audio_files/Dataset_2_Cleaned/01_CHORD/P13.wav\n",
            "Expected Word: CHORD\n",
            "Detected Word: COOL\n",
            "Correct: 0\n",
            "\n"
          ]
        },
        {
          "output_type": "stream",
          "name": "stderr",
          "text": [
            "\rProcessing audio files:  35%|███▍      | 364/1050 [37:42<1:08:48,  6.02s/it]"
          ]
        },
        {
          "output_type": "stream",
          "name": "stdout",
          "text": [
            "File: /content/drive/MyDrive/audio_files/Dataset_2_Cleaned/01_CHORD/P14.wav\n",
            "Expected Word: CHORD\n",
            "Detected Word: \n",
            "Correct: 0\n",
            "\n"
          ]
        },
        {
          "output_type": "stream",
          "name": "stderr",
          "text": [
            "\rProcessing audio files:  35%|███▍      | 365/1050 [37:47<1:06:16,  5.80s/it]"
          ]
        },
        {
          "output_type": "stream",
          "name": "stdout",
          "text": [
            "File: /content/drive/MyDrive/audio_files/Dataset_2_Cleaned/01_CHORD/P15.wav\n",
            "Expected Word: CHORD\n",
            "Detected Word: \n",
            "Correct: 0\n",
            "\n"
          ]
        },
        {
          "output_type": "stream",
          "name": "stderr",
          "text": [
            "\rProcessing audio files:  35%|███▍      | 366/1050 [37:52<1:04:31,  5.66s/it]"
          ]
        },
        {
          "output_type": "stream",
          "name": "stdout",
          "text": [
            "File: /content/drive/MyDrive/audio_files/Dataset_2_Cleaned/01_CHORD/P16.wav\n",
            "Expected Word: CHORD\n",
            "Detected Word: COOL\n",
            "Correct: 0\n",
            "\n"
          ]
        },
        {
          "output_type": "stream",
          "name": "stderr",
          "text": [
            "\rProcessing audio files:  35%|███▍      | 367/1050 [37:58<1:03:43,  5.60s/it]"
          ]
        },
        {
          "output_type": "stream",
          "name": "stdout",
          "text": [
            "File: /content/drive/MyDrive/audio_files/Dataset_2_Cleaned/01_CHORD/P17.wav\n",
            "Expected Word: CHORD\n",
            "Detected Word: COLD\n",
            "Correct: 0\n",
            "\n"
          ]
        },
        {
          "output_type": "stream",
          "name": "stderr",
          "text": [
            "\rProcessing audio files:  35%|███▌      | 368/1050 [38:03<1:02:41,  5.52s/it]"
          ]
        },
        {
          "output_type": "stream",
          "name": "stdout",
          "text": [
            "File: /content/drive/MyDrive/audio_files/Dataset_2_Cleaned/01_CHORD/P18.wav\n",
            "Expected Word: CHORD\n",
            "Detected Word: \n",
            "Correct: 0\n",
            "\n"
          ]
        },
        {
          "output_type": "stream",
          "name": "stderr",
          "text": [
            "\rProcessing audio files:  35%|███▌      | 369/1050 [38:08<1:01:22,  5.41s/it]"
          ]
        },
        {
          "output_type": "stream",
          "name": "stdout",
          "text": [
            "File: /content/drive/MyDrive/audio_files/Dataset_2_Cleaned/01_CHORD/P19.wav\n",
            "Expected Word: CHORD\n",
            "Detected Word: CALLED\n",
            "Correct: 0\n",
            "\n"
          ]
        },
        {
          "output_type": "stream",
          "name": "stderr",
          "text": [
            "\rProcessing audio files:  35%|███▌      | 370/1050 [38:13<1:00:28,  5.34s/it]"
          ]
        },
        {
          "output_type": "stream",
          "name": "stdout",
          "text": [
            "File: /content/drive/MyDrive/audio_files/Dataset_2_Cleaned/01_CHORD/P20.wav\n",
            "Expected Word: CHORD\n",
            "Detected Word: COOL\n",
            "Correct: 0\n",
            "\n"
          ]
        },
        {
          "output_type": "stream",
          "name": "stderr",
          "text": [
            "\rProcessing audio files:  35%|███▌      | 371/1050 [38:19<1:00:33,  5.35s/it]"
          ]
        },
        {
          "output_type": "stream",
          "name": "stdout",
          "text": [
            "File: /content/drive/MyDrive/audio_files/Dataset_2_Cleaned/36_ABSTEMIOUS/P1.wav\n",
            "Expected Word: ABSTEMIOUS\n",
            "Detected Word: \n",
            "Correct: 0\n",
            "\n"
          ]
        },
        {
          "output_type": "stream",
          "name": "stderr",
          "text": [
            "\rProcessing audio files:  35%|███▌      | 372/1050 [38:24<1:01:39,  5.46s/it]"
          ]
        },
        {
          "output_type": "stream",
          "name": "stdout",
          "text": [
            "File: /content/drive/MyDrive/audio_files/Dataset_2_Cleaned/36_ABSTEMIOUS/P2.wav\n",
            "Expected Word: ABSTEMIOUS\n",
            "Detected Word: \n",
            "Correct: 0\n",
            "\n"
          ]
        },
        {
          "output_type": "stream",
          "name": "stderr",
          "text": [
            "\rProcessing audio files:  36%|███▌      | 373/1050 [38:31<1:04:17,  5.70s/it]"
          ]
        },
        {
          "output_type": "stream",
          "name": "stdout",
          "text": [
            "File: /content/drive/MyDrive/audio_files/Dataset_2_Cleaned/36_ABSTEMIOUS/P3.wav\n",
            "Expected Word: ABSTEMIOUS\n",
            "Detected Word: \n",
            "Correct: 0\n",
            "\n"
          ]
        },
        {
          "output_type": "stream",
          "name": "stderr",
          "text": [
            "\rProcessing audio files:  36%|███▌      | 374/1050 [38:39<1:14:14,  6.59s/it]"
          ]
        },
        {
          "output_type": "stream",
          "name": "stdout",
          "text": [
            "File: /content/drive/MyDrive/audio_files/Dataset_2_Cleaned/36_ABSTEMIOUS/P4.wav\n",
            "Expected Word: ABSTEMIOUS\n",
            "Detected Word: \n",
            "Correct: 0\n",
            "\n"
          ]
        },
        {
          "output_type": "stream",
          "name": "stderr",
          "text": [
            "\rProcessing audio files:  36%|███▌      | 375/1050 [38:45<1:10:51,  6.30s/it]"
          ]
        },
        {
          "output_type": "stream",
          "name": "stdout",
          "text": [
            "File: /content/drive/MyDrive/audio_files/Dataset_2_Cleaned/36_ABSTEMIOUS/P5.wav\n",
            "Expected Word: ABSTEMIOUS\n",
            "Detected Word: ABSTEMIOUS\n",
            "Correct: 1\n",
            "\n"
          ]
        },
        {
          "output_type": "stream",
          "name": "stderr",
          "text": [
            "\rProcessing audio files:  36%|███▌      | 376/1050 [38:51<1:08:17,  6.08s/it]"
          ]
        },
        {
          "output_type": "stream",
          "name": "stdout",
          "text": [
            "File: /content/drive/MyDrive/audio_files/Dataset_2_Cleaned/36_ABSTEMIOUS/P6.wav\n",
            "Expected Word: ABSTEMIOUS\n",
            "Detected Word: ABSTEMIOUS\n",
            "Correct: 1\n",
            "\n"
          ]
        },
        {
          "output_type": "stream",
          "name": "stderr",
          "text": [
            "\rProcessing audio files:  36%|███▌      | 377/1050 [38:56<1:06:16,  5.91s/it]"
          ]
        },
        {
          "output_type": "stream",
          "name": "stdout",
          "text": [
            "File: /content/drive/MyDrive/audio_files/Dataset_2_Cleaned/36_ABSTEMIOUS/P7.wav\n",
            "Expected Word: ABSTEMIOUS\n",
            "Detected Word: A\n",
            "Correct: 0\n",
            "\n"
          ]
        },
        {
          "output_type": "stream",
          "name": "stderr",
          "text": [
            "\rProcessing audio files:  36%|███▌      | 378/1050 [39:02<1:05:30,  5.85s/it]"
          ]
        },
        {
          "output_type": "stream",
          "name": "stdout",
          "text": [
            "File: /content/drive/MyDrive/audio_files/Dataset_2_Cleaned/36_ABSTEMIOUS/P8.wav\n",
            "Expected Word: ABSTEMIOUS\n",
            "Detected Word: ABSTEMIOUS\n",
            "Correct: 1\n",
            "\n"
          ]
        },
        {
          "output_type": "stream",
          "name": "stderr",
          "text": [
            "\rProcessing audio files:  36%|███▌      | 379/1050 [39:07<1:03:05,  5.64s/it]"
          ]
        },
        {
          "output_type": "stream",
          "name": "stdout",
          "text": [
            "File: /content/drive/MyDrive/audio_files/Dataset_2_Cleaned/36_ABSTEMIOUS/P9.wav\n",
            "Expected Word: ABSTEMIOUS\n",
            "Detected Word: \n",
            "Correct: 0\n",
            "\n"
          ]
        },
        {
          "output_type": "stream",
          "name": "stderr",
          "text": [
            "\rProcessing audio files:  36%|███▌      | 380/1050 [39:12<1:02:22,  5.59s/it]"
          ]
        },
        {
          "output_type": "stream",
          "name": "stdout",
          "text": [
            "File: /content/drive/MyDrive/audio_files/Dataset_2_Cleaned/36_ABSTEMIOUS/P10.wav\n",
            "Expected Word: ABSTEMIOUS\n",
            "Detected Word: \n",
            "Correct: 0\n",
            "\n"
          ]
        },
        {
          "output_type": "stream",
          "name": "stderr",
          "text": [
            "\rProcessing audio files:  36%|███▋      | 381/1050 [39:18<1:01:51,  5.55s/it]"
          ]
        },
        {
          "output_type": "stream",
          "name": "stdout",
          "text": [
            "File: /content/drive/MyDrive/audio_files/Dataset_2_Cleaned/36_ABSTEMIOUS/P11.wav\n",
            "Expected Word: ABSTEMIOUS\n",
            "Detected Word: OF\n",
            "Correct: 0\n",
            "\n"
          ]
        },
        {
          "output_type": "stream",
          "name": "stderr",
          "text": [
            "\rProcessing audio files:  36%|███▋      | 382/1050 [39:24<1:02:00,  5.57s/it]"
          ]
        },
        {
          "output_type": "stream",
          "name": "stdout",
          "text": [
            "File: /content/drive/MyDrive/audio_files/Dataset_2_Cleaned/36_ABSTEMIOUS/P12.wav\n",
            "Expected Word: ABSTEMIOUS\n",
            "Detected Word: \n",
            "Correct: 0\n",
            "\n"
          ]
        },
        {
          "output_type": "stream",
          "name": "stderr",
          "text": [
            "\rProcessing audio files:  36%|███▋      | 383/1050 [39:29<1:00:40,  5.46s/it]"
          ]
        },
        {
          "output_type": "stream",
          "name": "stdout",
          "text": [
            "File: /content/drive/MyDrive/audio_files/Dataset_2_Cleaned/36_ABSTEMIOUS/P13.wav\n",
            "Expected Word: ABSTEMIOUS\n",
            "Detected Word: OF\n",
            "Correct: 0\n",
            "\n"
          ]
        },
        {
          "output_type": "stream",
          "name": "stderr",
          "text": [
            "\rProcessing audio files:  37%|███▋      | 384/1050 [39:34<1:00:43,  5.47s/it]"
          ]
        },
        {
          "output_type": "stream",
          "name": "stdout",
          "text": [
            "File: /content/drive/MyDrive/audio_files/Dataset_2_Cleaned/36_ABSTEMIOUS/P14.wav\n",
            "Expected Word: ABSTEMIOUS\n",
            "Detected Word: \n",
            "Correct: 0\n",
            "\n"
          ]
        },
        {
          "output_type": "stream",
          "name": "stderr",
          "text": [
            "\rProcessing audio files:  37%|███▋      | 385/1050 [39:40<1:00:44,  5.48s/it]"
          ]
        },
        {
          "output_type": "stream",
          "name": "stdout",
          "text": [
            "File: /content/drive/MyDrive/audio_files/Dataset_2_Cleaned/36_ABSTEMIOUS/P15.wav\n",
            "Expected Word: ABSTEMIOUS\n",
            "Detected Word: ABSTEMIOUS\n",
            "Correct: 1\n",
            "\n"
          ]
        },
        {
          "output_type": "stream",
          "name": "stderr",
          "text": [
            "\rProcessing audio files:  37%|███▋      | 386/1050 [39:45<1:00:57,  5.51s/it]"
          ]
        },
        {
          "output_type": "stream",
          "name": "stdout",
          "text": [
            "File: /content/drive/MyDrive/audio_files/Dataset_2_Cleaned/36_ABSTEMIOUS/P16.wav\n",
            "Expected Word: ABSTEMIOUS\n",
            "Detected Word: \n",
            "Correct: 0\n",
            "\n"
          ]
        },
        {
          "output_type": "stream",
          "name": "stderr",
          "text": [
            "\rProcessing audio files:  37%|███▋      | 387/1050 [39:51<1:00:49,  5.51s/it]"
          ]
        },
        {
          "output_type": "stream",
          "name": "stdout",
          "text": [
            "File: /content/drive/MyDrive/audio_files/Dataset_2_Cleaned/36_ABSTEMIOUS/P17.wav\n",
            "Expected Word: ABSTEMIOUS\n",
            "Detected Word: \n",
            "Correct: 0\n",
            "\n"
          ]
        },
        {
          "output_type": "stream",
          "name": "stderr",
          "text": [
            "\rProcessing audio files:  37%|███▋      | 388/1050 [39:57<1:01:29,  5.57s/it]"
          ]
        },
        {
          "output_type": "stream",
          "name": "stdout",
          "text": [
            "File: /content/drive/MyDrive/audio_files/Dataset_2_Cleaned/36_ABSTEMIOUS/P18.wav\n",
            "Expected Word: ABSTEMIOUS\n",
            "Detected Word: ABSTEMIOUS\n",
            "Correct: 1\n",
            "\n"
          ]
        },
        {
          "output_type": "stream",
          "name": "stderr",
          "text": [
            "\rProcessing audio files:  37%|███▋      | 389/1050 [40:02<1:01:18,  5.56s/it]"
          ]
        },
        {
          "output_type": "stream",
          "name": "stdout",
          "text": [
            "File: /content/drive/MyDrive/audio_files/Dataset_2_Cleaned/36_ABSTEMIOUS/P19.wav\n",
            "Expected Word: ABSTEMIOUS\n",
            "Detected Word: ABSTEMIOUS\n",
            "Correct: 1\n",
            "\n"
          ]
        },
        {
          "output_type": "stream",
          "name": "stderr",
          "text": [
            "\rProcessing audio files:  37%|███▋      | 390/1050 [40:07<1:00:35,  5.51s/it]"
          ]
        },
        {
          "output_type": "stream",
          "name": "stdout",
          "text": [
            "File: /content/drive/MyDrive/audio_files/Dataset_2_Cleaned/36_ABSTEMIOUS/P20.wav\n",
            "Expected Word: ABSTEMIOUS\n",
            "Detected Word: \n",
            "Correct: 0\n",
            "\n"
          ]
        },
        {
          "output_type": "stream",
          "name": "stderr",
          "text": [
            "\rProcessing audio files:  37%|███▋      | 391/1050 [40:13<1:00:27,  5.51s/it]"
          ]
        },
        {
          "output_type": "stream",
          "name": "stdout",
          "text": [
            "File: /content/drive/MyDrive/audio_files/Dataset_2_Cleaned/13_EQUIVOCAL/P1.wav\n",
            "Expected Word: EQUIVOCAL\n",
            "Detected Word: \n",
            "Correct: 0\n",
            "\n"
          ]
        },
        {
          "output_type": "stream",
          "name": "stderr",
          "text": [
            "\rProcessing audio files:  37%|███▋      | 392/1050 [40:18<58:48,  5.36s/it]  "
          ]
        },
        {
          "output_type": "stream",
          "name": "stdout",
          "text": [
            "File: /content/drive/MyDrive/audio_files/Dataset_2_Cleaned/13_EQUIVOCAL/P2.wav\n",
            "Expected Word: EQUIVOCAL\n",
            "Detected Word: EQUIVOCAL\n",
            "Correct: 1\n",
            "\n"
          ]
        },
        {
          "output_type": "stream",
          "name": "stderr",
          "text": [
            "\rProcessing audio files:  37%|███▋      | 393/1050 [40:23<59:02,  5.39s/it]"
          ]
        },
        {
          "output_type": "stream",
          "name": "stdout",
          "text": [
            "File: /content/drive/MyDrive/audio_files/Dataset_2_Cleaned/13_EQUIVOCAL/P3.wav\n",
            "Expected Word: EQUIVOCAL\n",
            "Detected Word: \n",
            "Correct: 0\n",
            "\n"
          ]
        },
        {
          "output_type": "stream",
          "name": "stderr",
          "text": [
            "\rProcessing audio files:  38%|███▊      | 394/1050 [40:29<59:34,  5.45s/it]"
          ]
        },
        {
          "output_type": "stream",
          "name": "stdout",
          "text": [
            "File: /content/drive/MyDrive/audio_files/Dataset_2_Cleaned/13_EQUIVOCAL/P4.wav\n",
            "Expected Word: EQUIVOCAL\n",
            "Detected Word: EQUIVOCAL\n",
            "Correct: 1\n",
            "\n"
          ]
        },
        {
          "output_type": "stream",
          "name": "stderr",
          "text": [
            "\rProcessing audio files:  38%|███▊      | 395/1050 [40:34<59:19,  5.43s/it]"
          ]
        },
        {
          "output_type": "stream",
          "name": "stdout",
          "text": [
            "File: /content/drive/MyDrive/audio_files/Dataset_2_Cleaned/13_EQUIVOCAL/P5.wav\n",
            "Expected Word: EQUIVOCAL\n",
            "Detected Word: EQUIVOCAL\n",
            "Correct: 1\n",
            "\n"
          ]
        },
        {
          "output_type": "stream",
          "name": "stderr",
          "text": [
            "\rProcessing audio files:  38%|███▊      | 396/1050 [40:40<59:35,  5.47s/it]"
          ]
        },
        {
          "output_type": "stream",
          "name": "stdout",
          "text": [
            "File: /content/drive/MyDrive/audio_files/Dataset_2_Cleaned/13_EQUIVOCAL/P6.wav\n",
            "Expected Word: EQUIVOCAL\n",
            "Detected Word: \n",
            "Correct: 0\n",
            "\n"
          ]
        },
        {
          "output_type": "stream",
          "name": "stderr",
          "text": [
            "\rProcessing audio files:  38%|███▊      | 397/1050 [40:45<59:18,  5.45s/it]"
          ]
        },
        {
          "output_type": "stream",
          "name": "stdout",
          "text": [
            "File: /content/drive/MyDrive/audio_files/Dataset_2_Cleaned/13_EQUIVOCAL/P7.wav\n",
            "Expected Word: EQUIVOCAL\n",
            "Detected Word: EQUIVOCAL\n",
            "Correct: 1\n",
            "\n"
          ]
        },
        {
          "output_type": "stream",
          "name": "stderr",
          "text": [
            "\rProcessing audio files:  38%|███▊      | 398/1050 [40:51<58:50,  5.41s/it]"
          ]
        },
        {
          "output_type": "stream",
          "name": "stdout",
          "text": [
            "File: /content/drive/MyDrive/audio_files/Dataset_2_Cleaned/13_EQUIVOCAL/P8.wav\n",
            "Expected Word: EQUIVOCAL\n",
            "Detected Word: EQUIVOCAL\n",
            "Correct: 1\n",
            "\n"
          ]
        },
        {
          "output_type": "stream",
          "name": "stderr",
          "text": [
            "\rProcessing audio files:  38%|███▊      | 399/1050 [40:56<58:10,  5.36s/it]"
          ]
        },
        {
          "output_type": "stream",
          "name": "stdout",
          "text": [
            "File: /content/drive/MyDrive/audio_files/Dataset_2_Cleaned/13_EQUIVOCAL/P9.wav\n",
            "Expected Word: EQUIVOCAL\n",
            "Detected Word: EQUIVOCAL\n",
            "Correct: 1\n",
            "\n"
          ]
        },
        {
          "output_type": "stream",
          "name": "stderr",
          "text": [
            "\rProcessing audio files:  38%|███▊      | 400/1050 [41:01<58:14,  5.38s/it]"
          ]
        },
        {
          "output_type": "stream",
          "name": "stdout",
          "text": [
            "File: /content/drive/MyDrive/audio_files/Dataset_2_Cleaned/13_EQUIVOCAL/P10.wav\n",
            "Expected Word: EQUIVOCAL\n",
            "Detected Word: EQUIVOCAL\n",
            "Correct: 1\n",
            "\n"
          ]
        },
        {
          "output_type": "stream",
          "name": "stderr",
          "text": [
            "\rProcessing audio files:  38%|███▊      | 401/1050 [41:07<58:24,  5.40s/it]"
          ]
        },
        {
          "output_type": "stream",
          "name": "stdout",
          "text": [
            "File: /content/drive/MyDrive/audio_files/Dataset_2_Cleaned/13_EQUIVOCAL/P11.wav\n",
            "Expected Word: EQUIVOCAL\n",
            "Detected Word: EQUIVOCAL\n",
            "Correct: 1\n",
            "\n"
          ]
        },
        {
          "output_type": "stream",
          "name": "stderr",
          "text": [
            "\rProcessing audio files:  38%|███▊      | 402/1050 [41:12<58:13,  5.39s/it]"
          ]
        },
        {
          "output_type": "stream",
          "name": "stdout",
          "text": [
            "File: /content/drive/MyDrive/audio_files/Dataset_2_Cleaned/13_EQUIVOCAL/P12.wav\n",
            "Expected Word: EQUIVOCAL\n",
            "Detected Word: EQUIVOCAL\n",
            "Correct: 1\n",
            "\n"
          ]
        },
        {
          "output_type": "stream",
          "name": "stderr",
          "text": [
            "\rProcessing audio files:  38%|███▊      | 403/1050 [41:18<58:15,  5.40s/it]"
          ]
        },
        {
          "output_type": "stream",
          "name": "stdout",
          "text": [
            "File: /content/drive/MyDrive/audio_files/Dataset_2_Cleaned/13_EQUIVOCAL/P13.wav\n",
            "Expected Word: EQUIVOCAL\n",
            "Detected Word: \n",
            "Correct: 0\n",
            "\n"
          ]
        },
        {
          "output_type": "stream",
          "name": "stderr",
          "text": [
            "\rProcessing audio files:  38%|███▊      | 404/1050 [41:23<58:24,  5.43s/it]"
          ]
        },
        {
          "output_type": "stream",
          "name": "stdout",
          "text": [
            "File: /content/drive/MyDrive/audio_files/Dataset_2_Cleaned/13_EQUIVOCAL/P14.wav\n",
            "Expected Word: EQUIVOCAL\n",
            "Detected Word: EQUIVOCAL\n",
            "Correct: 1\n",
            "\n"
          ]
        },
        {
          "output_type": "stream",
          "name": "stderr",
          "text": [
            "\rProcessing audio files:  39%|███▊      | 405/1050 [41:29<58:57,  5.48s/it]"
          ]
        },
        {
          "output_type": "stream",
          "name": "stdout",
          "text": [
            "File: /content/drive/MyDrive/audio_files/Dataset_2_Cleaned/13_EQUIVOCAL/P15.wav\n",
            "Expected Word: EQUIVOCAL\n",
            "Detected Word: EQUIVOCAL\n",
            "Correct: 1\n",
            "\n"
          ]
        },
        {
          "output_type": "stream",
          "name": "stderr",
          "text": [
            "\rProcessing audio files:  39%|███▊      | 406/1050 [41:34<58:25,  5.44s/it]"
          ]
        },
        {
          "output_type": "stream",
          "name": "stdout",
          "text": [
            "File: /content/drive/MyDrive/audio_files/Dataset_2_Cleaned/13_EQUIVOCAL/P16.wav\n",
            "Expected Word: EQUIVOCAL\n",
            "Detected Word: EQUIVOCAL\n",
            "Correct: 1\n",
            "\n"
          ]
        },
        {
          "output_type": "stream",
          "name": "stderr",
          "text": [
            "\rProcessing audio files:  39%|███▉      | 407/1050 [41:39<58:11,  5.43s/it]"
          ]
        },
        {
          "output_type": "stream",
          "name": "stdout",
          "text": [
            "File: /content/drive/MyDrive/audio_files/Dataset_2_Cleaned/13_EQUIVOCAL/P17.wav\n",
            "Expected Word: EQUIVOCAL\n",
            "Detected Word: EQUIPMENT\n",
            "Correct: 0\n",
            "\n"
          ]
        },
        {
          "output_type": "stream",
          "name": "stderr",
          "text": [
            "\rProcessing audio files:  39%|███▉      | 408/1050 [41:45<59:35,  5.57s/it]"
          ]
        },
        {
          "output_type": "stream",
          "name": "stdout",
          "text": [
            "File: /content/drive/MyDrive/audio_files/Dataset_2_Cleaned/13_EQUIVOCAL/P18.wav\n",
            "Expected Word: EQUIVOCAL\n",
            "Detected Word: EQUIVOCAL\n",
            "Correct: 1\n",
            "\n"
          ]
        },
        {
          "output_type": "stream",
          "name": "stderr",
          "text": [
            "\rProcessing audio files:  39%|███▉      | 409/1050 [41:51<59:17,  5.55s/it]"
          ]
        },
        {
          "output_type": "stream",
          "name": "stdout",
          "text": [
            "File: /content/drive/MyDrive/audio_files/Dataset_2_Cleaned/13_EQUIVOCAL/P19.wav\n",
            "Expected Word: EQUIVOCAL\n",
            "Detected Word: \n",
            "Correct: 0\n",
            "\n"
          ]
        },
        {
          "output_type": "stream",
          "name": "stderr",
          "text": [
            "\rProcessing audio files:  39%|███▉      | 410/1050 [41:56<58:21,  5.47s/it]"
          ]
        },
        {
          "output_type": "stream",
          "name": "stdout",
          "text": [
            "File: /content/drive/MyDrive/audio_files/Dataset_2_Cleaned/13_EQUIVOCAL/P20.wav\n",
            "Expected Word: EQUIVOCAL\n",
            "Detected Word: EQUIVOCAL\n",
            "Correct: 1\n",
            "\n"
          ]
        },
        {
          "output_type": "stream",
          "name": "stderr",
          "text": [
            "\rProcessing audio files:  39%|███▉      | 411/1050 [42:01<57:40,  5.42s/it]"
          ]
        },
        {
          "output_type": "stream",
          "name": "stdout",
          "text": [
            "File: /content/drive/MyDrive/audio_files/Dataset_2_Cleaned/14_NAIVE/P1.wav\n",
            "Expected Word: NAIVE\n",
            "Detected Word: NAIVE\n",
            "Correct: 1\n",
            "\n"
          ]
        },
        {
          "output_type": "stream",
          "name": "stderr",
          "text": [
            "\rProcessing audio files:  39%|███▉      | 412/1050 [42:06<55:54,  5.26s/it]"
          ]
        },
        {
          "output_type": "stream",
          "name": "stdout",
          "text": [
            "File: /content/drive/MyDrive/audio_files/Dataset_2_Cleaned/14_NAIVE/P2.wav\n",
            "Expected Word: NAIVE\n",
            "Detected Word: NAIVE\n",
            "Correct: 1\n",
            "\n"
          ]
        },
        {
          "output_type": "stream",
          "name": "stderr",
          "text": [
            "\rProcessing audio files:  39%|███▉      | 413/1050 [42:12<55:44,  5.25s/it]"
          ]
        },
        {
          "output_type": "stream",
          "name": "stdout",
          "text": [
            "File: /content/drive/MyDrive/audio_files/Dataset_2_Cleaned/14_NAIVE/P3.wav\n",
            "Expected Word: NAIVE\n",
            "Detected Word: NAVY\n",
            "Correct: 0\n",
            "\n"
          ]
        },
        {
          "output_type": "stream",
          "name": "stderr",
          "text": [
            "\rProcessing audio files:  39%|███▉      | 414/1050 [42:17<55:43,  5.26s/it]"
          ]
        },
        {
          "output_type": "stream",
          "name": "stdout",
          "text": [
            "File: /content/drive/MyDrive/audio_files/Dataset_2_Cleaned/14_NAIVE/P4.wav\n",
            "Expected Word: NAIVE\n",
            "Detected Word: NAIVE\n",
            "Correct: 1\n",
            "\n"
          ]
        },
        {
          "output_type": "stream",
          "name": "stderr",
          "text": [
            "\rProcessing audio files:  40%|███▉      | 415/1050 [42:22<55:28,  5.24s/it]"
          ]
        },
        {
          "output_type": "stream",
          "name": "stdout",
          "text": [
            "File: /content/drive/MyDrive/audio_files/Dataset_2_Cleaned/14_NAIVE/P5.wav\n",
            "Expected Word: NAIVE\n",
            "Detected Word: BYE\n",
            "Correct: 0\n",
            "\n"
          ]
        },
        {
          "output_type": "stream",
          "name": "stderr",
          "text": [
            "\rProcessing audio files:  40%|███▉      | 416/1050 [42:27<55:12,  5.23s/it]"
          ]
        },
        {
          "output_type": "stream",
          "name": "stdout",
          "text": [
            "File: /content/drive/MyDrive/audio_files/Dataset_2_Cleaned/14_NAIVE/P6.wav\n",
            "Expected Word: NAIVE\n",
            "Detected Word: NAIVE\n",
            "Correct: 1\n",
            "\n"
          ]
        },
        {
          "output_type": "stream",
          "name": "stderr",
          "text": [
            "\rProcessing audio files:  40%|███▉      | 417/1050 [42:33<55:44,  5.28s/it]"
          ]
        },
        {
          "output_type": "stream",
          "name": "stdout",
          "text": [
            "File: /content/drive/MyDrive/audio_files/Dataset_2_Cleaned/14_NAIVE/P7.wav\n",
            "Expected Word: NAIVE\n",
            "Detected Word: \n",
            "Correct: 0\n",
            "\n"
          ]
        },
        {
          "output_type": "stream",
          "name": "stderr",
          "text": [
            "\rProcessing audio files:  40%|███▉      | 418/1050 [42:38<55:22,  5.26s/it]"
          ]
        },
        {
          "output_type": "stream",
          "name": "stdout",
          "text": [
            "File: /content/drive/MyDrive/audio_files/Dataset_2_Cleaned/14_NAIVE/P8.wav\n",
            "Expected Word: NAIVE\n",
            "Detected Word: \n",
            "Correct: 0\n",
            "\n"
          ]
        },
        {
          "output_type": "stream",
          "name": "stderr",
          "text": [
            "\rProcessing audio files:  40%|███▉      | 419/1050 [42:43<56:06,  5.34s/it]"
          ]
        },
        {
          "output_type": "stream",
          "name": "stdout",
          "text": [
            "File: /content/drive/MyDrive/audio_files/Dataset_2_Cleaned/14_NAIVE/P9.wav\n",
            "Expected Word: NAIVE\n",
            "Detected Word: NAIVE\n",
            "Correct: 1\n",
            "\n"
          ]
        },
        {
          "output_type": "stream",
          "name": "stderr",
          "text": [
            "\rProcessing audio files:  40%|████      | 420/1050 [42:49<56:04,  5.34s/it]"
          ]
        },
        {
          "output_type": "stream",
          "name": "stdout",
          "text": [
            "File: /content/drive/MyDrive/audio_files/Dataset_2_Cleaned/14_NAIVE/P10.wav\n",
            "Expected Word: NAIVE\n",
            "Detected Word: NAIVE\n",
            "Correct: 1\n",
            "\n"
          ]
        },
        {
          "output_type": "stream",
          "name": "stderr",
          "text": [
            "\rProcessing audio files:  40%|████      | 421/1050 [42:54<55:36,  5.30s/it]"
          ]
        },
        {
          "output_type": "stream",
          "name": "stdout",
          "text": [
            "File: /content/drive/MyDrive/audio_files/Dataset_2_Cleaned/14_NAIVE/P11.wav\n",
            "Expected Word: NAIVE\n",
            "Detected Word: \n",
            "Correct: 0\n",
            "\n"
          ]
        },
        {
          "output_type": "stream",
          "name": "stderr",
          "text": [
            "\rProcessing audio files:  40%|████      | 422/1050 [42:59<56:13,  5.37s/it]"
          ]
        },
        {
          "output_type": "stream",
          "name": "stdout",
          "text": [
            "File: /content/drive/MyDrive/audio_files/Dataset_2_Cleaned/14_NAIVE/P12.wav\n",
            "Expected Word: NAIVE\n",
            "Detected Word: NAIVE\n",
            "Correct: 1\n",
            "\n"
          ]
        },
        {
          "output_type": "stream",
          "name": "stderr",
          "text": [
            "\rProcessing audio files:  40%|████      | 423/1050 [43:05<55:55,  5.35s/it]"
          ]
        },
        {
          "output_type": "stream",
          "name": "stdout",
          "text": [
            "File: /content/drive/MyDrive/audio_files/Dataset_2_Cleaned/14_NAIVE/P13.wav\n",
            "Expected Word: NAIVE\n",
            "Detected Word: NAIVE\n",
            "Correct: 1\n",
            "\n"
          ]
        },
        {
          "output_type": "stream",
          "name": "stderr",
          "text": [
            "\rProcessing audio files:  40%|████      | 424/1050 [43:10<56:13,  5.39s/it]"
          ]
        },
        {
          "output_type": "stream",
          "name": "stdout",
          "text": [
            "File: /content/drive/MyDrive/audio_files/Dataset_2_Cleaned/14_NAIVE/P14.wav\n",
            "Expected Word: NAIVE\n",
            "Detected Word: NAIVE\n",
            "Correct: 1\n",
            "\n"
          ]
        },
        {
          "output_type": "stream",
          "name": "stderr",
          "text": [
            "\rProcessing audio files:  40%|████      | 425/1050 [43:16<55:57,  5.37s/it]"
          ]
        },
        {
          "output_type": "stream",
          "name": "stdout",
          "text": [
            "File: /content/drive/MyDrive/audio_files/Dataset_2_Cleaned/14_NAIVE/P15.wav\n",
            "Expected Word: NAIVE\n",
            "Detected Word: NAIVE\n",
            "Correct: 1\n",
            "\n"
          ]
        },
        {
          "output_type": "stream",
          "name": "stderr",
          "text": [
            "\rProcessing audio files:  41%|████      | 426/1050 [43:21<55:55,  5.38s/it]"
          ]
        },
        {
          "output_type": "stream",
          "name": "stdout",
          "text": [
            "File: /content/drive/MyDrive/audio_files/Dataset_2_Cleaned/14_NAIVE/P16.wav\n",
            "Expected Word: NAIVE\n",
            "Detected Word: \n",
            "Correct: 0\n",
            "\n"
          ]
        },
        {
          "output_type": "stream",
          "name": "stderr",
          "text": [
            "\rProcessing audio files:  41%|████      | 427/1050 [43:26<56:02,  5.40s/it]"
          ]
        },
        {
          "output_type": "stream",
          "name": "stdout",
          "text": [
            "File: /content/drive/MyDrive/audio_files/Dataset_2_Cleaned/14_NAIVE/P17.wav\n",
            "Expected Word: NAIVE\n",
            "Detected Word: \n",
            "Correct: 0\n",
            "\n"
          ]
        },
        {
          "output_type": "stream",
          "name": "stderr",
          "text": [
            "\rProcessing audio files:  41%|████      | 428/1050 [43:32<56:53,  5.49s/it]"
          ]
        },
        {
          "output_type": "stream",
          "name": "stdout",
          "text": [
            "File: /content/drive/MyDrive/audio_files/Dataset_2_Cleaned/14_NAIVE/P18.wav\n",
            "Expected Word: NAIVE\n",
            "Detected Word: NAIVE\n",
            "Correct: 1\n",
            "\n"
          ]
        },
        {
          "output_type": "stream",
          "name": "stderr",
          "text": [
            "\rProcessing audio files:  41%|████      | 429/1050 [43:37<56:25,  5.45s/it]"
          ]
        },
        {
          "output_type": "stream",
          "name": "stdout",
          "text": [
            "File: /content/drive/MyDrive/audio_files/Dataset_2_Cleaned/14_NAIVE/P19.wav\n",
            "Expected Word: NAIVE\n",
            "Detected Word: NAIVE\n",
            "Correct: 1\n",
            "\n"
          ]
        },
        {
          "output_type": "stream",
          "name": "stderr",
          "text": [
            "\rProcessing audio files:  41%|████      | 430/1050 [43:43<55:54,  5.41s/it]"
          ]
        },
        {
          "output_type": "stream",
          "name": "stdout",
          "text": [
            "File: /content/drive/MyDrive/audio_files/Dataset_2_Cleaned/14_NAIVE/P20.wav\n",
            "Expected Word: NAIVE\n",
            "Detected Word: \n",
            "Correct: 0\n",
            "\n"
          ]
        },
        {
          "output_type": "stream",
          "name": "stderr",
          "text": [
            "\rProcessing audio files:  41%|████      | 431/1050 [43:48<54:55,  5.32s/it]"
          ]
        },
        {
          "output_type": "stream",
          "name": "stdout",
          "text": [
            "File: /content/drive/MyDrive/audio_files/Dataset_2_Cleaned/48_SYNCOPE/P1.wav\n",
            "Expected Word: SYNCOPE\n",
            "Detected Word: \n",
            "Correct: 0\n",
            "\n"
          ]
        },
        {
          "output_type": "stream",
          "name": "stderr",
          "text": [
            "\rProcessing audio files:  41%|████      | 432/1050 [43:53<54:42,  5.31s/it]"
          ]
        },
        {
          "output_type": "stream",
          "name": "stdout",
          "text": [
            "File: /content/drive/MyDrive/audio_files/Dataset_2_Cleaned/48_SYNCOPE/P2.wav\n",
            "Expected Word: SYNCOPE\n",
            "Detected Word: SYNCOPE\n",
            "Correct: 1\n",
            "\n"
          ]
        },
        {
          "output_type": "stream",
          "name": "stderr",
          "text": [
            "\rProcessing audio files:  41%|████      | 433/1050 [43:58<54:13,  5.27s/it]"
          ]
        },
        {
          "output_type": "stream",
          "name": "stdout",
          "text": [
            "File: /content/drive/MyDrive/audio_files/Dataset_2_Cleaned/48_SYNCOPE/P3.wav\n",
            "Expected Word: SYNCOPE\n",
            "Detected Word: \n",
            "Correct: 0\n",
            "\n"
          ]
        },
        {
          "output_type": "stream",
          "name": "stderr",
          "text": [
            "\rProcessing audio files:  41%|████▏     | 434/1050 [44:04<54:27,  5.31s/it]"
          ]
        },
        {
          "output_type": "stream",
          "name": "stdout",
          "text": [
            "File: /content/drive/MyDrive/audio_files/Dataset_2_Cleaned/48_SYNCOPE/P4.wav\n",
            "Expected Word: SYNCOPE\n",
            "Detected Word: \n",
            "Correct: 0\n",
            "\n"
          ]
        },
        {
          "output_type": "stream",
          "name": "stderr",
          "text": [
            "\rProcessing audio files:  41%|████▏     | 435/1050 [44:12<1:04:30,  6.29s/it]"
          ]
        },
        {
          "output_type": "stream",
          "name": "stdout",
          "text": [
            "File: /content/drive/MyDrive/audio_files/Dataset_2_Cleaned/48_SYNCOPE/P5.wav\n",
            "Expected Word: SYNCOPE\n",
            "Detected Word: \n",
            "Correct: 0\n",
            "\n"
          ]
        },
        {
          "output_type": "stream",
          "name": "stderr",
          "text": [
            "\rProcessing audio files:  42%|████▏     | 436/1050 [44:18<1:01:09,  5.98s/it]"
          ]
        },
        {
          "output_type": "stream",
          "name": "stdout",
          "text": [
            "File: /content/drive/MyDrive/audio_files/Dataset_2_Cleaned/48_SYNCOPE/P6.wav\n",
            "Expected Word: SYNCOPE\n",
            "Detected Word: \n",
            "Correct: 0\n",
            "\n"
          ]
        },
        {
          "output_type": "stream",
          "name": "stderr",
          "text": [
            "\rProcessing audio files:  42%|████▏     | 437/1050 [44:23<59:22,  5.81s/it]  "
          ]
        },
        {
          "output_type": "stream",
          "name": "stdout",
          "text": [
            "File: /content/drive/MyDrive/audio_files/Dataset_2_Cleaned/48_SYNCOPE/P7.wav\n",
            "Expected Word: SYNCOPE\n",
            "Detected Word: \n",
            "Correct: 0\n",
            "\n"
          ]
        },
        {
          "output_type": "stream",
          "name": "stderr",
          "text": [
            "\rProcessing audio files:  42%|████▏     | 438/1050 [44:28<58:04,  5.69s/it]"
          ]
        },
        {
          "output_type": "stream",
          "name": "stdout",
          "text": [
            "File: /content/drive/MyDrive/audio_files/Dataset_2_Cleaned/48_SYNCOPE/P8.wav\n",
            "Expected Word: SYNCOPE\n",
            "Detected Word: SING\n",
            "Correct: 0\n",
            "\n"
          ]
        },
        {
          "output_type": "stream",
          "name": "stderr",
          "text": [
            "\rProcessing audio files:  42%|████▏     | 439/1050 [44:34<56:15,  5.52s/it]"
          ]
        },
        {
          "output_type": "stream",
          "name": "stdout",
          "text": [
            "File: /content/drive/MyDrive/audio_files/Dataset_2_Cleaned/48_SYNCOPE/P9.wav\n",
            "Expected Word: SYNCOPE\n",
            "Detected Word: \n",
            "Correct: 0\n",
            "\n"
          ]
        },
        {
          "output_type": "stream",
          "name": "stderr",
          "text": [
            "\rProcessing audio files:  42%|████▏     | 440/1050 [44:42<1:05:00,  6.39s/it]"
          ]
        },
        {
          "output_type": "stream",
          "name": "stdout",
          "text": [
            "File: /content/drive/MyDrive/audio_files/Dataset_2_Cleaned/48_SYNCOPE/P10.wav\n",
            "Expected Word: SYNCOPE\n",
            "Detected Word: SO\n",
            "Correct: 0\n",
            "\n"
          ]
        },
        {
          "output_type": "stream",
          "name": "stderr",
          "text": [
            "\rProcessing audio files:  42%|████▏     | 441/1050 [44:47<1:01:44,  6.08s/it]"
          ]
        },
        {
          "output_type": "stream",
          "name": "stdout",
          "text": [
            "File: /content/drive/MyDrive/audio_files/Dataset_2_Cleaned/48_SYNCOPE/P11.wav\n",
            "Expected Word: SYNCOPE\n",
            "Detected Word: SYNCOPE\n",
            "Correct: 1\n",
            "\n"
          ]
        },
        {
          "output_type": "stream",
          "name": "stderr",
          "text": [
            "\rProcessing audio files:  42%|████▏     | 442/1050 [44:53<59:27,  5.87s/it]  "
          ]
        },
        {
          "output_type": "stream",
          "name": "stdout",
          "text": [
            "File: /content/drive/MyDrive/audio_files/Dataset_2_Cleaned/48_SYNCOPE/P12.wav\n",
            "Expected Word: SYNCOPE\n",
            "Detected Word: \n",
            "Correct: 0\n",
            "\n"
          ]
        },
        {
          "output_type": "stream",
          "name": "stderr",
          "text": [
            "\rProcessing audio files:  42%|████▏     | 443/1050 [45:01<1:07:19,  6.65s/it]"
          ]
        },
        {
          "output_type": "stream",
          "name": "stdout",
          "text": [
            "File: /content/drive/MyDrive/audio_files/Dataset_2_Cleaned/48_SYNCOPE/P13.wav\n",
            "Expected Word: SYNCOPE\n",
            "Detected Word: \n",
            "Correct: 0\n",
            "\n"
          ]
        },
        {
          "output_type": "stream",
          "name": "stderr",
          "text": [
            "\rProcessing audio files:  42%|████▏     | 444/1050 [45:10<1:12:50,  7.21s/it]"
          ]
        },
        {
          "output_type": "stream",
          "name": "stdout",
          "text": [
            "File: /content/drive/MyDrive/audio_files/Dataset_2_Cleaned/48_SYNCOPE/P14.wav\n",
            "Expected Word: SYNCOPE\n",
            "Detected Word: \n",
            "Correct: 0\n",
            "\n"
          ]
        },
        {
          "output_type": "stream",
          "name": "stderr",
          "text": [
            "\rProcessing audio files:  42%|████▏     | 445/1050 [45:15<1:07:32,  6.70s/it]"
          ]
        },
        {
          "output_type": "stream",
          "name": "stdout",
          "text": [
            "File: /content/drive/MyDrive/audio_files/Dataset_2_Cleaned/48_SYNCOPE/P15.wav\n",
            "Expected Word: SYNCOPE\n",
            "Detected Word: \n",
            "Correct: 0\n",
            "\n"
          ]
        },
        {
          "output_type": "stream",
          "name": "stderr",
          "text": [
            "\rProcessing audio files:  42%|████▏     | 446/1050 [45:21<1:03:24,  6.30s/it]"
          ]
        },
        {
          "output_type": "stream",
          "name": "stdout",
          "text": [
            "File: /content/drive/MyDrive/audio_files/Dataset_2_Cleaned/48_SYNCOPE/P16.wav\n",
            "Expected Word: SYNCOPE\n",
            "Detected Word: SYNC\n",
            "Correct: 0\n",
            "\n"
          ]
        },
        {
          "output_type": "stream",
          "name": "stderr",
          "text": [
            "\rProcessing audio files:  43%|████▎     | 447/1050 [45:26<1:00:21,  6.01s/it]"
          ]
        },
        {
          "output_type": "stream",
          "name": "stdout",
          "text": [
            "File: /content/drive/MyDrive/audio_files/Dataset_2_Cleaned/48_SYNCOPE/P17.wav\n",
            "Expected Word: SYNCOPE\n",
            "Detected Word: \n",
            "Correct: 0\n",
            "\n"
          ]
        },
        {
          "output_type": "stream",
          "name": "stderr",
          "text": [
            "\rProcessing audio files:  43%|████▎     | 448/1050 [45:34<1:07:50,  6.76s/it]"
          ]
        },
        {
          "output_type": "stream",
          "name": "stdout",
          "text": [
            "File: /content/drive/MyDrive/audio_files/Dataset_2_Cleaned/48_SYNCOPE/P18.wav\n",
            "Expected Word: SYNCOPE\n",
            "Detected Word: \n",
            "Correct: 0\n",
            "\n"
          ]
        },
        {
          "output_type": "stream",
          "name": "stderr",
          "text": [
            "\rProcessing audio files:  43%|████▎     | 449/1050 [45:40<1:03:33,  6.35s/it]"
          ]
        },
        {
          "output_type": "stream",
          "name": "stdout",
          "text": [
            "File: /content/drive/MyDrive/audio_files/Dataset_2_Cleaned/48_SYNCOPE/P19.wav\n",
            "Expected Word: SYNCOPE\n",
            "Detected Word: SYNC\n",
            "Correct: 0\n",
            "\n"
          ]
        },
        {
          "output_type": "stream",
          "name": "stderr",
          "text": [
            "\rProcessing audio files:  43%|████▎     | 450/1050 [45:45<1:00:16,  6.03s/it]"
          ]
        },
        {
          "output_type": "stream",
          "name": "stdout",
          "text": [
            "File: /content/drive/MyDrive/audio_files/Dataset_2_Cleaned/48_SYNCOPE/P20.wav\n",
            "Expected Word: SYNCOPE\n",
            "Detected Word: SYNC\n",
            "Correct: 0\n",
            "\n"
          ]
        },
        {
          "output_type": "stream",
          "name": "stderr",
          "text": [
            "\rProcessing audio files:  43%|████▎     | 451/1050 [45:50<57:40,  5.78s/it]  "
          ]
        },
        {
          "output_type": "stream",
          "name": "stdout",
          "text": [
            "File: /content/drive/MyDrive/audio_files/Dataset_2_Cleaned/31_FACADE/P1.wav\n",
            "Expected Word: FACADE\n",
            "Detected Word: FACADE\n",
            "Correct: 1\n",
            "\n"
          ]
        },
        {
          "output_type": "stream",
          "name": "stderr",
          "text": [
            "\rProcessing audio files:  43%|████▎     | 452/1050 [45:59<1:05:36,  6.58s/it]"
          ]
        },
        {
          "output_type": "stream",
          "name": "stdout",
          "text": [
            "File: /content/drive/MyDrive/audio_files/Dataset_2_Cleaned/31_FACADE/P2.wav\n",
            "Expected Word: FACADE\n",
            "Detected Word: \n",
            "Correct: 0\n",
            "\n"
          ]
        },
        {
          "output_type": "stream",
          "name": "stderr",
          "text": [
            "\rProcessing audio files:  43%|████▎     | 453/1050 [46:07<1:11:25,  7.18s/it]"
          ]
        },
        {
          "output_type": "stream",
          "name": "stdout",
          "text": [
            "File: /content/drive/MyDrive/audio_files/Dataset_2_Cleaned/31_FACADE/P3.wav\n",
            "Expected Word: FACADE\n",
            "Detected Word: FACADE\n",
            "Correct: 1\n",
            "\n"
          ]
        },
        {
          "output_type": "stream",
          "name": "stderr",
          "text": [
            "\rProcessing audio files:  43%|████▎     | 454/1050 [46:16<1:16:25,  7.69s/it]"
          ]
        },
        {
          "output_type": "stream",
          "name": "stdout",
          "text": [
            "File: /content/drive/MyDrive/audio_files/Dataset_2_Cleaned/31_FACADE/P4.wav\n",
            "Expected Word: FACADE\n",
            "Detected Word: FACADE\n",
            "Correct: 1\n",
            "\n"
          ]
        },
        {
          "output_type": "stream",
          "name": "stderr",
          "text": [
            "\rProcessing audio files:  43%|████▎     | 455/1050 [46:22<1:09:24,  7.00s/it]"
          ]
        },
        {
          "output_type": "stream",
          "name": "stdout",
          "text": [
            "File: /content/drive/MyDrive/audio_files/Dataset_2_Cleaned/31_FACADE/P5.wav\n",
            "Expected Word: FACADE\n",
            "Detected Word: FACADE\n",
            "Correct: 1\n",
            "\n"
          ]
        },
        {
          "output_type": "stream",
          "name": "stderr",
          "text": [
            "\rProcessing audio files:  43%|████▎     | 456/1050 [46:27<1:03:56,  6.46s/it]"
          ]
        },
        {
          "output_type": "stream",
          "name": "stdout",
          "text": [
            "File: /content/drive/MyDrive/audio_files/Dataset_2_Cleaned/31_FACADE/P6.wav\n",
            "Expected Word: FACADE\n",
            "Detected Word: \n",
            "Correct: 0\n",
            "\n"
          ]
        },
        {
          "output_type": "stream",
          "name": "stderr",
          "text": [
            "\rProcessing audio files:  44%|████▎     | 457/1050 [46:35<1:10:22,  7.12s/it]"
          ]
        },
        {
          "output_type": "stream",
          "name": "stdout",
          "text": [
            "File: /content/drive/MyDrive/audio_files/Dataset_2_Cleaned/31_FACADE/P7.wav\n",
            "Expected Word: FACADE\n",
            "Detected Word: FACADE\n",
            "Correct: 1\n",
            "\n"
          ]
        },
        {
          "output_type": "stream",
          "name": "stderr",
          "text": [
            "\rProcessing audio files:  44%|████▎     | 458/1050 [46:44<1:14:46,  7.58s/it]"
          ]
        },
        {
          "output_type": "stream",
          "name": "stdout",
          "text": [
            "File: /content/drive/MyDrive/audio_files/Dataset_2_Cleaned/31_FACADE/P8.wav\n",
            "Expected Word: FACADE\n",
            "Detected Word: FACADE\n",
            "Correct: 1\n",
            "\n"
          ]
        },
        {
          "output_type": "stream",
          "name": "stderr",
          "text": [
            "\rProcessing audio files:  44%|████▎     | 459/1050 [46:50<1:09:10,  7.02s/it]"
          ]
        },
        {
          "output_type": "stream",
          "name": "stdout",
          "text": [
            "File: /content/drive/MyDrive/audio_files/Dataset_2_Cleaned/31_FACADE/P9.wav\n",
            "Expected Word: FACADE\n",
            "Detected Word: FACADE\n",
            "Correct: 1\n",
            "\n"
          ]
        },
        {
          "output_type": "stream",
          "name": "stderr",
          "text": [
            "\rProcessing audio files:  44%|████▍     | 460/1050 [46:55<1:04:29,  6.56s/it]"
          ]
        },
        {
          "output_type": "stream",
          "name": "stdout",
          "text": [
            "File: /content/drive/MyDrive/audio_files/Dataset_2_Cleaned/31_FACADE/P10.wav\n",
            "Expected Word: FACADE\n",
            "Detected Word: FACADE\n",
            "Correct: 1\n",
            "\n"
          ]
        },
        {
          "output_type": "stream",
          "name": "stderr",
          "text": [
            "\rProcessing audio files:  44%|████▍     | 461/1050 [47:01<1:00:46,  6.19s/it]"
          ]
        },
        {
          "output_type": "stream",
          "name": "stdout",
          "text": [
            "File: /content/drive/MyDrive/audio_files/Dataset_2_Cleaned/31_FACADE/P11.wav\n",
            "Expected Word: FACADE\n",
            "Detected Word: FACADE\n",
            "Correct: 1\n",
            "\n"
          ]
        },
        {
          "output_type": "stream",
          "name": "stderr",
          "text": [
            "\rProcessing audio files:  44%|████▍     | 462/1050 [47:09<1:07:28,  6.89s/it]"
          ]
        },
        {
          "output_type": "stream",
          "name": "stdout",
          "text": [
            "File: /content/drive/MyDrive/audio_files/Dataset_2_Cleaned/31_FACADE/P12.wav\n",
            "Expected Word: FACADE\n",
            "Detected Word: THE\n",
            "Correct: 0\n",
            "\n"
          ]
        },
        {
          "output_type": "stream",
          "name": "stderr",
          "text": [
            "\rProcessing audio files:  44%|████▍     | 463/1050 [47:18<1:12:37,  7.42s/it]"
          ]
        },
        {
          "output_type": "stream",
          "name": "stdout",
          "text": [
            "File: /content/drive/MyDrive/audio_files/Dataset_2_Cleaned/31_FACADE/P13.wav\n",
            "Expected Word: FACADE\n",
            "Detected Word: \n",
            "Correct: 0\n",
            "\n"
          ]
        },
        {
          "output_type": "stream",
          "name": "stderr",
          "text": [
            "\rProcessing audio files:  44%|████▍     | 464/1050 [47:30<1:25:14,  8.73s/it]"
          ]
        },
        {
          "output_type": "stream",
          "name": "stdout",
          "text": [
            "File: /content/drive/MyDrive/audio_files/Dataset_2_Cleaned/31_FACADE/P14.wav\n",
            "Expected Word: FACADE\n",
            "Detected Word: FOR\n",
            "Correct: 0\n",
            "\n"
          ]
        },
        {
          "output_type": "stream",
          "name": "stderr",
          "text": [
            "\rProcessing audio files:  44%|████▍     | 465/1050 [47:38<1:24:07,  8.63s/it]"
          ]
        },
        {
          "output_type": "stream",
          "name": "stdout",
          "text": [
            "File: /content/drive/MyDrive/audio_files/Dataset_2_Cleaned/31_FACADE/P15.wav\n",
            "Expected Word: FACADE\n",
            "Detected Word: FACADE\n",
            "Correct: 1\n",
            "\n"
          ]
        },
        {
          "output_type": "stream",
          "name": "stderr",
          "text": [
            "\rProcessing audio files:  44%|████▍     | 466/1050 [47:56<1:51:54, 11.50s/it]"
          ]
        },
        {
          "output_type": "stream",
          "name": "stdout",
          "text": [
            "File: /content/drive/MyDrive/audio_files/Dataset_2_Cleaned/31_FACADE/P16.wav\n",
            "Expected Word: FACADE\n",
            "Detected Word: FACADE\n",
            "Correct: 1\n",
            "\n"
          ]
        },
        {
          "output_type": "stream",
          "name": "stderr",
          "text": [
            "\rProcessing audio files:  44%|████▍     | 467/1050 [48:05<1:43:11, 10.62s/it]"
          ]
        },
        {
          "output_type": "stream",
          "name": "stdout",
          "text": [
            "File: /content/drive/MyDrive/audio_files/Dataset_2_Cleaned/31_FACADE/P17.wav\n",
            "Expected Word: FACADE\n",
            "Detected Word: FACADE\n",
            "Correct: 1\n",
            "\n"
          ]
        },
        {
          "output_type": "stream",
          "name": "stderr",
          "text": [
            "\rProcessing audio files:  45%|████▍     | 468/1050 [48:10<1:27:28,  9.02s/it]"
          ]
        },
        {
          "output_type": "stream",
          "name": "stdout",
          "text": [
            "File: /content/drive/MyDrive/audio_files/Dataset_2_Cleaned/31_FACADE/P18.wav\n",
            "Expected Word: FACADE\n",
            "Detected Word: FACADES\n",
            "Correct: 0\n",
            "\n"
          ]
        },
        {
          "output_type": "stream",
          "name": "stderr",
          "text": [
            "\rProcessing audio files:  45%|████▍     | 469/1050 [48:15<1:16:37,  7.91s/it]"
          ]
        },
        {
          "output_type": "stream",
          "name": "stdout",
          "text": [
            "File: /content/drive/MyDrive/audio_files/Dataset_2_Cleaned/31_FACADE/P19.wav\n",
            "Expected Word: FACADE\n",
            "Detected Word: FACADE\n",
            "Correct: 1\n",
            "\n"
          ]
        },
        {
          "output_type": "stream",
          "name": "stderr",
          "text": [
            "\rProcessing audio files:  45%|████▍     | 470/1050 [48:24<1:18:50,  8.16s/it]"
          ]
        },
        {
          "output_type": "stream",
          "name": "stdout",
          "text": [
            "File: /content/drive/MyDrive/audio_files/Dataset_2_Cleaned/31_FACADE/P20.wav\n",
            "Expected Word: FACADE\n",
            "Detected Word: THE\n",
            "Correct: 0\n",
            "\n"
          ]
        },
        {
          "output_type": "stream",
          "name": "stderr",
          "text": [
            "\rProcessing audio files:  45%|████▍     | 471/1050 [48:32<1:19:27,  8.23s/it]"
          ]
        },
        {
          "output_type": "stream",
          "name": "stdout",
          "text": [
            "File: /content/drive/MyDrive/audio_files/Dataset_2_Cleaned/24_GIST/P1.wav\n",
            "Expected Word: GIST\n",
            "Detected Word: JUST\n",
            "Correct: 0\n",
            "\n"
          ]
        },
        {
          "output_type": "stream",
          "name": "stderr",
          "text": [
            "\rProcessing audio files:  45%|████▍     | 472/1050 [48:38<1:10:31,  7.32s/it]"
          ]
        },
        {
          "output_type": "stream",
          "name": "stdout",
          "text": [
            "File: /content/drive/MyDrive/audio_files/Dataset_2_Cleaned/24_GIST/P2.wav\n",
            "Expected Word: GIST\n",
            "Detected Word: JUST\n",
            "Correct: 0\n",
            "\n"
          ]
        },
        {
          "output_type": "stream",
          "name": "stderr",
          "text": [
            "\rProcessing audio files:  45%|████▌     | 473/1050 [48:43<1:04:25,  6.70s/it]"
          ]
        },
        {
          "output_type": "stream",
          "name": "stdout",
          "text": [
            "File: /content/drive/MyDrive/audio_files/Dataset_2_Cleaned/24_GIST/P3.wav\n",
            "Expected Word: GIST\n",
            "Detected Word: JUST\n",
            "Correct: 0\n",
            "\n"
          ]
        },
        {
          "output_type": "stream",
          "name": "stderr",
          "text": [
            "\rProcessing audio files:  45%|████▌     | 474/1050 [48:48<1:00:22,  6.29s/it]"
          ]
        },
        {
          "output_type": "stream",
          "name": "stdout",
          "text": [
            "File: /content/drive/MyDrive/audio_files/Dataset_2_Cleaned/24_GIST/P4.wav\n",
            "Expected Word: GIST\n",
            "Detected Word: JUST\n",
            "Correct: 0\n",
            "\n"
          ]
        },
        {
          "output_type": "stream",
          "name": "stderr",
          "text": [
            "\rProcessing audio files:  45%|████▌     | 475/1050 [48:53<56:47,  5.93s/it]  "
          ]
        },
        {
          "output_type": "stream",
          "name": "stdout",
          "text": [
            "File: /content/drive/MyDrive/audio_files/Dataset_2_Cleaned/24_GIST/P5.wav\n",
            "Expected Word: GIST\n",
            "Detected Word: JUST\n",
            "Correct: 0\n",
            "\n"
          ]
        },
        {
          "output_type": "stream",
          "name": "stderr",
          "text": [
            "\rProcessing audio files:  45%|████▌     | 476/1050 [49:08<1:22:15,  8.60s/it]"
          ]
        },
        {
          "output_type": "stream",
          "name": "stdout",
          "text": [
            "File: /content/drive/MyDrive/audio_files/Dataset_2_Cleaned/24_GIST/P6.wav\n",
            "Expected Word: GIST\n",
            "Detected Word: CHEST\n",
            "Correct: 0\n",
            "\n"
          ]
        },
        {
          "output_type": "stream",
          "name": "stderr",
          "text": [
            "\rProcessing audio files:  45%|████▌     | 477/1050 [49:13<1:12:39,  7.61s/it]"
          ]
        },
        {
          "output_type": "stream",
          "name": "stdout",
          "text": [
            "File: /content/drive/MyDrive/audio_files/Dataset_2_Cleaned/24_GIST/P7.wav\n",
            "Expected Word: GIST\n",
            "Detected Word: JUST\n",
            "Correct: 0\n",
            "\n"
          ]
        },
        {
          "output_type": "stream",
          "name": "stderr",
          "text": [
            "\rProcessing audio files:  46%|████▌     | 478/1050 [49:19<1:05:55,  6.91s/it]"
          ]
        },
        {
          "output_type": "stream",
          "name": "stdout",
          "text": [
            "File: /content/drive/MyDrive/audio_files/Dataset_2_Cleaned/24_GIST/P8.wav\n",
            "Expected Word: GIST\n",
            "Detected Word: \n",
            "Correct: 0\n",
            "\n"
          ]
        },
        {
          "output_type": "stream",
          "name": "stderr",
          "text": [
            "\rProcessing audio files:  46%|████▌     | 479/1050 [49:43<1:56:19, 12.22s/it]"
          ]
        },
        {
          "output_type": "stream",
          "name": "stdout",
          "text": [
            "File: /content/drive/MyDrive/audio_files/Dataset_2_Cleaned/24_GIST/P9.wav\n",
            "Expected Word: GIST\n",
            "Detected Word: \n",
            "Correct: 0\n",
            "\n"
          ]
        },
        {
          "output_type": "stream",
          "name": "stderr",
          "text": [
            "\rProcessing audio files:  46%|████▌     | 480/1050 [49:49<1:36:05, 10.11s/it]"
          ]
        },
        {
          "output_type": "stream",
          "name": "stdout",
          "text": [
            "File: /content/drive/MyDrive/audio_files/Dataset_2_Cleaned/24_GIST/P10.wav\n",
            "Expected Word: GIST\n",
            "Detected Word: JUST\n",
            "Correct: 0\n",
            "\n"
          ]
        },
        {
          "output_type": "stream",
          "name": "stderr",
          "text": [
            "\rProcessing audio files:  46%|████▌     | 481/1050 [49:54<1:22:23,  8.69s/it]"
          ]
        },
        {
          "output_type": "stream",
          "name": "stdout",
          "text": [
            "File: /content/drive/MyDrive/audio_files/Dataset_2_Cleaned/24_GIST/P11.wav\n",
            "Expected Word: GIST\n",
            "Detected Word: JUST\n",
            "Correct: 0\n",
            "\n"
          ]
        },
        {
          "output_type": "stream",
          "name": "stderr",
          "text": [
            "\rProcessing audio files:  46%|████▌     | 482/1050 [49:59<1:12:15,  7.63s/it]"
          ]
        },
        {
          "output_type": "stream",
          "name": "stdout",
          "text": [
            "File: /content/drive/MyDrive/audio_files/Dataset_2_Cleaned/24_GIST/P12.wav\n",
            "Expected Word: GIST\n",
            "Detected Word: \n",
            "Correct: 0\n",
            "\n"
          ]
        },
        {
          "output_type": "stream",
          "name": "stderr",
          "text": [
            "\rProcessing audio files:  46%|████▌     | 483/1050 [50:04<1:05:04,  6.89s/it]"
          ]
        },
        {
          "output_type": "stream",
          "name": "stdout",
          "text": [
            "File: /content/drive/MyDrive/audio_files/Dataset_2_Cleaned/24_GIST/P13.wav\n",
            "Expected Word: GIST\n",
            "Detected Word: \n",
            "Correct: 0\n",
            "\n"
          ]
        },
        {
          "output_type": "stream",
          "name": "stderr",
          "text": [
            "\rProcessing audio files:  46%|████▌     | 484/1050 [50:10<1:00:38,  6.43s/it]"
          ]
        },
        {
          "output_type": "stream",
          "name": "stdout",
          "text": [
            "File: /content/drive/MyDrive/audio_files/Dataset_2_Cleaned/24_GIST/P14.wav\n",
            "Expected Word: GIST\n",
            "Detected Word: JUST\n",
            "Correct: 0\n",
            "\n"
          ]
        },
        {
          "output_type": "stream",
          "name": "stderr",
          "text": [
            "\rProcessing audio files:  46%|████▌     | 485/1050 [50:18<1:06:33,  7.07s/it]"
          ]
        },
        {
          "output_type": "stream",
          "name": "stdout",
          "text": [
            "File: /content/drive/MyDrive/audio_files/Dataset_2_Cleaned/24_GIST/P15.wav\n",
            "Expected Word: GIST\n",
            "Detected Word: JEST\n",
            "Correct: 0\n",
            "\n"
          ]
        },
        {
          "output_type": "stream",
          "name": "stderr",
          "text": [
            "\rProcessing audio files:  46%|████▋     | 486/1050 [50:27<1:10:12,  7.47s/it]"
          ]
        },
        {
          "output_type": "stream",
          "name": "stdout",
          "text": [
            "File: /content/drive/MyDrive/audio_files/Dataset_2_Cleaned/24_GIST/P16.wav\n",
            "Expected Word: GIST\n",
            "Detected Word: JUST\n",
            "Correct: 0\n",
            "\n"
          ]
        },
        {
          "output_type": "stream",
          "name": "stderr",
          "text": [
            "\rProcessing audio files:  46%|████▋     | 487/1050 [50:32<1:04:11,  6.84s/it]"
          ]
        },
        {
          "output_type": "stream",
          "name": "stdout",
          "text": [
            "File: /content/drive/MyDrive/audio_files/Dataset_2_Cleaned/24_GIST/P17.wav\n",
            "Expected Word: GIST\n",
            "Detected Word: \n",
            "Correct: 0\n",
            "\n"
          ]
        },
        {
          "output_type": "stream",
          "name": "stderr",
          "text": [
            "\rProcessing audio files:  46%|████▋     | 488/1050 [50:37<59:40,  6.37s/it]  "
          ]
        },
        {
          "output_type": "stream",
          "name": "stdout",
          "text": [
            "File: /content/drive/MyDrive/audio_files/Dataset_2_Cleaned/24_GIST/P18.wav\n",
            "Expected Word: GIST\n",
            "Detected Word: JUST\n",
            "Correct: 0\n",
            "\n"
          ]
        },
        {
          "output_type": "stream",
          "name": "stderr",
          "text": [
            "\rProcessing audio files:  47%|████▋     | 489/1050 [50:42<56:17,  6.02s/it]"
          ]
        },
        {
          "output_type": "stream",
          "name": "stdout",
          "text": [
            "File: /content/drive/MyDrive/audio_files/Dataset_2_Cleaned/24_GIST/P19.wav\n",
            "Expected Word: GIST\n",
            "Detected Word: JUST\n",
            "Correct: 0\n",
            "\n"
          ]
        },
        {
          "output_type": "stream",
          "name": "stderr",
          "text": [
            "\rProcessing audio files:  47%|████▋     | 490/1050 [50:48<54:18,  5.82s/it]"
          ]
        },
        {
          "output_type": "stream",
          "name": "stdout",
          "text": [
            "File: /content/drive/MyDrive/audio_files/Dataset_2_Cleaned/24_GIST/P20.wav\n",
            "Expected Word: GIST\n",
            "Detected Word: JUST\n",
            "Correct: 0\n",
            "\n"
          ]
        },
        {
          "output_type": "stream",
          "name": "stderr",
          "text": [
            "\rProcessing audio files:  47%|████▋     | 491/1050 [50:53<52:26,  5.63s/it]"
          ]
        },
        {
          "output_type": "stream",
          "name": "stdout",
          "text": [
            "File: /content/drive/MyDrive/audio_files/Dataset_2_Cleaned/18_HEIR/P1.wav\n",
            "Expected Word: HEIR\n",
            "Detected Word: HERE\n",
            "Correct: 0\n",
            "\n"
          ]
        },
        {
          "output_type": "stream",
          "name": "stderr",
          "text": [
            "\rProcessing audio files:  47%|████▋     | 492/1050 [50:58<50:59,  5.48s/it]"
          ]
        },
        {
          "output_type": "stream",
          "name": "stdout",
          "text": [
            "File: /content/drive/MyDrive/audio_files/Dataset_2_Cleaned/18_HEIR/P2.wav\n",
            "Expected Word: HEIR\n",
            "Detected Word: \n",
            "Correct: 0\n",
            "\n"
          ]
        },
        {
          "output_type": "stream",
          "name": "stderr",
          "text": [
            "\rProcessing audio files:  47%|████▋     | 493/1050 [51:03<50:09,  5.40s/it]"
          ]
        },
        {
          "output_type": "stream",
          "name": "stdout",
          "text": [
            "File: /content/drive/MyDrive/audio_files/Dataset_2_Cleaned/18_HEIR/P3.wav\n",
            "Expected Word: HEIR\n",
            "Detected Word: \n",
            "Correct: 0\n",
            "\n"
          ]
        },
        {
          "output_type": "stream",
          "name": "stderr",
          "text": [
            "\rProcessing audio files:  47%|████▋     | 494/1050 [51:09<49:50,  5.38s/it]"
          ]
        },
        {
          "output_type": "stream",
          "name": "stdout",
          "text": [
            "File: /content/drive/MyDrive/audio_files/Dataset_2_Cleaned/18_HEIR/P4.wav\n",
            "Expected Word: HEIR\n",
            "Detected Word: AIR\n",
            "Correct: 0\n",
            "\n"
          ]
        },
        {
          "output_type": "stream",
          "name": "stderr",
          "text": [
            "\rProcessing audio files:  47%|████▋     | 495/1050 [51:14<49:15,  5.32s/it]"
          ]
        },
        {
          "output_type": "stream",
          "name": "stdout",
          "text": [
            "File: /content/drive/MyDrive/audio_files/Dataset_2_Cleaned/18_HEIR/P5.wav\n",
            "Expected Word: HEIR\n",
            "Detected Word: \n",
            "Correct: 0\n",
            "\n"
          ]
        },
        {
          "output_type": "stream",
          "name": "stderr",
          "text": [
            "\rProcessing audio files:  47%|████▋     | 496/1050 [51:22<57:29,  6.23s/it]"
          ]
        },
        {
          "output_type": "stream",
          "name": "stdout",
          "text": [
            "File: /content/drive/MyDrive/audio_files/Dataset_2_Cleaned/18_HEIR/P6.wav\n",
            "Expected Word: HEIR\n",
            "Detected Word: \n",
            "Correct: 0\n",
            "\n"
          ]
        },
        {
          "output_type": "stream",
          "name": "stderr",
          "text": [
            "\rProcessing audio files:  47%|████▋     | 497/1050 [51:30<1:03:09,  6.85s/it]"
          ]
        },
        {
          "output_type": "stream",
          "name": "stdout",
          "text": [
            "File: /content/drive/MyDrive/audio_files/Dataset_2_Cleaned/18_HEIR/P7.wav\n",
            "Expected Word: HEIR\n",
            "Detected Word: \n",
            "Correct: 0\n",
            "\n"
          ]
        },
        {
          "output_type": "stream",
          "name": "stderr",
          "text": [
            "\rProcessing audio files:  47%|████▋     | 498/1050 [51:36<58:35,  6.37s/it]  "
          ]
        },
        {
          "output_type": "stream",
          "name": "stdout",
          "text": [
            "File: /content/drive/MyDrive/audio_files/Dataset_2_Cleaned/18_HEIR/P8.wav\n",
            "Expected Word: HEIR\n",
            "Detected Word: \n",
            "Correct: 0\n",
            "\n"
          ]
        },
        {
          "output_type": "stream",
          "name": "stderr",
          "text": [
            "\rProcessing audio files:  48%|████▊     | 499/1050 [51:44<1:04:47,  7.06s/it]"
          ]
        },
        {
          "output_type": "stream",
          "name": "stdout",
          "text": [
            "File: /content/drive/MyDrive/audio_files/Dataset_2_Cleaned/18_HEIR/P9.wav\n",
            "Expected Word: HEIR\n",
            "Detected Word: \n",
            "Correct: 0\n",
            "\n"
          ]
        },
        {
          "output_type": "stream",
          "name": "stderr",
          "text": [
            "\rProcessing audio files:  48%|████▊     | 500/1050 [51:50<59:37,  6.50s/it]  "
          ]
        },
        {
          "output_type": "stream",
          "name": "stdout",
          "text": [
            "File: /content/drive/MyDrive/audio_files/Dataset_2_Cleaned/18_HEIR/P10.wav\n",
            "Expected Word: HEIR\n",
            "Detected Word: \n",
            "Correct: 0\n",
            "\n"
          ]
        },
        {
          "output_type": "stream",
          "name": "stderr",
          "text": [
            "\rProcessing audio files:  48%|████▊     | 501/1050 [51:55<56:23,  6.16s/it]"
          ]
        },
        {
          "output_type": "stream",
          "name": "stdout",
          "text": [
            "File: /content/drive/MyDrive/audio_files/Dataset_2_Cleaned/18_HEIR/P11.wav\n",
            "Expected Word: HEIR\n",
            "Detected Word: \n",
            "Correct: 0\n",
            "\n"
          ]
        },
        {
          "output_type": "stream",
          "name": "stderr",
          "text": [
            "\rProcessing audio files:  48%|████▊     | 502/1050 [52:00<53:26,  5.85s/it]"
          ]
        },
        {
          "output_type": "stream",
          "name": "stdout",
          "text": [
            "File: /content/drive/MyDrive/audio_files/Dataset_2_Cleaned/18_HEIR/P12.wav\n",
            "Expected Word: HEIR\n",
            "Detected Word: \n",
            "Correct: 0\n",
            "\n"
          ]
        },
        {
          "output_type": "stream",
          "name": "stderr",
          "text": [
            "\rProcessing audio files:  48%|████▊     | 503/1050 [52:05<51:40,  5.67s/it]"
          ]
        },
        {
          "output_type": "stream",
          "name": "stdout",
          "text": [
            "File: /content/drive/MyDrive/audio_files/Dataset_2_Cleaned/18_HEIR/P13.wav\n",
            "Expected Word: HEIR\n",
            "Detected Word: \n",
            "Correct: 0\n",
            "\n"
          ]
        },
        {
          "output_type": "stream",
          "name": "stderr",
          "text": [
            "\rProcessing audio files:  48%|████▊     | 504/1050 [52:11<50:13,  5.52s/it]"
          ]
        },
        {
          "output_type": "stream",
          "name": "stdout",
          "text": [
            "File: /content/drive/MyDrive/audio_files/Dataset_2_Cleaned/18_HEIR/P14.wav\n",
            "Expected Word: HEIR\n",
            "Detected Word: \n",
            "Correct: 0\n",
            "\n"
          ]
        },
        {
          "output_type": "stream",
          "name": "stderr",
          "text": [
            "\rProcessing audio files:  48%|████▊     | 505/1050 [52:26<1:16:36,  8.43s/it]"
          ]
        },
        {
          "output_type": "stream",
          "name": "stdout",
          "text": [
            "File: /content/drive/MyDrive/audio_files/Dataset_2_Cleaned/18_HEIR/P15.wav\n",
            "Expected Word: HEIR\n",
            "Detected Word: \n",
            "Correct: 0\n",
            "\n"
          ]
        },
        {
          "output_type": "stream",
          "name": "stderr",
          "text": [
            "\rProcessing audio files:  48%|████▊     | 506/1050 [52:34<1:16:19,  8.42s/it]"
          ]
        },
        {
          "output_type": "stream",
          "name": "stdout",
          "text": [
            "File: /content/drive/MyDrive/audio_files/Dataset_2_Cleaned/18_HEIR/P16.wav\n",
            "Expected Word: HEIR\n",
            "Detected Word: \n",
            "Correct: 0\n",
            "\n"
          ]
        },
        {
          "output_type": "stream",
          "name": "stderr",
          "text": [
            "\rProcessing audio files:  48%|████▊     | 507/1050 [52:40<1:08:00,  7.51s/it]"
          ]
        },
        {
          "output_type": "stream",
          "name": "stdout",
          "text": [
            "File: /content/drive/MyDrive/audio_files/Dataset_2_Cleaned/18_HEIR/P17.wav\n",
            "Expected Word: HEIR\n",
            "Detected Word: \n",
            "Correct: 0\n",
            "\n"
          ]
        },
        {
          "output_type": "stream",
          "name": "stderr",
          "text": [
            "\rProcessing audio files:  48%|████▊     | 508/1050 [52:45<1:01:35,  6.82s/it]"
          ]
        },
        {
          "output_type": "stream",
          "name": "stdout",
          "text": [
            "File: /content/drive/MyDrive/audio_files/Dataset_2_Cleaned/18_HEIR/P18.wav\n",
            "Expected Word: HEIR\n",
            "Detected Word: \n",
            "Correct: 0\n",
            "\n"
          ]
        },
        {
          "output_type": "stream",
          "name": "stderr",
          "text": [
            "\rProcessing audio files:  48%|████▊     | 509/1050 [52:51<59:09,  6.56s/it]  "
          ]
        },
        {
          "output_type": "stream",
          "name": "stdout",
          "text": [
            "File: /content/drive/MyDrive/audio_files/Dataset_2_Cleaned/18_HEIR/P19.wav\n",
            "Expected Word: HEIR\n",
            "Detected Word: \n",
            "Correct: 0\n",
            "\n"
          ]
        },
        {
          "output_type": "stream",
          "name": "stderr",
          "text": [
            "\rProcessing audio files:  49%|████▊     | 510/1050 [52:59<1:04:03,  7.12s/it]"
          ]
        },
        {
          "output_type": "stream",
          "name": "stdout",
          "text": [
            "File: /content/drive/MyDrive/audio_files/Dataset_2_Cleaned/18_HEIR/P20.wav\n",
            "Expected Word: HEIR\n",
            "Detected Word: \n",
            "Correct: 0\n",
            "\n"
          ]
        },
        {
          "output_type": "stream",
          "name": "stderr",
          "text": [
            "\rProcessing audio files:  49%|████▊     | 511/1050 [53:07<1:07:23,  7.50s/it]"
          ]
        },
        {
          "output_type": "stream",
          "name": "stdout",
          "text": [
            "File: /content/drive/MyDrive/audio_files/Dataset_2_Cleaned/30_CELLIST/P1.wav\n",
            "Expected Word: CELLIST\n",
            "Detected Word: SAY\n",
            "Correct: 0\n",
            "\n"
          ]
        },
        {
          "output_type": "stream",
          "name": "stderr",
          "text": [
            "\rProcessing audio files:  49%|████▉     | 512/1050 [53:13<1:01:05,  6.81s/it]"
          ]
        },
        {
          "output_type": "stream",
          "name": "stdout",
          "text": [
            "File: /content/drive/MyDrive/audio_files/Dataset_2_Cleaned/30_CELLIST/P2.wav\n",
            "Expected Word: CELLIST\n",
            "Detected Word: \n",
            "Correct: 0\n",
            "\n"
          ]
        },
        {
          "output_type": "stream",
          "name": "stderr",
          "text": [
            "\rProcessing audio files:  49%|████▉     | 513/1050 [53:21<1:05:09,  7.28s/it]"
          ]
        },
        {
          "output_type": "stream",
          "name": "stdout",
          "text": [
            "File: /content/drive/MyDrive/audio_files/Dataset_2_Cleaned/30_CELLIST/P3.wav\n",
            "Expected Word: CELLIST\n",
            "Detected Word: AH\n",
            "Correct: 0\n",
            "\n"
          ]
        },
        {
          "output_type": "stream",
          "name": "stderr",
          "text": [
            "\rProcessing audio files:  49%|████▉     | 514/1050 [53:26<59:39,  6.68s/it]  "
          ]
        },
        {
          "output_type": "stream",
          "name": "stdout",
          "text": [
            "File: /content/drive/MyDrive/audio_files/Dataset_2_Cleaned/30_CELLIST/P4.wav\n",
            "Expected Word: CELLIST\n",
            "Detected Word: \n",
            "Correct: 0\n",
            "\n"
          ]
        },
        {
          "output_type": "stream",
          "name": "stderr",
          "text": [
            "\rProcessing audio files:  49%|████▉     | 515/1050 [53:32<55:42,  6.25s/it]"
          ]
        },
        {
          "output_type": "stream",
          "name": "stdout",
          "text": [
            "File: /content/drive/MyDrive/audio_files/Dataset_2_Cleaned/30_CELLIST/P5.wav\n",
            "Expected Word: CELLIST\n",
            "Detected Word: \n",
            "Correct: 0\n",
            "\n"
          ]
        },
        {
          "output_type": "stream",
          "name": "stderr",
          "text": [
            "\rProcessing audio files:  49%|████▉     | 516/1050 [53:39<59:27,  6.68s/it]"
          ]
        },
        {
          "output_type": "stream",
          "name": "stdout",
          "text": [
            "File: /content/drive/MyDrive/audio_files/Dataset_2_Cleaned/30_CELLIST/P6.wav\n",
            "Expected Word: CELLIST\n",
            "Detected Word: \n",
            "Correct: 0\n",
            "\n"
          ]
        },
        {
          "output_type": "stream",
          "name": "stderr",
          "text": [
            "\rProcessing audio files:  49%|████▉     | 517/1050 [53:44<55:14,  6.22s/it]"
          ]
        },
        {
          "output_type": "stream",
          "name": "stdout",
          "text": [
            "File: /content/drive/MyDrive/audio_files/Dataset_2_Cleaned/30_CELLIST/P7.wav\n",
            "Expected Word: CELLIST\n",
            "Detected Word: \n",
            "Correct: 0\n",
            "\n"
          ]
        },
        {
          "output_type": "stream",
          "name": "stderr",
          "text": [
            "\rProcessing audio files:  49%|████▉     | 518/1050 [53:50<53:35,  6.04s/it]"
          ]
        },
        {
          "output_type": "stream",
          "name": "stdout",
          "text": [
            "File: /content/drive/MyDrive/audio_files/Dataset_2_Cleaned/30_CELLIST/P8.wav\n",
            "Expected Word: CELLIST\n",
            "Detected Word: \n",
            "Correct: 0\n",
            "\n"
          ]
        },
        {
          "output_type": "stream",
          "name": "stderr",
          "text": [
            "\rProcessing audio files:  49%|████▉     | 519/1050 [53:55<51:34,  5.83s/it]"
          ]
        },
        {
          "output_type": "stream",
          "name": "stdout",
          "text": [
            "File: /content/drive/MyDrive/audio_files/Dataset_2_Cleaned/30_CELLIST/P9.wav\n",
            "Expected Word: CELLIST\n",
            "Detected Word: \n",
            "Correct: 0\n",
            "\n"
          ]
        },
        {
          "output_type": "stream",
          "name": "stderr",
          "text": [
            "\rProcessing audio files:  50%|████▉     | 520/1050 [54:04<58:31,  6.62s/it]"
          ]
        },
        {
          "output_type": "stream",
          "name": "stdout",
          "text": [
            "File: /content/drive/MyDrive/audio_files/Dataset_2_Cleaned/30_CELLIST/P10.wav\n",
            "Expected Word: CELLIST\n",
            "Detected Word: \n",
            "Correct: 0\n",
            "\n"
          ]
        },
        {
          "output_type": "stream",
          "name": "stderr",
          "text": [
            "\rProcessing audio files:  50%|████▉     | 521/1050 [54:09<55:26,  6.29s/it]"
          ]
        },
        {
          "output_type": "stream",
          "name": "stdout",
          "text": [
            "File: /content/drive/MyDrive/audio_files/Dataset_2_Cleaned/30_CELLIST/P11.wav\n",
            "Expected Word: CELLIST\n",
            "Detected Word: \n",
            "Correct: 0\n",
            "\n"
          ]
        },
        {
          "output_type": "stream",
          "name": "stderr",
          "text": [
            "\rProcessing audio files:  50%|████▉     | 522/1050 [54:27<1:26:17,  9.81s/it]"
          ]
        },
        {
          "output_type": "stream",
          "name": "stdout",
          "text": [
            "File: /content/drive/MyDrive/audio_files/Dataset_2_Cleaned/30_CELLIST/P12.wav\n",
            "Expected Word: CELLIST\n",
            "Detected Word: \n",
            "Correct: 0\n",
            "\n"
          ]
        },
        {
          "output_type": "stream",
          "name": "stderr",
          "text": [
            "\rProcessing audio files:  50%|████▉     | 523/1050 [54:45<1:47:45, 12.27s/it]"
          ]
        },
        {
          "output_type": "stream",
          "name": "stdout",
          "text": [
            "File: /content/drive/MyDrive/audio_files/Dataset_2_Cleaned/30_CELLIST/P13.wav\n",
            "Expected Word: CELLIST\n",
            "Detected Word: JEALOUS\n",
            "Correct: 0\n",
            "\n"
          ]
        },
        {
          "output_type": "stream",
          "name": "stderr",
          "text": [
            "\rProcessing audio files:  50%|████▉     | 524/1050 [54:51<1:29:30, 10.21s/it]"
          ]
        },
        {
          "output_type": "stream",
          "name": "stdout",
          "text": [
            "File: /content/drive/MyDrive/audio_files/Dataset_2_Cleaned/30_CELLIST/P14.wav\n",
            "Expected Word: CELLIST\n",
            "Detected Word: \n",
            "Correct: 0\n",
            "\n"
          ]
        },
        {
          "output_type": "stream",
          "name": "stderr",
          "text": [
            "\rProcessing audio files:  50%|█████     | 525/1050 [54:56<1:16:33,  8.75s/it]"
          ]
        },
        {
          "output_type": "stream",
          "name": "stdout",
          "text": [
            "File: /content/drive/MyDrive/audio_files/Dataset_2_Cleaned/30_CELLIST/P15.wav\n",
            "Expected Word: CELLIST\n",
            "Detected Word: \n",
            "Correct: 0\n",
            "\n"
          ]
        },
        {
          "output_type": "stream",
          "name": "stderr",
          "text": [
            "\rProcessing audio files:  50%|█████     | 526/1050 [55:01<1:07:24,  7.72s/it]"
          ]
        },
        {
          "output_type": "stream",
          "name": "stdout",
          "text": [
            "File: /content/drive/MyDrive/audio_files/Dataset_2_Cleaned/30_CELLIST/P16.wav\n",
            "Expected Word: CELLIST\n",
            "Detected Word: \n",
            "Correct: 0\n",
            "\n"
          ]
        },
        {
          "output_type": "stream",
          "name": "stderr",
          "text": [
            "\rProcessing audio files:  50%|█████     | 527/1050 [55:07<1:01:08,  7.01s/it]"
          ]
        },
        {
          "output_type": "stream",
          "name": "stdout",
          "text": [
            "File: /content/drive/MyDrive/audio_files/Dataset_2_Cleaned/30_CELLIST/P17.wav\n",
            "Expected Word: CELLIST\n",
            "Detected Word: JEALOUS\n",
            "Correct: 0\n",
            "\n"
          ]
        },
        {
          "output_type": "stream",
          "name": "stderr",
          "text": [
            "\rProcessing audio files:  50%|█████     | 528/1050 [55:12<57:16,  6.58s/it]  "
          ]
        },
        {
          "output_type": "stream",
          "name": "stdout",
          "text": [
            "File: /content/drive/MyDrive/audio_files/Dataset_2_Cleaned/30_CELLIST/P18.wav\n",
            "Expected Word: CELLIST\n",
            "Detected Word: \n",
            "Correct: 0\n",
            "\n"
          ]
        },
        {
          "output_type": "stream",
          "name": "stderr",
          "text": [
            "\rProcessing audio files:  50%|█████     | 529/1050 [55:31<1:27:23, 10.06s/it]"
          ]
        },
        {
          "output_type": "stream",
          "name": "stdout",
          "text": [
            "File: /content/drive/MyDrive/audio_files/Dataset_2_Cleaned/30_CELLIST/P19.wav\n",
            "Expected Word: CELLIST\n",
            "Detected Word: \n",
            "Correct: 0\n",
            "\n"
          ]
        },
        {
          "output_type": "stream",
          "name": "stderr",
          "text": [
            "\rProcessing audio files:  50%|█████     | 530/1050 [55:36<1:15:04,  8.66s/it]"
          ]
        },
        {
          "output_type": "stream",
          "name": "stdout",
          "text": [
            "File: /content/drive/MyDrive/audio_files/Dataset_2_Cleaned/30_CELLIST/P20.wav\n",
            "Expected Word: CELLIST\n",
            "Detected Word: \n",
            "Correct: 0\n",
            "\n"
          ]
        },
        {
          "output_type": "stream",
          "name": "stderr",
          "text": [
            "\rProcessing audio files:  51%|█████     | 531/1050 [55:42<1:07:02,  7.75s/it]"
          ]
        },
        {
          "output_type": "stream",
          "name": "stdout",
          "text": [
            "File: /content/drive/MyDrive/audio_files/Dataset_2_Cleaned/39_PUERPERAL/P1.wav\n",
            "Expected Word: PUERPERAL\n",
            "Detected Word: OR\n",
            "Correct: 0\n",
            "\n"
          ]
        },
        {
          "output_type": "stream",
          "name": "stderr",
          "text": [
            "\rProcessing audio files:  51%|█████     | 532/1050 [55:49<1:04:56,  7.52s/it]"
          ]
        },
        {
          "output_type": "stream",
          "name": "stdout",
          "text": [
            "File: /content/drive/MyDrive/audio_files/Dataset_2_Cleaned/39_PUERPERAL/P2.wav\n",
            "Expected Word: PUERPERAL\n",
            "Detected Word: SQUARE\n",
            "Correct: 0\n",
            "\n"
          ]
        },
        {
          "output_type": "stream",
          "name": "stderr",
          "text": [
            "\rProcessing audio files:  51%|█████     | 533/1050 [55:54<59:12,  6.87s/it]  "
          ]
        },
        {
          "output_type": "stream",
          "name": "stdout",
          "text": [
            "File: /content/drive/MyDrive/audio_files/Dataset_2_Cleaned/39_PUERPERAL/P3.wav\n",
            "Expected Word: PUERPERAL\n",
            "Detected Word: \n",
            "Correct: 0\n",
            "\n"
          ]
        },
        {
          "output_type": "stream",
          "name": "stderr",
          "text": [
            "\rProcessing audio files:  51%|█████     | 534/1050 [56:00<56:04,  6.52s/it]"
          ]
        },
        {
          "output_type": "stream",
          "name": "stdout",
          "text": [
            "File: /content/drive/MyDrive/audio_files/Dataset_2_Cleaned/39_PUERPERAL/P4.wav\n",
            "Expected Word: PUERPERAL\n",
            "Detected Word: HERE\n",
            "Correct: 0\n",
            "\n"
          ]
        },
        {
          "output_type": "stream",
          "name": "stderr",
          "text": [
            "\rProcessing audio files:  51%|█████     | 535/1050 [56:05<52:52,  6.16s/it]"
          ]
        },
        {
          "output_type": "stream",
          "name": "stdout",
          "text": [
            "File: /content/drive/MyDrive/audio_files/Dataset_2_Cleaned/39_PUERPERAL/P5.wav\n",
            "Expected Word: PUERPERAL\n",
            "Detected Word: \n",
            "Correct: 0\n",
            "\n"
          ]
        },
        {
          "output_type": "stream",
          "name": "stderr",
          "text": [
            "\rProcessing audio files:  51%|█████     | 536/1050 [56:10<50:46,  5.93s/it]"
          ]
        },
        {
          "output_type": "stream",
          "name": "stdout",
          "text": [
            "File: /content/drive/MyDrive/audio_files/Dataset_2_Cleaned/39_PUERPERAL/P6.wav\n",
            "Expected Word: PUERPERAL\n",
            "Detected Word: \n",
            "Correct: 0\n",
            "\n"
          ]
        },
        {
          "output_type": "stream",
          "name": "stderr",
          "text": [
            "\rProcessing audio files:  51%|█████     | 537/1050 [56:16<49:30,  5.79s/it]"
          ]
        },
        {
          "output_type": "stream",
          "name": "stdout",
          "text": [
            "File: /content/drive/MyDrive/audio_files/Dataset_2_Cleaned/39_PUERPERAL/P7.wav\n",
            "Expected Word: PUERPERAL\n",
            "Detected Word: PURPLE\n",
            "Correct: 0\n",
            "\n"
          ]
        },
        {
          "output_type": "stream",
          "name": "stderr",
          "text": [
            "\rProcessing audio files:  51%|█████     | 538/1050 [56:25<56:55,  6.67s/it]"
          ]
        },
        {
          "output_type": "stream",
          "name": "stdout",
          "text": [
            "File: /content/drive/MyDrive/audio_files/Dataset_2_Cleaned/39_PUERPERAL/P8.wav\n",
            "Expected Word: PUERPERAL\n",
            "Detected Word: TO\n",
            "Correct: 0\n",
            "\n"
          ]
        },
        {
          "output_type": "stream",
          "name": "stderr",
          "text": [
            "\rProcessing audio files:  51%|█████▏    | 539/1050 [56:33<1:02:22,  7.32s/it]"
          ]
        },
        {
          "output_type": "stream",
          "name": "stdout",
          "text": [
            "File: /content/drive/MyDrive/audio_files/Dataset_2_Cleaned/39_PUERPERAL/P9.wav\n",
            "Expected Word: PUERPERAL\n",
            "Detected Word: PURE\n",
            "Correct: 0\n",
            "\n"
          ]
        },
        {
          "output_type": "stream",
          "name": "stderr",
          "text": [
            "\rProcessing audio files:  51%|█████▏    | 540/1050 [56:42<1:05:39,  7.73s/it]"
          ]
        },
        {
          "output_type": "stream",
          "name": "stdout",
          "text": [
            "File: /content/drive/MyDrive/audio_files/Dataset_2_Cleaned/39_PUERPERAL/P10.wav\n",
            "Expected Word: PUERPERAL\n",
            "Detected Word: \n",
            "Correct: 0\n",
            "\n"
          ]
        },
        {
          "output_type": "stream",
          "name": "stderr",
          "text": [
            "\rProcessing audio files:  52%|█████▏    | 541/1050 [56:47<59:39,  7.03s/it]  "
          ]
        },
        {
          "output_type": "stream",
          "name": "stdout",
          "text": [
            "File: /content/drive/MyDrive/audio_files/Dataset_2_Cleaned/39_PUERPERAL/P11.wav\n",
            "Expected Word: PUERPERAL\n",
            "Detected Word: \n",
            "Correct: 0\n",
            "\n"
          ]
        },
        {
          "output_type": "stream",
          "name": "stderr",
          "text": [
            "\rProcessing audio files:  52%|█████▏    | 542/1050 [56:53<55:11,  6.52s/it]"
          ]
        },
        {
          "output_type": "stream",
          "name": "stdout",
          "text": [
            "File: /content/drive/MyDrive/audio_files/Dataset_2_Cleaned/39_PUERPERAL/P12.wav\n",
            "Expected Word: PUERPERAL\n",
            "Detected Word: PERILOUS\n",
            "Correct: 0\n",
            "\n"
          ]
        },
        {
          "output_type": "stream",
          "name": "stderr",
          "text": [
            "\rProcessing audio files:  52%|█████▏    | 543/1050 [56:58<52:10,  6.17s/it]"
          ]
        },
        {
          "output_type": "stream",
          "name": "stdout",
          "text": [
            "File: /content/drive/MyDrive/audio_files/Dataset_2_Cleaned/39_PUERPERAL/P13.wav\n",
            "Expected Word: PUERPERAL\n",
            "Detected Word: \n",
            "Correct: 0\n",
            "\n"
          ]
        },
        {
          "output_type": "stream",
          "name": "stderr",
          "text": [
            "\rProcessing audio files:  52%|█████▏    | 544/1050 [57:04<50:33,  6.00s/it]"
          ]
        },
        {
          "output_type": "stream",
          "name": "stdout",
          "text": [
            "File: /content/drive/MyDrive/audio_files/Dataset_2_Cleaned/39_PUERPERAL/P14.wav\n",
            "Expected Word: PUERPERAL\n",
            "Detected Word: PURE\n",
            "Correct: 0\n",
            "\n"
          ]
        },
        {
          "output_type": "stream",
          "name": "stderr",
          "text": [
            "\rProcessing audio files:  52%|█████▏    | 545/1050 [57:13<58:09,  6.91s/it]"
          ]
        },
        {
          "output_type": "stream",
          "name": "stdout",
          "text": [
            "File: /content/drive/MyDrive/audio_files/Dataset_2_Cleaned/39_PUERPERAL/P15.wav\n",
            "Expected Word: PUERPERAL\n",
            "Detected Word: WEAR\n",
            "Correct: 0\n",
            "\n"
          ]
        },
        {
          "output_type": "stream",
          "name": "stderr",
          "text": [
            "\rProcessing audio files:  52%|█████▏    | 546/1050 [57:19<55:45,  6.64s/it]"
          ]
        },
        {
          "output_type": "stream",
          "name": "stdout",
          "text": [
            "File: /content/drive/MyDrive/audio_files/Dataset_2_Cleaned/39_PUERPERAL/P16.wav\n",
            "Expected Word: PUERPERAL\n",
            "Detected Word: FEW\n",
            "Correct: 0\n",
            "\n"
          ]
        },
        {
          "output_type": "stream",
          "name": "stderr",
          "text": [
            "\rProcessing audio files:  52%|█████▏    | 547/1050 [57:24<52:31,  6.26s/it]"
          ]
        },
        {
          "output_type": "stream",
          "name": "stdout",
          "text": [
            "File: /content/drive/MyDrive/audio_files/Dataset_2_Cleaned/39_PUERPERAL/P17.wav\n",
            "Expected Word: PUERPERAL\n",
            "Detected Word: POOR\n",
            "Correct: 0\n",
            "\n"
          ]
        },
        {
          "output_type": "stream",
          "name": "stderr",
          "text": [
            "\rProcessing audio files:  52%|█████▏    | 548/1050 [57:33<58:44,  7.02s/it]"
          ]
        },
        {
          "output_type": "stream",
          "name": "stdout",
          "text": [
            "File: /content/drive/MyDrive/audio_files/Dataset_2_Cleaned/39_PUERPERAL/P18.wav\n",
            "Expected Word: PUERPERAL\n",
            "Detected Word: PUERTO\n",
            "Correct: 0\n",
            "\n"
          ]
        },
        {
          "output_type": "stream",
          "name": "stderr",
          "text": [
            "\rProcessing audio files:  52%|█████▏    | 549/1050 [57:42<1:02:36,  7.50s/it]"
          ]
        },
        {
          "output_type": "stream",
          "name": "stdout",
          "text": [
            "File: /content/drive/MyDrive/audio_files/Dataset_2_Cleaned/39_PUERPERAL/P19.wav\n",
            "Expected Word: PUERPERAL\n",
            "Detected Word: PURE\n",
            "Correct: 0\n",
            "\n"
          ]
        },
        {
          "output_type": "stream",
          "name": "stderr",
          "text": [
            "\rProcessing audio files:  52%|█████▏    | 550/1050 [57:47<57:02,  6.84s/it]  "
          ]
        },
        {
          "output_type": "stream",
          "name": "stdout",
          "text": [
            "File: /content/drive/MyDrive/audio_files/Dataset_2_Cleaned/39_PUERPERAL/P20.wav\n",
            "Expected Word: PUERPERAL\n",
            "Detected Word: \n",
            "Correct: 0\n",
            "\n"
          ]
        },
        {
          "output_type": "stream",
          "name": "stderr",
          "text": [
            "\rProcessing audio files:  52%|█████▏    | 551/1050 [57:52<52:43,  6.34s/it]"
          ]
        },
        {
          "output_type": "stream",
          "name": "stdout",
          "text": [
            "File: /content/drive/MyDrive/audio_files/Dataset_2_Cleaned/02_ACHE/P1.wav\n",
            "Expected Word: ACHE\n",
            "Detected Word: \n",
            "Correct: 0\n",
            "\n"
          ]
        },
        {
          "output_type": "stream",
          "name": "stderr",
          "text": [
            "\rProcessing audio files:  53%|█████▎    | 552/1050 [57:57<49:39,  5.98s/it]"
          ]
        },
        {
          "output_type": "stream",
          "name": "stdout",
          "text": [
            "File: /content/drive/MyDrive/audio_files/Dataset_2_Cleaned/02_ACHE/P2.wav\n",
            "Expected Word: ACHE\n",
            "Detected Word: \n",
            "Correct: 0\n",
            "\n"
          ]
        },
        {
          "output_type": "stream",
          "name": "stderr",
          "text": [
            "\rProcessing audio files:  53%|█████▎    | 553/1050 [58:03<47:51,  5.78s/it]"
          ]
        },
        {
          "output_type": "stream",
          "name": "stdout",
          "text": [
            "File: /content/drive/MyDrive/audio_files/Dataset_2_Cleaned/02_ACHE/P3.wav\n",
            "Expected Word: ACHE\n",
            "Detected Word: \n",
            "Correct: 0\n",
            "\n"
          ]
        },
        {
          "output_type": "stream",
          "name": "stderr",
          "text": [
            "\rProcessing audio files:  53%|█████▎    | 554/1050 [58:08<46:36,  5.64s/it]"
          ]
        },
        {
          "output_type": "stream",
          "name": "stdout",
          "text": [
            "File: /content/drive/MyDrive/audio_files/Dataset_2_Cleaned/02_ACHE/P4.wav\n",
            "Expected Word: ACHE\n",
            "Detected Word: EIGHT\n",
            "Correct: 0\n",
            "\n"
          ]
        },
        {
          "output_type": "stream",
          "name": "stderr",
          "text": [
            "\rProcessing audio files:  53%|█████▎    | 555/1050 [58:13<45:16,  5.49s/it]"
          ]
        },
        {
          "output_type": "stream",
          "name": "stdout",
          "text": [
            "File: /content/drive/MyDrive/audio_files/Dataset_2_Cleaned/02_ACHE/P5.wav\n",
            "Expected Word: ACHE\n",
            "Detected Word: ACHE\n",
            "Correct: 1\n",
            "\n"
          ]
        },
        {
          "output_type": "stream",
          "name": "stderr",
          "text": [
            "\rProcessing audio files:  53%|█████▎    | 556/1050 [58:18<44:37,  5.42s/it]"
          ]
        },
        {
          "output_type": "stream",
          "name": "stdout",
          "text": [
            "File: /content/drive/MyDrive/audio_files/Dataset_2_Cleaned/02_ACHE/P6.wav\n",
            "Expected Word: ACHE\n",
            "Detected Word: EIGHT\n",
            "Correct: 0\n",
            "\n"
          ]
        },
        {
          "output_type": "stream",
          "name": "stderr",
          "text": [
            "\rProcessing audio files:  53%|█████▎    | 557/1050 [58:23<43:52,  5.34s/it]"
          ]
        },
        {
          "output_type": "stream",
          "name": "stdout",
          "text": [
            "File: /content/drive/MyDrive/audio_files/Dataset_2_Cleaned/02_ACHE/P7.wav\n",
            "Expected Word: ACHE\n",
            "Detected Word: EIGHT\n",
            "Correct: 0\n",
            "\n"
          ]
        },
        {
          "output_type": "stream",
          "name": "stderr",
          "text": [
            "\rProcessing audio files:  53%|█████▎    | 558/1050 [58:35<59:49,  7.30s/it]"
          ]
        },
        {
          "output_type": "stream",
          "name": "stdout",
          "text": [
            "File: /content/drive/MyDrive/audio_files/Dataset_2_Cleaned/02_ACHE/P8.wav\n",
            "Expected Word: ACHE\n",
            "Detected Word: EIGHT\n",
            "Correct: 0\n",
            "\n"
          ]
        },
        {
          "output_type": "stream",
          "name": "stderr",
          "text": [
            "\rProcessing audio files:  53%|█████▎    | 559/1050 [58:41<55:28,  6.78s/it]"
          ]
        },
        {
          "output_type": "stream",
          "name": "stdout",
          "text": [
            "File: /content/drive/MyDrive/audio_files/Dataset_2_Cleaned/02_ACHE/P9.wav\n",
            "Expected Word: ACHE\n",
            "Detected Word: EIGHT\n",
            "Correct: 0\n",
            "\n"
          ]
        },
        {
          "output_type": "stream",
          "name": "stderr",
          "text": [
            "\rProcessing audio files:  53%|█████▎    | 560/1050 [58:46<51:34,  6.32s/it]"
          ]
        },
        {
          "output_type": "stream",
          "name": "stdout",
          "text": [
            "File: /content/drive/MyDrive/audio_files/Dataset_2_Cleaned/02_ACHE/P10.wav\n",
            "Expected Word: ACHE\n",
            "Detected Word: EIGHT\n",
            "Correct: 0\n",
            "\n"
          ]
        },
        {
          "output_type": "stream",
          "name": "stderr",
          "text": [
            "\rProcessing audio files:  53%|█████▎    | 561/1050 [58:51<49:09,  6.03s/it]"
          ]
        },
        {
          "output_type": "stream",
          "name": "stdout",
          "text": [
            "File: /content/drive/MyDrive/audio_files/Dataset_2_Cleaned/02_ACHE/P11.wav\n",
            "Expected Word: ACHE\n",
            "Detected Word: \n",
            "Correct: 0\n",
            "\n"
          ]
        },
        {
          "output_type": "stream",
          "name": "stderr",
          "text": [
            "\rProcessing audio files:  54%|█████▎    | 562/1050 [58:57<47:23,  5.83s/it]"
          ]
        },
        {
          "output_type": "stream",
          "name": "stdout",
          "text": [
            "File: /content/drive/MyDrive/audio_files/Dataset_2_Cleaned/02_ACHE/P12.wav\n",
            "Expected Word: ACHE\n",
            "Detected Word: \n",
            "Correct: 0\n",
            "\n"
          ]
        },
        {
          "output_type": "stream",
          "name": "stderr",
          "text": [
            "\rProcessing audio files:  54%|█████▎    | 563/1050 [59:07<58:39,  7.23s/it]"
          ]
        },
        {
          "output_type": "stream",
          "name": "stdout",
          "text": [
            "File: /content/drive/MyDrive/audio_files/Dataset_2_Cleaned/02_ACHE/P13.wav\n",
            "Expected Word: ACHE\n",
            "Detected Word: THANK\n",
            "Correct: 0\n",
            "\n"
          ]
        },
        {
          "output_type": "stream",
          "name": "stderr",
          "text": [
            "\rProcessing audio files:  54%|█████▎    | 564/1050 [59:13<54:15,  6.70s/it]"
          ]
        },
        {
          "output_type": "stream",
          "name": "stdout",
          "text": [
            "File: /content/drive/MyDrive/audio_files/Dataset_2_Cleaned/02_ACHE/P14.wav\n",
            "Expected Word: ACHE\n",
            "Detected Word: \n",
            "Correct: 0\n",
            "\n"
          ]
        },
        {
          "output_type": "stream",
          "name": "stderr",
          "text": [
            "\rProcessing audio files:  54%|█████▍    | 565/1050 [59:18<50:47,  6.28s/it]"
          ]
        },
        {
          "output_type": "stream",
          "name": "stdout",
          "text": [
            "File: /content/drive/MyDrive/audio_files/Dataset_2_Cleaned/02_ACHE/P15.wav\n",
            "Expected Word: ACHE\n",
            "Detected Word: EIGHT\n",
            "Correct: 0\n",
            "\n"
          ]
        },
        {
          "output_type": "stream",
          "name": "stderr",
          "text": [
            "\rProcessing audio files:  54%|█████▍    | 566/1050 [59:29<1:03:02,  7.82s/it]"
          ]
        },
        {
          "output_type": "stream",
          "name": "stdout",
          "text": [
            "File: /content/drive/MyDrive/audio_files/Dataset_2_Cleaned/02_ACHE/P16.wav\n",
            "Expected Word: ACHE\n",
            "Detected Word: \n",
            "Correct: 0\n",
            "\n"
          ]
        },
        {
          "output_type": "stream",
          "name": "stderr",
          "text": [
            "\rProcessing audio files:  54%|█████▍    | 567/1050 [59:38<1:04:57,  8.07s/it]"
          ]
        },
        {
          "output_type": "stream",
          "name": "stdout",
          "text": [
            "File: /content/drive/MyDrive/audio_files/Dataset_2_Cleaned/02_ACHE/P17.wav\n",
            "Expected Word: ACHE\n",
            "Detected Word: EIGHT\n",
            "Correct: 0\n",
            "\n"
          ]
        },
        {
          "output_type": "stream",
          "name": "stderr",
          "text": [
            "\rProcessing audio files:  54%|█████▍    | 568/1050 [59:47<1:06:41,  8.30s/it]"
          ]
        },
        {
          "output_type": "stream",
          "name": "stdout",
          "text": [
            "File: /content/drive/MyDrive/audio_files/Dataset_2_Cleaned/02_ACHE/P18.wav\n",
            "Expected Word: ACHE\n",
            "Detected Word: \n",
            "Correct: 0\n",
            "\n"
          ]
        },
        {
          "output_type": "stream",
          "name": "stderr",
          "text": [
            "\rProcessing audio files:  54%|█████▍    | 569/1050 [59:52<59:02,  7.36s/it]  "
          ]
        },
        {
          "output_type": "stream",
          "name": "stdout",
          "text": [
            "File: /content/drive/MyDrive/audio_files/Dataset_2_Cleaned/02_ACHE/P19.wav\n",
            "Expected Word: ACHE\n",
            "Detected Word: \n",
            "Correct: 0\n",
            "\n"
          ]
        },
        {
          "output_type": "stream",
          "name": "stderr",
          "text": [
            "\rProcessing audio files:  54%|█████▍    | 570/1050 [59:57<53:54,  6.74s/it]"
          ]
        },
        {
          "output_type": "stream",
          "name": "stdout",
          "text": [
            "File: /content/drive/MyDrive/audio_files/Dataset_2_Cleaned/02_ACHE/P20.wav\n",
            "Expected Word: ACHE\n",
            "Detected Word: \n",
            "Correct: 0\n",
            "\n"
          ]
        },
        {
          "output_type": "stream",
          "name": "stderr",
          "text": [
            "\rProcessing audio files:  54%|█████▍    | 571/1050 [1:00:03<50:35,  6.34s/it]"
          ]
        },
        {
          "output_type": "stream",
          "name": "stdout",
          "text": [
            "File: /content/drive/MyDrive/audio_files/Dataset_2_Cleaned/09_NAUSEA/P1.wav\n",
            "Expected Word: NAUSEA\n",
            "Detected Word: NAUSEA\n",
            "Correct: 1\n",
            "\n"
          ]
        },
        {
          "output_type": "stream",
          "name": "stderr",
          "text": [
            "\rProcessing audio files:  54%|█████▍    | 572/1050 [1:00:09<49:19,  6.19s/it]"
          ]
        },
        {
          "output_type": "stream",
          "name": "stdout",
          "text": [
            "File: /content/drive/MyDrive/audio_files/Dataset_2_Cleaned/09_NAUSEA/P2.wav\n",
            "Expected Word: NAUSEA\n",
            "Detected Word: NAUSEA\n",
            "Correct: 1\n",
            "\n"
          ]
        },
        {
          "output_type": "stream",
          "name": "stderr",
          "text": [
            "\rProcessing audio files:  55%|█████▍    | 573/1050 [1:00:14<46:38,  5.87s/it]"
          ]
        },
        {
          "output_type": "stream",
          "name": "stdout",
          "text": [
            "File: /content/drive/MyDrive/audio_files/Dataset_2_Cleaned/09_NAUSEA/P3.wav\n",
            "Expected Word: NAUSEA\n",
            "Detected Word: \n",
            "Correct: 0\n",
            "\n"
          ]
        },
        {
          "output_type": "stream",
          "name": "stderr",
          "text": [
            "\rProcessing audio files:  55%|█████▍    | 574/1050 [1:00:19<44:46,  5.64s/it]"
          ]
        },
        {
          "output_type": "stream",
          "name": "stdout",
          "text": [
            "File: /content/drive/MyDrive/audio_files/Dataset_2_Cleaned/09_NAUSEA/P4.wav\n",
            "Expected Word: NAUSEA\n",
            "Detected Word: NAUSEA\n",
            "Correct: 1\n",
            "\n"
          ]
        },
        {
          "output_type": "stream",
          "name": "stderr",
          "text": [
            "\rProcessing audio files:  55%|█████▍    | 575/1050 [1:00:24<43:56,  5.55s/it]"
          ]
        },
        {
          "output_type": "stream",
          "name": "stdout",
          "text": [
            "File: /content/drive/MyDrive/audio_files/Dataset_2_Cleaned/09_NAUSEA/P5.wav\n",
            "Expected Word: NAUSEA\n",
            "Detected Word: NAUSEA\n",
            "Correct: 1\n",
            "\n"
          ]
        },
        {
          "output_type": "stream",
          "name": "stderr",
          "text": [
            "\rProcessing audio files:  55%|█████▍    | 576/1050 [1:00:30<43:57,  5.56s/it]"
          ]
        },
        {
          "output_type": "stream",
          "name": "stdout",
          "text": [
            "File: /content/drive/MyDrive/audio_files/Dataset_2_Cleaned/09_NAUSEA/P6.wav\n",
            "Expected Word: NAUSEA\n",
            "Detected Word: NO\n",
            "Correct: 0\n",
            "\n"
          ]
        },
        {
          "output_type": "stream",
          "name": "stderr",
          "text": [
            "\rProcessing audio files:  55%|█████▍    | 577/1050 [1:00:38<50:26,  6.40s/it]"
          ]
        },
        {
          "output_type": "stream",
          "name": "stdout",
          "text": [
            "File: /content/drive/MyDrive/audio_files/Dataset_2_Cleaned/09_NAUSEA/P7.wav\n",
            "Expected Word: NAUSEA\n",
            "Detected Word: NAUSEA\n",
            "Correct: 1\n",
            "\n"
          ]
        },
        {
          "output_type": "stream",
          "name": "stderr",
          "text": [
            "\rProcessing audio files:  55%|█████▌    | 578/1050 [1:00:44<48:21,  6.15s/it]"
          ]
        },
        {
          "output_type": "stream",
          "name": "stdout",
          "text": [
            "File: /content/drive/MyDrive/audio_files/Dataset_2_Cleaned/09_NAUSEA/P8.wav\n",
            "Expected Word: NAUSEA\n",
            "Detected Word: \n",
            "Correct: 0\n",
            "\n"
          ]
        },
        {
          "output_type": "stream",
          "name": "stderr",
          "text": [
            "\rProcessing audio files:  55%|█████▌    | 579/1050 [1:00:49<46:27,  5.92s/it]"
          ]
        },
        {
          "output_type": "stream",
          "name": "stdout",
          "text": [
            "File: /content/drive/MyDrive/audio_files/Dataset_2_Cleaned/09_NAUSEA/P9.wav\n",
            "Expected Word: NAUSEA\n",
            "Detected Word: \n",
            "Correct: 0\n",
            "\n"
          ]
        },
        {
          "output_type": "stream",
          "name": "stderr",
          "text": [
            "\rProcessing audio files:  55%|█████▌    | 580/1050 [1:00:55<45:26,  5.80s/it]"
          ]
        },
        {
          "output_type": "stream",
          "name": "stdout",
          "text": [
            "File: /content/drive/MyDrive/audio_files/Dataset_2_Cleaned/09_NAUSEA/P10.wav\n",
            "Expected Word: NAUSEA\n",
            "Detected Word: NO\n",
            "Correct: 0\n",
            "\n"
          ]
        },
        {
          "output_type": "stream",
          "name": "stderr",
          "text": [
            "\rProcessing audio files:  55%|█████▌    | 581/1050 [1:01:00<44:44,  5.72s/it]"
          ]
        },
        {
          "output_type": "stream",
          "name": "stdout",
          "text": [
            "File: /content/drive/MyDrive/audio_files/Dataset_2_Cleaned/09_NAUSEA/P11.wav\n",
            "Expected Word: NAUSEA\n",
            "Detected Word: NAUSEA\n",
            "Correct: 1\n",
            "\n"
          ]
        },
        {
          "output_type": "stream",
          "name": "stderr",
          "text": [
            "\rProcessing audio files:  55%|█████▌    | 582/1050 [1:01:06<43:52,  5.62s/it]"
          ]
        },
        {
          "output_type": "stream",
          "name": "stdout",
          "text": [
            "File: /content/drive/MyDrive/audio_files/Dataset_2_Cleaned/09_NAUSEA/P12.wav\n",
            "Expected Word: NAUSEA\n",
            "Detected Word: NAUSEA\n",
            "Correct: 1\n",
            "\n"
          ]
        },
        {
          "output_type": "stream",
          "name": "stderr",
          "text": [
            "\rProcessing audio files:  56%|█████▌    | 583/1050 [1:01:12<45:08,  5.80s/it]"
          ]
        },
        {
          "output_type": "stream",
          "name": "stdout",
          "text": [
            "File: /content/drive/MyDrive/audio_files/Dataset_2_Cleaned/09_NAUSEA/P13.wav\n",
            "Expected Word: NAUSEA\n",
            "Detected Word: NAUSEA\n",
            "Correct: 1\n",
            "\n"
          ]
        },
        {
          "output_type": "stream",
          "name": "stderr",
          "text": [
            "\rProcessing audio files:  56%|█████▌    | 584/1050 [1:01:18<45:03,  5.80s/it]"
          ]
        },
        {
          "output_type": "stream",
          "name": "stdout",
          "text": [
            "File: /content/drive/MyDrive/audio_files/Dataset_2_Cleaned/09_NAUSEA/P14.wav\n",
            "Expected Word: NAUSEA\n",
            "Detected Word: NAUSEA\n",
            "Correct: 1\n",
            "\n"
          ]
        },
        {
          "output_type": "stream",
          "name": "stderr",
          "text": [
            "\rProcessing audio files:  56%|█████▌    | 585/1050 [1:01:27<52:29,  6.77s/it]"
          ]
        },
        {
          "output_type": "stream",
          "name": "stdout",
          "text": [
            "File: /content/drive/MyDrive/audio_files/Dataset_2_Cleaned/09_NAUSEA/P15.wav\n",
            "Expected Word: NAUSEA\n",
            "Detected Word: NAUSEA\n",
            "Correct: 1\n",
            "\n"
          ]
        },
        {
          "output_type": "stream",
          "name": "stderr",
          "text": [
            "\rProcessing audio files:  56%|█████▌    | 586/1050 [1:01:32<49:06,  6.35s/it]"
          ]
        },
        {
          "output_type": "stream",
          "name": "stdout",
          "text": [
            "File: /content/drive/MyDrive/audio_files/Dataset_2_Cleaned/09_NAUSEA/P16.wav\n",
            "Expected Word: NAUSEA\n",
            "Detected Word: NO\n",
            "Correct: 0\n",
            "\n"
          ]
        },
        {
          "output_type": "stream",
          "name": "stderr",
          "text": [
            "\rProcessing audio files:  56%|█████▌    | 587/1050 [1:01:38<47:14,  6.12s/it]"
          ]
        },
        {
          "output_type": "stream",
          "name": "stdout",
          "text": [
            "File: /content/drive/MyDrive/audio_files/Dataset_2_Cleaned/09_NAUSEA/P17.wav\n",
            "Expected Word: NAUSEA\n",
            "Detected Word: NO\n",
            "Correct: 0\n",
            "\n"
          ]
        },
        {
          "output_type": "stream",
          "name": "stderr",
          "text": [
            "\rProcessing audio files:  56%|█████▌    | 588/1050 [1:01:43<46:00,  5.98s/it]"
          ]
        },
        {
          "output_type": "stream",
          "name": "stdout",
          "text": [
            "File: /content/drive/MyDrive/audio_files/Dataset_2_Cleaned/09_NAUSEA/P18.wav\n",
            "Expected Word: NAUSEA\n",
            "Detected Word: NAUSEA\n",
            "Correct: 1\n",
            "\n"
          ]
        },
        {
          "output_type": "stream",
          "name": "stderr",
          "text": [
            "\rProcessing audio files:  56%|█████▌    | 589/1050 [1:01:49<44:40,  5.81s/it]"
          ]
        },
        {
          "output_type": "stream",
          "name": "stdout",
          "text": [
            "File: /content/drive/MyDrive/audio_files/Dataset_2_Cleaned/09_NAUSEA/P19.wav\n",
            "Expected Word: NAUSEA\n",
            "Detected Word: NAUSEA\n",
            "Correct: 1\n",
            "\n"
          ]
        },
        {
          "output_type": "stream",
          "name": "stderr",
          "text": [
            "\rProcessing audio files:  56%|█████▌    | 590/1050 [1:01:54<43:44,  5.70s/it]"
          ]
        },
        {
          "output_type": "stream",
          "name": "stdout",
          "text": [
            "File: /content/drive/MyDrive/audio_files/Dataset_2_Cleaned/09_NAUSEA/P20.wav\n",
            "Expected Word: NAUSEA\n",
            "Detected Word: \n",
            "Correct: 0\n",
            "\n"
          ]
        },
        {
          "output_type": "stream",
          "name": "stderr",
          "text": [
            "\rProcessing audio files:  56%|█████▋    | 591/1050 [1:01:59<42:53,  5.61s/it]"
          ]
        },
        {
          "output_type": "stream",
          "name": "stdout",
          "text": [
            "File: /content/drive/MyDrive/audio_files/Dataset_2_Cleaned/46_SIDEREAL/P1.wav\n",
            "Expected Word: SIDEREAL\n",
            "Detected Word: \n",
            "Correct: 0\n",
            "\n"
          ]
        },
        {
          "output_type": "stream",
          "name": "stderr",
          "text": [
            "\rProcessing audio files:  56%|█████▋    | 592/1050 [1:02:14<1:04:17,  8.42s/it]"
          ]
        },
        {
          "output_type": "stream",
          "name": "stdout",
          "text": [
            "File: /content/drive/MyDrive/audio_files/Dataset_2_Cleaned/46_SIDEREAL/P2.wav\n",
            "Expected Word: SIDEREAL\n",
            "Detected Word: SIDEREAL\n",
            "Correct: 1\n",
            "\n"
          ]
        },
        {
          "output_type": "stream",
          "name": "stderr",
          "text": [
            "\rProcessing audio files:  56%|█████▋    | 593/1050 [1:02:23<1:04:49,  8.51s/it]"
          ]
        },
        {
          "output_type": "stream",
          "name": "stdout",
          "text": [
            "File: /content/drive/MyDrive/audio_files/Dataset_2_Cleaned/46_SIDEREAL/P3.wav\n",
            "Expected Word: SIDEREAL\n",
            "Detected Word: SO\n",
            "Correct: 0\n",
            "\n"
          ]
        },
        {
          "output_type": "stream",
          "name": "stderr",
          "text": [
            "\rProcessing audio files:  57%|█████▋    | 594/1050 [1:02:38<1:19:56, 10.52s/it]"
          ]
        },
        {
          "output_type": "stream",
          "name": "stdout",
          "text": [
            "File: /content/drive/MyDrive/audio_files/Dataset_2_Cleaned/46_SIDEREAL/P4.wav\n",
            "Expected Word: SIDEREAL\n",
            "Detected Word: \n",
            "Correct: 0\n",
            "\n"
          ]
        },
        {
          "output_type": "stream",
          "name": "stderr",
          "text": [
            "\rProcessing audio files:  57%|█████▋    | 595/1050 [1:02:44<1:08:34,  9.04s/it]"
          ]
        },
        {
          "output_type": "stream",
          "name": "stdout",
          "text": [
            "File: /content/drive/MyDrive/audio_files/Dataset_2_Cleaned/46_SIDEREAL/P5.wav\n",
            "Expected Word: SIDEREAL\n",
            "Detected Word: \n",
            "Correct: 0\n",
            "\n"
          ]
        },
        {
          "output_type": "stream",
          "name": "stderr",
          "text": [
            "\rProcessing audio files:  57%|█████▋    | 596/1050 [1:02:49<1:00:05,  7.94s/it]"
          ]
        },
        {
          "output_type": "stream",
          "name": "stdout",
          "text": [
            "File: /content/drive/MyDrive/audio_files/Dataset_2_Cleaned/46_SIDEREAL/P6.wav\n",
            "Expected Word: SIDEREAL\n",
            "Detected Word: SIDE\n",
            "Correct: 0\n",
            "\n"
          ]
        },
        {
          "output_type": "stream",
          "name": "stderr",
          "text": [
            "\rProcessing audio files:  57%|█████▋    | 597/1050 [1:02:58<1:01:46,  8.18s/it]"
          ]
        },
        {
          "output_type": "stream",
          "name": "stdout",
          "text": [
            "File: /content/drive/MyDrive/audio_files/Dataset_2_Cleaned/46_SIDEREAL/P7.wav\n",
            "Expected Word: SIDEREAL\n",
            "Detected Word: SLIDER\n",
            "Correct: 0\n",
            "\n"
          ]
        },
        {
          "output_type": "stream",
          "name": "stderr",
          "text": [
            "\rProcessing audio files:  57%|█████▋    | 598/1050 [1:03:04<55:55,  7.42s/it]  "
          ]
        },
        {
          "output_type": "stream",
          "name": "stdout",
          "text": [
            "File: /content/drive/MyDrive/audio_files/Dataset_2_Cleaned/46_SIDEREAL/P8.wav\n",
            "Expected Word: SIDEREAL\n",
            "Detected Word: \n",
            "Correct: 0\n",
            "\n"
          ]
        },
        {
          "output_type": "stream",
          "name": "stderr",
          "text": [
            "\rProcessing audio files:  57%|█████▋    | 599/1050 [1:03:13<58:54,  7.84s/it]"
          ]
        },
        {
          "output_type": "stream",
          "name": "stdout",
          "text": [
            "File: /content/drive/MyDrive/audio_files/Dataset_2_Cleaned/46_SIDEREAL/P9.wav\n",
            "Expected Word: SIDEREAL\n",
            "Detected Word: SIDEREAL\n",
            "Correct: 1\n",
            "\n"
          ]
        },
        {
          "output_type": "stream",
          "name": "stderr",
          "text": [
            "\rProcessing audio files:  57%|█████▋    | 600/1050 [1:03:18<53:27,  7.13s/it]"
          ]
        },
        {
          "output_type": "stream",
          "name": "stdout",
          "text": [
            "File: /content/drive/MyDrive/audio_files/Dataset_2_Cleaned/46_SIDEREAL/P10.wav\n",
            "Expected Word: SIDEREAL\n",
            "Detected Word: SIDE\n",
            "Correct: 0\n",
            "\n"
          ]
        },
        {
          "output_type": "stream",
          "name": "stderr",
          "text": [
            "\rProcessing audio files:  57%|█████▋    | 601/1050 [1:03:24<49:47,  6.65s/it]"
          ]
        },
        {
          "output_type": "stream",
          "name": "stdout",
          "text": [
            "File: /content/drive/MyDrive/audio_files/Dataset_2_Cleaned/46_SIDEREAL/P11.wav\n",
            "Expected Word: SIDEREAL\n",
            "Detected Word: \n",
            "Correct: 0\n",
            "\n"
          ]
        },
        {
          "output_type": "stream",
          "name": "stderr",
          "text": [
            "\rProcessing audio files:  57%|█████▋    | 602/1050 [1:03:29<47:10,  6.32s/it]"
          ]
        },
        {
          "output_type": "stream",
          "name": "stdout",
          "text": [
            "File: /content/drive/MyDrive/audio_files/Dataset_2_Cleaned/46_SIDEREAL/P12.wav\n",
            "Expected Word: SIDEREAL\n",
            "Detected Word: SIDE\n",
            "Correct: 0\n",
            "\n"
          ]
        },
        {
          "output_type": "stream",
          "name": "stderr",
          "text": [
            "\rProcessing audio files:  57%|█████▋    | 603/1050 [1:03:35<45:32,  6.11s/it]"
          ]
        },
        {
          "output_type": "stream",
          "name": "stdout",
          "text": [
            "File: /content/drive/MyDrive/audio_files/Dataset_2_Cleaned/46_SIDEREAL/P13.wav\n",
            "Expected Word: SIDEREAL\n",
            "Detected Word: SIDE\n",
            "Correct: 0\n",
            "\n"
          ]
        },
        {
          "output_type": "stream",
          "name": "stderr",
          "text": [
            "\rProcessing audio files:  58%|█████▊    | 604/1050 [1:03:44<51:57,  6.99s/it]"
          ]
        },
        {
          "output_type": "stream",
          "name": "stdout",
          "text": [
            "File: /content/drive/MyDrive/audio_files/Dataset_2_Cleaned/46_SIDEREAL/P14.wav\n",
            "Expected Word: SIDEREAL\n",
            "Detected Word: SIDE\n",
            "Correct: 0\n",
            "\n"
          ]
        },
        {
          "output_type": "stream",
          "name": "stderr",
          "text": [
            "\rProcessing audio files:  58%|█████▊    | 605/1050 [1:03:49<48:19,  6.52s/it]"
          ]
        },
        {
          "output_type": "stream",
          "name": "stdout",
          "text": [
            "File: /content/drive/MyDrive/audio_files/Dataset_2_Cleaned/46_SIDEREAL/P15.wav\n",
            "Expected Word: SIDEREAL\n",
            "Detected Word: \n",
            "Correct: 0\n",
            "\n"
          ]
        },
        {
          "output_type": "stream",
          "name": "stderr",
          "text": [
            "\rProcessing audio files:  58%|█████▊    | 606/1050 [1:03:55<46:08,  6.23s/it]"
          ]
        },
        {
          "output_type": "stream",
          "name": "stdout",
          "text": [
            "File: /content/drive/MyDrive/audio_files/Dataset_2_Cleaned/46_SIDEREAL/P16.wav\n",
            "Expected Word: SIDEREAL\n",
            "Detected Word: \n",
            "Correct: 0\n",
            "\n"
          ]
        },
        {
          "output_type": "stream",
          "name": "stderr",
          "text": [
            "\rProcessing audio files:  58%|█████▊    | 607/1050 [1:04:00<44:33,  6.04s/it]"
          ]
        },
        {
          "output_type": "stream",
          "name": "stdout",
          "text": [
            "File: /content/drive/MyDrive/audio_files/Dataset_2_Cleaned/46_SIDEREAL/P17.wav\n",
            "Expected Word: SIDEREAL\n",
            "Detected Word: \n",
            "Correct: 0\n",
            "\n"
          ]
        },
        {
          "output_type": "stream",
          "name": "stderr",
          "text": [
            "\rProcessing audio files:  58%|█████▊    | 608/1050 [1:04:09<51:00,  6.93s/it]"
          ]
        },
        {
          "output_type": "stream",
          "name": "stdout",
          "text": [
            "File: /content/drive/MyDrive/audio_files/Dataset_2_Cleaned/46_SIDEREAL/P18.wav\n",
            "Expected Word: SIDEREAL\n",
            "Detected Word: \n",
            "Correct: 0\n",
            "\n"
          ]
        },
        {
          "output_type": "stream",
          "name": "stderr",
          "text": [
            "\rProcessing audio files:  58%|█████▊    | 609/1050 [1:04:15<47:32,  6.47s/it]"
          ]
        },
        {
          "output_type": "stream",
          "name": "stdout",
          "text": [
            "File: /content/drive/MyDrive/audio_files/Dataset_2_Cleaned/46_SIDEREAL/P19.wav\n",
            "Expected Word: SIDEREAL\n",
            "Detected Word: \n",
            "Correct: 0\n",
            "\n"
          ]
        },
        {
          "output_type": "stream",
          "name": "stderr",
          "text": [
            "\rProcessing audio files:  58%|█████▊    | 610/1050 [1:04:20<45:17,  6.18s/it]"
          ]
        },
        {
          "output_type": "stream",
          "name": "stdout",
          "text": [
            "File: /content/drive/MyDrive/audio_files/Dataset_2_Cleaned/46_SIDEREAL/P20.wav\n",
            "Expected Word: SIDEREAL\n",
            "Detected Word: SIDE\n",
            "Correct: 0\n",
            "\n"
          ]
        },
        {
          "output_type": "stream",
          "name": "stderr",
          "text": [
            "\rProcessing audio files:  58%|█████▊    | 611/1050 [1:04:26<43:56,  6.01s/it]"
          ]
        },
        {
          "output_type": "stream",
          "name": "stdout",
          "text": [
            "File: /content/drive/MyDrive/audio_files/Dataset_2_Cleaned/35_PLACEBO/P1.wav\n",
            "Expected Word: PLACEBO\n",
            "Detected Word: PLACEBO\n",
            "Correct: 1\n",
            "\n"
          ]
        },
        {
          "output_type": "stream",
          "name": "stderr",
          "text": [
            "\rProcessing audio files:  58%|█████▊    | 612/1050 [1:04:35<50:00,  6.85s/it]"
          ]
        },
        {
          "output_type": "stream",
          "name": "stdout",
          "text": [
            "File: /content/drive/MyDrive/audio_files/Dataset_2_Cleaned/35_PLACEBO/P2.wav\n",
            "Expected Word: PLACEBO\n",
            "Detected Word: PLACEBO\n",
            "Correct: 1\n",
            "\n"
          ]
        },
        {
          "output_type": "stream",
          "name": "stderr",
          "text": [
            "\rProcessing audio files:  58%|█████▊    | 613/1050 [1:04:40<46:45,  6.42s/it]"
          ]
        },
        {
          "output_type": "stream",
          "name": "stdout",
          "text": [
            "File: /content/drive/MyDrive/audio_files/Dataset_2_Cleaned/35_PLACEBO/P3.wav\n",
            "Expected Word: PLACEBO\n",
            "Detected Word: PLACEBO\n",
            "Correct: 1\n",
            "\n"
          ]
        },
        {
          "output_type": "stream",
          "name": "stderr",
          "text": [
            "\rProcessing audio files:  58%|█████▊    | 614/1050 [1:04:46<44:47,  6.16s/it]"
          ]
        },
        {
          "output_type": "stream",
          "name": "stdout",
          "text": [
            "File: /content/drive/MyDrive/audio_files/Dataset_2_Cleaned/35_PLACEBO/P4.wav\n",
            "Expected Word: PLACEBO\n",
            "Detected Word: PLACEBO\n",
            "Correct: 1\n",
            "\n"
          ]
        },
        {
          "output_type": "stream",
          "name": "stderr",
          "text": [
            "\rProcessing audio files:  59%|█████▊    | 615/1050 [1:04:54<50:05,  6.91s/it]"
          ]
        },
        {
          "output_type": "stream",
          "name": "stdout",
          "text": [
            "File: /content/drive/MyDrive/audio_files/Dataset_2_Cleaned/35_PLACEBO/P5.wav\n",
            "Expected Word: PLACEBO\n",
            "Detected Word: \n",
            "Correct: 0\n",
            "\n"
          ]
        },
        {
          "output_type": "stream",
          "name": "stderr",
          "text": [
            "\rProcessing audio files:  59%|█████▊    | 616/1050 [1:05:00<46:51,  6.48s/it]"
          ]
        },
        {
          "output_type": "stream",
          "name": "stdout",
          "text": [
            "File: /content/drive/MyDrive/audio_files/Dataset_2_Cleaned/35_PLACEBO/P6.wav\n",
            "Expected Word: PLACEBO\n",
            "Detected Word: \n",
            "Correct: 0\n",
            "\n"
          ]
        },
        {
          "output_type": "stream",
          "name": "stderr",
          "text": [
            "\rProcessing audio files:  59%|█████▉    | 617/1050 [1:05:05<44:28,  6.16s/it]"
          ]
        },
        {
          "output_type": "stream",
          "name": "stdout",
          "text": [
            "File: /content/drive/MyDrive/audio_files/Dataset_2_Cleaned/35_PLACEBO/P7.wav\n",
            "Expected Word: PLACEBO\n",
            "Detected Word: PLACEBO\n",
            "Correct: 1\n",
            "\n"
          ]
        },
        {
          "output_type": "stream",
          "name": "stderr",
          "text": [
            "\rProcessing audio files:  59%|█████▉    | 618/1050 [1:05:11<42:56,  5.96s/it]"
          ]
        },
        {
          "output_type": "stream",
          "name": "stdout",
          "text": [
            "File: /content/drive/MyDrive/audio_files/Dataset_2_Cleaned/35_PLACEBO/P8.wav\n",
            "Expected Word: PLACEBO\n",
            "Detected Word: PLACEBO\n",
            "Correct: 1\n",
            "\n"
          ]
        },
        {
          "output_type": "stream",
          "name": "stderr",
          "text": [
            "\rProcessing audio files:  59%|█████▉    | 619/1050 [1:05:16<42:09,  5.87s/it]"
          ]
        },
        {
          "output_type": "stream",
          "name": "stdout",
          "text": [
            "File: /content/drive/MyDrive/audio_files/Dataset_2_Cleaned/35_PLACEBO/P9.wav\n",
            "Expected Word: PLACEBO\n",
            "Detected Word: PLACEBO\n",
            "Correct: 1\n",
            "\n"
          ]
        },
        {
          "output_type": "stream",
          "name": "stderr",
          "text": [
            "\rProcessing audio files:  59%|█████▉    | 620/1050 [1:05:22<41:35,  5.80s/it]"
          ]
        },
        {
          "output_type": "stream",
          "name": "stdout",
          "text": [
            "File: /content/drive/MyDrive/audio_files/Dataset_2_Cleaned/35_PLACEBO/P10.wav\n",
            "Expected Word: PLACEBO\n",
            "Detected Word: \n",
            "Correct: 0\n",
            "\n"
          ]
        },
        {
          "output_type": "stream",
          "name": "stderr",
          "text": [
            "\rProcessing audio files:  59%|█████▉    | 621/1050 [1:05:27<40:46,  5.70s/it]"
          ]
        },
        {
          "output_type": "stream",
          "name": "stdout",
          "text": [
            "File: /content/drive/MyDrive/audio_files/Dataset_2_Cleaned/35_PLACEBO/P11.wav\n",
            "Expected Word: PLACEBO\n",
            "Detected Word: PLACEBO\n",
            "Correct: 1\n",
            "\n"
          ]
        },
        {
          "output_type": "stream",
          "name": "stderr",
          "text": [
            "\rProcessing audio files:  59%|█████▉    | 622/1050 [1:05:33<40:39,  5.70s/it]"
          ]
        },
        {
          "output_type": "stream",
          "name": "stdout",
          "text": [
            "File: /content/drive/MyDrive/audio_files/Dataset_2_Cleaned/35_PLACEBO/P12.wav\n",
            "Expected Word: PLACEBO\n",
            "Detected Word: PLACEBO\n",
            "Correct: 1\n",
            "\n"
          ]
        },
        {
          "output_type": "stream",
          "name": "stderr",
          "text": [
            "\rProcessing audio files:  59%|█████▉    | 623/1050 [1:05:39<39:59,  5.62s/it]"
          ]
        },
        {
          "output_type": "stream",
          "name": "stdout",
          "text": [
            "File: /content/drive/MyDrive/audio_files/Dataset_2_Cleaned/35_PLACEBO/P13.wav\n",
            "Expected Word: PLACEBO\n",
            "Detected Word: \n",
            "Correct: 0\n",
            "\n"
          ]
        },
        {
          "output_type": "stream",
          "name": "stderr",
          "text": [
            "\rProcessing audio files:  59%|█████▉    | 624/1050 [1:05:44<39:26,  5.56s/it]"
          ]
        },
        {
          "output_type": "stream",
          "name": "stdout",
          "text": [
            "File: /content/drive/MyDrive/audio_files/Dataset_2_Cleaned/35_PLACEBO/P14.wav\n",
            "Expected Word: PLACEBO\n",
            "Detected Word: PLACEBO\n",
            "Correct: 1\n",
            "\n"
          ]
        },
        {
          "output_type": "stream",
          "name": "stderr",
          "text": [
            "\rProcessing audio files:  60%|█████▉    | 625/1050 [1:05:49<39:05,  5.52s/it]"
          ]
        },
        {
          "output_type": "stream",
          "name": "stdout",
          "text": [
            "File: /content/drive/MyDrive/audio_files/Dataset_2_Cleaned/35_PLACEBO/P15.wav\n",
            "Expected Word: PLACEBO\n",
            "Detected Word: PLACEBO\n",
            "Correct: 1\n",
            "\n"
          ]
        },
        {
          "output_type": "stream",
          "name": "stderr",
          "text": [
            "\rProcessing audio files:  60%|█████▉    | 626/1050 [1:05:55<39:03,  5.53s/it]"
          ]
        },
        {
          "output_type": "stream",
          "name": "stdout",
          "text": [
            "File: /content/drive/MyDrive/audio_files/Dataset_2_Cleaned/35_PLACEBO/P16.wav\n",
            "Expected Word: PLACEBO\n",
            "Detected Word: PLACEBO\n",
            "Correct: 1\n",
            "\n"
          ]
        },
        {
          "output_type": "stream",
          "name": "stderr",
          "text": [
            "\rProcessing audio files:  60%|█████▉    | 627/1050 [1:06:01<39:17,  5.57s/it]"
          ]
        },
        {
          "output_type": "stream",
          "name": "stdout",
          "text": [
            "File: /content/drive/MyDrive/audio_files/Dataset_2_Cleaned/35_PLACEBO/P17.wav\n",
            "Expected Word: PLACEBO\n",
            "Detected Word: PLACEBO\n",
            "Correct: 1\n",
            "\n"
          ]
        },
        {
          "output_type": "stream",
          "name": "stderr",
          "text": [
            "\rProcessing audio files:  60%|█████▉    | 628/1050 [1:06:06<39:02,  5.55s/it]"
          ]
        },
        {
          "output_type": "stream",
          "name": "stdout",
          "text": [
            "File: /content/drive/MyDrive/audio_files/Dataset_2_Cleaned/35_PLACEBO/P18.wav\n",
            "Expected Word: PLACEBO\n",
            "Detected Word: PLACEBO\n",
            "Correct: 1\n",
            "\n"
          ]
        },
        {
          "output_type": "stream",
          "name": "stderr",
          "text": [
            "\rProcessing audio files:  60%|█████▉    | 629/1050 [1:06:21<58:52,  8.39s/it]"
          ]
        },
        {
          "output_type": "stream",
          "name": "stdout",
          "text": [
            "File: /content/drive/MyDrive/audio_files/Dataset_2_Cleaned/35_PLACEBO/P19.wav\n",
            "Expected Word: PLACEBO\n",
            "Detected Word: PLACEBO\n",
            "Correct: 1\n",
            "\n"
          ]
        },
        {
          "output_type": "stream",
          "name": "stderr",
          "text": [
            "\rProcessing audio files:  60%|██████    | 630/1050 [1:06:27<52:30,  7.50s/it]"
          ]
        },
        {
          "output_type": "stream",
          "name": "stdout",
          "text": [
            "File: /content/drive/MyDrive/audio_files/Dataset_2_Cleaned/35_PLACEBO/P20.wav\n",
            "Expected Word: PLACEBO\n",
            "Detected Word: PLACEBO\n",
            "Correct: 1\n",
            "\n"
          ]
        },
        {
          "output_type": "stream",
          "name": "stderr",
          "text": [
            "\rProcessing audio files:  60%|██████    | 631/1050 [1:06:32<47:44,  6.84s/it]"
          ]
        },
        {
          "output_type": "stream",
          "name": "stdout",
          "text": [
            "File: /content/drive/MyDrive/audio_files/Dataset_2_Cleaned/27_SIMILE/P1.wav\n",
            "Expected Word: SIMILE\n",
            "Detected Word: SIMILE\n",
            "Correct: 1\n",
            "\n"
          ]
        },
        {
          "output_type": "stream",
          "name": "stderr",
          "text": [
            "\rProcessing audio files:  60%|██████    | 632/1050 [1:06:37<44:02,  6.32s/it]"
          ]
        },
        {
          "output_type": "stream",
          "name": "stdout",
          "text": [
            "File: /content/drive/MyDrive/audio_files/Dataset_2_Cleaned/27_SIMILE/P2.wav\n",
            "Expected Word: SIMILE\n",
            "Detected Word: \n",
            "Correct: 0\n",
            "\n"
          ]
        },
        {
          "output_type": "stream",
          "name": "stderr",
          "text": [
            "\rProcessing audio files:  60%|██████    | 633/1050 [1:06:42<41:30,  5.97s/it]"
          ]
        },
        {
          "output_type": "stream",
          "name": "stdout",
          "text": [
            "File: /content/drive/MyDrive/audio_files/Dataset_2_Cleaned/27_SIMILE/P3.wav\n",
            "Expected Word: SIMILE\n",
            "Detected Word: SMILE\n",
            "Correct: 0\n",
            "\n"
          ]
        },
        {
          "output_type": "stream",
          "name": "stderr",
          "text": [
            "\rProcessing audio files:  60%|██████    | 634/1050 [1:06:48<40:42,  5.87s/it]"
          ]
        },
        {
          "output_type": "stream",
          "name": "stdout",
          "text": [
            "File: /content/drive/MyDrive/audio_files/Dataset_2_Cleaned/27_SIMILE/P4.wav\n",
            "Expected Word: SIMILE\n",
            "Detected Word: \n",
            "Correct: 0\n",
            "\n"
          ]
        },
        {
          "output_type": "stream",
          "name": "stderr",
          "text": [
            "\rProcessing audio files:  60%|██████    | 635/1050 [1:06:53<39:49,  5.76s/it]"
          ]
        },
        {
          "output_type": "stream",
          "name": "stdout",
          "text": [
            "File: /content/drive/MyDrive/audio_files/Dataset_2_Cleaned/27_SIMILE/P5.wav\n",
            "Expected Word: SIMILE\n",
            "Detected Word: SIMILE\n",
            "Correct: 1\n",
            "\n"
          ]
        },
        {
          "output_type": "stream",
          "name": "stderr",
          "text": [
            "\rProcessing audio files:  61%|██████    | 636/1050 [1:06:59<39:01,  5.66s/it]"
          ]
        },
        {
          "output_type": "stream",
          "name": "stdout",
          "text": [
            "File: /content/drive/MyDrive/audio_files/Dataset_2_Cleaned/27_SIMILE/P6.wav\n",
            "Expected Word: SIMILE\n",
            "Detected Word: \n",
            "Correct: 0\n",
            "\n"
          ]
        },
        {
          "output_type": "stream",
          "name": "stderr",
          "text": [
            "\rProcessing audio files:  61%|██████    | 637/1050 [1:07:04<38:05,  5.53s/it]"
          ]
        },
        {
          "output_type": "stream",
          "name": "stdout",
          "text": [
            "File: /content/drive/MyDrive/audio_files/Dataset_2_Cleaned/27_SIMILE/P7.wav\n",
            "Expected Word: SIMILE\n",
            "Detected Word: SIMILARLY\n",
            "Correct: 0\n",
            "\n"
          ]
        },
        {
          "output_type": "stream",
          "name": "stderr",
          "text": [
            "\rProcessing audio files:  61%|██████    | 638/1050 [1:07:13<44:23,  6.46s/it]"
          ]
        },
        {
          "output_type": "stream",
          "name": "stdout",
          "text": [
            "File: /content/drive/MyDrive/audio_files/Dataset_2_Cleaned/27_SIMILE/P8.wav\n",
            "Expected Word: SIMILE\n",
            "Detected Word: SIMILE\n",
            "Correct: 1\n",
            "\n"
          ]
        },
        {
          "output_type": "stream",
          "name": "stderr",
          "text": [
            "\rProcessing audio files:  61%|██████    | 639/1050 [1:07:21<48:57,  7.15s/it]"
          ]
        },
        {
          "output_type": "stream",
          "name": "stdout",
          "text": [
            "File: /content/drive/MyDrive/audio_files/Dataset_2_Cleaned/27_SIMILE/P9.wav\n",
            "Expected Word: SIMILE\n",
            "Detected Word: SIMILE\n",
            "Correct: 1\n",
            "\n"
          ]
        },
        {
          "output_type": "stream",
          "name": "stderr",
          "text": [
            "\rProcessing audio files:  61%|██████    | 640/1050 [1:07:27<45:21,  6.64s/it]"
          ]
        },
        {
          "output_type": "stream",
          "name": "stdout",
          "text": [
            "File: /content/drive/MyDrive/audio_files/Dataset_2_Cleaned/27_SIMILE/P10.wav\n",
            "Expected Word: SIMILE\n",
            "Detected Word: \n",
            "Correct: 0\n",
            "\n"
          ]
        },
        {
          "output_type": "stream",
          "name": "stderr",
          "text": [
            "\rProcessing audio files:  61%|██████    | 641/1050 [1:07:35<48:58,  7.18s/it]"
          ]
        },
        {
          "output_type": "stream",
          "name": "stdout",
          "text": [
            "File: /content/drive/MyDrive/audio_files/Dataset_2_Cleaned/27_SIMILE/P11.wav\n",
            "Expected Word: SIMILE\n",
            "Detected Word: \n",
            "Correct: 0\n",
            "\n"
          ]
        },
        {
          "output_type": "stream",
          "name": "stderr",
          "text": [
            "\rProcessing audio files:  61%|██████    | 642/1050 [1:07:41<45:03,  6.63s/it]"
          ]
        },
        {
          "output_type": "stream",
          "name": "stdout",
          "text": [
            "File: /content/drive/MyDrive/audio_files/Dataset_2_Cleaned/27_SIMILE/P12.wav\n",
            "Expected Word: SIMILE\n",
            "Detected Word: SIMILE\n",
            "Correct: 1\n",
            "\n"
          ]
        },
        {
          "output_type": "stream",
          "name": "stderr",
          "text": [
            "\rProcessing audio files:  61%|██████    | 643/1050 [1:07:46<42:25,  6.25s/it]"
          ]
        },
        {
          "output_type": "stream",
          "name": "stdout",
          "text": [
            "File: /content/drive/MyDrive/audio_files/Dataset_2_Cleaned/27_SIMILE/P13.wav\n",
            "Expected Word: SIMILE\n",
            "Detected Word: SMILE\n",
            "Correct: 0\n",
            "\n"
          ]
        },
        {
          "output_type": "stream",
          "name": "stderr",
          "text": [
            "\rProcessing audio files:  61%|██████▏   | 644/1050 [1:07:51<40:39,  6.01s/it]"
          ]
        },
        {
          "output_type": "stream",
          "name": "stdout",
          "text": [
            "File: /content/drive/MyDrive/audio_files/Dataset_2_Cleaned/27_SIMILE/P14.wav\n",
            "Expected Word: SIMILE\n",
            "Detected Word: SIMILE\n",
            "Correct: 1\n",
            "\n"
          ]
        },
        {
          "output_type": "stream",
          "name": "stderr",
          "text": [
            "\rProcessing audio files:  61%|██████▏   | 645/1050 [1:07:57<39:21,  5.83s/it]"
          ]
        },
        {
          "output_type": "stream",
          "name": "stdout",
          "text": [
            "File: /content/drive/MyDrive/audio_files/Dataset_2_Cleaned/27_SIMILE/P15.wav\n",
            "Expected Word: SIMILE\n",
            "Detected Word: SIMILE\n",
            "Correct: 1\n",
            "\n"
          ]
        },
        {
          "output_type": "stream",
          "name": "stderr",
          "text": [
            "\rProcessing audio files:  62%|██████▏   | 646/1050 [1:08:02<38:18,  5.69s/it]"
          ]
        },
        {
          "output_type": "stream",
          "name": "stdout",
          "text": [
            "File: /content/drive/MyDrive/audio_files/Dataset_2_Cleaned/27_SIMILE/P16.wav\n",
            "Expected Word: SIMILE\n",
            "Detected Word: SIMILARLY\n",
            "Correct: 0\n",
            "\n"
          ]
        },
        {
          "output_type": "stream",
          "name": "stderr",
          "text": [
            "\rProcessing audio files:  62%|██████▏   | 647/1050 [1:08:08<37:40,  5.61s/it]"
          ]
        },
        {
          "output_type": "stream",
          "name": "stdout",
          "text": [
            "File: /content/drive/MyDrive/audio_files/Dataset_2_Cleaned/27_SIMILE/P17.wav\n",
            "Expected Word: SIMILE\n",
            "Detected Word: SIMILE\n",
            "Correct: 1\n",
            "\n"
          ]
        },
        {
          "output_type": "stream",
          "name": "stderr",
          "text": [
            "\rProcessing audio files:  62%|██████▏   | 648/1050 [1:08:13<37:39,  5.62s/it]"
          ]
        },
        {
          "output_type": "stream",
          "name": "stdout",
          "text": [
            "File: /content/drive/MyDrive/audio_files/Dataset_2_Cleaned/27_SIMILE/P18.wav\n",
            "Expected Word: SIMILE\n",
            "Detected Word: SIMILARLY\n",
            "Correct: 0\n",
            "\n"
          ]
        },
        {
          "output_type": "stream",
          "name": "stderr",
          "text": [
            "\rProcessing audio files:  62%|██████▏   | 649/1050 [1:08:19<37:04,  5.55s/it]"
          ]
        },
        {
          "output_type": "stream",
          "name": "stdout",
          "text": [
            "File: /content/drive/MyDrive/audio_files/Dataset_2_Cleaned/27_SIMILE/P19.wav\n",
            "Expected Word: SIMILE\n",
            "Detected Word: SIMILE\n",
            "Correct: 1\n",
            "\n"
          ]
        },
        {
          "output_type": "stream",
          "name": "stderr",
          "text": [
            "\rProcessing audio files:  62%|██████▏   | 650/1050 [1:08:24<36:24,  5.46s/it]"
          ]
        },
        {
          "output_type": "stream",
          "name": "stdout",
          "text": [
            "File: /content/drive/MyDrive/audio_files/Dataset_2_Cleaned/27_SIMILE/P20.wav\n",
            "Expected Word: SIMILE\n",
            "Detected Word: \n",
            "Correct: 0\n",
            "\n"
          ]
        },
        {
          "output_type": "stream",
          "name": "stderr",
          "text": [
            "\rProcessing audio files:  62%|██████▏   | 651/1050 [1:08:29<35:48,  5.38s/it]"
          ]
        },
        {
          "output_type": "stream",
          "name": "stdout",
          "text": [
            "File: /content/drive/MyDrive/audio_files/Dataset_2_Cleaned/42_TOPIARY/P1.wav\n",
            "Expected Word: TOPIARY\n",
            "Detected Word: HOPE\n",
            "Correct: 0\n",
            "\n"
          ]
        },
        {
          "output_type": "stream",
          "name": "stderr",
          "text": [
            "\rProcessing audio files:  62%|██████▏   | 652/1050 [1:08:34<35:17,  5.32s/it]"
          ]
        },
        {
          "output_type": "stream",
          "name": "stdout",
          "text": [
            "File: /content/drive/MyDrive/audio_files/Dataset_2_Cleaned/42_TOPIARY/P2.wav\n",
            "Expected Word: TOPIARY\n",
            "Detected Word: TOPIARY\n",
            "Correct: 1\n",
            "\n"
          ]
        },
        {
          "output_type": "stream",
          "name": "stderr",
          "text": [
            "\rProcessing audio files:  62%|██████▏   | 653/1050 [1:08:46<47:52,  7.24s/it]"
          ]
        },
        {
          "output_type": "stream",
          "name": "stdout",
          "text": [
            "File: /content/drive/MyDrive/audio_files/Dataset_2_Cleaned/42_TOPIARY/P3.wav\n",
            "Expected Word: TOPIARY\n",
            "Detected Word: TO\n",
            "Correct: 0\n",
            "\n"
          ]
        },
        {
          "output_type": "stream",
          "name": "stderr",
          "text": [
            "\rProcessing audio files:  62%|██████▏   | 654/1050 [1:08:51<44:07,  6.69s/it]"
          ]
        },
        {
          "output_type": "stream",
          "name": "stdout",
          "text": [
            "File: /content/drive/MyDrive/audio_files/Dataset_2_Cleaned/42_TOPIARY/P4.wav\n",
            "Expected Word: TOPIARY\n",
            "Detected Word: POTPOURRI\n",
            "Correct: 0\n",
            "\n"
          ]
        },
        {
          "output_type": "stream",
          "name": "stderr",
          "text": [
            "\rProcessing audio files:  62%|██████▏   | 655/1050 [1:08:57<41:50,  6.36s/it]"
          ]
        },
        {
          "output_type": "stream",
          "name": "stdout",
          "text": [
            "File: /content/drive/MyDrive/audio_files/Dataset_2_Cleaned/42_TOPIARY/P5.wav\n",
            "Expected Word: TOPIARY\n",
            "Detected Word: TOPIARY\n",
            "Correct: 1\n",
            "\n"
          ]
        },
        {
          "output_type": "stream",
          "name": "stderr",
          "text": [
            "\rProcessing audio files:  62%|██████▏   | 656/1050 [1:09:02<40:08,  6.11s/it]"
          ]
        },
        {
          "output_type": "stream",
          "name": "stdout",
          "text": [
            "File: /content/drive/MyDrive/audio_files/Dataset_2_Cleaned/42_TOPIARY/P6.wav\n",
            "Expected Word: TOPIARY\n",
            "Detected Word: \n",
            "Correct: 0\n",
            "\n"
          ]
        },
        {
          "output_type": "stream",
          "name": "stderr",
          "text": [
            "\rProcessing audio files:  63%|██████▎   | 657/1050 [1:09:08<38:57,  5.95s/it]"
          ]
        },
        {
          "output_type": "stream",
          "name": "stdout",
          "text": [
            "File: /content/drive/MyDrive/audio_files/Dataset_2_Cleaned/42_TOPIARY/P7.wav\n",
            "Expected Word: TOPIARY\n",
            "Detected Word: TOTE\n",
            "Correct: 0\n",
            "\n"
          ]
        },
        {
          "output_type": "stream",
          "name": "stderr",
          "text": [
            "\rProcessing audio files:  63%|██████▎   | 658/1050 [1:09:14<37:55,  5.81s/it]"
          ]
        },
        {
          "output_type": "stream",
          "name": "stdout",
          "text": [
            "File: /content/drive/MyDrive/audio_files/Dataset_2_Cleaned/42_TOPIARY/P8.wav\n",
            "Expected Word: TOPIARY\n",
            "Detected Word: TOPIARY\n",
            "Correct: 1\n",
            "\n"
          ]
        },
        {
          "output_type": "stream",
          "name": "stderr",
          "text": [
            "\rProcessing audio files:  63%|██████▎   | 659/1050 [1:09:19<37:15,  5.72s/it]"
          ]
        },
        {
          "output_type": "stream",
          "name": "stdout",
          "text": [
            "File: /content/drive/MyDrive/audio_files/Dataset_2_Cleaned/42_TOPIARY/P9.wav\n",
            "Expected Word: TOPIARY\n",
            "Detected Word: \n",
            "Correct: 0\n",
            "\n"
          ]
        },
        {
          "output_type": "stream",
          "name": "stderr",
          "text": [
            "\rProcessing audio files:  63%|██████▎   | 660/1050 [1:09:24<36:26,  5.61s/it]"
          ]
        },
        {
          "output_type": "stream",
          "name": "stdout",
          "text": [
            "File: /content/drive/MyDrive/audio_files/Dataset_2_Cleaned/42_TOPIARY/P10.wav\n",
            "Expected Word: TOPIARY\n",
            "Detected Word: TO\n",
            "Correct: 0\n",
            "\n"
          ]
        },
        {
          "output_type": "stream",
          "name": "stderr",
          "text": [
            "\rProcessing audio files:  63%|██████▎   | 661/1050 [1:09:30<35:41,  5.51s/it]"
          ]
        },
        {
          "output_type": "stream",
          "name": "stdout",
          "text": [
            "File: /content/drive/MyDrive/audio_files/Dataset_2_Cleaned/42_TOPIARY/P11.wav\n",
            "Expected Word: TOPIARY\n",
            "Detected Word: TOY\n",
            "Correct: 0\n",
            "\n"
          ]
        },
        {
          "output_type": "stream",
          "name": "stderr",
          "text": [
            "\rProcessing audio files:  63%|██████▎   | 662/1050 [1:09:35<35:13,  5.45s/it]"
          ]
        },
        {
          "output_type": "stream",
          "name": "stdout",
          "text": [
            "File: /content/drive/MyDrive/audio_files/Dataset_2_Cleaned/42_TOPIARY/P12.wav\n",
            "Expected Word: TOPIARY\n",
            "Detected Word: \n",
            "Correct: 0\n",
            "\n"
          ]
        },
        {
          "output_type": "stream",
          "name": "stderr",
          "text": [
            "\rProcessing audio files:  63%|██████▎   | 663/1050 [1:09:40<34:50,  5.40s/it]"
          ]
        },
        {
          "output_type": "stream",
          "name": "stdout",
          "text": [
            "File: /content/drive/MyDrive/audio_files/Dataset_2_Cleaned/42_TOPIARY/P13.wav\n",
            "Expected Word: TOPIARY\n",
            "Detected Word: SOME\n",
            "Correct: 0\n",
            "\n"
          ]
        },
        {
          "output_type": "stream",
          "name": "stderr",
          "text": [
            "\rProcessing audio files:  63%|██████▎   | 664/1050 [1:09:46<34:52,  5.42s/it]"
          ]
        },
        {
          "output_type": "stream",
          "name": "stdout",
          "text": [
            "File: /content/drive/MyDrive/audio_files/Dataset_2_Cleaned/42_TOPIARY/P14.wav\n",
            "Expected Word: TOPIARY\n",
            "Detected Word: TO\n",
            "Correct: 0\n",
            "\n"
          ]
        },
        {
          "output_type": "stream",
          "name": "stderr",
          "text": [
            "\rProcessing audio files:  63%|██████▎   | 665/1050 [1:09:51<34:45,  5.42s/it]"
          ]
        },
        {
          "output_type": "stream",
          "name": "stdout",
          "text": [
            "File: /content/drive/MyDrive/audio_files/Dataset_2_Cleaned/42_TOPIARY/P15.wav\n",
            "Expected Word: TOPIARY\n",
            "Detected Word: \n",
            "Correct: 0\n",
            "\n"
          ]
        },
        {
          "output_type": "stream",
          "name": "stderr",
          "text": [
            "\rProcessing audio files:  63%|██████▎   | 666/1050 [1:10:00<41:19,  6.46s/it]"
          ]
        },
        {
          "output_type": "stream",
          "name": "stdout",
          "text": [
            "File: /content/drive/MyDrive/audio_files/Dataset_2_Cleaned/42_TOPIARY/P16.wav\n",
            "Expected Word: TOPIARY\n",
            "Detected Word: TO\n",
            "Correct: 0\n",
            "\n"
          ]
        },
        {
          "output_type": "stream",
          "name": "stderr",
          "text": [
            "\rProcessing audio files:  64%|██████▎   | 667/1050 [1:10:05<39:22,  6.17s/it]"
          ]
        },
        {
          "output_type": "stream",
          "name": "stdout",
          "text": [
            "File: /content/drive/MyDrive/audio_files/Dataset_2_Cleaned/42_TOPIARY/P17.wav\n",
            "Expected Word: TOPIARY\n",
            "Detected Word: \n",
            "Correct: 0\n",
            "\n"
          ]
        },
        {
          "output_type": "stream",
          "name": "stderr",
          "text": [
            "\rProcessing audio files:  64%|██████▎   | 668/1050 [1:10:11<37:58,  5.96s/it]"
          ]
        },
        {
          "output_type": "stream",
          "name": "stdout",
          "text": [
            "File: /content/drive/MyDrive/audio_files/Dataset_2_Cleaned/42_TOPIARY/P18.wav\n",
            "Expected Word: TOPIARY\n",
            "Detected Word: \n",
            "Correct: 0\n",
            "\n"
          ]
        },
        {
          "output_type": "stream",
          "name": "stderr",
          "text": [
            "\rProcessing audio files:  64%|██████▎   | 669/1050 [1:10:20<42:56,  6.76s/it]"
          ]
        },
        {
          "output_type": "stream",
          "name": "stdout",
          "text": [
            "File: /content/drive/MyDrive/audio_files/Dataset_2_Cleaned/42_TOPIARY/P19.wav\n",
            "Expected Word: TOPIARY\n",
            "Detected Word: SO\n",
            "Correct: 0\n",
            "\n"
          ]
        },
        {
          "output_type": "stream",
          "name": "stderr",
          "text": [
            "\rProcessing audio files:  64%|██████▍   | 670/1050 [1:10:25<40:12,  6.35s/it]"
          ]
        },
        {
          "output_type": "stream",
          "name": "stdout",
          "text": [
            "File: /content/drive/MyDrive/audio_files/Dataset_2_Cleaned/42_TOPIARY/P20.wav\n",
            "Expected Word: TOPIARY\n",
            "Detected Word: \n",
            "Correct: 0\n",
            "\n"
          ]
        },
        {
          "output_type": "stream",
          "name": "stderr",
          "text": [
            "\rProcessing audio files:  64%|██████▍   | 671/1050 [1:10:30<38:18,  6.06s/it]"
          ]
        },
        {
          "output_type": "stream",
          "name": "stdout",
          "text": [
            "File: /content/drive/MyDrive/audio_files/Dataset_2_Cleaned/16_GAOLED/P1.wav\n",
            "Expected Word: GAOLED\n",
            "Detected Word: \n",
            "Correct: 0\n",
            "\n"
          ]
        },
        {
          "output_type": "stream",
          "name": "stderr",
          "text": [
            "\rProcessing audio files:  64%|██████▍   | 672/1050 [1:10:35<36:10,  5.74s/it]"
          ]
        },
        {
          "output_type": "stream",
          "name": "stdout",
          "text": [
            "File: /content/drive/MyDrive/audio_files/Dataset_2_Cleaned/16_GAOLED/P2.wav\n",
            "Expected Word: GAOLED\n",
            "Detected Word: GO\n",
            "Correct: 0\n",
            "\n"
          ]
        },
        {
          "output_type": "stream",
          "name": "stderr",
          "text": [
            "\rProcessing audio files:  64%|██████▍   | 673/1050 [1:10:41<35:05,  5.58s/it]"
          ]
        },
        {
          "output_type": "stream",
          "name": "stdout",
          "text": [
            "File: /content/drive/MyDrive/audio_files/Dataset_2_Cleaned/16_GAOLED/P3.wav\n",
            "Expected Word: GAOLED\n",
            "Detected Word: \n",
            "Correct: 0\n",
            "\n"
          ]
        },
        {
          "output_type": "stream",
          "name": "stderr",
          "text": [
            "\rProcessing audio files:  64%|██████▍   | 674/1050 [1:10:46<34:45,  5.55s/it]"
          ]
        },
        {
          "output_type": "stream",
          "name": "stdout",
          "text": [
            "File: /content/drive/MyDrive/audio_files/Dataset_2_Cleaned/16_GAOLED/P4.wav\n",
            "Expected Word: GAOLED\n",
            "Detected Word: GOOD\n",
            "Correct: 0\n",
            "\n"
          ]
        },
        {
          "output_type": "stream",
          "name": "stderr",
          "text": [
            "\rProcessing audio files:  64%|██████▍   | 675/1050 [1:10:51<34:19,  5.49s/it]"
          ]
        },
        {
          "output_type": "stream",
          "name": "stdout",
          "text": [
            "File: /content/drive/MyDrive/audio_files/Dataset_2_Cleaned/16_GAOLED/P5.wav\n",
            "Expected Word: GAOLED\n",
            "Detected Word: \n",
            "Correct: 0\n",
            "\n"
          ]
        },
        {
          "output_type": "stream",
          "name": "stderr",
          "text": [
            "\rProcessing audio files:  64%|██████▍   | 676/1050 [1:10:57<34:33,  5.54s/it]"
          ]
        },
        {
          "output_type": "stream",
          "name": "stdout",
          "text": [
            "File: /content/drive/MyDrive/audio_files/Dataset_2_Cleaned/16_GAOLED/P6.wav\n",
            "Expected Word: GAOLED\n",
            "Detected Word: \n",
            "Correct: 0\n",
            "\n"
          ]
        },
        {
          "output_type": "stream",
          "name": "stderr",
          "text": [
            "\rProcessing audio files:  64%|██████▍   | 677/1050 [1:11:02<33:44,  5.43s/it]"
          ]
        },
        {
          "output_type": "stream",
          "name": "stdout",
          "text": [
            "File: /content/drive/MyDrive/audio_files/Dataset_2_Cleaned/16_GAOLED/P7.wav\n",
            "Expected Word: GAOLED\n",
            "Detected Word: \n",
            "Correct: 0\n",
            "\n"
          ]
        },
        {
          "output_type": "stream",
          "name": "stderr",
          "text": [
            "\rProcessing audio files:  65%|██████▍   | 678/1050 [1:11:08<33:57,  5.48s/it]"
          ]
        },
        {
          "output_type": "stream",
          "name": "stdout",
          "text": [
            "File: /content/drive/MyDrive/audio_files/Dataset_2_Cleaned/16_GAOLED/P8.wav\n",
            "Expected Word: GAOLED\n",
            "Detected Word: GO\n",
            "Correct: 0\n",
            "\n"
          ]
        },
        {
          "output_type": "stream",
          "name": "stderr",
          "text": [
            "\rProcessing audio files:  65%|██████▍   | 679/1050 [1:11:13<33:21,  5.40s/it]"
          ]
        },
        {
          "output_type": "stream",
          "name": "stdout",
          "text": [
            "File: /content/drive/MyDrive/audio_files/Dataset_2_Cleaned/16_GAOLED/P9.wav\n",
            "Expected Word: GAOLED\n",
            "Detected Word: \n",
            "Correct: 0\n",
            "\n"
          ]
        },
        {
          "output_type": "stream",
          "name": "stderr",
          "text": [
            "\rProcessing audio files:  65%|██████▍   | 680/1050 [1:11:22<39:35,  6.42s/it]"
          ]
        },
        {
          "output_type": "stream",
          "name": "stdout",
          "text": [
            "File: /content/drive/MyDrive/audio_files/Dataset_2_Cleaned/16_GAOLED/P10.wav\n",
            "Expected Word: GAOLED\n",
            "Detected Word: \n",
            "Correct: 0\n",
            "\n"
          ]
        },
        {
          "output_type": "stream",
          "name": "stderr",
          "text": [
            "\rProcessing audio files:  65%|██████▍   | 681/1050 [1:11:30<43:03,  7.00s/it]"
          ]
        },
        {
          "output_type": "stream",
          "name": "stdout",
          "text": [
            "File: /content/drive/MyDrive/audio_files/Dataset_2_Cleaned/16_GAOLED/P11.wav\n",
            "Expected Word: GAOLED\n",
            "Detected Word: JAILED\n",
            "Correct: 0\n",
            "\n"
          ]
        },
        {
          "output_type": "stream",
          "name": "stderr",
          "text": [
            "\rProcessing audio files:  65%|██████▍   | 682/1050 [1:11:36<40:11,  6.55s/it]"
          ]
        },
        {
          "output_type": "stream",
          "name": "stdout",
          "text": [
            "File: /content/drive/MyDrive/audio_files/Dataset_2_Cleaned/16_GAOLED/P12.wav\n",
            "Expected Word: GAOLED\n",
            "Detected Word: JAILED\n",
            "Correct: 0\n",
            "\n"
          ]
        },
        {
          "output_type": "stream",
          "name": "stderr",
          "text": [
            "\rProcessing audio files:  65%|██████▌   | 683/1050 [1:11:44<43:36,  7.13s/it]"
          ]
        },
        {
          "output_type": "stream",
          "name": "stdout",
          "text": [
            "File: /content/drive/MyDrive/audio_files/Dataset_2_Cleaned/16_GAOLED/P13.wav\n",
            "Expected Word: GAOLED\n",
            "Detected Word: JAMES\n",
            "Correct: 0\n",
            "\n"
          ]
        },
        {
          "output_type": "stream",
          "name": "stderr",
          "text": [
            "\rProcessing audio files:  65%|██████▌   | 684/1050 [1:11:50<40:24,  6.63s/it]"
          ]
        },
        {
          "output_type": "stream",
          "name": "stdout",
          "text": [
            "File: /content/drive/MyDrive/audio_files/Dataset_2_Cleaned/16_GAOLED/P14.wav\n",
            "Expected Word: GAOLED\n",
            "Detected Word: GANG\n",
            "Correct: 0\n",
            "\n"
          ]
        },
        {
          "output_type": "stream",
          "name": "stderr",
          "text": [
            "\rProcessing audio files:  65%|██████▌   | 685/1050 [1:11:55<38:13,  6.28s/it]"
          ]
        },
        {
          "output_type": "stream",
          "name": "stdout",
          "text": [
            "File: /content/drive/MyDrive/audio_files/Dataset_2_Cleaned/16_GAOLED/P15.wav\n",
            "Expected Word: GAOLED\n",
            "Detected Word: \n",
            "Correct: 0\n",
            "\n"
          ]
        },
        {
          "output_type": "stream",
          "name": "stderr",
          "text": [
            "\rProcessing audio files:  65%|██████▌   | 686/1050 [1:12:01<36:39,  6.04s/it]"
          ]
        },
        {
          "output_type": "stream",
          "name": "stdout",
          "text": [
            "File: /content/drive/MyDrive/audio_files/Dataset_2_Cleaned/16_GAOLED/P16.wav\n",
            "Expected Word: GAOLED\n",
            "Detected Word: \n",
            "Correct: 0\n",
            "\n"
          ]
        },
        {
          "output_type": "stream",
          "name": "stderr",
          "text": [
            "\rProcessing audio files:  65%|██████▌   | 687/1050 [1:12:09<41:27,  6.85s/it]"
          ]
        },
        {
          "output_type": "stream",
          "name": "stdout",
          "text": [
            "File: /content/drive/MyDrive/audio_files/Dataset_2_Cleaned/16_GAOLED/P17.wav\n",
            "Expected Word: GAOLED\n",
            "Detected Word: J\n",
            "Correct: 0\n",
            "\n"
          ]
        },
        {
          "output_type": "stream",
          "name": "stderr",
          "text": [
            "\rProcessing audio files:  66%|██████▌   | 688/1050 [1:12:15<38:26,  6.37s/it]"
          ]
        },
        {
          "output_type": "stream",
          "name": "stdout",
          "text": [
            "File: /content/drive/MyDrive/audio_files/Dataset_2_Cleaned/16_GAOLED/P18.wav\n",
            "Expected Word: GAOLED\n",
            "Detected Word: GAY\n",
            "Correct: 0\n",
            "\n"
          ]
        },
        {
          "output_type": "stream",
          "name": "stderr",
          "text": [
            "\rProcessing audio files:  66%|██████▌   | 689/1050 [1:12:23<42:21,  7.04s/it]"
          ]
        },
        {
          "output_type": "stream",
          "name": "stdout",
          "text": [
            "File: /content/drive/MyDrive/audio_files/Dataset_2_Cleaned/16_GAOLED/P19.wav\n",
            "Expected Word: GAOLED\n",
            "Detected Word: JAILED\n",
            "Correct: 0\n",
            "\n"
          ]
        },
        {
          "output_type": "stream",
          "name": "stderr",
          "text": [
            "\rProcessing audio files:  66%|██████▌   | 690/1050 [1:12:32<45:09,  7.53s/it]"
          ]
        },
        {
          "output_type": "stream",
          "name": "stdout",
          "text": [
            "File: /content/drive/MyDrive/audio_files/Dataset_2_Cleaned/16_GAOLED/P20.wav\n",
            "Expected Word: GAOLED\n",
            "Detected Word: JAILED\n",
            "Correct: 0\n",
            "\n"
          ]
        },
        {
          "output_type": "stream",
          "name": "stderr",
          "text": [
            "\rProcessing audio files:  66%|██████▌   | 691/1050 [1:12:37<41:16,  6.90s/it]"
          ]
        },
        {
          "output_type": "stream",
          "name": "stdout",
          "text": [
            "File: /content/drive/MyDrive/audio_files/Dataset_2_Cleaned/23_PROCREATE/P1.wav\n",
            "Expected Word: PROCREATE\n",
            "Detected Word: APPROPRIATE\n",
            "Correct: 0\n",
            "\n"
          ]
        },
        {
          "output_type": "stream",
          "name": "stderr",
          "text": [
            "\rProcessing audio files:  66%|██████▌   | 692/1050 [1:12:43<38:41,  6.48s/it]"
          ]
        },
        {
          "output_type": "stream",
          "name": "stdout",
          "text": [
            "File: /content/drive/MyDrive/audio_files/Dataset_2_Cleaned/23_PROCREATE/P2.wav\n",
            "Expected Word: PROCREATE\n",
            "Detected Word: \n",
            "Correct: 0\n",
            "\n"
          ]
        },
        {
          "output_type": "stream",
          "name": "stderr",
          "text": [
            "\rProcessing audio files:  66%|██████▌   | 693/1050 [1:12:48<36:57,  6.21s/it]"
          ]
        },
        {
          "output_type": "stream",
          "name": "stdout",
          "text": [
            "File: /content/drive/MyDrive/audio_files/Dataset_2_Cleaned/23_PROCREATE/P3.wav\n",
            "Expected Word: PROCREATE\n",
            "Detected Word: PROCREATE\n",
            "Correct: 1\n",
            "\n"
          ]
        },
        {
          "output_type": "stream",
          "name": "stderr",
          "text": [
            "\rProcessing audio files:  66%|██████▌   | 694/1050 [1:12:57<41:10,  6.94s/it]"
          ]
        },
        {
          "output_type": "stream",
          "name": "stdout",
          "text": [
            "File: /content/drive/MyDrive/audio_files/Dataset_2_Cleaned/23_PROCREATE/P4.wav\n",
            "Expected Word: PROCREATE\n",
            "Detected Word: PROCREATE\n",
            "Correct: 1\n",
            "\n"
          ]
        },
        {
          "output_type": "stream",
          "name": "stderr",
          "text": [
            "\rProcessing audio files:  66%|██████▌   | 695/1050 [1:13:02<38:17,  6.47s/it]"
          ]
        },
        {
          "output_type": "stream",
          "name": "stdout",
          "text": [
            "File: /content/drive/MyDrive/audio_files/Dataset_2_Cleaned/23_PROCREATE/P5.wav\n",
            "Expected Word: PROCREATE\n",
            "Detected Word: CREATE\n",
            "Correct: 0\n",
            "\n"
          ]
        },
        {
          "output_type": "stream",
          "name": "stderr",
          "text": [
            "\rProcessing audio files:  66%|██████▋   | 696/1050 [1:13:08<36:09,  6.13s/it]"
          ]
        },
        {
          "output_type": "stream",
          "name": "stdout",
          "text": [
            "File: /content/drive/MyDrive/audio_files/Dataset_2_Cleaned/23_PROCREATE/P6.wav\n",
            "Expected Word: PROCREATE\n",
            "Detected Word: \n",
            "Correct: 0\n",
            "\n"
          ]
        },
        {
          "output_type": "stream",
          "name": "stderr",
          "text": [
            "\rProcessing audio files:  66%|██████▋   | 697/1050 [1:13:13<35:13,  5.99s/it]"
          ]
        },
        {
          "output_type": "stream",
          "name": "stdout",
          "text": [
            "File: /content/drive/MyDrive/audio_files/Dataset_2_Cleaned/23_PROCREATE/P7.wav\n",
            "Expected Word: PROCREATE\n",
            "Detected Word: \n",
            "Correct: 0\n",
            "\n"
          ]
        },
        {
          "output_type": "stream",
          "name": "stderr",
          "text": [
            "\rProcessing audio files:  66%|██████▋   | 698/1050 [1:13:19<34:12,  5.83s/it]"
          ]
        },
        {
          "output_type": "stream",
          "name": "stdout",
          "text": [
            "File: /content/drive/MyDrive/audio_files/Dataset_2_Cleaned/23_PROCREATE/P8.wav\n",
            "Expected Word: PROCREATE\n",
            "Detected Word: \n",
            "Correct: 0\n",
            "\n"
          ]
        },
        {
          "output_type": "stream",
          "name": "stderr",
          "text": [
            "\rProcessing audio files:  67%|██████▋   | 699/1050 [1:13:24<33:07,  5.66s/it]"
          ]
        },
        {
          "output_type": "stream",
          "name": "stdout",
          "text": [
            "File: /content/drive/MyDrive/audio_files/Dataset_2_Cleaned/23_PROCREATE/P9.wav\n",
            "Expected Word: PROCREATE\n",
            "Detected Word: \n",
            "Correct: 0\n",
            "\n"
          ]
        },
        {
          "output_type": "stream",
          "name": "stderr",
          "text": [
            "\rProcessing audio files:  67%|██████▋   | 700/1050 [1:13:29<32:16,  5.53s/it]"
          ]
        },
        {
          "output_type": "stream",
          "name": "stdout",
          "text": [
            "File: /content/drive/MyDrive/audio_files/Dataset_2_Cleaned/23_PROCREATE/P10.wav\n",
            "Expected Word: PROCREATE\n",
            "Detected Word: APPROPRIATE\n",
            "Correct: 0\n",
            "\n"
          ]
        },
        {
          "output_type": "stream",
          "name": "stderr",
          "text": [
            "\rProcessing audio files:  67%|██████▋   | 701/1050 [1:13:35<32:29,  5.58s/it]"
          ]
        },
        {
          "output_type": "stream",
          "name": "stdout",
          "text": [
            "File: /content/drive/MyDrive/audio_files/Dataset_2_Cleaned/23_PROCREATE/P11.wav\n",
            "Expected Word: PROCREATE\n",
            "Detected Word: APPROPRIATE\n",
            "Correct: 0\n",
            "\n"
          ]
        },
        {
          "output_type": "stream",
          "name": "stderr",
          "text": [
            "\rProcessing audio files:  67%|██████▋   | 702/1050 [1:13:40<32:05,  5.53s/it]"
          ]
        },
        {
          "output_type": "stream",
          "name": "stdout",
          "text": [
            "File: /content/drive/MyDrive/audio_files/Dataset_2_Cleaned/23_PROCREATE/P12.wav\n",
            "Expected Word: PROCREATE\n",
            "Detected Word: \n",
            "Correct: 0\n",
            "\n"
          ]
        },
        {
          "output_type": "stream",
          "name": "stderr",
          "text": [
            "\rProcessing audio files:  67%|██████▋   | 703/1050 [1:13:46<31:26,  5.44s/it]"
          ]
        },
        {
          "output_type": "stream",
          "name": "stdout",
          "text": [
            "File: /content/drive/MyDrive/audio_files/Dataset_2_Cleaned/23_PROCREATE/P13.wav\n",
            "Expected Word: PROCREATE\n",
            "Detected Word: \n",
            "Correct: 0\n",
            "\n"
          ]
        },
        {
          "output_type": "stream",
          "name": "stderr",
          "text": [
            "\rProcessing audio files:  67%|██████▋   | 704/1050 [1:13:55<37:29,  6.50s/it]"
          ]
        },
        {
          "output_type": "stream",
          "name": "stdout",
          "text": [
            "File: /content/drive/MyDrive/audio_files/Dataset_2_Cleaned/23_PROCREATE/P14.wav\n",
            "Expected Word: PROCREATE\n",
            "Detected Word: \n",
            "Correct: 0\n",
            "\n"
          ]
        },
        {
          "output_type": "stream",
          "name": "stderr",
          "text": [
            "\rProcessing audio files:  67%|██████▋   | 705/1050 [1:14:13<57:34, 10.01s/it]"
          ]
        },
        {
          "output_type": "stream",
          "name": "stdout",
          "text": [
            "File: /content/drive/MyDrive/audio_files/Dataset_2_Cleaned/23_PROCREATE/P15.wav\n",
            "Expected Word: PROCREATE\n",
            "Detected Word: PROCREATE\n",
            "Correct: 1\n",
            "\n"
          ]
        },
        {
          "output_type": "stream",
          "name": "stderr",
          "text": [
            "\rProcessing audio files:  67%|██████▋   | 706/1050 [1:14:18<49:48,  8.69s/it]"
          ]
        },
        {
          "output_type": "stream",
          "name": "stdout",
          "text": [
            "File: /content/drive/MyDrive/audio_files/Dataset_2_Cleaned/23_PROCREATE/P16.wav\n",
            "Expected Word: PROCREATE\n",
            "Detected Word: \n",
            "Correct: 0\n",
            "\n"
          ]
        },
        {
          "output_type": "stream",
          "name": "stderr",
          "text": [
            "\rProcessing audio files:  67%|██████▋   | 707/1050 [1:14:24<44:06,  7.72s/it]"
          ]
        },
        {
          "output_type": "stream",
          "name": "stdout",
          "text": [
            "File: /content/drive/MyDrive/audio_files/Dataset_2_Cleaned/23_PROCREATE/P17.wav\n",
            "Expected Word: PROCREATE\n",
            "Detected Word: PROCREATE\n",
            "Correct: 1\n",
            "\n"
          ]
        },
        {
          "output_type": "stream",
          "name": "stderr",
          "text": [
            "\rProcessing audio files:  67%|██████▋   | 708/1050 [1:14:30<40:46,  7.15s/it]"
          ]
        },
        {
          "output_type": "stream",
          "name": "stdout",
          "text": [
            "File: /content/drive/MyDrive/audio_files/Dataset_2_Cleaned/23_PROCREATE/P18.wav\n",
            "Expected Word: PROCREATE\n",
            "Detected Word: PROCREATE\n",
            "Correct: 1\n",
            "\n"
          ]
        },
        {
          "output_type": "stream",
          "name": "stderr",
          "text": [
            "\rProcessing audio files:  68%|██████▊   | 709/1050 [1:14:39<43:29,  7.65s/it]"
          ]
        },
        {
          "output_type": "stream",
          "name": "stdout",
          "text": [
            "File: /content/drive/MyDrive/audio_files/Dataset_2_Cleaned/23_PROCREATE/P19.wav\n",
            "Expected Word: PROCREATE\n",
            "Detected Word: APPROPRIATE\n",
            "Correct: 0\n",
            "\n"
          ]
        },
        {
          "output_type": "stream",
          "name": "stderr",
          "text": [
            "\rProcessing audio files:  68%|██████▊   | 710/1050 [1:14:50<50:14,  8.86s/it]"
          ]
        },
        {
          "output_type": "stream",
          "name": "stdout",
          "text": [
            "File: /content/drive/MyDrive/audio_files/Dataset_2_Cleaned/23_PROCREATE/P20.wav\n",
            "Expected Word: PROCREATE\n",
            "Detected Word: \n",
            "Correct: 0\n",
            "\n"
          ]
        },
        {
          "output_type": "stream",
          "name": "stderr",
          "text": [
            "\rProcessing audio files:  68%|██████▊   | 711/1050 [1:14:55<43:48,  7.75s/it]"
          ]
        },
        {
          "output_type": "stream",
          "name": "stdout",
          "text": [
            "File: /content/drive/MyDrive/audio_files/Dataset_2_Cleaned/47_DEMESNE/P1.wav\n",
            "Expected Word: DEMESNE\n",
            "Detected Word: THEY\n",
            "Correct: 0\n",
            "\n"
          ]
        },
        {
          "output_type": "stream",
          "name": "stderr",
          "text": [
            "\rProcessing audio files:  68%|██████▊   | 712/1050 [1:15:01<39:45,  7.06s/it]"
          ]
        },
        {
          "output_type": "stream",
          "name": "stdout",
          "text": [
            "File: /content/drive/MyDrive/audio_files/Dataset_2_Cleaned/47_DEMESNE/P2.wav\n",
            "Expected Word: DEMESNE\n",
            "Detected Word: THE\n",
            "Correct: 0\n",
            "\n"
          ]
        },
        {
          "output_type": "stream",
          "name": "stderr",
          "text": [
            "\rProcessing audio files:  68%|██████▊   | 713/1050 [1:15:09<42:10,  7.51s/it]"
          ]
        },
        {
          "output_type": "stream",
          "name": "stdout",
          "text": [
            "File: /content/drive/MyDrive/audio_files/Dataset_2_Cleaned/47_DEMESNE/P3.wav\n",
            "Expected Word: DEMESNE\n",
            "Detected Word: THEM\n",
            "Correct: 0\n",
            "\n"
          ]
        },
        {
          "output_type": "stream",
          "name": "stderr",
          "text": [
            "\rProcessing audio files:  68%|██████▊   | 714/1050 [1:15:15<38:52,  6.94s/it]"
          ]
        },
        {
          "output_type": "stream",
          "name": "stdout",
          "text": [
            "File: /content/drive/MyDrive/audio_files/Dataset_2_Cleaned/47_DEMESNE/P4.wav\n",
            "Expected Word: DEMESNE\n",
            "Detected Word: \n",
            "Correct: 0\n",
            "\n"
          ]
        },
        {
          "output_type": "stream",
          "name": "stderr",
          "text": [
            "\rProcessing audio files:  68%|██████▊   | 715/1050 [1:15:24<41:29,  7.43s/it]"
          ]
        },
        {
          "output_type": "stream",
          "name": "stdout",
          "text": [
            "File: /content/drive/MyDrive/audio_files/Dataset_2_Cleaned/47_DEMESNE/P5.wav\n",
            "Expected Word: DEMESNE\n",
            "Detected Word: \n",
            "Correct: 0\n",
            "\n"
          ]
        },
        {
          "output_type": "stream",
          "name": "stderr",
          "text": [
            "\rProcessing audio files:  68%|██████▊   | 716/1050 [1:15:29<37:55,  6.81s/it]"
          ]
        },
        {
          "output_type": "stream",
          "name": "stdout",
          "text": [
            "File: /content/drive/MyDrive/audio_files/Dataset_2_Cleaned/47_DEMESNE/P6.wav\n",
            "Expected Word: DEMESNE\n",
            "Detected Word: \n",
            "Correct: 0\n",
            "\n"
          ]
        },
        {
          "output_type": "stream",
          "name": "stderr",
          "text": [
            "\rProcessing audio files:  68%|██████▊   | 717/1050 [1:15:34<35:23,  6.38s/it]"
          ]
        },
        {
          "output_type": "stream",
          "name": "stdout",
          "text": [
            "File: /content/drive/MyDrive/audio_files/Dataset_2_Cleaned/47_DEMESNE/P7.wav\n",
            "Expected Word: DEMESNE\n",
            "Detected Word: DONE\n",
            "Correct: 0\n",
            "\n"
          ]
        },
        {
          "output_type": "stream",
          "name": "stderr",
          "text": [
            "\rProcessing audio files:  68%|██████▊   | 718/1050 [1:15:40<33:36,  6.07s/it]"
          ]
        },
        {
          "output_type": "stream",
          "name": "stdout",
          "text": [
            "File: /content/drive/MyDrive/audio_files/Dataset_2_Cleaned/47_DEMESNE/P8.wav\n",
            "Expected Word: DEMESNE\n",
            "Detected Word: TO\n",
            "Correct: 0\n",
            "\n"
          ]
        },
        {
          "output_type": "stream",
          "name": "stderr",
          "text": [
            "\rProcessing audio files:  68%|██████▊   | 719/1050 [1:15:45<32:34,  5.90s/it]"
          ]
        },
        {
          "output_type": "stream",
          "name": "stdout",
          "text": [
            "File: /content/drive/MyDrive/audio_files/Dataset_2_Cleaned/47_DEMESNE/P9.wav\n",
            "Expected Word: DEMESNE\n",
            "Detected Word: \n",
            "Correct: 0\n",
            "\n"
          ]
        },
        {
          "output_type": "stream",
          "name": "stderr",
          "text": [
            "\rProcessing audio files:  69%|██████▊   | 720/1050 [1:15:51<31:29,  5.73s/it]"
          ]
        },
        {
          "output_type": "stream",
          "name": "stdout",
          "text": [
            "File: /content/drive/MyDrive/audio_files/Dataset_2_Cleaned/47_DEMESNE/P10.wav\n",
            "Expected Word: DEMESNE\n",
            "Detected Word: \n",
            "Correct: 0\n",
            "\n"
          ]
        },
        {
          "output_type": "stream",
          "name": "stderr",
          "text": [
            "\rProcessing audio files:  69%|██████▊   | 721/1050 [1:15:56<31:01,  5.66s/it]"
          ]
        },
        {
          "output_type": "stream",
          "name": "stdout",
          "text": [
            "File: /content/drive/MyDrive/audio_files/Dataset_2_Cleaned/47_DEMESNE/P11.wav\n",
            "Expected Word: DEMESNE\n",
            "Detected Word: TO\n",
            "Correct: 0\n",
            "\n"
          ]
        },
        {
          "output_type": "stream",
          "name": "stderr",
          "text": [
            "\rProcessing audio files:  69%|██████▉   | 722/1050 [1:16:01<30:31,  5.58s/it]"
          ]
        },
        {
          "output_type": "stream",
          "name": "stdout",
          "text": [
            "File: /content/drive/MyDrive/audio_files/Dataset_2_Cleaned/47_DEMESNE/P12.wav\n",
            "Expected Word: DEMESNE\n",
            "Detected Word: THE\n",
            "Correct: 0\n",
            "\n"
          ]
        },
        {
          "output_type": "stream",
          "name": "stderr",
          "text": [
            "\rProcessing audio files:  69%|██████▉   | 723/1050 [1:16:07<30:12,  5.54s/it]"
          ]
        },
        {
          "output_type": "stream",
          "name": "stdout",
          "text": [
            "File: /content/drive/MyDrive/audio_files/Dataset_2_Cleaned/47_DEMESNE/P13.wav\n",
            "Expected Word: DEMESNE\n",
            "Detected Word: DIM\n",
            "Correct: 0\n",
            "\n"
          ]
        },
        {
          "output_type": "stream",
          "name": "stderr",
          "text": [
            "\rProcessing audio files:  69%|██████▉   | 724/1050 [1:16:13<30:15,  5.57s/it]"
          ]
        },
        {
          "output_type": "stream",
          "name": "stdout",
          "text": [
            "File: /content/drive/MyDrive/audio_files/Dataset_2_Cleaned/47_DEMESNE/P14.wav\n",
            "Expected Word: DEMESNE\n",
            "Detected Word: \n",
            "Correct: 0\n",
            "\n"
          ]
        },
        {
          "output_type": "stream",
          "name": "stderr",
          "text": [
            "\rProcessing audio files:  69%|██████▉   | 725/1050 [1:16:18<29:49,  5.50s/it]"
          ]
        },
        {
          "output_type": "stream",
          "name": "stdout",
          "text": [
            "File: /content/drive/MyDrive/audio_files/Dataset_2_Cleaned/47_DEMESNE/P15.wav\n",
            "Expected Word: DEMESNE\n",
            "Detected Word: THE\n",
            "Correct: 0\n",
            "\n"
          ]
        },
        {
          "output_type": "stream",
          "name": "stderr",
          "text": [
            "\rProcessing audio files:  69%|██████▉   | 726/1050 [1:16:23<29:37,  5.49s/it]"
          ]
        },
        {
          "output_type": "stream",
          "name": "stdout",
          "text": [
            "File: /content/drive/MyDrive/audio_files/Dataset_2_Cleaned/47_DEMESNE/P16.wav\n",
            "Expected Word: DEMESNE\n",
            "Detected Word: \n",
            "Correct: 0\n",
            "\n"
          ]
        },
        {
          "output_type": "stream",
          "name": "stderr",
          "text": [
            "\rProcessing audio files:  69%|██████▉   | 727/1050 [1:16:32<34:50,  6.47s/it]"
          ]
        },
        {
          "output_type": "stream",
          "name": "stdout",
          "text": [
            "File: /content/drive/MyDrive/audio_files/Dataset_2_Cleaned/47_DEMESNE/P17.wav\n",
            "Expected Word: DEMESNE\n",
            "Detected Word: DOMAIN\n",
            "Correct: 0\n",
            "\n"
          ]
        },
        {
          "output_type": "stream",
          "name": "stderr",
          "text": [
            "\rProcessing audio files:  69%|██████▉   | 728/1050 [1:16:38<33:11,  6.18s/it]"
          ]
        },
        {
          "output_type": "stream",
          "name": "stdout",
          "text": [
            "File: /content/drive/MyDrive/audio_files/Dataset_2_Cleaned/47_DEMESNE/P18.wav\n",
            "Expected Word: DEMESNE\n",
            "Detected Word: \n",
            "Correct: 0\n",
            "\n"
          ]
        },
        {
          "output_type": "stream",
          "name": "stderr",
          "text": [
            "\rProcessing audio files:  69%|██████▉   | 729/1050 [1:16:49<41:59,  7.85s/it]"
          ]
        },
        {
          "output_type": "stream",
          "name": "stdout",
          "text": [
            "File: /content/drive/MyDrive/audio_files/Dataset_2_Cleaned/47_DEMESNE/P19.wav\n",
            "Expected Word: DEMESNE\n",
            "Detected Word: THE\n",
            "Correct: 0\n",
            "\n"
          ]
        },
        {
          "output_type": "stream",
          "name": "stderr",
          "text": [
            "\rProcessing audio files:  70%|██████▉   | 730/1050 [1:16:55<38:04,  7.14s/it]"
          ]
        },
        {
          "output_type": "stream",
          "name": "stdout",
          "text": [
            "File: /content/drive/MyDrive/audio_files/Dataset_2_Cleaned/47_DEMESNE/P20.wav\n",
            "Expected Word: DEMESNE\n",
            "Detected Word: DOMAIN\n",
            "Correct: 0\n",
            "\n"
          ]
        },
        {
          "output_type": "stream",
          "name": "stderr",
          "text": [
            "\rProcessing audio files:  70%|██████▉   | 731/1050 [1:17:07<45:34,  8.57s/it]"
          ]
        },
        {
          "output_type": "stream",
          "name": "stdout",
          "text": [
            "File: /content/drive/MyDrive/audio_files/Dataset_2_Cleaned/12_RAREFY/P1.wav\n",
            "Expected Word: RAREFY\n",
            "Detected Word: \n",
            "Correct: 0\n",
            "\n"
          ]
        },
        {
          "output_type": "stream",
          "name": "stderr",
          "text": [
            "\rProcessing audio files:  70%|██████▉   | 732/1050 [1:17:44<1:31:09, 17.20s/it]"
          ]
        },
        {
          "output_type": "stream",
          "name": "stdout",
          "text": [
            "File: /content/drive/MyDrive/audio_files/Dataset_2_Cleaned/12_RAREFY/P2.wav\n",
            "Expected Word: RAREFY\n",
            "Detected Word: RAREFIED\n",
            "Correct: 0\n",
            "\n"
          ]
        },
        {
          "output_type": "stream",
          "name": "stderr",
          "text": [
            "\rProcessing audio files:  70%|██████▉   | 733/1050 [1:18:07<1:39:25, 18.82s/it]"
          ]
        },
        {
          "output_type": "stream",
          "name": "stdout",
          "text": [
            "File: /content/drive/MyDrive/audio_files/Dataset_2_Cleaned/12_RAREFY/P3.wav\n",
            "Expected Word: RAREFY\n",
            "Detected Word: \n",
            "Correct: 0\n",
            "\n"
          ]
        },
        {
          "output_type": "stream",
          "name": "stderr",
          "text": [
            "\rProcessing audio files:  70%|██████▉   | 734/1050 [1:18:15<1:23:05, 15.78s/it]"
          ]
        },
        {
          "output_type": "stream",
          "name": "stdout",
          "text": [
            "File: /content/drive/MyDrive/audio_files/Dataset_2_Cleaned/12_RAREFY/P4.wav\n",
            "Expected Word: RAREFY\n",
            "Detected Word: RARE\n",
            "Correct: 0\n",
            "\n"
          ]
        },
        {
          "output_type": "stream",
          "name": "stderr",
          "text": [
            "\rProcessing audio files:  70%|███████   | 735/1050 [1:18:24<1:11:48, 13.68s/it]"
          ]
        },
        {
          "output_type": "stream",
          "name": "stdout",
          "text": [
            "File: /content/drive/MyDrive/audio_files/Dataset_2_Cleaned/12_RAREFY/P5.wav\n",
            "Expected Word: RAREFY\n",
            "Detected Word: \n",
            "Correct: 0\n",
            "\n"
          ]
        },
        {
          "output_type": "stream",
          "name": "stderr",
          "text": [
            "\rProcessing audio files:  70%|███████   | 736/1050 [1:18:33<1:04:06, 12.25s/it]"
          ]
        },
        {
          "output_type": "stream",
          "name": "stdout",
          "text": [
            "File: /content/drive/MyDrive/audio_files/Dataset_2_Cleaned/12_RAREFY/P6.wav\n",
            "Expected Word: RAREFY\n",
            "Detected Word: WHERE\n",
            "Correct: 0\n",
            "\n"
          ]
        },
        {
          "output_type": "stream",
          "name": "stderr",
          "text": [
            "\rProcessing audio files:  70%|███████   | 737/1050 [1:18:38<53:15, 10.21s/it]  "
          ]
        },
        {
          "output_type": "stream",
          "name": "stdout",
          "text": [
            "File: /content/drive/MyDrive/audio_files/Dataset_2_Cleaned/12_RAREFY/P7.wav\n",
            "Expected Word: RAREFY\n",
            "Detected Word: \n",
            "Correct: 0\n",
            "\n"
          ]
        },
        {
          "output_type": "stream",
          "name": "stderr",
          "text": [
            "\rProcessing audio files:  70%|███████   | 738/1050 [1:18:47<50:55,  9.79s/it]"
          ]
        },
        {
          "output_type": "stream",
          "name": "stdout",
          "text": [
            "File: /content/drive/MyDrive/audio_files/Dataset_2_Cleaned/12_RAREFY/P8.wav\n",
            "Expected Word: RAREFY\n",
            "Detected Word: \n",
            "Correct: 0\n",
            "\n"
          ]
        },
        {
          "output_type": "stream",
          "name": "stderr",
          "text": [
            "\rProcessing audio files:  70%|███████   | 739/1050 [1:19:06<1:03:50, 12.32s/it]"
          ]
        },
        {
          "output_type": "stream",
          "name": "stdout",
          "text": [
            "File: /content/drive/MyDrive/audio_files/Dataset_2_Cleaned/12_RAREFY/P9.wav\n",
            "Expected Word: RAREFY\n",
            "Detected Word: RARER\n",
            "Correct: 0\n",
            "\n"
          ]
        },
        {
          "output_type": "stream",
          "name": "stderr",
          "text": [
            "\rProcessing audio files:  70%|███████   | 740/1050 [1:19:19<1:05:25, 12.66s/it]"
          ]
        },
        {
          "output_type": "stream",
          "name": "stdout",
          "text": [
            "File: /content/drive/MyDrive/audio_files/Dataset_2_Cleaned/12_RAREFY/P10.wav\n",
            "Expected Word: RAREFY\n",
            "Detected Word: \n",
            "Correct: 0\n",
            "\n"
          ]
        },
        {
          "output_type": "stream",
          "name": "stderr",
          "text": [
            "\rProcessing audio files:  71%|███████   | 741/1050 [1:19:28<58:53, 11.43s/it]  "
          ]
        },
        {
          "output_type": "stream",
          "name": "stdout",
          "text": [
            "File: /content/drive/MyDrive/audio_files/Dataset_2_Cleaned/12_RAREFY/P11.wav\n",
            "Expected Word: RAREFY\n",
            "Detected Word: \n",
            "Correct: 0\n",
            "\n"
          ]
        },
        {
          "output_type": "stream",
          "name": "stderr",
          "text": [
            "\rProcessing audio files:  71%|███████   | 742/1050 [1:19:36<54:33, 10.63s/it]"
          ]
        },
        {
          "output_type": "stream",
          "name": "stdout",
          "text": [
            "File: /content/drive/MyDrive/audio_files/Dataset_2_Cleaned/12_RAREFY/P12.wav\n",
            "Expected Word: RAREFY\n",
            "Detected Word: \n",
            "Correct: 0\n",
            "\n"
          ]
        },
        {
          "output_type": "stream",
          "name": "stderr",
          "text": [
            "\rProcessing audio files:  71%|███████   | 743/1050 [1:19:42<46:30,  9.09s/it]"
          ]
        },
        {
          "output_type": "stream",
          "name": "stdout",
          "text": [
            "File: /content/drive/MyDrive/audio_files/Dataset_2_Cleaned/12_RAREFY/P13.wav\n",
            "Expected Word: RAREFY\n",
            "Detected Word: \n",
            "Correct: 0\n",
            "\n"
          ]
        },
        {
          "output_type": "stream",
          "name": "stderr",
          "text": [
            "\rProcessing audio files:  71%|███████   | 744/1050 [1:19:47<40:42,  7.98s/it]"
          ]
        },
        {
          "output_type": "stream",
          "name": "stdout",
          "text": [
            "File: /content/drive/MyDrive/audio_files/Dataset_2_Cleaned/12_RAREFY/P14.wav\n",
            "Expected Word: RAREFY\n",
            "Detected Word: \n",
            "Correct: 0\n",
            "\n"
          ]
        },
        {
          "output_type": "stream",
          "name": "stderr",
          "text": [
            "\rProcessing audio files:  71%|███████   | 745/1050 [1:19:56<41:25,  8.15s/it]"
          ]
        },
        {
          "output_type": "stream",
          "name": "stdout",
          "text": [
            "File: /content/drive/MyDrive/audio_files/Dataset_2_Cleaned/12_RAREFY/P15.wav\n",
            "Expected Word: RAREFY\n",
            "Detected Word: \n",
            "Correct: 0\n",
            "\n"
          ]
        },
        {
          "output_type": "stream",
          "name": "stderr",
          "text": [
            "\rProcessing audio files:  71%|███████   | 746/1050 [1:20:01<37:09,  7.33s/it]"
          ]
        },
        {
          "output_type": "stream",
          "name": "stdout",
          "text": [
            "File: /content/drive/MyDrive/audio_files/Dataset_2_Cleaned/12_RAREFY/P16.wav\n",
            "Expected Word: RAREFY\n",
            "Detected Word: \n",
            "Correct: 0\n",
            "\n"
          ]
        },
        {
          "output_type": "stream",
          "name": "stderr",
          "text": [
            "\rProcessing audio files:  71%|███████   | 747/1050 [1:20:10<39:06,  7.74s/it]"
          ]
        },
        {
          "output_type": "stream",
          "name": "stdout",
          "text": [
            "File: /content/drive/MyDrive/audio_files/Dataset_2_Cleaned/12_RAREFY/P17.wav\n",
            "Expected Word: RAREFY\n",
            "Detected Word: VERIFY\n",
            "Correct: 0\n",
            "\n"
          ]
        },
        {
          "output_type": "stream",
          "name": "stderr",
          "text": [
            "\rProcessing audio files:  71%|███████   | 748/1050 [1:20:16<35:47,  7.11s/it]"
          ]
        },
        {
          "output_type": "stream",
          "name": "stdout",
          "text": [
            "File: /content/drive/MyDrive/audio_files/Dataset_2_Cleaned/12_RAREFY/P18.wav\n",
            "Expected Word: RAREFY\n",
            "Detected Word: \n",
            "Correct: 0\n",
            "\n"
          ]
        },
        {
          "output_type": "stream",
          "name": "stderr",
          "text": [
            "\rProcessing audio files:  71%|███████▏  | 749/1050 [1:20:21<32:58,  6.57s/it]"
          ]
        },
        {
          "output_type": "stream",
          "name": "stdout",
          "text": [
            "File: /content/drive/MyDrive/audio_files/Dataset_2_Cleaned/12_RAREFY/P19.wav\n",
            "Expected Word: RAREFY\n",
            "Detected Word: \n",
            "Correct: 0\n",
            "\n"
          ]
        },
        {
          "output_type": "stream",
          "name": "stderr",
          "text": [
            "\rProcessing audio files:  71%|███████▏  | 750/1050 [1:20:26<31:12,  6.24s/it]"
          ]
        },
        {
          "output_type": "stream",
          "name": "stdout",
          "text": [
            "File: /content/drive/MyDrive/audio_files/Dataset_2_Cleaned/12_RAREFY/P20.wav\n",
            "Expected Word: RAREFY\n",
            "Detected Word: VERIFY\n",
            "Correct: 0\n",
            "\n"
          ]
        },
        {
          "output_type": "stream",
          "name": "stderr",
          "text": [
            "\rProcessing audio files:  72%|███████▏  | 751/1050 [1:20:31<29:32,  5.93s/it]"
          ]
        },
        {
          "output_type": "stream",
          "name": "stdout",
          "text": [
            "File: /content/drive/MyDrive/audio_files/Dataset_2_Cleaned/50_CAMPANILE/P1.wav\n",
            "Expected Word: CAMPANILE\n",
            "Detected Word: COMPANIES\n",
            "Correct: 0\n",
            "\n"
          ]
        },
        {
          "output_type": "stream",
          "name": "stderr",
          "text": [
            "\rProcessing audio files:  72%|███████▏  | 752/1050 [1:20:37<28:29,  5.74s/it]"
          ]
        },
        {
          "output_type": "stream",
          "name": "stdout",
          "text": [
            "File: /content/drive/MyDrive/audio_files/Dataset_2_Cleaned/50_CAMPANILE/P2.wav\n",
            "Expected Word: CAMPANILE\n",
            "Detected Word: \n",
            "Correct: 0\n",
            "\n"
          ]
        },
        {
          "output_type": "stream",
          "name": "stderr",
          "text": [
            "\rProcessing audio files:  72%|███████▏  | 753/1050 [1:20:55<46:34,  9.41s/it]"
          ]
        },
        {
          "output_type": "stream",
          "name": "stdout",
          "text": [
            "File: /content/drive/MyDrive/audio_files/Dataset_2_Cleaned/50_CAMPANILE/P3.wav\n",
            "Expected Word: CAMPANILE\n",
            "Detected Word: \n",
            "Correct: 0\n",
            "\n"
          ]
        },
        {
          "output_type": "stream",
          "name": "stderr",
          "text": [
            "\rProcessing audio files:  72%|███████▏  | 754/1050 [1:21:00<40:31,  8.21s/it]"
          ]
        },
        {
          "output_type": "stream",
          "name": "stdout",
          "text": [
            "File: /content/drive/MyDrive/audio_files/Dataset_2_Cleaned/50_CAMPANILE/P4.wav\n",
            "Expected Word: CAMPANILE\n",
            "Detected Word: AND\n",
            "Correct: 0\n",
            "\n"
          ]
        },
        {
          "output_type": "stream",
          "name": "stderr",
          "text": [
            "\rProcessing audio files:  72%|███████▏  | 755/1050 [1:21:08<39:11,  7.97s/it]"
          ]
        },
        {
          "output_type": "stream",
          "name": "stdout",
          "text": [
            "File: /content/drive/MyDrive/audio_files/Dataset_2_Cleaned/50_CAMPANILE/P5.wav\n",
            "Expected Word: CAMPANILE\n",
            "Detected Word: \n",
            "Correct: 0\n",
            "\n"
          ]
        },
        {
          "output_type": "stream",
          "name": "stderr",
          "text": [
            "\rProcessing audio files:  72%|███████▏  | 756/1050 [1:21:13<34:52,  7.12s/it]"
          ]
        },
        {
          "output_type": "stream",
          "name": "stdout",
          "text": [
            "File: /content/drive/MyDrive/audio_files/Dataset_2_Cleaned/50_CAMPANILE/P6.wav\n",
            "Expected Word: CAMPANILE\n",
            "Detected Word: TEMPER\n",
            "Correct: 0\n",
            "\n"
          ]
        },
        {
          "output_type": "stream",
          "name": "stderr",
          "text": [
            "\rProcessing audio files:  72%|███████▏  | 757/1050 [1:21:18<32:39,  6.69s/it]"
          ]
        },
        {
          "output_type": "stream",
          "name": "stdout",
          "text": [
            "File: /content/drive/MyDrive/audio_files/Dataset_2_Cleaned/50_CAMPANILE/P7.wav\n",
            "Expected Word: CAMPANILE\n",
            "Detected Word: I'M\n",
            "Correct: 0\n",
            "\n"
          ]
        },
        {
          "output_type": "stream",
          "name": "stderr",
          "text": [
            "\rProcessing audio files:  72%|███████▏  | 758/1050 [1:21:24<30:34,  6.28s/it]"
          ]
        },
        {
          "output_type": "stream",
          "name": "stdout",
          "text": [
            "File: /content/drive/MyDrive/audio_files/Dataset_2_Cleaned/50_CAMPANILE/P8.wav\n",
            "Expected Word: CAMPANILE\n",
            "Detected Word: \n",
            "Correct: 0\n",
            "\n"
          ]
        },
        {
          "output_type": "stream",
          "name": "stderr",
          "text": [
            "\rProcessing audio files:  72%|███████▏  | 759/1050 [1:21:29<29:17,  6.04s/it]"
          ]
        },
        {
          "output_type": "stream",
          "name": "stdout",
          "text": [
            "File: /content/drive/MyDrive/audio_files/Dataset_2_Cleaned/50_CAMPANILE/P9.wav\n",
            "Expected Word: CAMPANILE\n",
            "Detected Word: \n",
            "Correct: 0\n",
            "\n"
          ]
        },
        {
          "output_type": "stream",
          "name": "stderr",
          "text": [
            "\rProcessing audio files:  72%|███████▏  | 760/1050 [1:21:35<28:11,  5.83s/it]"
          ]
        },
        {
          "output_type": "stream",
          "name": "stdout",
          "text": [
            "File: /content/drive/MyDrive/audio_files/Dataset_2_Cleaned/50_CAMPANILE/P10.wav\n",
            "Expected Word: CAMPANILE\n",
            "Detected Word: COMPANY\n",
            "Correct: 0\n",
            "\n"
          ]
        },
        {
          "output_type": "stream",
          "name": "stderr",
          "text": [
            "\rProcessing audio files:  72%|███████▏  | 761/1050 [1:21:40<27:07,  5.63s/it]"
          ]
        },
        {
          "output_type": "stream",
          "name": "stdout",
          "text": [
            "File: /content/drive/MyDrive/audio_files/Dataset_2_Cleaned/50_CAMPANILE/P11.wav\n",
            "Expected Word: CAMPANILE\n",
            "Detected Word: \n",
            "Correct: 0\n",
            "\n"
          ]
        },
        {
          "output_type": "stream",
          "name": "stderr",
          "text": [
            "\rProcessing audio files:  73%|███████▎  | 762/1050 [1:21:45<27:00,  5.63s/it]"
          ]
        },
        {
          "output_type": "stream",
          "name": "stdout",
          "text": [
            "File: /content/drive/MyDrive/audio_files/Dataset_2_Cleaned/50_CAMPANILE/P12.wav\n",
            "Expected Word: CAMPANILE\n",
            "Detected Word: \n",
            "Correct: 0\n",
            "\n"
          ]
        },
        {
          "output_type": "stream",
          "name": "stderr",
          "text": [
            "\rProcessing audio files:  73%|███████▎  | 763/1050 [1:21:51<26:40,  5.58s/it]"
          ]
        },
        {
          "output_type": "stream",
          "name": "stdout",
          "text": [
            "File: /content/drive/MyDrive/audio_files/Dataset_2_Cleaned/50_CAMPANILE/P13.wav\n",
            "Expected Word: CAMPANILE\n",
            "Detected Word: COMPANY\n",
            "Correct: 0\n",
            "\n"
          ]
        },
        {
          "output_type": "stream",
          "name": "stderr",
          "text": [
            "\rProcessing audio files:  73%|███████▎  | 764/1050 [1:21:56<26:21,  5.53s/it]"
          ]
        },
        {
          "output_type": "stream",
          "name": "stdout",
          "text": [
            "File: /content/drive/MyDrive/audio_files/Dataset_2_Cleaned/50_CAMPANILE/P14.wav\n",
            "Expected Word: CAMPANILE\n",
            "Detected Word: CAMPANELLI\n",
            "Correct: 0\n",
            "\n"
          ]
        },
        {
          "output_type": "stream",
          "name": "stderr",
          "text": [
            "\rProcessing audio files:  73%|███████▎  | 765/1050 [1:22:02<26:27,  5.57s/it]"
          ]
        },
        {
          "output_type": "stream",
          "name": "stdout",
          "text": [
            "File: /content/drive/MyDrive/audio_files/Dataset_2_Cleaned/50_CAMPANILE/P15.wav\n",
            "Expected Word: CAMPANILE\n",
            "Detected Word: \n",
            "Correct: 0\n",
            "\n"
          ]
        },
        {
          "output_type": "stream",
          "name": "stderr",
          "text": [
            "\rProcessing audio files:  73%|███████▎  | 766/1050 [1:22:07<26:22,  5.57s/it]"
          ]
        },
        {
          "output_type": "stream",
          "name": "stdout",
          "text": [
            "File: /content/drive/MyDrive/audio_files/Dataset_2_Cleaned/50_CAMPANILE/P16.wav\n",
            "Expected Word: CAMPANILE\n",
            "Detected Word: \n",
            "Correct: 0\n",
            "\n"
          ]
        },
        {
          "output_type": "stream",
          "name": "stderr",
          "text": [
            "\rProcessing audio files:  73%|███████▎  | 767/1050 [1:22:14<27:37,  5.86s/it]"
          ]
        },
        {
          "output_type": "stream",
          "name": "stdout",
          "text": [
            "File: /content/drive/MyDrive/audio_files/Dataset_2_Cleaned/50_CAMPANILE/P17.wav\n",
            "Expected Word: CAMPANILE\n",
            "Detected Word: CAMPANILE\n",
            "Correct: 1\n",
            "\n"
          ]
        },
        {
          "output_type": "stream",
          "name": "stderr",
          "text": [
            "\rProcessing audio files:  73%|███████▎  | 768/1050 [1:22:19<26:57,  5.74s/it]"
          ]
        },
        {
          "output_type": "stream",
          "name": "stdout",
          "text": [
            "File: /content/drive/MyDrive/audio_files/Dataset_2_Cleaned/50_CAMPANILE/P18.wav\n",
            "Expected Word: CAMPANILE\n",
            "Detected Word: \n",
            "Correct: 0\n",
            "\n"
          ]
        },
        {
          "output_type": "stream",
          "name": "stderr",
          "text": [
            "\rProcessing audio files:  73%|███████▎  | 769/1050 [1:22:25<26:27,  5.65s/it]"
          ]
        },
        {
          "output_type": "stream",
          "name": "stdout",
          "text": [
            "File: /content/drive/MyDrive/audio_files/Dataset_2_Cleaned/50_CAMPANILE/P19.wav\n",
            "Expected Word: CAMPANILE\n",
            "Detected Word: CAMPANILE\n",
            "Correct: 1\n",
            "\n"
          ]
        },
        {
          "output_type": "stream",
          "name": "stderr",
          "text": [
            "\rProcessing audio files:  73%|███████▎  | 770/1050 [1:22:30<26:13,  5.62s/it]"
          ]
        },
        {
          "output_type": "stream",
          "name": "stdout",
          "text": [
            "File: /content/drive/MyDrive/audio_files/Dataset_2_Cleaned/50_CAMPANILE/P20.wav\n",
            "Expected Word: CAMPANILE\n",
            "Detected Word: COMPANY\n",
            "Correct: 0\n",
            "\n"
          ]
        },
        {
          "output_type": "stream",
          "name": "stderr",
          "text": [
            "\rProcessing audio files:  73%|███████▎  | 771/1050 [1:22:37<27:19,  5.88s/it]"
          ]
        },
        {
          "output_type": "stream",
          "name": "stdout",
          "text": [
            "File: /content/drive/MyDrive/audio_files/Dataset_2_Cleaned/11_COURTEOS/P1.wav\n",
            "Expected Word: COURTEOS\n",
            "Detected Word: YES\n",
            "Correct: 0\n",
            "\n"
          ]
        },
        {
          "output_type": "stream",
          "name": "stderr",
          "text": [
            "\rProcessing audio files:  74%|███████▎  | 772/1050 [1:22:42<26:09,  5.64s/it]"
          ]
        },
        {
          "output_type": "stream",
          "name": "stdout",
          "text": [
            "File: /content/drive/MyDrive/audio_files/Dataset_2_Cleaned/11_COURTEOS/P2.wav\n",
            "Expected Word: COURTEOS\n",
            "Detected Word: COURTEOUS\n",
            "Correct: 0\n",
            "\n"
          ]
        },
        {
          "output_type": "stream",
          "name": "stderr",
          "text": [
            "\rProcessing audio files:  74%|███████▎  | 773/1050 [1:22:47<25:28,  5.52s/it]"
          ]
        },
        {
          "output_type": "stream",
          "name": "stdout",
          "text": [
            "File: /content/drive/MyDrive/audio_files/Dataset_2_Cleaned/11_COURTEOS/P3.wav\n",
            "Expected Word: COURTEOS\n",
            "Detected Word: 30\n",
            "Correct: 0\n",
            "\n"
          ]
        },
        {
          "output_type": "stream",
          "name": "stderr",
          "text": [
            "\rProcessing audio files:  74%|███████▎  | 774/1050 [1:22:56<29:45,  6.47s/it]"
          ]
        },
        {
          "output_type": "stream",
          "name": "stdout",
          "text": [
            "File: /content/drive/MyDrive/audio_files/Dataset_2_Cleaned/11_COURTEOS/P4.wav\n",
            "Expected Word: COURTEOS\n",
            "Detected Word: COURTEOUS\n",
            "Correct: 0\n",
            "\n"
          ]
        },
        {
          "output_type": "stream",
          "name": "stderr",
          "text": [
            "\rProcessing audio files:  74%|███████▍  | 775/1050 [1:23:02<28:33,  6.23s/it]"
          ]
        },
        {
          "output_type": "stream",
          "name": "stdout",
          "text": [
            "File: /content/drive/MyDrive/audio_files/Dataset_2_Cleaned/11_COURTEOS/P5.wav\n",
            "Expected Word: COURTEOS\n",
            "Detected Word: 30\n",
            "Correct: 0\n",
            "\n"
          ]
        },
        {
          "output_type": "stream",
          "name": "stderr",
          "text": [
            "\rProcessing audio files:  74%|███████▍  | 776/1050 [1:23:07<27:12,  5.96s/it]"
          ]
        },
        {
          "output_type": "stream",
          "name": "stdout",
          "text": [
            "File: /content/drive/MyDrive/audio_files/Dataset_2_Cleaned/11_COURTEOS/P6.wav\n",
            "Expected Word: COURTEOS\n",
            "Detected Word: \n",
            "Correct: 0\n",
            "\n"
          ]
        },
        {
          "output_type": "stream",
          "name": "stderr",
          "text": [
            "\rProcessing audio files:  74%|███████▍  | 777/1050 [1:23:15<30:30,  6.70s/it]"
          ]
        },
        {
          "output_type": "stream",
          "name": "stdout",
          "text": [
            "File: /content/drive/MyDrive/audio_files/Dataset_2_Cleaned/11_COURTEOS/P7.wav\n",
            "Expected Word: COURTEOS\n",
            "Detected Word: CAPTURE\n",
            "Correct: 0\n",
            "\n"
          ]
        },
        {
          "output_type": "stream",
          "name": "stderr",
          "text": [
            "\rProcessing audio files:  74%|███████▍  | 778/1050 [1:23:21<28:43,  6.33s/it]"
          ]
        },
        {
          "output_type": "stream",
          "name": "stdout",
          "text": [
            "File: /content/drive/MyDrive/audio_files/Dataset_2_Cleaned/11_COURTEOS/P8.wav\n",
            "Expected Word: COURTEOS\n",
            "Detected Word: 30\n",
            "Correct: 0\n",
            "\n"
          ]
        },
        {
          "output_type": "stream",
          "name": "stderr",
          "text": [
            "\rProcessing audio files:  74%|███████▍  | 779/1050 [1:23:26<27:31,  6.09s/it]"
          ]
        },
        {
          "output_type": "stream",
          "name": "stdout",
          "text": [
            "File: /content/drive/MyDrive/audio_files/Dataset_2_Cleaned/11_COURTEOS/P9.wav\n",
            "Expected Word: COURTEOS\n",
            "Detected Word: \n",
            "Correct: 0\n",
            "\n"
          ]
        },
        {
          "output_type": "stream",
          "name": "stderr",
          "text": [
            "\rProcessing audio files:  74%|███████▍  | 780/1050 [1:23:32<26:27,  5.88s/it]"
          ]
        },
        {
          "output_type": "stream",
          "name": "stdout",
          "text": [
            "File: /content/drive/MyDrive/audio_files/Dataset_2_Cleaned/11_COURTEOS/P10.wav\n",
            "Expected Word: COURTEOS\n",
            "Detected Word: \n",
            "Correct: 0\n",
            "\n"
          ]
        },
        {
          "output_type": "stream",
          "name": "stderr",
          "text": [
            "\rProcessing audio files:  74%|███████▍  | 781/1050 [1:23:37<25:38,  5.72s/it]"
          ]
        },
        {
          "output_type": "stream",
          "name": "stdout",
          "text": [
            "File: /content/drive/MyDrive/audio_files/Dataset_2_Cleaned/11_COURTEOS/P11.wav\n",
            "Expected Word: COURTEOS\n",
            "Detected Word: COURTEOUS\n",
            "Correct: 0\n",
            "\n"
          ]
        },
        {
          "output_type": "stream",
          "name": "stderr",
          "text": [
            "\rProcessing audio files:  74%|███████▍  | 782/1050 [1:23:42<25:02,  5.61s/it]"
          ]
        },
        {
          "output_type": "stream",
          "name": "stdout",
          "text": [
            "File: /content/drive/MyDrive/audio_files/Dataset_2_Cleaned/11_COURTEOS/P12.wav\n",
            "Expected Word: COURTEOS\n",
            "Detected Word: COURTEOUS\n",
            "Correct: 0\n",
            "\n"
          ]
        },
        {
          "output_type": "stream",
          "name": "stderr",
          "text": [
            "\rProcessing audio files:  75%|███████▍  | 783/1050 [1:23:48<24:34,  5.52s/it]"
          ]
        },
        {
          "output_type": "stream",
          "name": "stdout",
          "text": [
            "File: /content/drive/MyDrive/audio_files/Dataset_2_Cleaned/11_COURTEOS/P13.wav\n",
            "Expected Word: COURTEOS\n",
            "Detected Word: GOOD\n",
            "Correct: 0\n",
            "\n"
          ]
        },
        {
          "output_type": "stream",
          "name": "stderr",
          "text": [
            "\rProcessing audio files:  75%|███████▍  | 784/1050 [1:23:53<24:19,  5.48s/it]"
          ]
        },
        {
          "output_type": "stream",
          "name": "stdout",
          "text": [
            "File: /content/drive/MyDrive/audio_files/Dataset_2_Cleaned/11_COURTEOS/P14.wav\n",
            "Expected Word: COURTEOS\n",
            "Detected Word: OH\n",
            "Correct: 0\n",
            "\n"
          ]
        },
        {
          "output_type": "stream",
          "name": "stderr",
          "text": [
            "\rProcessing audio files:  75%|███████▍  | 785/1050 [1:23:59<24:11,  5.48s/it]"
          ]
        },
        {
          "output_type": "stream",
          "name": "stdout",
          "text": [
            "File: /content/drive/MyDrive/audio_files/Dataset_2_Cleaned/11_COURTEOS/P15.wav\n",
            "Expected Word: COURTEOS\n",
            "Detected Word: COURTEOUS\n",
            "Correct: 0\n",
            "\n"
          ]
        },
        {
          "output_type": "stream",
          "name": "stderr",
          "text": [
            "\rProcessing audio files:  75%|███████▍  | 786/1050 [1:24:04<24:02,  5.46s/it]"
          ]
        },
        {
          "output_type": "stream",
          "name": "stdout",
          "text": [
            "File: /content/drive/MyDrive/audio_files/Dataset_2_Cleaned/11_COURTEOS/P16.wav\n",
            "Expected Word: COURTEOS\n",
            "Detected Word: \n",
            "Correct: 0\n",
            "\n"
          ]
        },
        {
          "output_type": "stream",
          "name": "stderr",
          "text": [
            "\rProcessing audio files:  75%|███████▍  | 787/1050 [1:24:09<23:54,  5.45s/it]"
          ]
        },
        {
          "output_type": "stream",
          "name": "stdout",
          "text": [
            "File: /content/drive/MyDrive/audio_files/Dataset_2_Cleaned/11_COURTEOS/P17.wav\n",
            "Expected Word: COURTEOS\n",
            "Detected Word: COULD\n",
            "Correct: 0\n",
            "\n"
          ]
        },
        {
          "output_type": "stream",
          "name": "stderr",
          "text": [
            "\rProcessing audio files:  75%|███████▌  | 788/1050 [1:24:15<23:56,  5.48s/it]"
          ]
        },
        {
          "output_type": "stream",
          "name": "stdout",
          "text": [
            "File: /content/drive/MyDrive/audio_files/Dataset_2_Cleaned/11_COURTEOS/P18.wav\n",
            "Expected Word: COURTEOS\n",
            "Detected Word: COURTEOUS\n",
            "Correct: 0\n",
            "\n"
          ]
        },
        {
          "output_type": "stream",
          "name": "stderr",
          "text": [
            "\rProcessing audio files:  75%|███████▌  | 789/1050 [1:24:20<23:26,  5.39s/it]"
          ]
        },
        {
          "output_type": "stream",
          "name": "stdout",
          "text": [
            "File: /content/drive/MyDrive/audio_files/Dataset_2_Cleaned/11_COURTEOS/P19.wav\n",
            "Expected Word: COURTEOS\n",
            "Detected Word: COURTEOUS\n",
            "Correct: 0\n",
            "\n"
          ]
        },
        {
          "output_type": "stream",
          "name": "stderr",
          "text": [
            "\rProcessing audio files:  75%|███████▌  | 790/1050 [1:24:26<23:17,  5.37s/it]"
          ]
        },
        {
          "output_type": "stream",
          "name": "stdout",
          "text": [
            "File: /content/drive/MyDrive/audio_files/Dataset_2_Cleaned/11_COURTEOS/P20.wav\n",
            "Expected Word: COURTEOS\n",
            "Detected Word: \n",
            "Correct: 0\n",
            "\n"
          ]
        },
        {
          "output_type": "stream",
          "name": "stderr",
          "text": [
            "\rProcessing audio files:  75%|███████▌  | 791/1050 [1:24:31<23:08,  5.36s/it]"
          ]
        },
        {
          "output_type": "stream",
          "name": "stdout",
          "text": [
            "File: /content/drive/MyDrive/audio_files/Dataset_2_Cleaned/41_GAUCHE/P1.wav\n",
            "Expected Word: GAUCHE\n",
            "Detected Word: \n",
            "Correct: 0\n",
            "\n"
          ]
        },
        {
          "output_type": "stream",
          "name": "stderr",
          "text": [
            "\rProcessing audio files:  75%|███████▌  | 792/1050 [1:24:36<22:56,  5.33s/it]"
          ]
        },
        {
          "output_type": "stream",
          "name": "stdout",
          "text": [
            "File: /content/drive/MyDrive/audio_files/Dataset_2_Cleaned/41_GAUCHE/P2.wav\n",
            "Expected Word: GAUCHE\n",
            "Detected Word: \n",
            "Correct: 0\n",
            "\n"
          ]
        },
        {
          "output_type": "stream",
          "name": "stderr",
          "text": [
            "\rProcessing audio files:  76%|███████▌  | 793/1050 [1:24:43<25:12,  5.88s/it]"
          ]
        },
        {
          "output_type": "stream",
          "name": "stdout",
          "text": [
            "File: /content/drive/MyDrive/audio_files/Dataset_2_Cleaned/41_GAUCHE/P3.wav\n",
            "Expected Word: GAUCHE\n",
            "Detected Word: \n",
            "Correct: 0\n",
            "\n"
          ]
        },
        {
          "output_type": "stream",
          "name": "stderr",
          "text": [
            "\rProcessing audio files:  76%|███████▌  | 794/1050 [1:24:49<24:24,  5.72s/it]"
          ]
        },
        {
          "output_type": "stream",
          "name": "stdout",
          "text": [
            "File: /content/drive/MyDrive/audio_files/Dataset_2_Cleaned/41_GAUCHE/P4.wav\n",
            "Expected Word: GAUCHE\n",
            "Detected Word: GAUGE\n",
            "Correct: 0\n",
            "\n"
          ]
        },
        {
          "output_type": "stream",
          "name": "stderr",
          "text": [
            "\rProcessing audio files:  76%|███████▌  | 795/1050 [1:24:54<23:50,  5.61s/it]"
          ]
        },
        {
          "output_type": "stream",
          "name": "stdout",
          "text": [
            "File: /content/drive/MyDrive/audio_files/Dataset_2_Cleaned/41_GAUCHE/P5.wav\n",
            "Expected Word: GAUCHE\n",
            "Detected Word: GHOST\n",
            "Correct: 0\n",
            "\n"
          ]
        },
        {
          "output_type": "stream",
          "name": "stderr",
          "text": [
            "\rProcessing audio files:  76%|███████▌  | 796/1050 [1:24:59<23:23,  5.53s/it]"
          ]
        },
        {
          "output_type": "stream",
          "name": "stdout",
          "text": [
            "File: /content/drive/MyDrive/audio_files/Dataset_2_Cleaned/41_GAUCHE/P6.wav\n",
            "Expected Word: GAUCHE\n",
            "Detected Word: \n",
            "Correct: 0\n",
            "\n"
          ]
        },
        {
          "output_type": "stream",
          "name": "stderr",
          "text": [
            "\rProcessing audio files:  76%|███████▌  | 797/1050 [1:25:05<23:02,  5.46s/it]"
          ]
        },
        {
          "output_type": "stream",
          "name": "stdout",
          "text": [
            "File: /content/drive/MyDrive/audio_files/Dataset_2_Cleaned/41_GAUCHE/P7.wav\n",
            "Expected Word: GAUCHE\n",
            "Detected Word: GO\n",
            "Correct: 0\n",
            "\n"
          ]
        },
        {
          "output_type": "stream",
          "name": "stderr",
          "text": [
            "\rProcessing audio files:  76%|███████▌  | 798/1050 [1:25:10<22:58,  5.47s/it]"
          ]
        },
        {
          "output_type": "stream",
          "name": "stdout",
          "text": [
            "File: /content/drive/MyDrive/audio_files/Dataset_2_Cleaned/41_GAUCHE/P8.wav\n",
            "Expected Word: GAUCHE\n",
            "Detected Word: GOUGE\n",
            "Correct: 0\n",
            "\n"
          ]
        },
        {
          "output_type": "stream",
          "name": "stderr",
          "text": [
            "\rProcessing audio files:  76%|███████▌  | 799/1050 [1:25:16<22:51,  5.47s/it]"
          ]
        },
        {
          "output_type": "stream",
          "name": "stdout",
          "text": [
            "File: /content/drive/MyDrive/audio_files/Dataset_2_Cleaned/41_GAUCHE/P9.wav\n",
            "Expected Word: GAUCHE\n",
            "Detected Word: \n",
            "Correct: 0\n",
            "\n"
          ]
        },
        {
          "output_type": "stream",
          "name": "stderr",
          "text": [
            "\rProcessing audio files:  76%|███████▌  | 800/1050 [1:25:21<22:37,  5.43s/it]"
          ]
        },
        {
          "output_type": "stream",
          "name": "stdout",
          "text": [
            "File: /content/drive/MyDrive/audio_files/Dataset_2_Cleaned/41_GAUCHE/P10.wav\n",
            "Expected Word: GAUCHE\n",
            "Detected Word: \n",
            "Correct: 0\n",
            "\n"
          ]
        },
        {
          "output_type": "stream",
          "name": "stderr",
          "text": [
            "\rProcessing audio files:  76%|███████▋  | 801/1050 [1:25:26<22:08,  5.34s/it]"
          ]
        },
        {
          "output_type": "stream",
          "name": "stdout",
          "text": [
            "File: /content/drive/MyDrive/audio_files/Dataset_2_Cleaned/41_GAUCHE/P11.wav\n",
            "Expected Word: GAUCHE\n",
            "Detected Word: \n",
            "Correct: 0\n",
            "\n"
          ]
        },
        {
          "output_type": "stream",
          "name": "stderr",
          "text": [
            "\rProcessing audio files:  76%|███████▋  | 802/1050 [1:25:31<22:05,  5.35s/it]"
          ]
        },
        {
          "output_type": "stream",
          "name": "stdout",
          "text": [
            "File: /content/drive/MyDrive/audio_files/Dataset_2_Cleaned/41_GAUCHE/P12.wav\n",
            "Expected Word: GAUCHE\n",
            "Detected Word: \n",
            "Correct: 0\n",
            "\n"
          ]
        },
        {
          "output_type": "stream",
          "name": "stderr",
          "text": [
            "\rProcessing audio files:  76%|███████▋  | 803/1050 [1:25:37<22:10,  5.39s/it]"
          ]
        },
        {
          "output_type": "stream",
          "name": "stdout",
          "text": [
            "File: /content/drive/MyDrive/audio_files/Dataset_2_Cleaned/41_GAUCHE/P13.wav\n",
            "Expected Word: GAUCHE\n",
            "Detected Word: \n",
            "Correct: 0\n",
            "\n"
          ]
        },
        {
          "output_type": "stream",
          "name": "stderr",
          "text": [
            "\rProcessing audio files:  77%|███████▋  | 804/1050 [1:25:42<22:10,  5.41s/it]"
          ]
        },
        {
          "output_type": "stream",
          "name": "stdout",
          "text": [
            "File: /content/drive/MyDrive/audio_files/Dataset_2_Cleaned/41_GAUCHE/P14.wav\n",
            "Expected Word: GAUCHE\n",
            "Detected Word: GOUGE\n",
            "Correct: 0\n",
            "\n"
          ]
        },
        {
          "output_type": "stream",
          "name": "stderr",
          "text": [
            "\rProcessing audio files:  77%|███████▋  | 805/1050 [1:25:48<22:09,  5.43s/it]"
          ]
        },
        {
          "output_type": "stream",
          "name": "stdout",
          "text": [
            "File: /content/drive/MyDrive/audio_files/Dataset_2_Cleaned/41_GAUCHE/P15.wav\n",
            "Expected Word: GAUCHE\n",
            "Detected Word: \n",
            "Correct: 0\n",
            "\n"
          ]
        },
        {
          "output_type": "stream",
          "name": "stderr",
          "text": [
            "\rProcessing audio files:  77%|███████▋  | 806/1050 [1:25:53<22:01,  5.42s/it]"
          ]
        },
        {
          "output_type": "stream",
          "name": "stdout",
          "text": [
            "File: /content/drive/MyDrive/audio_files/Dataset_2_Cleaned/41_GAUCHE/P16.wav\n",
            "Expected Word: GAUCHE\n",
            "Detected Word: \n",
            "Correct: 0\n",
            "\n"
          ]
        },
        {
          "output_type": "stream",
          "name": "stderr",
          "text": [
            "\rProcessing audio files:  77%|███████▋  | 807/1050 [1:25:59<22:01,  5.44s/it]"
          ]
        },
        {
          "output_type": "stream",
          "name": "stdout",
          "text": [
            "File: /content/drive/MyDrive/audio_files/Dataset_2_Cleaned/41_GAUCHE/P17.wav\n",
            "Expected Word: GAUCHE\n",
            "Detected Word: \n",
            "Correct: 0\n",
            "\n"
          ]
        },
        {
          "output_type": "stream",
          "name": "stderr",
          "text": [
            "\rProcessing audio files:  77%|███████▋  | 808/1050 [1:26:07<25:47,  6.39s/it]"
          ]
        },
        {
          "output_type": "stream",
          "name": "stdout",
          "text": [
            "File: /content/drive/MyDrive/audio_files/Dataset_2_Cleaned/41_GAUCHE/P18.wav\n",
            "Expected Word: GAUCHE\n",
            "Detected Word: GAUGE\n",
            "Correct: 0\n",
            "\n"
          ]
        },
        {
          "output_type": "stream",
          "name": "stderr",
          "text": [
            "\rProcessing audio files:  77%|███████▋  | 809/1050 [1:26:13<24:35,  6.12s/it]"
          ]
        },
        {
          "output_type": "stream",
          "name": "stdout",
          "text": [
            "File: /content/drive/MyDrive/audio_files/Dataset_2_Cleaned/41_GAUCHE/P19.wav\n",
            "Expected Word: GAUCHE\n",
            "Detected Word: \n",
            "Correct: 0\n",
            "\n"
          ]
        },
        {
          "output_type": "stream",
          "name": "stderr",
          "text": [
            "\rProcessing audio files:  77%|███████▋  | 810/1050 [1:26:18<23:29,  5.87s/it]"
          ]
        },
        {
          "output_type": "stream",
          "name": "stdout",
          "text": [
            "File: /content/drive/MyDrive/audio_files/Dataset_2_Cleaned/41_GAUCHE/P20.wav\n",
            "Expected Word: GAUCHE\n",
            "Detected Word: \n",
            "Correct: 0\n",
            "\n"
          ]
        },
        {
          "output_type": "stream",
          "name": "stderr",
          "text": [
            "\rProcessing audio files:  77%|███████▋  | 811/1050 [1:26:23<22:48,  5.73s/it]"
          ]
        },
        {
          "output_type": "stream",
          "name": "stdout",
          "text": [
            "File: /content/drive/MyDrive/audio_files/Dataset_2_Cleaned/44_BEATIFY/P1.wav\n",
            "Expected Word: BEATIFY\n",
            "Detected Word: BEAUTIFY\n",
            "Correct: 0\n",
            "\n"
          ]
        },
        {
          "output_type": "stream",
          "name": "stderr",
          "text": [
            "\rProcessing audio files:  77%|███████▋  | 812/1050 [1:26:29<22:17,  5.62s/it]"
          ]
        },
        {
          "output_type": "stream",
          "name": "stdout",
          "text": [
            "File: /content/drive/MyDrive/audio_files/Dataset_2_Cleaned/44_BEATIFY/P2.wav\n",
            "Expected Word: BEATIFY\n",
            "Detected Word: \n",
            "Correct: 0\n",
            "\n"
          ]
        },
        {
          "output_type": "stream",
          "name": "stderr",
          "text": [
            "\rProcessing audio files:  77%|███████▋  | 813/1050 [1:26:38<25:57,  6.57s/it]"
          ]
        },
        {
          "output_type": "stream",
          "name": "stdout",
          "text": [
            "File: /content/drive/MyDrive/audio_files/Dataset_2_Cleaned/44_BEATIFY/P3.wav\n",
            "Expected Word: BEATIFY\n",
            "Detected Word: BEAUTIFY\n",
            "Correct: 0\n",
            "\n"
          ]
        },
        {
          "output_type": "stream",
          "name": "stderr",
          "text": [
            "\rProcessing audio files:  78%|███████▊  | 814/1050 [1:26:43<24:25,  6.21s/it]"
          ]
        },
        {
          "output_type": "stream",
          "name": "stdout",
          "text": [
            "File: /content/drive/MyDrive/audio_files/Dataset_2_Cleaned/44_BEATIFY/P4.wav\n",
            "Expected Word: BEATIFY\n",
            "Detected Word: MEAT\n",
            "Correct: 0\n",
            "\n"
          ]
        },
        {
          "output_type": "stream",
          "name": "stderr",
          "text": [
            "\rProcessing audio files:  78%|███████▊  | 815/1050 [1:26:48<23:27,  5.99s/it]"
          ]
        },
        {
          "output_type": "stream",
          "name": "stdout",
          "text": [
            "File: /content/drive/MyDrive/audio_files/Dataset_2_Cleaned/44_BEATIFY/P5.wav\n",
            "Expected Word: BEATIFY\n",
            "Detected Word: BEAUTIFY\n",
            "Correct: 0\n",
            "\n"
          ]
        },
        {
          "output_type": "stream",
          "name": "stderr",
          "text": [
            "\rProcessing audio files:  78%|███████▊  | 816/1050 [1:26:54<22:37,  5.80s/it]"
          ]
        },
        {
          "output_type": "stream",
          "name": "stdout",
          "text": [
            "File: /content/drive/MyDrive/audio_files/Dataset_2_Cleaned/44_BEATIFY/P6.wav\n",
            "Expected Word: BEATIFY\n",
            "Detected Word: PETER\n",
            "Correct: 0\n",
            "\n"
          ]
        },
        {
          "output_type": "stream",
          "name": "stderr",
          "text": [
            "\rProcessing audio files:  78%|███████▊  | 817/1050 [1:26:59<22:06,  5.69s/it]"
          ]
        },
        {
          "output_type": "stream",
          "name": "stdout",
          "text": [
            "File: /content/drive/MyDrive/audio_files/Dataset_2_Cleaned/44_BEATIFY/P7.wav\n",
            "Expected Word: BEATIFY\n",
            "Detected Word: BEAUTIFY\n",
            "Correct: 0\n",
            "\n"
          ]
        },
        {
          "output_type": "stream",
          "name": "stderr",
          "text": [
            "\rProcessing audio files:  78%|███████▊  | 818/1050 [1:27:05<21:49,  5.64s/it]"
          ]
        },
        {
          "output_type": "stream",
          "name": "stdout",
          "text": [
            "File: /content/drive/MyDrive/audio_files/Dataset_2_Cleaned/44_BEATIFY/P8.wav\n",
            "Expected Word: BEATIFY\n",
            "Detected Word: \n",
            "Correct: 0\n",
            "\n"
          ]
        },
        {
          "output_type": "stream",
          "name": "stderr",
          "text": [
            "\rProcessing audio files:  78%|███████▊  | 819/1050 [1:27:10<21:36,  5.61s/it]"
          ]
        },
        {
          "output_type": "stream",
          "name": "stdout",
          "text": [
            "File: /content/drive/MyDrive/audio_files/Dataset_2_Cleaned/44_BEATIFY/P9.wav\n",
            "Expected Word: BEATIFY\n",
            "Detected Word: \n",
            "Correct: 0\n",
            "\n"
          ]
        },
        {
          "output_type": "stream",
          "name": "stderr",
          "text": [
            "\rProcessing audio files:  78%|███████▊  | 820/1050 [1:27:16<21:16,  5.55s/it]"
          ]
        },
        {
          "output_type": "stream",
          "name": "stdout",
          "text": [
            "File: /content/drive/MyDrive/audio_files/Dataset_2_Cleaned/44_BEATIFY/P10.wav\n",
            "Expected Word: BEATIFY\n",
            "Detected Word: \n",
            "Correct: 0\n",
            "\n"
          ]
        },
        {
          "output_type": "stream",
          "name": "stderr",
          "text": [
            "\rProcessing audio files:  78%|███████▊  | 821/1050 [1:27:21<20:54,  5.48s/it]"
          ]
        },
        {
          "output_type": "stream",
          "name": "stdout",
          "text": [
            "File: /content/drive/MyDrive/audio_files/Dataset_2_Cleaned/44_BEATIFY/P11.wav\n",
            "Expected Word: BEATIFY\n",
            "Detected Word: BETA\n",
            "Correct: 0\n",
            "\n"
          ]
        },
        {
          "output_type": "stream",
          "name": "stderr",
          "text": [
            "\rProcessing audio files:  78%|███████▊  | 822/1050 [1:27:30<24:28,  6.44s/it]"
          ]
        },
        {
          "output_type": "stream",
          "name": "stdout",
          "text": [
            "File: /content/drive/MyDrive/audio_files/Dataset_2_Cleaned/44_BEATIFY/P12.wav\n",
            "Expected Word: BEATIFY\n",
            "Detected Word: BEAUTIFY\n",
            "Correct: 0\n",
            "\n"
          ]
        },
        {
          "output_type": "stream",
          "name": "stderr",
          "text": [
            "\rProcessing audio files:  78%|███████▊  | 823/1050 [1:27:35<23:16,  6.15s/it]"
          ]
        },
        {
          "output_type": "stream",
          "name": "stdout",
          "text": [
            "File: /content/drive/MyDrive/audio_files/Dataset_2_Cleaned/44_BEATIFY/P13.wav\n",
            "Expected Word: BEATIFY\n",
            "Detected Word: BEAT\n",
            "Correct: 0\n",
            "\n"
          ]
        },
        {
          "output_type": "stream",
          "name": "stderr",
          "text": [
            "\rProcessing audio files:  78%|███████▊  | 824/1050 [1:27:41<22:24,  5.95s/it]"
          ]
        },
        {
          "output_type": "stream",
          "name": "stdout",
          "text": [
            "File: /content/drive/MyDrive/audio_files/Dataset_2_Cleaned/44_BEATIFY/P14.wav\n",
            "Expected Word: BEATIFY\n",
            "Detected Word: \n",
            "Correct: 0\n",
            "\n"
          ]
        },
        {
          "output_type": "stream",
          "name": "stderr",
          "text": [
            "\rProcessing audio files:  79%|███████▊  | 825/1050 [1:27:49<25:22,  6.77s/it]"
          ]
        },
        {
          "output_type": "stream",
          "name": "stdout",
          "text": [
            "File: /content/drive/MyDrive/audio_files/Dataset_2_Cleaned/44_BEATIFY/P15.wav\n",
            "Expected Word: BEATIFY\n",
            "Detected Word: \n",
            "Correct: 0\n",
            "\n"
          ]
        },
        {
          "output_type": "stream",
          "name": "stderr",
          "text": [
            "\rProcessing audio files:  79%|███████▊  | 826/1050 [1:27:55<24:04,  6.45s/it]"
          ]
        },
        {
          "output_type": "stream",
          "name": "stdout",
          "text": [
            "File: /content/drive/MyDrive/audio_files/Dataset_2_Cleaned/44_BEATIFY/P16.wav\n",
            "Expected Word: BEATIFY\n",
            "Detected Word: \n",
            "Correct: 0\n",
            "\n"
          ]
        },
        {
          "output_type": "stream",
          "name": "stderr",
          "text": [
            "\rProcessing audio files:  79%|███████▉  | 827/1050 [1:28:01<22:57,  6.18s/it]"
          ]
        },
        {
          "output_type": "stream",
          "name": "stdout",
          "text": [
            "File: /content/drive/MyDrive/audio_files/Dataset_2_Cleaned/44_BEATIFY/P17.wav\n",
            "Expected Word: BEATIFY\n",
            "Detected Word: BEATIFY\n",
            "Correct: 1\n",
            "\n"
          ]
        },
        {
          "output_type": "stream",
          "name": "stderr",
          "text": [
            "\rProcessing audio files:  79%|███████▉  | 828/1050 [1:28:06<22:15,  6.02s/it]"
          ]
        },
        {
          "output_type": "stream",
          "name": "stdout",
          "text": [
            "File: /content/drive/MyDrive/audio_files/Dataset_2_Cleaned/44_BEATIFY/P18.wav\n",
            "Expected Word: BEATIFY\n",
            "Detected Word: \n",
            "Correct: 0\n",
            "\n"
          ]
        },
        {
          "output_type": "stream",
          "name": "stderr",
          "text": [
            "\rProcessing audio files:  79%|███████▉  | 829/1050 [1:28:12<21:41,  5.89s/it]"
          ]
        },
        {
          "output_type": "stream",
          "name": "stdout",
          "text": [
            "File: /content/drive/MyDrive/audio_files/Dataset_2_Cleaned/44_BEATIFY/P19.wav\n",
            "Expected Word: BEATIFY\n",
            "Detected Word: \n",
            "Correct: 0\n",
            "\n"
          ]
        },
        {
          "output_type": "stream",
          "name": "stderr",
          "text": [
            "\rProcessing audio files:  79%|███████▉  | 830/1050 [1:28:21<24:35,  6.71s/it]"
          ]
        },
        {
          "output_type": "stream",
          "name": "stdout",
          "text": [
            "File: /content/drive/MyDrive/audio_files/Dataset_2_Cleaned/44_BEATIFY/P20.wav\n",
            "Expected Word: BEATIFY\n",
            "Detected Word: BE\n",
            "Correct: 0\n",
            "\n"
          ]
        },
        {
          "output_type": "stream",
          "name": "stderr",
          "text": [
            "\rProcessing audio files:  79%|███████▉  | 831/1050 [1:28:26<23:17,  6.38s/it]"
          ]
        },
        {
          "output_type": "stream",
          "name": "stdout",
          "text": [
            "File: /content/drive/MyDrive/audio_files/Dataset_2_Cleaned/43_LEVIATHAN/P1.wav\n",
            "Expected Word: LEVIATHAN\n",
            "Detected Word: \n",
            "Correct: 0\n",
            "\n"
          ]
        },
        {
          "output_type": "stream",
          "name": "stderr",
          "text": [
            "\rProcessing audio files:  79%|███████▉  | 832/1050 [1:28:32<22:06,  6.09s/it]"
          ]
        },
        {
          "output_type": "stream",
          "name": "stdout",
          "text": [
            "File: /content/drive/MyDrive/audio_files/Dataset_2_Cleaned/43_LEVIATHAN/P2.wav\n",
            "Expected Word: LEVIATHAN\n",
            "Detected Word: LEVIATHAN\n",
            "Correct: 1\n",
            "\n"
          ]
        },
        {
          "output_type": "stream",
          "name": "stderr",
          "text": [
            "\rProcessing audio files:  79%|███████▉  | 833/1050 [1:28:37<21:21,  5.91s/it]"
          ]
        },
        {
          "output_type": "stream",
          "name": "stdout",
          "text": [
            "File: /content/drive/MyDrive/audio_files/Dataset_2_Cleaned/43_LEVIATHAN/P3.wav\n",
            "Expected Word: LEVIATHAN\n",
            "Detected Word: LEVIATHAN\n",
            "Correct: 1\n",
            "\n"
          ]
        },
        {
          "output_type": "stream",
          "name": "stderr",
          "text": [
            "\rProcessing audio files:  79%|███████▉  | 834/1050 [1:28:43<20:53,  5.81s/it]"
          ]
        },
        {
          "output_type": "stream",
          "name": "stdout",
          "text": [
            "File: /content/drive/MyDrive/audio_files/Dataset_2_Cleaned/43_LEVIATHAN/P4.wav\n",
            "Expected Word: LEVIATHAN\n",
            "Detected Word: \n",
            "Correct: 0\n",
            "\n"
          ]
        },
        {
          "output_type": "stream",
          "name": "stderr",
          "text": [
            "\rProcessing audio files:  80%|███████▉  | 835/1050 [1:28:48<20:22,  5.69s/it]"
          ]
        },
        {
          "output_type": "stream",
          "name": "stdout",
          "text": [
            "File: /content/drive/MyDrive/audio_files/Dataset_2_Cleaned/43_LEVIATHAN/P5.wav\n",
            "Expected Word: LEVIATHAN\n",
            "Detected Word: LEVIATHAN\n",
            "Correct: 1\n",
            "\n"
          ]
        },
        {
          "output_type": "stream",
          "name": "stderr",
          "text": [
            "\rProcessing audio files:  80%|███████▉  | 836/1050 [1:28:57<23:25,  6.57s/it]"
          ]
        },
        {
          "output_type": "stream",
          "name": "stdout",
          "text": [
            "File: /content/drive/MyDrive/audio_files/Dataset_2_Cleaned/43_LEVIATHAN/P6.wav\n",
            "Expected Word: LEVIATHAN\n",
            "Detected Word: THE\n",
            "Correct: 0\n",
            "\n"
          ]
        },
        {
          "output_type": "stream",
          "name": "stderr",
          "text": [
            "\rProcessing audio files:  80%|███████▉  | 837/1050 [1:29:02<22:06,  6.23s/it]"
          ]
        },
        {
          "output_type": "stream",
          "name": "stdout",
          "text": [
            "File: /content/drive/MyDrive/audio_files/Dataset_2_Cleaned/43_LEVIATHAN/P7.wav\n",
            "Expected Word: LEVIATHAN\n",
            "Detected Word: LOVE\n",
            "Correct: 0\n",
            "\n"
          ]
        },
        {
          "output_type": "stream",
          "name": "stderr",
          "text": [
            "\rProcessing audio files:  80%|███████▉  | 838/1050 [1:29:08<21:50,  6.18s/it]"
          ]
        },
        {
          "output_type": "stream",
          "name": "stdout",
          "text": [
            "File: /content/drive/MyDrive/audio_files/Dataset_2_Cleaned/43_LEVIATHAN/P8.wav\n",
            "Expected Word: LEVIATHAN\n",
            "Detected Word: \n",
            "Correct: 0\n",
            "\n"
          ]
        },
        {
          "output_type": "stream",
          "name": "stderr",
          "text": [
            "\rProcessing audio files:  80%|███████▉  | 839/1050 [1:29:14<21:05,  6.00s/it]"
          ]
        },
        {
          "output_type": "stream",
          "name": "stdout",
          "text": [
            "File: /content/drive/MyDrive/audio_files/Dataset_2_Cleaned/43_LEVIATHAN/P9.wav\n",
            "Expected Word: LEVIATHAN\n",
            "Detected Word: \n",
            "Correct: 0\n",
            "\n"
          ]
        },
        {
          "output_type": "stream",
          "name": "stderr",
          "text": [
            "\rProcessing audio files:  80%|████████  | 840/1050 [1:29:19<20:23,  5.83s/it]"
          ]
        },
        {
          "output_type": "stream",
          "name": "stdout",
          "text": [
            "File: /content/drive/MyDrive/audio_files/Dataset_2_Cleaned/43_LEVIATHAN/P10.wav\n",
            "Expected Word: LEVIATHAN\n",
            "Detected Word: \n",
            "Correct: 0\n",
            "\n"
          ]
        },
        {
          "output_type": "stream",
          "name": "stderr",
          "text": [
            "\rProcessing audio files:  80%|████████  | 841/1050 [1:29:25<19:59,  5.74s/it]"
          ]
        },
        {
          "output_type": "stream",
          "name": "stdout",
          "text": [
            "File: /content/drive/MyDrive/audio_files/Dataset_2_Cleaned/43_LEVIATHAN/P11.wav\n",
            "Expected Word: LEVIATHAN\n",
            "Detected Word: \n",
            "Correct: 0\n",
            "\n"
          ]
        },
        {
          "output_type": "stream",
          "name": "stderr",
          "text": [
            "\rProcessing audio files:  80%|████████  | 842/1050 [1:29:30<19:30,  5.63s/it]"
          ]
        },
        {
          "output_type": "stream",
          "name": "stdout",
          "text": [
            "File: /content/drive/MyDrive/audio_files/Dataset_2_Cleaned/43_LEVIATHAN/P12.wav\n",
            "Expected Word: LEVIATHAN\n",
            "Detected Word: LEVIATHAN\n",
            "Correct: 1\n",
            "\n"
          ]
        },
        {
          "output_type": "stream",
          "name": "stderr",
          "text": [
            "\rProcessing audio files:  80%|████████  | 843/1050 [1:29:35<19:14,  5.57s/it]"
          ]
        },
        {
          "output_type": "stream",
          "name": "stdout",
          "text": [
            "File: /content/drive/MyDrive/audio_files/Dataset_2_Cleaned/43_LEVIATHAN/P13.wav\n",
            "Expected Word: LEVIATHAN\n",
            "Detected Word: THE\n",
            "Correct: 0\n",
            "\n"
          ]
        },
        {
          "output_type": "stream",
          "name": "stderr",
          "text": [
            "\rProcessing audio files:  80%|████████  | 844/1050 [1:29:41<18:55,  5.51s/it]"
          ]
        },
        {
          "output_type": "stream",
          "name": "stdout",
          "text": [
            "File: /content/drive/MyDrive/audio_files/Dataset_2_Cleaned/43_LEVIATHAN/P14.wav\n",
            "Expected Word: LEVIATHAN\n",
            "Detected Word: LEVIATHAN\n",
            "Correct: 1\n",
            "\n"
          ]
        },
        {
          "output_type": "stream",
          "name": "stderr",
          "text": [
            "\rProcessing audio files:  80%|████████  | 845/1050 [1:29:46<18:50,  5.52s/it]"
          ]
        },
        {
          "output_type": "stream",
          "name": "stdout",
          "text": [
            "File: /content/drive/MyDrive/audio_files/Dataset_2_Cleaned/43_LEVIATHAN/P15.wav\n",
            "Expected Word: LEVIATHAN\n",
            "Detected Word: LEVIATHAN\n",
            "Correct: 1\n",
            "\n"
          ]
        },
        {
          "output_type": "stream",
          "name": "stderr",
          "text": [
            "\rProcessing audio files:  81%|████████  | 846/1050 [1:29:52<18:52,  5.55s/it]"
          ]
        },
        {
          "output_type": "stream",
          "name": "stdout",
          "text": [
            "File: /content/drive/MyDrive/audio_files/Dataset_2_Cleaned/43_LEVIATHAN/P16.wav\n",
            "Expected Word: LEVIATHAN\n",
            "Detected Word: THE\n",
            "Correct: 0\n",
            "\n"
          ]
        },
        {
          "output_type": "stream",
          "name": "stderr",
          "text": [
            "\rProcessing audio files:  81%|████████  | 847/1050 [1:29:58<18:50,  5.57s/it]"
          ]
        },
        {
          "output_type": "stream",
          "name": "stdout",
          "text": [
            "File: /content/drive/MyDrive/audio_files/Dataset_2_Cleaned/43_LEVIATHAN/P17.wav\n",
            "Expected Word: LEVIATHAN\n",
            "Detected Word: \n",
            "Correct: 0\n",
            "\n"
          ]
        },
        {
          "output_type": "stream",
          "name": "stderr",
          "text": [
            "\rProcessing audio files:  81%|████████  | 848/1050 [1:30:03<18:52,  5.60s/it]"
          ]
        },
        {
          "output_type": "stream",
          "name": "stdout",
          "text": [
            "File: /content/drive/MyDrive/audio_files/Dataset_2_Cleaned/43_LEVIATHAN/P18.wav\n",
            "Expected Word: LEVIATHAN\n",
            "Detected Word: LEATHER\n",
            "Correct: 0\n",
            "\n"
          ]
        },
        {
          "output_type": "stream",
          "name": "stderr",
          "text": [
            "\rProcessing audio files:  81%|████████  | 849/1050 [1:30:09<18:43,  5.59s/it]"
          ]
        },
        {
          "output_type": "stream",
          "name": "stdout",
          "text": [
            "File: /content/drive/MyDrive/audio_files/Dataset_2_Cleaned/43_LEVIATHAN/P19.wav\n",
            "Expected Word: LEVIATHAN\n",
            "Detected Word: LEVIATHAN\n",
            "Correct: 1\n",
            "\n"
          ]
        },
        {
          "output_type": "stream",
          "name": "stderr",
          "text": [
            "\rProcessing audio files:  81%|████████  | 850/1050 [1:30:14<18:35,  5.58s/it]"
          ]
        },
        {
          "output_type": "stream",
          "name": "stdout",
          "text": [
            "File: /content/drive/MyDrive/audio_files/Dataset_2_Cleaned/43_LEVIATHAN/P20.wav\n",
            "Expected Word: LEVIATHAN\n",
            "Detected Word: BIAS\n",
            "Correct: 0\n",
            "\n"
          ]
        },
        {
          "output_type": "stream",
          "name": "stderr",
          "text": [
            "\rProcessing audio files:  81%|████████  | 851/1050 [1:30:20<18:04,  5.45s/it]"
          ]
        },
        {
          "output_type": "stream",
          "name": "stdout",
          "text": [
            "File: /content/drive/MyDrive/audio_files/Dataset_2_Cleaned/38_IDYLL/P1.wav\n",
            "Expected Word: IDYLL\n",
            "Detected Word: IDLE\n",
            "Correct: 0\n",
            "\n"
          ]
        },
        {
          "output_type": "stream",
          "name": "stderr",
          "text": [
            "\rProcessing audio files:  81%|████████  | 852/1050 [1:30:25<17:58,  5.45s/it]"
          ]
        },
        {
          "output_type": "stream",
          "name": "stdout",
          "text": [
            "File: /content/drive/MyDrive/audio_files/Dataset_2_Cleaned/38_IDYLL/P2.wav\n",
            "Expected Word: IDYLL\n",
            "Detected Word: \n",
            "Correct: 0\n",
            "\n"
          ]
        },
        {
          "output_type": "stream",
          "name": "stderr",
          "text": [
            "\rProcessing audio files:  81%|████████  | 853/1050 [1:30:40<27:40,  8.43s/it]"
          ]
        },
        {
          "output_type": "stream",
          "name": "stdout",
          "text": [
            "File: /content/drive/MyDrive/audio_files/Dataset_2_Cleaned/38_IDYLL/P3.wav\n",
            "Expected Word: IDYLL\n",
            "Detected Word: I\n",
            "Correct: 0\n",
            "\n"
          ]
        },
        {
          "output_type": "stream",
          "name": "stderr",
          "text": [
            "\rProcessing audio files:  81%|████████▏ | 854/1050 [1:30:46<24:30,  7.50s/it]"
          ]
        },
        {
          "output_type": "stream",
          "name": "stdout",
          "text": [
            "File: /content/drive/MyDrive/audio_files/Dataset_2_Cleaned/38_IDYLL/P4.wav\n",
            "Expected Word: IDYLL\n",
            "Detected Word: \n",
            "Correct: 0\n",
            "\n"
          ]
        },
        {
          "output_type": "stream",
          "name": "stderr",
          "text": [
            "\rProcessing audio files:  81%|████████▏ | 855/1050 [1:30:51<22:22,  6.89s/it]"
          ]
        },
        {
          "output_type": "stream",
          "name": "stdout",
          "text": [
            "File: /content/drive/MyDrive/audio_files/Dataset_2_Cleaned/38_IDYLL/P5.wav\n",
            "Expected Word: IDYLL\n",
            "Detected Word: A\n",
            "Correct: 0\n",
            "\n"
          ]
        },
        {
          "output_type": "stream",
          "name": "stderr",
          "text": [
            "\rProcessing audio files:  82%|████████▏ | 856/1050 [1:31:00<23:55,  7.40s/it]"
          ]
        },
        {
          "output_type": "stream",
          "name": "stdout",
          "text": [
            "File: /content/drive/MyDrive/audio_files/Dataset_2_Cleaned/38_IDYLL/P6.wav\n",
            "Expected Word: IDYLL\n",
            "Detected Word: YOU\n",
            "Correct: 0\n",
            "\n"
          ]
        },
        {
          "output_type": "stream",
          "name": "stderr",
          "text": [
            "\rProcessing audio files:  82%|████████▏ | 857/1050 [1:31:05<21:49,  6.78s/it]"
          ]
        },
        {
          "output_type": "stream",
          "name": "stdout",
          "text": [
            "File: /content/drive/MyDrive/audio_files/Dataset_2_Cleaned/38_IDYLL/P7.wav\n",
            "Expected Word: IDYLL\n",
            "Detected Word: \n",
            "Correct: 0\n",
            "\n"
          ]
        },
        {
          "output_type": "stream",
          "name": "stderr",
          "text": [
            "\rProcessing audio files:  82%|████████▏ | 858/1050 [1:31:11<20:27,  6.39s/it]"
          ]
        },
        {
          "output_type": "stream",
          "name": "stdout",
          "text": [
            "File: /content/drive/MyDrive/audio_files/Dataset_2_Cleaned/38_IDYLL/P8.wav\n",
            "Expected Word: IDYLL\n",
            "Detected Word: \n",
            "Correct: 0\n",
            "\n"
          ]
        },
        {
          "output_type": "stream",
          "name": "stderr",
          "text": [
            "\rProcessing audio files:  82%|████████▏ | 859/1050 [1:31:16<19:25,  6.10s/it]"
          ]
        },
        {
          "output_type": "stream",
          "name": "stdout",
          "text": [
            "File: /content/drive/MyDrive/audio_files/Dataset_2_Cleaned/38_IDYLL/P9.wav\n",
            "Expected Word: IDYLL\n",
            "Detected Word: \n",
            "Correct: 0\n",
            "\n"
          ]
        },
        {
          "output_type": "stream",
          "name": "stderr",
          "text": [
            "\rProcessing audio files:  82%|████████▏ | 860/1050 [1:31:21<18:26,  5.82s/it]"
          ]
        },
        {
          "output_type": "stream",
          "name": "stdout",
          "text": [
            "File: /content/drive/MyDrive/audio_files/Dataset_2_Cleaned/38_IDYLL/P10.wav\n",
            "Expected Word: IDYLL\n",
            "Detected Word: IT\n",
            "Correct: 0\n",
            "\n"
          ]
        },
        {
          "output_type": "stream",
          "name": "stderr",
          "text": [
            "\rProcessing audio files:  82%|████████▏ | 861/1050 [1:31:26<17:42,  5.62s/it]"
          ]
        },
        {
          "output_type": "stream",
          "name": "stdout",
          "text": [
            "File: /content/drive/MyDrive/audio_files/Dataset_2_Cleaned/38_IDYLL/P11.wav\n",
            "Expected Word: IDYLL\n",
            "Detected Word: IDLE\n",
            "Correct: 0\n",
            "\n"
          ]
        },
        {
          "output_type": "stream",
          "name": "stderr",
          "text": [
            "\rProcessing audio files:  82%|████████▏ | 862/1050 [1:31:35<20:11,  6.44s/it]"
          ]
        },
        {
          "output_type": "stream",
          "name": "stdout",
          "text": [
            "File: /content/drive/MyDrive/audio_files/Dataset_2_Cleaned/38_IDYLL/P12.wav\n",
            "Expected Word: IDYLL\n",
            "Detected Word: A\n",
            "Correct: 0\n",
            "\n"
          ]
        },
        {
          "output_type": "stream",
          "name": "stderr",
          "text": [
            "\rProcessing audio files:  82%|████████▏ | 863/1050 [1:31:40<19:13,  6.17s/it]"
          ]
        },
        {
          "output_type": "stream",
          "name": "stdout",
          "text": [
            "File: /content/drive/MyDrive/audio_files/Dataset_2_Cleaned/38_IDYLL/P13.wav\n",
            "Expected Word: IDYLL\n",
            "Detected Word: I\n",
            "Correct: 0\n",
            "\n"
          ]
        },
        {
          "output_type": "stream",
          "name": "stderr",
          "text": [
            "\rProcessing audio files:  82%|████████▏ | 864/1050 [1:31:46<18:29,  5.96s/it]"
          ]
        },
        {
          "output_type": "stream",
          "name": "stdout",
          "text": [
            "File: /content/drive/MyDrive/audio_files/Dataset_2_Cleaned/38_IDYLL/P14.wav\n",
            "Expected Word: IDYLL\n",
            "Detected Word: \n",
            "Correct: 0\n",
            "\n"
          ]
        },
        {
          "output_type": "stream",
          "name": "stderr",
          "text": [
            "\rProcessing audio files:  82%|████████▏ | 865/1050 [1:31:52<18:23,  5.96s/it]"
          ]
        },
        {
          "output_type": "stream",
          "name": "stdout",
          "text": [
            "File: /content/drive/MyDrive/audio_files/Dataset_2_Cleaned/38_IDYLL/P15.wav\n",
            "Expected Word: IDYLL\n",
            "Detected Word: I\n",
            "Correct: 0\n",
            "\n"
          ]
        },
        {
          "output_type": "stream",
          "name": "stderr",
          "text": [
            "\rProcessing audio files:  82%|████████▏ | 866/1050 [1:31:57<17:42,  5.78s/it]"
          ]
        },
        {
          "output_type": "stream",
          "name": "stdout",
          "text": [
            "File: /content/drive/MyDrive/audio_files/Dataset_2_Cleaned/38_IDYLL/P16.wav\n",
            "Expected Word: IDYLL\n",
            "Detected Word: I\n",
            "Correct: 0\n",
            "\n"
          ]
        },
        {
          "output_type": "stream",
          "name": "stderr",
          "text": [
            "\rProcessing audio files:  83%|████████▎ | 867/1050 [1:32:02<17:20,  5.69s/it]"
          ]
        },
        {
          "output_type": "stream",
          "name": "stdout",
          "text": [
            "File: /content/drive/MyDrive/audio_files/Dataset_2_Cleaned/38_IDYLL/P17.wav\n",
            "Expected Word: IDYLL\n",
            "Detected Word: A\n",
            "Correct: 0\n",
            "\n"
          ]
        },
        {
          "output_type": "stream",
          "name": "stderr",
          "text": [
            "\rProcessing audio files:  83%|████████▎ | 868/1050 [1:32:08<16:46,  5.53s/it]"
          ]
        },
        {
          "output_type": "stream",
          "name": "stdout",
          "text": [
            "File: /content/drive/MyDrive/audio_files/Dataset_2_Cleaned/38_IDYLL/P18.wav\n",
            "Expected Word: IDYLL\n",
            "Detected Word: \n",
            "Correct: 0\n",
            "\n"
          ]
        },
        {
          "output_type": "stream",
          "name": "stderr",
          "text": [
            "\rProcessing audio files:  83%|████████▎ | 869/1050 [1:32:13<16:30,  5.47s/it]"
          ]
        },
        {
          "output_type": "stream",
          "name": "stdout",
          "text": [
            "File: /content/drive/MyDrive/audio_files/Dataset_2_Cleaned/38_IDYLL/P19.wav\n",
            "Expected Word: IDYLL\n",
            "Detected Word: YOU\n",
            "Correct: 0\n",
            "\n"
          ]
        },
        {
          "output_type": "stream",
          "name": "stderr",
          "text": [
            "\rProcessing audio files:  83%|████████▎ | 870/1050 [1:32:22<19:10,  6.39s/it]"
          ]
        },
        {
          "output_type": "stream",
          "name": "stdout",
          "text": [
            "File: /content/drive/MyDrive/audio_files/Dataset_2_Cleaned/38_IDYLL/P20.wav\n",
            "Expected Word: IDYLL\n",
            "Detected Word: YOU\n",
            "Correct: 0\n",
            "\n"
          ]
        },
        {
          "output_type": "stream",
          "name": "stderr",
          "text": [
            "\rProcessing audio files:  83%|████████▎ | 871/1050 [1:32:27<18:03,  6.05s/it]"
          ]
        },
        {
          "output_type": "stream",
          "name": "stdout",
          "text": [
            "File: /content/drive/MyDrive/audio_files/Dataset_2_Cleaned/03_DEPOT/P1.wav\n",
            "Expected Word: DEPOT\n",
            "Detected Word: \n",
            "Correct: 0\n",
            "\n"
          ]
        },
        {
          "output_type": "stream",
          "name": "stderr",
          "text": [
            "\rProcessing audio files:  83%|████████▎ | 872/1050 [1:32:32<17:22,  5.86s/it]"
          ]
        },
        {
          "output_type": "stream",
          "name": "stdout",
          "text": [
            "File: /content/drive/MyDrive/audio_files/Dataset_2_Cleaned/03_DEPOT/P2.wav\n",
            "Expected Word: DEPOT\n",
            "Detected Word: DEPOT\n",
            "Correct: 1\n",
            "\n"
          ]
        },
        {
          "output_type": "stream",
          "name": "stderr",
          "text": [
            "\rProcessing audio files:  83%|████████▎ | 873/1050 [1:32:37<16:44,  5.67s/it]"
          ]
        },
        {
          "output_type": "stream",
          "name": "stdout",
          "text": [
            "File: /content/drive/MyDrive/audio_files/Dataset_2_Cleaned/03_DEPOT/P3.wav\n",
            "Expected Word: DEPOT\n",
            "Detected Word: YOU\n",
            "Correct: 0\n",
            "\n"
          ]
        },
        {
          "output_type": "stream",
          "name": "stderr",
          "text": [
            "\rProcessing audio files:  83%|████████▎ | 874/1050 [1:32:46<19:09,  6.53s/it]"
          ]
        },
        {
          "output_type": "stream",
          "name": "stdout",
          "text": [
            "File: /content/drive/MyDrive/audio_files/Dataset_2_Cleaned/03_DEPOT/P4.wav\n",
            "Expected Word: DEPOT\n",
            "Detected Word: DEPOT\n",
            "Correct: 1\n",
            "\n"
          ]
        },
        {
          "output_type": "stream",
          "name": "stderr",
          "text": [
            "\rProcessing audio files:  83%|████████▎ | 875/1050 [1:32:52<18:10,  6.23s/it]"
          ]
        },
        {
          "output_type": "stream",
          "name": "stdout",
          "text": [
            "File: /content/drive/MyDrive/audio_files/Dataset_2_Cleaned/03_DEPOT/P5.wav\n",
            "Expected Word: DEPOT\n",
            "Detected Word: DEPOT\n",
            "Correct: 1\n",
            "\n"
          ]
        },
        {
          "output_type": "stream",
          "name": "stderr",
          "text": [
            "\rProcessing audio files:  83%|████████▎ | 876/1050 [1:32:57<17:08,  5.91s/it]"
          ]
        },
        {
          "output_type": "stream",
          "name": "stdout",
          "text": [
            "File: /content/drive/MyDrive/audio_files/Dataset_2_Cleaned/03_DEPOT/P6.wav\n",
            "Expected Word: DEPOT\n",
            "Detected Word: \n",
            "Correct: 0\n",
            "\n"
          ]
        },
        {
          "output_type": "stream",
          "name": "stderr",
          "text": [
            "\rProcessing audio files:  84%|████████▎ | 877/1050 [1:33:02<16:34,  5.75s/it]"
          ]
        },
        {
          "output_type": "stream",
          "name": "stdout",
          "text": [
            "File: /content/drive/MyDrive/audio_files/Dataset_2_Cleaned/03_DEPOT/P7.wav\n",
            "Expected Word: DEPOT\n",
            "Detected Word: \n",
            "Correct: 0\n",
            "\n"
          ]
        },
        {
          "output_type": "stream",
          "name": "stderr",
          "text": [
            "\rProcessing audio files:  84%|████████▎ | 878/1050 [1:33:07<16:06,  5.62s/it]"
          ]
        },
        {
          "output_type": "stream",
          "name": "stdout",
          "text": [
            "File: /content/drive/MyDrive/audio_files/Dataset_2_Cleaned/03_DEPOT/P8.wav\n",
            "Expected Word: DEPOT\n",
            "Detected Word: DEPOT\n",
            "Correct: 1\n",
            "\n"
          ]
        },
        {
          "output_type": "stream",
          "name": "stderr",
          "text": [
            "\rProcessing audio files:  84%|████████▎ | 879/1050 [1:33:13<15:38,  5.49s/it]"
          ]
        },
        {
          "output_type": "stream",
          "name": "stdout",
          "text": [
            "File: /content/drive/MyDrive/audio_files/Dataset_2_Cleaned/03_DEPOT/P9.wav\n",
            "Expected Word: DEPOT\n",
            "Detected Word: DEPOT\n",
            "Correct: 1\n",
            "\n"
          ]
        },
        {
          "output_type": "stream",
          "name": "stderr",
          "text": [
            "\rProcessing audio files:  84%|████████▍ | 880/1050 [1:33:18<15:21,  5.42s/it]"
          ]
        },
        {
          "output_type": "stream",
          "name": "stdout",
          "text": [
            "File: /content/drive/MyDrive/audio_files/Dataset_2_Cleaned/03_DEPOT/P10.wav\n",
            "Expected Word: DEPOT\n",
            "Detected Word: \n",
            "Correct: 0\n",
            "\n"
          ]
        },
        {
          "output_type": "stream",
          "name": "stderr",
          "text": [
            "\rProcessing audio files:  84%|████████▍ | 881/1050 [1:33:23<15:17,  5.43s/it]"
          ]
        },
        {
          "output_type": "stream",
          "name": "stdout",
          "text": [
            "File: /content/drive/MyDrive/audio_files/Dataset_2_Cleaned/03_DEPOT/P11.wav\n",
            "Expected Word: DEPOT\n",
            "Detected Word: DEATH\n",
            "Correct: 0\n",
            "\n"
          ]
        },
        {
          "output_type": "stream",
          "name": "stderr",
          "text": [
            "\rProcessing audio files:  84%|████████▍ | 882/1050 [1:33:29<15:14,  5.44s/it]"
          ]
        },
        {
          "output_type": "stream",
          "name": "stdout",
          "text": [
            "File: /content/drive/MyDrive/audio_files/Dataset_2_Cleaned/03_DEPOT/P12.wav\n",
            "Expected Word: DEPOT\n",
            "Detected Word: DEATH\n",
            "Correct: 0\n",
            "\n"
          ]
        },
        {
          "output_type": "stream",
          "name": "stderr",
          "text": [
            "\rProcessing audio files:  84%|████████▍ | 883/1050 [1:33:34<15:11,  5.46s/it]"
          ]
        },
        {
          "output_type": "stream",
          "name": "stdout",
          "text": [
            "File: /content/drive/MyDrive/audio_files/Dataset_2_Cleaned/03_DEPOT/P13.wav\n",
            "Expected Word: DEPOT\n",
            "Detected Word: \n",
            "Correct: 0\n",
            "\n"
          ]
        },
        {
          "output_type": "stream",
          "name": "stderr",
          "text": [
            "\rProcessing audio files:  84%|████████▍ | 884/1050 [1:33:43<17:56,  6.49s/it]"
          ]
        },
        {
          "output_type": "stream",
          "name": "stdout",
          "text": [
            "File: /content/drive/MyDrive/audio_files/Dataset_2_Cleaned/03_DEPOT/P14.wav\n",
            "Expected Word: DEPOT\n",
            "Detected Word: \n",
            "Correct: 0\n",
            "\n"
          ]
        },
        {
          "output_type": "stream",
          "name": "stderr",
          "text": [
            "\rProcessing audio files:  84%|████████▍ | 885/1050 [1:33:48<16:56,  6.16s/it]"
          ]
        },
        {
          "output_type": "stream",
          "name": "stdout",
          "text": [
            "File: /content/drive/MyDrive/audio_files/Dataset_2_Cleaned/03_DEPOT/P15.wav\n",
            "Expected Word: DEPOT\n",
            "Detected Word: DEPOT\n",
            "Correct: 1\n",
            "\n"
          ]
        },
        {
          "output_type": "stream",
          "name": "stderr",
          "text": [
            "\rProcessing audio files:  84%|████████▍ | 886/1050 [1:33:54<16:11,  5.92s/it]"
          ]
        },
        {
          "output_type": "stream",
          "name": "stdout",
          "text": [
            "File: /content/drive/MyDrive/audio_files/Dataset_2_Cleaned/03_DEPOT/P16.wav\n",
            "Expected Word: DEPOT\n",
            "Detected Word: DEATH\n",
            "Correct: 0\n",
            "\n"
          ]
        },
        {
          "output_type": "stream",
          "name": "stderr",
          "text": [
            "\rProcessing audio files:  84%|████████▍ | 887/1050 [1:33:59<15:46,  5.81s/it]"
          ]
        },
        {
          "output_type": "stream",
          "name": "stdout",
          "text": [
            "File: /content/drive/MyDrive/audio_files/Dataset_2_Cleaned/03_DEPOT/P17.wav\n",
            "Expected Word: DEPOT\n",
            "Detected Word: DEPOT\n",
            "Correct: 1\n",
            "\n"
          ]
        },
        {
          "output_type": "stream",
          "name": "stderr",
          "text": [
            "\rProcessing audio files:  85%|████████▍ | 888/1050 [1:34:05<15:25,  5.71s/it]"
          ]
        },
        {
          "output_type": "stream",
          "name": "stdout",
          "text": [
            "File: /content/drive/MyDrive/audio_files/Dataset_2_Cleaned/03_DEPOT/P18.wav\n",
            "Expected Word: DEPOT\n",
            "Detected Word: DECO\n",
            "Correct: 0\n",
            "\n"
          ]
        },
        {
          "output_type": "stream",
          "name": "stderr",
          "text": [
            "\rProcessing audio files:  85%|████████▍ | 889/1050 [1:34:14<17:47,  6.63s/it]"
          ]
        },
        {
          "output_type": "stream",
          "name": "stdout",
          "text": [
            "File: /content/drive/MyDrive/audio_files/Dataset_2_Cleaned/03_DEPOT/P19.wav\n",
            "Expected Word: DEPOT\n",
            "Detected Word: THEREFORE\n",
            "Correct: 0\n",
            "\n"
          ]
        },
        {
          "output_type": "stream",
          "name": "stderr",
          "text": [
            "\rProcessing audio files:  85%|████████▍ | 890/1050 [1:34:19<16:44,  6.28s/it]"
          ]
        },
        {
          "output_type": "stream",
          "name": "stdout",
          "text": [
            "File: /content/drive/MyDrive/audio_files/Dataset_2_Cleaned/03_DEPOT/P20.wav\n",
            "Expected Word: DEPOT\n",
            "Detected Word: DIFFERENT\n",
            "Correct: 0\n",
            "\n"
          ]
        },
        {
          "output_type": "stream",
          "name": "stderr",
          "text": [
            "\rProcessing audio files:  85%|████████▍ | 891/1050 [1:34:24<15:47,  5.96s/it]"
          ]
        },
        {
          "output_type": "stream",
          "name": "stdout",
          "text": [
            "File: /content/drive/MyDrive/audio_files/Dataset_2_Cleaned/05_BOUQUET/P1.wav\n",
            "Expected Word: BOUQUET\n",
            "Detected Word: \n",
            "Correct: 0\n",
            "\n"
          ]
        },
        {
          "output_type": "stream",
          "name": "stderr",
          "text": [
            "\rProcessing audio files:  85%|████████▍ | 892/1050 [1:34:33<17:40,  6.71s/it]"
          ]
        },
        {
          "output_type": "stream",
          "name": "stdout",
          "text": [
            "File: /content/drive/MyDrive/audio_files/Dataset_2_Cleaned/05_BOUQUET/P2.wav\n",
            "Expected Word: BOUQUET\n",
            "Detected Word: BOUQUET\n",
            "Correct: 1\n",
            "\n"
          ]
        },
        {
          "output_type": "stream",
          "name": "stderr",
          "text": [
            "\rProcessing audio files:  85%|████████▌ | 893/1050 [1:34:38<16:19,  6.24s/it]"
          ]
        },
        {
          "output_type": "stream",
          "name": "stdout",
          "text": [
            "File: /content/drive/MyDrive/audio_files/Dataset_2_Cleaned/05_BOUQUET/P3.wav\n",
            "Expected Word: BOUQUET\n",
            "Detected Word: \n",
            "Correct: 0\n",
            "\n"
          ]
        },
        {
          "output_type": "stream",
          "name": "stderr",
          "text": [
            "\rProcessing audio files:  85%|████████▌ | 894/1050 [1:34:43<15:32,  5.98s/it]"
          ]
        },
        {
          "output_type": "stream",
          "name": "stdout",
          "text": [
            "File: /content/drive/MyDrive/audio_files/Dataset_2_Cleaned/05_BOUQUET/P4.wav\n",
            "Expected Word: BOUQUET\n",
            "Detected Word: OKAY\n",
            "Correct: 0\n",
            "\n"
          ]
        },
        {
          "output_type": "stream",
          "name": "stderr",
          "text": [
            "\rProcessing audio files:  85%|████████▌ | 895/1050 [1:34:49<15:00,  5.81s/it]"
          ]
        },
        {
          "output_type": "stream",
          "name": "stdout",
          "text": [
            "File: /content/drive/MyDrive/audio_files/Dataset_2_Cleaned/05_BOUQUET/P5.wav\n",
            "Expected Word: BOUQUET\n",
            "Detected Word: \n",
            "Correct: 0\n",
            "\n"
          ]
        },
        {
          "output_type": "stream",
          "name": "stderr",
          "text": [
            "\rProcessing audio files:  85%|████████▌ | 896/1050 [1:34:57<16:57,  6.61s/it]"
          ]
        },
        {
          "output_type": "stream",
          "name": "stdout",
          "text": [
            "File: /content/drive/MyDrive/audio_files/Dataset_2_Cleaned/05_BOUQUET/P6.wav\n",
            "Expected Word: BOUQUET\n",
            "Detected Word: OKAY\n",
            "Correct: 0\n",
            "\n"
          ]
        },
        {
          "output_type": "stream",
          "name": "stderr",
          "text": [
            "\rProcessing audio files:  85%|████████▌ | 897/1050 [1:35:03<15:53,  6.23s/it]"
          ]
        },
        {
          "output_type": "stream",
          "name": "stdout",
          "text": [
            "File: /content/drive/MyDrive/audio_files/Dataset_2_Cleaned/05_BOUQUET/P7.wav\n",
            "Expected Word: BOUQUET\n",
            "Detected Word: OKAY\n",
            "Correct: 0\n",
            "\n"
          ]
        },
        {
          "output_type": "stream",
          "name": "stderr",
          "text": [
            "\rProcessing audio files:  86%|████████▌ | 898/1050 [1:35:11<17:34,  6.94s/it]"
          ]
        },
        {
          "output_type": "stream",
          "name": "stdout",
          "text": [
            "File: /content/drive/MyDrive/audio_files/Dataset_2_Cleaned/05_BOUQUET/P8.wav\n",
            "Expected Word: BOUQUET\n",
            "Detected Word: BOUQUET\n",
            "Correct: 1\n",
            "\n"
          ]
        },
        {
          "output_type": "stream",
          "name": "stderr",
          "text": [
            "\rProcessing audio files:  86%|████████▌ | 899/1050 [1:35:17<16:17,  6.47s/it]"
          ]
        },
        {
          "output_type": "stream",
          "name": "stdout",
          "text": [
            "File: /content/drive/MyDrive/audio_files/Dataset_2_Cleaned/05_BOUQUET/P9.wav\n",
            "Expected Word: BOUQUET\n",
            "Detected Word: BOUQUET\n",
            "Correct: 1\n",
            "\n"
          ]
        },
        {
          "output_type": "stream",
          "name": "stderr",
          "text": [
            "\rProcessing audio files:  86%|████████▌ | 900/1050 [1:35:22<15:17,  6.12s/it]"
          ]
        },
        {
          "output_type": "stream",
          "name": "stdout",
          "text": [
            "File: /content/drive/MyDrive/audio_files/Dataset_2_Cleaned/05_BOUQUET/P10.wav\n",
            "Expected Word: BOUQUET\n",
            "Detected Word: \n",
            "Correct: 0\n",
            "\n"
          ]
        },
        {
          "output_type": "stream",
          "name": "stderr",
          "text": [
            "\rProcessing audio files:  86%|████████▌ | 901/1050 [1:35:27<14:39,  5.90s/it]"
          ]
        },
        {
          "output_type": "stream",
          "name": "stdout",
          "text": [
            "File: /content/drive/MyDrive/audio_files/Dataset_2_Cleaned/05_BOUQUET/P11.wav\n",
            "Expected Word: BOUQUET\n",
            "Detected Word: \n",
            "Correct: 0\n",
            "\n"
          ]
        },
        {
          "output_type": "stream",
          "name": "stderr",
          "text": [
            "\rProcessing audio files:  86%|████████▌ | 902/1050 [1:35:33<14:07,  5.73s/it]"
          ]
        },
        {
          "output_type": "stream",
          "name": "stdout",
          "text": [
            "File: /content/drive/MyDrive/audio_files/Dataset_2_Cleaned/05_BOUQUET/P12.wav\n",
            "Expected Word: BOUQUET\n",
            "Detected Word: OKAY\n",
            "Correct: 0\n",
            "\n"
          ]
        },
        {
          "output_type": "stream",
          "name": "stderr",
          "text": [
            "\rProcessing audio files:  86%|████████▌ | 903/1050 [1:35:41<16:08,  6.59s/it]"
          ]
        },
        {
          "output_type": "stream",
          "name": "stdout",
          "text": [
            "File: /content/drive/MyDrive/audio_files/Dataset_2_Cleaned/05_BOUQUET/P13.wav\n",
            "Expected Word: BOUQUET\n",
            "Detected Word: \n",
            "Correct: 0\n",
            "\n"
          ]
        },
        {
          "output_type": "stream",
          "name": "stderr",
          "text": [
            "\rProcessing audio files:  86%|████████▌ | 904/1050 [1:35:46<15:01,  6.17s/it]"
          ]
        },
        {
          "output_type": "stream",
          "name": "stdout",
          "text": [
            "File: /content/drive/MyDrive/audio_files/Dataset_2_Cleaned/05_BOUQUET/P14.wav\n",
            "Expected Word: BOUQUET\n",
            "Detected Word: \n",
            "Correct: 0\n",
            "\n"
          ]
        },
        {
          "output_type": "stream",
          "name": "stderr",
          "text": [
            "\rProcessing audio files:  86%|████████▌ | 905/1050 [1:35:54<15:50,  6.56s/it]"
          ]
        },
        {
          "output_type": "stream",
          "name": "stdout",
          "text": [
            "File: /content/drive/MyDrive/audio_files/Dataset_2_Cleaned/05_BOUQUET/P15.wav\n",
            "Expected Word: BOUQUET\n",
            "Detected Word: \n",
            "Correct: 0\n",
            "\n"
          ]
        },
        {
          "output_type": "stream",
          "name": "stderr",
          "text": [
            "\rProcessing audio files:  86%|████████▋ | 906/1050 [1:35:59<14:51,  6.19s/it]"
          ]
        },
        {
          "output_type": "stream",
          "name": "stdout",
          "text": [
            "File: /content/drive/MyDrive/audio_files/Dataset_2_Cleaned/05_BOUQUET/P16.wav\n",
            "Expected Word: BOUQUET\n",
            "Detected Word: OKAY\n",
            "Correct: 0\n",
            "\n"
          ]
        },
        {
          "output_type": "stream",
          "name": "stderr",
          "text": [
            "\rProcessing audio files:  86%|████████▋ | 907/1050 [1:36:05<14:18,  6.00s/it]"
          ]
        },
        {
          "output_type": "stream",
          "name": "stdout",
          "text": [
            "File: /content/drive/MyDrive/audio_files/Dataset_2_Cleaned/05_BOUQUET/P17.wav\n",
            "Expected Word: BOUQUET\n",
            "Detected Word: \n",
            "Correct: 0\n",
            "\n"
          ]
        },
        {
          "output_type": "stream",
          "name": "stderr",
          "text": [
            "\rProcessing audio files:  86%|████████▋ | 908/1050 [1:36:13<16:06,  6.80s/it]"
          ]
        },
        {
          "output_type": "stream",
          "name": "stdout",
          "text": [
            "File: /content/drive/MyDrive/audio_files/Dataset_2_Cleaned/05_BOUQUET/P18.wav\n",
            "Expected Word: BOUQUET\n",
            "Detected Word: \n",
            "Correct: 0\n",
            "\n"
          ]
        },
        {
          "output_type": "stream",
          "name": "stderr",
          "text": [
            "\rProcessing audio files:  87%|████████▋ | 909/1050 [1:36:19<15:02,  6.40s/it]"
          ]
        },
        {
          "output_type": "stream",
          "name": "stdout",
          "text": [
            "File: /content/drive/MyDrive/audio_files/Dataset_2_Cleaned/05_BOUQUET/P19.wav\n",
            "Expected Word: BOUQUET\n",
            "Detected Word: OKAY\n",
            "Correct: 0\n",
            "\n"
          ]
        },
        {
          "output_type": "stream",
          "name": "stderr",
          "text": [
            "\rProcessing audio files:  87%|████████▋ | 910/1050 [1:36:24<14:10,  6.08s/it]"
          ]
        },
        {
          "output_type": "stream",
          "name": "stdout",
          "text": [
            "File: /content/drive/MyDrive/audio_files/Dataset_2_Cleaned/05_BOUQUET/P20.wav\n",
            "Expected Word: BOUQUET\n",
            "Detected Word: \n",
            "Correct: 0\n",
            "\n"
          ]
        },
        {
          "output_type": "stream",
          "name": "stderr",
          "text": [
            "\rProcessing audio files:  87%|████████▋ | 911/1050 [1:36:29<13:26,  5.80s/it]"
          ]
        },
        {
          "output_type": "stream",
          "name": "stdout",
          "text": [
            "File: /content/drive/MyDrive/audio_files/Dataset_2_Cleaned/10_DEBT/P1.wav\n",
            "Expected Word: DEBT\n",
            "Detected Word: \n",
            "Correct: 0\n",
            "\n"
          ]
        },
        {
          "output_type": "stream",
          "name": "stderr",
          "text": [
            "\rProcessing audio files:  87%|████████▋ | 912/1050 [1:36:34<12:45,  5.54s/it]"
          ]
        },
        {
          "output_type": "stream",
          "name": "stdout",
          "text": [
            "File: /content/drive/MyDrive/audio_files/Dataset_2_Cleaned/10_DEBT/P2.wav\n",
            "Expected Word: DEBT\n",
            "Detected Word: THAT\n",
            "Correct: 0\n",
            "\n"
          ]
        },
        {
          "output_type": "stream",
          "name": "stderr",
          "text": [
            "\rProcessing audio files:  87%|████████▋ | 913/1050 [1:36:40<12:30,  5.48s/it]"
          ]
        },
        {
          "output_type": "stream",
          "name": "stdout",
          "text": [
            "File: /content/drive/MyDrive/audio_files/Dataset_2_Cleaned/10_DEBT/P3.wav\n",
            "Expected Word: DEBT\n",
            "Detected Word: \n",
            "Correct: 0\n",
            "\n"
          ]
        },
        {
          "output_type": "stream",
          "name": "stderr",
          "text": [
            "\rProcessing audio files:  87%|████████▋ | 914/1050 [1:36:45<12:09,  5.37s/it]"
          ]
        },
        {
          "output_type": "stream",
          "name": "stdout",
          "text": [
            "File: /content/drive/MyDrive/audio_files/Dataset_2_Cleaned/10_DEBT/P4.wav\n",
            "Expected Word: DEBT\n",
            "Detected Word: DEBT\n",
            "Correct: 1\n",
            "\n"
          ]
        },
        {
          "output_type": "stream",
          "name": "stderr",
          "text": [
            "\rProcessing audio files:  87%|████████▋ | 915/1050 [1:36:50<12:00,  5.33s/it]"
          ]
        },
        {
          "output_type": "stream",
          "name": "stdout",
          "text": [
            "File: /content/drive/MyDrive/audio_files/Dataset_2_Cleaned/10_DEBT/P5.wav\n",
            "Expected Word: DEBT\n",
            "Detected Word: THAT\n",
            "Correct: 0\n",
            "\n"
          ]
        },
        {
          "output_type": "stream",
          "name": "stderr",
          "text": [
            "\rProcessing audio files:  87%|████████▋ | 916/1050 [1:36:55<11:55,  5.34s/it]"
          ]
        },
        {
          "output_type": "stream",
          "name": "stdout",
          "text": [
            "File: /content/drive/MyDrive/audio_files/Dataset_2_Cleaned/10_DEBT/P6.wav\n",
            "Expected Word: DEBT\n",
            "Detected Word: THAT\n",
            "Correct: 0\n",
            "\n"
          ]
        },
        {
          "output_type": "stream",
          "name": "stderr",
          "text": [
            "\rProcessing audio files:  87%|████████▋ | 917/1050 [1:37:00<11:43,  5.29s/it]"
          ]
        },
        {
          "output_type": "stream",
          "name": "stdout",
          "text": [
            "File: /content/drive/MyDrive/audio_files/Dataset_2_Cleaned/10_DEBT/P7.wav\n",
            "Expected Word: DEBT\n",
            "Detected Word: DEBT\n",
            "Correct: 1\n",
            "\n"
          ]
        },
        {
          "output_type": "stream",
          "name": "stderr",
          "text": [
            "\rProcessing audio files:  87%|████████▋ | 918/1050 [1:37:06<11:32,  5.24s/it]"
          ]
        },
        {
          "output_type": "stream",
          "name": "stdout",
          "text": [
            "File: /content/drive/MyDrive/audio_files/Dataset_2_Cleaned/10_DEBT/P8.wav\n",
            "Expected Word: DEBT\n",
            "Detected Word: DEBT\n",
            "Correct: 1\n",
            "\n"
          ]
        },
        {
          "output_type": "stream",
          "name": "stderr",
          "text": [
            "\rProcessing audio files:  88%|████████▊ | 919/1050 [1:37:11<11:25,  5.23s/it]"
          ]
        },
        {
          "output_type": "stream",
          "name": "stdout",
          "text": [
            "File: /content/drive/MyDrive/audio_files/Dataset_2_Cleaned/10_DEBT/P9.wav\n",
            "Expected Word: DEBT\n",
            "Detected Word: \n",
            "Correct: 0\n",
            "\n"
          ]
        },
        {
          "output_type": "stream",
          "name": "stderr",
          "text": [
            "\rProcessing audio files:  88%|████████▊ | 920/1050 [1:37:16<11:17,  5.21s/it]"
          ]
        },
        {
          "output_type": "stream",
          "name": "stdout",
          "text": [
            "File: /content/drive/MyDrive/audio_files/Dataset_2_Cleaned/10_DEBT/P10.wav\n",
            "Expected Word: DEBT\n",
            "Detected Word: \n",
            "Correct: 0\n",
            "\n"
          ]
        },
        {
          "output_type": "stream",
          "name": "stderr",
          "text": [
            "\rProcessing audio files:  88%|████████▊ | 921/1050 [1:37:21<11:07,  5.17s/it]"
          ]
        },
        {
          "output_type": "stream",
          "name": "stdout",
          "text": [
            "File: /content/drive/MyDrive/audio_files/Dataset_2_Cleaned/10_DEBT/P11.wav\n",
            "Expected Word: DEBT\n",
            "Detected Word: \n",
            "Correct: 0\n",
            "\n"
          ]
        },
        {
          "output_type": "stream",
          "name": "stderr",
          "text": [
            "\rProcessing audio files:  88%|████████▊ | 922/1050 [1:37:26<10:56,  5.13s/it]"
          ]
        },
        {
          "output_type": "stream",
          "name": "stdout",
          "text": [
            "File: /content/drive/MyDrive/audio_files/Dataset_2_Cleaned/10_DEBT/P12.wav\n",
            "Expected Word: DEBT\n",
            "Detected Word: \n",
            "Correct: 0\n",
            "\n"
          ]
        },
        {
          "output_type": "stream",
          "name": "stderr",
          "text": [
            "\rProcessing audio files:  88%|████████▊ | 923/1050 [1:37:31<10:48,  5.10s/it]"
          ]
        },
        {
          "output_type": "stream",
          "name": "stdout",
          "text": [
            "File: /content/drive/MyDrive/audio_files/Dataset_2_Cleaned/10_DEBT/P13.wav\n",
            "Expected Word: DEBT\n",
            "Detected Word: \n",
            "Correct: 0\n",
            "\n"
          ]
        },
        {
          "output_type": "stream",
          "name": "stderr",
          "text": [
            "\rProcessing audio files:  88%|████████▊ | 924/1050 [1:37:36<10:45,  5.12s/it]"
          ]
        },
        {
          "output_type": "stream",
          "name": "stdout",
          "text": [
            "File: /content/drive/MyDrive/audio_files/Dataset_2_Cleaned/10_DEBT/P14.wav\n",
            "Expected Word: DEBT\n",
            "Detected Word: \n",
            "Correct: 0\n",
            "\n"
          ]
        },
        {
          "output_type": "stream",
          "name": "stderr",
          "text": [
            "\rProcessing audio files:  88%|████████▊ | 925/1050 [1:37:45<12:37,  6.06s/it]"
          ]
        },
        {
          "output_type": "stream",
          "name": "stdout",
          "text": [
            "File: /content/drive/MyDrive/audio_files/Dataset_2_Cleaned/10_DEBT/P15.wav\n",
            "Expected Word: DEBT\n",
            "Detected Word: DEBT\n",
            "Correct: 1\n",
            "\n"
          ]
        },
        {
          "output_type": "stream",
          "name": "stderr",
          "text": [
            "\rProcessing audio files:  88%|████████▊ | 926/1050 [1:37:50<11:57,  5.79s/it]"
          ]
        },
        {
          "output_type": "stream",
          "name": "stdout",
          "text": [
            "File: /content/drive/MyDrive/audio_files/Dataset_2_Cleaned/10_DEBT/P16.wav\n",
            "Expected Word: DEBT\n",
            "Detected Word: \n",
            "Correct: 0\n",
            "\n"
          ]
        },
        {
          "output_type": "stream",
          "name": "stderr",
          "text": [
            "\rProcessing audio files:  88%|████████▊ | 927/1050 [1:37:55<11:30,  5.62s/it]"
          ]
        },
        {
          "output_type": "stream",
          "name": "stdout",
          "text": [
            "File: /content/drive/MyDrive/audio_files/Dataset_2_Cleaned/10_DEBT/P17.wav\n",
            "Expected Word: DEBT\n",
            "Detected Word: YEAH\n",
            "Correct: 0\n",
            "\n"
          ]
        },
        {
          "output_type": "stream",
          "name": "stderr",
          "text": [
            "\rProcessing audio files:  88%|████████▊ | 928/1050 [1:38:00<11:11,  5.50s/it]"
          ]
        },
        {
          "output_type": "stream",
          "name": "stdout",
          "text": [
            "File: /content/drive/MyDrive/audio_files/Dataset_2_Cleaned/10_DEBT/P18.wav\n",
            "Expected Word: DEBT\n",
            "Detected Word: DEPTH\n",
            "Correct: 0\n",
            "\n"
          ]
        },
        {
          "output_type": "stream",
          "name": "stderr",
          "text": [
            "\rProcessing audio files:  88%|████████▊ | 929/1050 [1:38:05<10:55,  5.42s/it]"
          ]
        },
        {
          "output_type": "stream",
          "name": "stdout",
          "text": [
            "File: /content/drive/MyDrive/audio_files/Dataset_2_Cleaned/10_DEBT/P19.wav\n",
            "Expected Word: DEBT\n",
            "Detected Word: THAT\n",
            "Correct: 0\n",
            "\n"
          ]
        },
        {
          "output_type": "stream",
          "name": "stderr",
          "text": [
            "\rProcessing audio files:  89%|████████▊ | 930/1050 [1:38:11<10:50,  5.42s/it]"
          ]
        },
        {
          "output_type": "stream",
          "name": "stdout",
          "text": [
            "File: /content/drive/MyDrive/audio_files/Dataset_2_Cleaned/10_DEBT/P20.wav\n",
            "Expected Word: DEBT\n",
            "Detected Word: \n",
            "Correct: 0\n",
            "\n"
          ]
        },
        {
          "output_type": "stream",
          "name": "stderr",
          "text": [
            "\rProcessing audio files:  89%|████████▊ | 931/1050 [1:38:16<10:40,  5.38s/it]"
          ]
        },
        {
          "output_type": "stream",
          "name": "stdout",
          "text": [
            "File: /content/drive/MyDrive/audio_files/Dataset_2_Cleaned/15_CATACOMB/P1.wav\n",
            "Expected Word: CATACOMB\n",
            "Detected Word: HAD\n",
            "Correct: 0\n",
            "\n"
          ]
        },
        {
          "output_type": "stream",
          "name": "stderr",
          "text": [
            "\rProcessing audio files:  89%|████████▉ | 932/1050 [1:38:21<10:30,  5.35s/it]"
          ]
        },
        {
          "output_type": "stream",
          "name": "stdout",
          "text": [
            "File: /content/drive/MyDrive/audio_files/Dataset_2_Cleaned/15_CATACOMB/P2.wav\n",
            "Expected Word: CATACOMB\n",
            "Detected Word: CUT\n",
            "Correct: 0\n",
            "\n"
          ]
        },
        {
          "output_type": "stream",
          "name": "stderr",
          "text": [
            "\rProcessing audio files:  89%|████████▉ | 933/1050 [1:38:27<10:24,  5.33s/it]"
          ]
        },
        {
          "output_type": "stream",
          "name": "stdout",
          "text": [
            "File: /content/drive/MyDrive/audio_files/Dataset_2_Cleaned/15_CATACOMB/P3.wav\n",
            "Expected Word: CATACOMB\n",
            "Detected Word: \n",
            "Correct: 0\n",
            "\n"
          ]
        },
        {
          "output_type": "stream",
          "name": "stderr",
          "text": [
            "\rProcessing audio files:  89%|████████▉ | 934/1050 [1:38:35<12:16,  6.35s/it]"
          ]
        },
        {
          "output_type": "stream",
          "name": "stdout",
          "text": [
            "File: /content/drive/MyDrive/audio_files/Dataset_2_Cleaned/15_CATACOMB/P4.wav\n",
            "Expected Word: CATACOMB\n",
            "Detected Word: CATACOMB\n",
            "Correct: 1\n",
            "\n"
          ]
        },
        {
          "output_type": "stream",
          "name": "stderr",
          "text": [
            "\rProcessing audio files:  89%|████████▉ | 935/1050 [1:38:41<11:40,  6.09s/it]"
          ]
        },
        {
          "output_type": "stream",
          "name": "stdout",
          "text": [
            "File: /content/drive/MyDrive/audio_files/Dataset_2_Cleaned/15_CATACOMB/P5.wav\n",
            "Expected Word: CATACOMB\n",
            "Detected Word: CATEGORY\n",
            "Correct: 0\n",
            "\n"
          ]
        },
        {
          "output_type": "stream",
          "name": "stderr",
          "text": [
            "\rProcessing audio files:  89%|████████▉ | 936/1050 [1:38:47<11:27,  6.03s/it]"
          ]
        },
        {
          "output_type": "stream",
          "name": "stdout",
          "text": [
            "File: /content/drive/MyDrive/audio_files/Dataset_2_Cleaned/15_CATACOMB/P6.wav\n",
            "Expected Word: CATACOMB\n",
            "Detected Word: \n",
            "Correct: 0\n",
            "\n"
          ]
        },
        {
          "output_type": "stream",
          "name": "stderr",
          "text": [
            "\rProcessing audio files:  89%|████████▉ | 937/1050 [1:38:52<11:09,  5.93s/it]"
          ]
        },
        {
          "output_type": "stream",
          "name": "stdout",
          "text": [
            "File: /content/drive/MyDrive/audio_files/Dataset_2_Cleaned/15_CATACOMB/P7.wav\n",
            "Expected Word: CATACOMB\n",
            "Detected Word: \n",
            "Correct: 0\n",
            "\n"
          ]
        },
        {
          "output_type": "stream",
          "name": "stderr",
          "text": [
            "\rProcessing audio files:  89%|████████▉ | 938/1050 [1:38:58<10:47,  5.78s/it]"
          ]
        },
        {
          "output_type": "stream",
          "name": "stdout",
          "text": [
            "File: /content/drive/MyDrive/audio_files/Dataset_2_Cleaned/15_CATACOMB/P8.wav\n",
            "Expected Word: CATACOMB\n",
            "Detected Word: \n",
            "Correct: 0\n",
            "\n"
          ]
        },
        {
          "output_type": "stream",
          "name": "stderr",
          "text": [
            "\rProcessing audio files:  89%|████████▉ | 939/1050 [1:39:03<10:33,  5.71s/it]"
          ]
        },
        {
          "output_type": "stream",
          "name": "stdout",
          "text": [
            "File: /content/drive/MyDrive/audio_files/Dataset_2_Cleaned/15_CATACOMB/P9.wav\n",
            "Expected Word: CATACOMB\n",
            "Detected Word: CATACOMBS\n",
            "Correct: 0\n",
            "\n"
          ]
        },
        {
          "output_type": "stream",
          "name": "stderr",
          "text": [
            "\rProcessing audio files:  90%|████████▉ | 940/1050 [1:39:09<10:17,  5.62s/it]"
          ]
        },
        {
          "output_type": "stream",
          "name": "stdout",
          "text": [
            "File: /content/drive/MyDrive/audio_files/Dataset_2_Cleaned/15_CATACOMB/P10.wav\n",
            "Expected Word: CATACOMB\n",
            "Detected Word: \n",
            "Correct: 0\n",
            "\n"
          ]
        },
        {
          "output_type": "stream",
          "name": "stderr",
          "text": [
            "\rProcessing audio files:  90%|████████▉ | 941/1050 [1:39:14<09:57,  5.48s/it]"
          ]
        },
        {
          "output_type": "stream",
          "name": "stdout",
          "text": [
            "File: /content/drive/MyDrive/audio_files/Dataset_2_Cleaned/15_CATACOMB/P11.wav\n",
            "Expected Word: CATACOMB\n",
            "Detected Word: LET'S\n",
            "Correct: 0\n",
            "\n"
          ]
        },
        {
          "output_type": "stream",
          "name": "stderr",
          "text": [
            "\rProcessing audio files:  90%|████████▉ | 942/1050 [1:39:19<09:47,  5.44s/it]"
          ]
        },
        {
          "output_type": "stream",
          "name": "stdout",
          "text": [
            "File: /content/drive/MyDrive/audio_files/Dataset_2_Cleaned/15_CATACOMB/P12.wav\n",
            "Expected Word: CATACOMB\n",
            "Detected Word: \n",
            "Correct: 0\n",
            "\n"
          ]
        },
        {
          "output_type": "stream",
          "name": "stderr",
          "text": [
            "\rProcessing audio files:  90%|████████▉ | 943/1050 [1:39:25<09:40,  5.43s/it]"
          ]
        },
        {
          "output_type": "stream",
          "name": "stdout",
          "text": [
            "File: /content/drive/MyDrive/audio_files/Dataset_2_Cleaned/15_CATACOMB/P13.wav\n",
            "Expected Word: CATACOMB\n",
            "Detected Word: AT\n",
            "Correct: 0\n",
            "\n"
          ]
        },
        {
          "output_type": "stream",
          "name": "stderr",
          "text": [
            "\rProcessing audio files:  90%|████████▉ | 944/1050 [1:39:32<10:44,  6.08s/it]"
          ]
        },
        {
          "output_type": "stream",
          "name": "stdout",
          "text": [
            "File: /content/drive/MyDrive/audio_files/Dataset_2_Cleaned/15_CATACOMB/P14.wav\n",
            "Expected Word: CATACOMB\n",
            "Detected Word: \n",
            "Correct: 0\n",
            "\n"
          ]
        },
        {
          "output_type": "stream",
          "name": "stderr",
          "text": [
            "\rProcessing audio files:  90%|█████████ | 945/1050 [1:39:38<10:17,  5.88s/it]"
          ]
        },
        {
          "output_type": "stream",
          "name": "stdout",
          "text": [
            "File: /content/drive/MyDrive/audio_files/Dataset_2_Cleaned/15_CATACOMB/P15.wav\n",
            "Expected Word: CATACOMB\n",
            "Detected Word: \n",
            "Correct: 0\n",
            "\n"
          ]
        },
        {
          "output_type": "stream",
          "name": "stderr",
          "text": [
            "\rProcessing audio files:  90%|█████████ | 946/1050 [1:39:43<10:00,  5.77s/it]"
          ]
        },
        {
          "output_type": "stream",
          "name": "stdout",
          "text": [
            "File: /content/drive/MyDrive/audio_files/Dataset_2_Cleaned/15_CATACOMB/P16.wav\n",
            "Expected Word: CATACOMB\n",
            "Detected Word: CATACOMB\n",
            "Correct: 1\n",
            "\n"
          ]
        },
        {
          "output_type": "stream",
          "name": "stderr",
          "text": [
            "\rProcessing audio files:  90%|█████████ | 947/1050 [1:39:49<09:43,  5.67s/it]"
          ]
        },
        {
          "output_type": "stream",
          "name": "stdout",
          "text": [
            "File: /content/drive/MyDrive/audio_files/Dataset_2_Cleaned/15_CATACOMB/P17.wav\n",
            "Expected Word: CATACOMB\n",
            "Detected Word: \n",
            "Correct: 0\n",
            "\n"
          ]
        },
        {
          "output_type": "stream",
          "name": "stderr",
          "text": [
            "\rProcessing audio files:  90%|█████████ | 948/1050 [1:39:57<11:13,  6.60s/it]"
          ]
        },
        {
          "output_type": "stream",
          "name": "stdout",
          "text": [
            "File: /content/drive/MyDrive/audio_files/Dataset_2_Cleaned/15_CATACOMB/P18.wav\n",
            "Expected Word: CATACOMB\n",
            "Detected Word: \n",
            "Correct: 0\n",
            "\n"
          ]
        },
        {
          "output_type": "stream",
          "name": "stderr",
          "text": [
            "\rProcessing audio files:  90%|█████████ | 949/1050 [1:40:03<10:31,  6.25s/it]"
          ]
        },
        {
          "output_type": "stream",
          "name": "stdout",
          "text": [
            "File: /content/drive/MyDrive/audio_files/Dataset_2_Cleaned/15_CATACOMB/P19.wav\n",
            "Expected Word: CATACOMB\n",
            "Detected Word: \n",
            "Correct: 0\n",
            "\n"
          ]
        },
        {
          "output_type": "stream",
          "name": "stderr",
          "text": [
            "\rProcessing audio files:  90%|█████████ | 950/1050 [1:40:08<10:02,  6.03s/it]"
          ]
        },
        {
          "output_type": "stream",
          "name": "stdout",
          "text": [
            "File: /content/drive/MyDrive/audio_files/Dataset_2_Cleaned/15_CATACOMB/P20.wav\n",
            "Expected Word: CATACOMB\n",
            "Detected Word: \n",
            "Correct: 0\n",
            "\n"
          ]
        },
        {
          "output_type": "stream",
          "name": "stderr",
          "text": [
            "\rProcessing audio files:  91%|█████████ | 951/1050 [1:40:14<09:36,  5.82s/it]"
          ]
        },
        {
          "output_type": "stream",
          "name": "stdout",
          "text": [
            "File: /content/drive/MyDrive/audio_files/Dataset_2_Cleaned/32_ZEALOT/P1.wav\n",
            "Expected Word: ZEALOT\n",
            "Detected Word: \n",
            "Correct: 0\n",
            "\n"
          ]
        },
        {
          "output_type": "stream",
          "name": "stderr",
          "text": [
            "\rProcessing audio files:  91%|█████████ | 952/1050 [1:40:19<09:18,  5.70s/it]"
          ]
        },
        {
          "output_type": "stream",
          "name": "stdout",
          "text": [
            "File: /content/drive/MyDrive/audio_files/Dataset_2_Cleaned/32_ZEALOT/P2.wav\n",
            "Expected Word: ZEALOT\n",
            "Detected Word: ZEALOT\n",
            "Correct: 1\n",
            "\n"
          ]
        },
        {
          "output_type": "stream",
          "name": "stderr",
          "text": [
            "\rProcessing audio files:  91%|█████████ | 953/1050 [1:40:25<09:05,  5.62s/it]"
          ]
        },
        {
          "output_type": "stream",
          "name": "stdout",
          "text": [
            "File: /content/drive/MyDrive/audio_files/Dataset_2_Cleaned/32_ZEALOT/P3.wav\n",
            "Expected Word: ZEALOT\n",
            "Detected Word: \n",
            "Correct: 0\n",
            "\n"
          ]
        },
        {
          "output_type": "stream",
          "name": "stderr",
          "text": [
            "\rProcessing audio files:  91%|█████████ | 954/1050 [1:40:30<08:44,  5.46s/it]"
          ]
        },
        {
          "output_type": "stream",
          "name": "stdout",
          "text": [
            "File: /content/drive/MyDrive/audio_files/Dataset_2_Cleaned/32_ZEALOT/P4.wav\n",
            "Expected Word: ZEALOT\n",
            "Detected Word: \n",
            "Correct: 0\n",
            "\n"
          ]
        },
        {
          "output_type": "stream",
          "name": "stderr",
          "text": [
            "\rProcessing audio files:  91%|█████████ | 955/1050 [1:40:38<10:03,  6.35s/it]"
          ]
        },
        {
          "output_type": "stream",
          "name": "stdout",
          "text": [
            "File: /content/drive/MyDrive/audio_files/Dataset_2_Cleaned/32_ZEALOT/P5.wav\n",
            "Expected Word: ZEALOT\n",
            "Detected Word: ZEALOT\n",
            "Correct: 1\n",
            "\n"
          ]
        },
        {
          "output_type": "stream",
          "name": "stderr",
          "text": [
            "\rProcessing audio files:  91%|█████████ | 956/1050 [1:40:47<11:01,  7.04s/it]"
          ]
        },
        {
          "output_type": "stream",
          "name": "stdout",
          "text": [
            "File: /content/drive/MyDrive/audio_files/Dataset_2_Cleaned/32_ZEALOT/P6.wav\n",
            "Expected Word: ZEALOT\n",
            "Detected Word: ZERO\n",
            "Correct: 0\n",
            "\n"
          ]
        },
        {
          "output_type": "stream",
          "name": "stderr",
          "text": [
            "\rProcessing audio files:  91%|█████████ | 957/1050 [1:40:52<10:06,  6.52s/it]"
          ]
        },
        {
          "output_type": "stream",
          "name": "stdout",
          "text": [
            "File: /content/drive/MyDrive/audio_files/Dataset_2_Cleaned/32_ZEALOT/P7.wav\n",
            "Expected Word: ZEALOT\n",
            "Detected Word: \n",
            "Correct: 0\n",
            "\n"
          ]
        },
        {
          "output_type": "stream",
          "name": "stderr",
          "text": [
            "\rProcessing audio files:  91%|█████████ | 958/1050 [1:40:58<09:34,  6.24s/it]"
          ]
        },
        {
          "output_type": "stream",
          "name": "stdout",
          "text": [
            "File: /content/drive/MyDrive/audio_files/Dataset_2_Cleaned/32_ZEALOT/P8.wav\n",
            "Expected Word: ZEALOT\n",
            "Detected Word: ZAY\n",
            "Correct: 0\n",
            "\n"
          ]
        },
        {
          "output_type": "stream",
          "name": "stderr",
          "text": [
            "\rProcessing audio files:  91%|█████████▏| 959/1050 [1:41:03<09:04,  5.99s/it]"
          ]
        },
        {
          "output_type": "stream",
          "name": "stdout",
          "text": [
            "File: /content/drive/MyDrive/audio_files/Dataset_2_Cleaned/32_ZEALOT/P9.wav\n",
            "Expected Word: ZEALOT\n",
            "Detected Word: ZEALOT\n",
            "Correct: 1\n",
            "\n"
          ]
        },
        {
          "output_type": "stream",
          "name": "stderr",
          "text": [
            "\rProcessing audio files:  91%|█████████▏| 960/1050 [1:41:09<08:45,  5.84s/it]"
          ]
        },
        {
          "output_type": "stream",
          "name": "stdout",
          "text": [
            "File: /content/drive/MyDrive/audio_files/Dataset_2_Cleaned/32_ZEALOT/P10.wav\n",
            "Expected Word: ZEALOT\n",
            "Detected Word: \n",
            "Correct: 0\n",
            "\n"
          ]
        },
        {
          "output_type": "stream",
          "name": "stderr",
          "text": [
            "\rProcessing audio files:  92%|█████████▏| 961/1050 [1:41:14<08:27,  5.70s/it]"
          ]
        },
        {
          "output_type": "stream",
          "name": "stdout",
          "text": [
            "File: /content/drive/MyDrive/audio_files/Dataset_2_Cleaned/32_ZEALOT/P11.wav\n",
            "Expected Word: ZEALOT\n",
            "Detected Word: \n",
            "Correct: 0\n",
            "\n"
          ]
        },
        {
          "output_type": "stream",
          "name": "stderr",
          "text": [
            "\rProcessing audio files:  92%|█████████▏| 962/1050 [1:41:22<09:33,  6.52s/it]"
          ]
        },
        {
          "output_type": "stream",
          "name": "stdout",
          "text": [
            "File: /content/drive/MyDrive/audio_files/Dataset_2_Cleaned/32_ZEALOT/P12.wav\n",
            "Expected Word: ZEALOT\n",
            "Detected Word: \n",
            "Correct: 0\n",
            "\n"
          ]
        },
        {
          "output_type": "stream",
          "name": "stderr",
          "text": [
            "\rProcessing audio files:  92%|█████████▏| 963/1050 [1:41:28<09:06,  6.28s/it]"
          ]
        },
        {
          "output_type": "stream",
          "name": "stdout",
          "text": [
            "File: /content/drive/MyDrive/audio_files/Dataset_2_Cleaned/32_ZEALOT/P13.wav\n",
            "Expected Word: ZEALOT\n",
            "Detected Word: ZERO\n",
            "Correct: 0\n",
            "\n"
          ]
        },
        {
          "output_type": "stream",
          "name": "stderr",
          "text": [
            "\rProcessing audio files:  92%|█████████▏| 964/1050 [1:41:34<08:49,  6.16s/it]"
          ]
        },
        {
          "output_type": "stream",
          "name": "stdout",
          "text": [
            "File: /content/drive/MyDrive/audio_files/Dataset_2_Cleaned/32_ZEALOT/P14.wav\n",
            "Expected Word: ZEALOT\n",
            "Detected Word: IS\n",
            "Correct: 0\n",
            "\n"
          ]
        },
        {
          "output_type": "stream",
          "name": "stderr",
          "text": [
            "\rProcessing audio files:  92%|█████████▏| 965/1050 [1:41:43<09:49,  6.94s/it]"
          ]
        },
        {
          "output_type": "stream",
          "name": "stdout",
          "text": [
            "File: /content/drive/MyDrive/audio_files/Dataset_2_Cleaned/32_ZEALOT/P15.wav\n",
            "Expected Word: ZEALOT\n",
            "Detected Word: ZEALOT\n",
            "Correct: 1\n",
            "\n"
          ]
        },
        {
          "output_type": "stream",
          "name": "stderr",
          "text": [
            "\rProcessing audio files:  92%|█████████▏| 966/1050 [1:41:48<09:06,  6.51s/it]"
          ]
        },
        {
          "output_type": "stream",
          "name": "stdout",
          "text": [
            "File: /content/drive/MyDrive/audio_files/Dataset_2_Cleaned/32_ZEALOT/P16.wav\n",
            "Expected Word: ZEALOT\n",
            "Detected Word: DOES\n",
            "Correct: 0\n",
            "\n"
          ]
        },
        {
          "output_type": "stream",
          "name": "stderr",
          "text": [
            "\rProcessing audio files:  92%|█████████▏| 967/1050 [1:41:54<08:36,  6.22s/it]"
          ]
        },
        {
          "output_type": "stream",
          "name": "stdout",
          "text": [
            "File: /content/drive/MyDrive/audio_files/Dataset_2_Cleaned/32_ZEALOT/P17.wav\n",
            "Expected Word: ZEALOT\n",
            "Detected Word: Z\n",
            "Correct: 0\n",
            "\n"
          ]
        },
        {
          "output_type": "stream",
          "name": "stderr",
          "text": [
            "\rProcessing audio files:  92%|█████████▏| 968/1050 [1:41:59<08:10,  5.98s/it]"
          ]
        },
        {
          "output_type": "stream",
          "name": "stdout",
          "text": [
            "File: /content/drive/MyDrive/audio_files/Dataset_2_Cleaned/32_ZEALOT/P18.wav\n",
            "Expected Word: ZEALOT\n",
            "Detected Word: Z\n",
            "Correct: 0\n",
            "\n"
          ]
        },
        {
          "output_type": "stream",
          "name": "stderr",
          "text": [
            "\rProcessing audio files:  92%|█████████▏| 969/1050 [1:42:05<07:52,  5.83s/it]"
          ]
        },
        {
          "output_type": "stream",
          "name": "stdout",
          "text": [
            "File: /content/drive/MyDrive/audio_files/Dataset_2_Cleaned/32_ZEALOT/P19.wav\n",
            "Expected Word: ZEALOT\n",
            "Detected Word: IS\n",
            "Correct: 0\n",
            "\n"
          ]
        },
        {
          "output_type": "stream",
          "name": "stderr",
          "text": [
            "\rProcessing audio files:  92%|█████████▏| 970/1050 [1:42:10<07:33,  5.66s/it]"
          ]
        },
        {
          "output_type": "stream",
          "name": "stdout",
          "text": [
            "File: /content/drive/MyDrive/audio_files/Dataset_2_Cleaned/32_ZEALOT/P20.wav\n",
            "Expected Word: ZEALOT\n",
            "Detected Word: \n",
            "Correct: 0\n",
            "\n"
          ]
        },
        {
          "output_type": "stream",
          "name": "stderr",
          "text": [
            "\rProcessing audio files:  92%|█████████▏| 971/1050 [1:42:15<07:16,  5.53s/it]"
          ]
        },
        {
          "output_type": "stream",
          "name": "stdout",
          "text": [
            "File: /content/drive/MyDrive/audio_files/Dataset_2_Cleaned/49_LABILE/P1.wav\n",
            "Expected Word: LABILE\n",
            "Detected Word: LOVE\n",
            "Correct: 0\n",
            "\n"
          ]
        },
        {
          "output_type": "stream",
          "name": "stderr",
          "text": [
            "\rProcessing audio files:  93%|█████████▎| 972/1050 [1:42:21<07:09,  5.51s/it]"
          ]
        },
        {
          "output_type": "stream",
          "name": "stdout",
          "text": [
            "File: /content/drive/MyDrive/audio_files/Dataset_2_Cleaned/49_LABILE/P2.wav\n",
            "Expected Word: LABILE\n",
            "Detected Word: LAY\n",
            "Correct: 0\n",
            "\n"
          ]
        },
        {
          "output_type": "stream",
          "name": "stderr",
          "text": [
            "\rProcessing audio files:  93%|█████████▎| 973/1050 [1:42:26<07:02,  5.49s/it]"
          ]
        },
        {
          "output_type": "stream",
          "name": "stdout",
          "text": [
            "File: /content/drive/MyDrive/audio_files/Dataset_2_Cleaned/49_LABILE/P3.wav\n",
            "Expected Word: LABILE\n",
            "Detected Word: RELIABLE\n",
            "Correct: 0\n",
            "\n"
          ]
        },
        {
          "output_type": "stream",
          "name": "stderr",
          "text": [
            "\rProcessing audio files:  93%|█████████▎| 974/1050 [1:42:32<06:56,  5.48s/it]"
          ]
        },
        {
          "output_type": "stream",
          "name": "stdout",
          "text": [
            "File: /content/drive/MyDrive/audio_files/Dataset_2_Cleaned/49_LABILE/P4.wav\n",
            "Expected Word: LABILE\n",
            "Detected Word: MY\n",
            "Correct: 0\n",
            "\n"
          ]
        },
        {
          "output_type": "stream",
          "name": "stderr",
          "text": [
            "\rProcessing audio files:  93%|█████████▎| 975/1050 [1:42:37<06:51,  5.49s/it]"
          ]
        },
        {
          "output_type": "stream",
          "name": "stdout",
          "text": [
            "File: /content/drive/MyDrive/audio_files/Dataset_2_Cleaned/49_LABILE/P5.wav\n",
            "Expected Word: LABILE\n",
            "Detected Word: \n",
            "Correct: 0\n",
            "\n"
          ]
        },
        {
          "output_type": "stream",
          "name": "stderr",
          "text": [
            "\rProcessing audio files:  93%|█████████▎| 976/1050 [1:42:42<06:43,  5.45s/it]"
          ]
        },
        {
          "output_type": "stream",
          "name": "stdout",
          "text": [
            "File: /content/drive/MyDrive/audio_files/Dataset_2_Cleaned/49_LABILE/P6.wav\n",
            "Expected Word: LABILE\n",
            "Detected Word: \n",
            "Correct: 0\n",
            "\n"
          ]
        },
        {
          "output_type": "stream",
          "name": "stderr",
          "text": [
            "\rProcessing audio files:  93%|█████████▎| 977/1050 [1:42:48<06:35,  5.41s/it]"
          ]
        },
        {
          "output_type": "stream",
          "name": "stdout",
          "text": [
            "File: /content/drive/MyDrive/audio_files/Dataset_2_Cleaned/49_LABILE/P7.wav\n",
            "Expected Word: LABILE\n",
            "Detected Word: \n",
            "Correct: 0\n",
            "\n"
          ]
        },
        {
          "output_type": "stream",
          "name": "stderr",
          "text": [
            "\rProcessing audio files:  93%|█████████▎| 978/1050 [1:42:53<06:32,  5.45s/it]"
          ]
        },
        {
          "output_type": "stream",
          "name": "stdout",
          "text": [
            "File: /content/drive/MyDrive/audio_files/Dataset_2_Cleaned/49_LABILE/P8.wav\n",
            "Expected Word: LABILE\n",
            "Detected Word: LIABLE\n",
            "Correct: 0\n",
            "\n"
          ]
        },
        {
          "output_type": "stream",
          "name": "stderr",
          "text": [
            "\rProcessing audio files:  93%|█████████▎| 979/1050 [1:42:59<06:27,  5.45s/it]"
          ]
        },
        {
          "output_type": "stream",
          "name": "stdout",
          "text": [
            "File: /content/drive/MyDrive/audio_files/Dataset_2_Cleaned/49_LABILE/P9.wav\n",
            "Expected Word: LABILE\n",
            "Detected Word: LAB\n",
            "Correct: 0\n",
            "\n"
          ]
        },
        {
          "output_type": "stream",
          "name": "stderr",
          "text": [
            "\rProcessing audio files:  93%|█████████▎| 980/1050 [1:43:04<06:21,  5.46s/it]"
          ]
        },
        {
          "output_type": "stream",
          "name": "stdout",
          "text": [
            "File: /content/drive/MyDrive/audio_files/Dataset_2_Cleaned/49_LABILE/P10.wav\n",
            "Expected Word: LABILE\n",
            "Detected Word: LAY\n",
            "Correct: 0\n",
            "\n"
          ]
        },
        {
          "output_type": "stream",
          "name": "stderr",
          "text": [
            "\rProcessing audio files:  93%|█████████▎| 981/1050 [1:43:10<06:14,  5.43s/it]"
          ]
        },
        {
          "output_type": "stream",
          "name": "stdout",
          "text": [
            "File: /content/drive/MyDrive/audio_files/Dataset_2_Cleaned/49_LABILE/P11.wav\n",
            "Expected Word: LABILE\n",
            "Detected Word: LIKE\n",
            "Correct: 0\n",
            "\n"
          ]
        },
        {
          "output_type": "stream",
          "name": "stderr",
          "text": [
            "\rProcessing audio files:  94%|█████████▎| 982/1050 [1:43:15<06:09,  5.43s/it]"
          ]
        },
        {
          "output_type": "stream",
          "name": "stdout",
          "text": [
            "File: /content/drive/MyDrive/audio_files/Dataset_2_Cleaned/49_LABILE/P12.wav\n",
            "Expected Word: LABILE\n",
            "Detected Word: LABILE\n",
            "Correct: 1\n",
            "\n"
          ]
        },
        {
          "output_type": "stream",
          "name": "stderr",
          "text": [
            "\rProcessing audio files:  94%|█████████▎| 983/1050 [1:43:21<06:09,  5.52s/it]"
          ]
        },
        {
          "output_type": "stream",
          "name": "stdout",
          "text": [
            "File: /content/drive/MyDrive/audio_files/Dataset_2_Cleaned/49_LABILE/P13.wav\n",
            "Expected Word: LABILE\n",
            "Detected Word: \n",
            "Correct: 0\n",
            "\n"
          ]
        },
        {
          "output_type": "stream",
          "name": "stderr",
          "text": [
            "\rProcessing audio files:  94%|█████████▎| 984/1050 [1:43:26<06:00,  5.47s/it]"
          ]
        },
        {
          "output_type": "stream",
          "name": "stdout",
          "text": [
            "File: /content/drive/MyDrive/audio_files/Dataset_2_Cleaned/49_LABILE/P14.wav\n",
            "Expected Word: LABILE\n",
            "Detected Word: A\n",
            "Correct: 0\n",
            "\n"
          ]
        },
        {
          "output_type": "stream",
          "name": "stderr",
          "text": [
            "\rProcessing audio files:  94%|█████████▍| 985/1050 [1:43:35<06:55,  6.40s/it]"
          ]
        },
        {
          "output_type": "stream",
          "name": "stdout",
          "text": [
            "File: /content/drive/MyDrive/audio_files/Dataset_2_Cleaned/49_LABILE/P15.wav\n",
            "Expected Word: LABILE\n",
            "Detected Word: LA\n",
            "Correct: 0\n",
            "\n"
          ]
        },
        {
          "output_type": "stream",
          "name": "stderr",
          "text": [
            "\rProcessing audio files:  94%|█████████▍| 986/1050 [1:43:40<06:26,  6.04s/it]"
          ]
        },
        {
          "output_type": "stream",
          "name": "stdout",
          "text": [
            "File: /content/drive/MyDrive/audio_files/Dataset_2_Cleaned/49_LABILE/P16.wav\n",
            "Expected Word: LABILE\n",
            "Detected Word: \n",
            "Correct: 0\n",
            "\n"
          ]
        },
        {
          "output_type": "stream",
          "name": "stderr",
          "text": [
            "\rProcessing audio files:  94%|█████████▍| 987/1050 [1:43:45<06:09,  5.86s/it]"
          ]
        },
        {
          "output_type": "stream",
          "name": "stdout",
          "text": [
            "File: /content/drive/MyDrive/audio_files/Dataset_2_Cleaned/49_LABILE/P17.wav\n",
            "Expected Word: LABILE\n",
            "Detected Word: LABILE\n",
            "Correct: 1\n",
            "\n"
          ]
        },
        {
          "output_type": "stream",
          "name": "stderr",
          "text": [
            "\rProcessing audio files:  94%|█████████▍| 988/1050 [1:43:51<05:53,  5.71s/it]"
          ]
        },
        {
          "output_type": "stream",
          "name": "stdout",
          "text": [
            "File: /content/drive/MyDrive/audio_files/Dataset_2_Cleaned/49_LABILE/P18.wav\n",
            "Expected Word: LABILE\n",
            "Detected Word: LABEL\n",
            "Correct: 0\n",
            "\n"
          ]
        },
        {
          "output_type": "stream",
          "name": "stderr",
          "text": [
            "\rProcessing audio files:  94%|█████████▍| 989/1050 [1:43:56<05:40,  5.58s/it]"
          ]
        },
        {
          "output_type": "stream",
          "name": "stdout",
          "text": [
            "File: /content/drive/MyDrive/audio_files/Dataset_2_Cleaned/49_LABILE/P19.wav\n",
            "Expected Word: LABILE\n",
            "Detected Word: LOVE\n",
            "Correct: 0\n",
            "\n"
          ]
        },
        {
          "output_type": "stream",
          "name": "stderr",
          "text": [
            "\rProcessing audio files:  94%|█████████▍| 990/1050 [1:44:01<05:31,  5.52s/it]"
          ]
        },
        {
          "output_type": "stream",
          "name": "stdout",
          "text": [
            "File: /content/drive/MyDrive/audio_files/Dataset_2_Cleaned/49_LABILE/P20.wav\n",
            "Expected Word: LABILE\n",
            "Detected Word: \n",
            "Correct: 0\n",
            "\n"
          ]
        },
        {
          "output_type": "stream",
          "name": "stderr",
          "text": [
            "\rProcessing audio files:  94%|█████████▍| 991/1050 [1:44:07<05:22,  5.46s/it]"
          ]
        },
        {
          "output_type": "stream",
          "name": "stdout",
          "text": [
            "File: /content/drive/MyDrive/audio_files/Dataset_2_Cleaned/04_AISLE/P1.wav\n",
            "Expected Word: AISLE\n",
            "Detected Word: I'LL\n",
            "Correct: 0\n",
            "\n"
          ]
        },
        {
          "output_type": "stream",
          "name": "stderr",
          "text": [
            "\rProcessing audio files:  94%|█████████▍| 992/1050 [1:44:11<05:06,  5.29s/it]"
          ]
        },
        {
          "output_type": "stream",
          "name": "stdout",
          "text": [
            "File: /content/drive/MyDrive/audio_files/Dataset_2_Cleaned/04_AISLE/P2.wav\n",
            "Expected Word: AISLE\n",
            "Detected Word: OIL\n",
            "Correct: 0\n",
            "\n"
          ]
        },
        {
          "output_type": "stream",
          "name": "stderr",
          "text": [
            "\rProcessing audio files:  95%|█████████▍| 993/1050 [1:44:17<04:59,  5.26s/it]"
          ]
        },
        {
          "output_type": "stream",
          "name": "stdout",
          "text": [
            "File: /content/drive/MyDrive/audio_files/Dataset_2_Cleaned/04_AISLE/P3.wav\n",
            "Expected Word: AISLE\n",
            "Detected Word: I\n",
            "Correct: 0\n",
            "\n"
          ]
        },
        {
          "output_type": "stream",
          "name": "stderr",
          "text": [
            "\rProcessing audio files:  95%|█████████▍| 994/1050 [1:44:22<05:02,  5.39s/it]"
          ]
        },
        {
          "output_type": "stream",
          "name": "stdout",
          "text": [
            "File: /content/drive/MyDrive/audio_files/Dataset_2_Cleaned/04_AISLE/P4.wav\n",
            "Expected Word: AISLE\n",
            "Detected Word: \n",
            "Correct: 0\n",
            "\n"
          ]
        },
        {
          "output_type": "stream",
          "name": "stderr",
          "text": [
            "\rProcessing audio files:  95%|█████████▍| 995/1050 [1:44:28<04:56,  5.39s/it]"
          ]
        },
        {
          "output_type": "stream",
          "name": "stdout",
          "text": [
            "File: /content/drive/MyDrive/audio_files/Dataset_2_Cleaned/04_AISLE/P5.wav\n",
            "Expected Word: AISLE\n",
            "Detected Word: AISLE\n",
            "Correct: 1\n",
            "\n"
          ]
        },
        {
          "output_type": "stream",
          "name": "stderr",
          "text": [
            "\rProcessing audio files:  95%|█████████▍| 996/1050 [1:44:39<06:30,  7.24s/it]"
          ]
        },
        {
          "output_type": "stream",
          "name": "stdout",
          "text": [
            "File: /content/drive/MyDrive/audio_files/Dataset_2_Cleaned/04_AISLE/P6.wav\n",
            "Expected Word: AISLE\n",
            "Detected Word: ARE\n",
            "Correct: 0\n",
            "\n"
          ]
        },
        {
          "output_type": "stream",
          "name": "stderr",
          "text": [
            "\rProcessing audio files:  95%|█████████▍| 997/1050 [1:44:45<05:55,  6.71s/it]"
          ]
        },
        {
          "output_type": "stream",
          "name": "stdout",
          "text": [
            "File: /content/drive/MyDrive/audio_files/Dataset_2_Cleaned/04_AISLE/P7.wav\n",
            "Expected Word: AISLE\n",
            "Detected Word: \n",
            "Correct: 0\n",
            "\n"
          ]
        },
        {
          "output_type": "stream",
          "name": "stderr",
          "text": [
            "\rProcessing audio files:  95%|█████████▌| 998/1050 [1:44:50<05:29,  6.34s/it]"
          ]
        },
        {
          "output_type": "stream",
          "name": "stdout",
          "text": [
            "File: /content/drive/MyDrive/audio_files/Dataset_2_Cleaned/04_AISLE/P8.wav\n",
            "Expected Word: AISLE\n",
            "Detected Word: \n",
            "Correct: 0\n",
            "\n"
          ]
        },
        {
          "output_type": "stream",
          "name": "stderr",
          "text": [
            "\rProcessing audio files:  95%|█████████▌| 999/1050 [1:44:56<05:11,  6.11s/it]"
          ]
        },
        {
          "output_type": "stream",
          "name": "stdout",
          "text": [
            "File: /content/drive/MyDrive/audio_files/Dataset_2_Cleaned/04_AISLE/P9.wav\n",
            "Expected Word: AISLE\n",
            "Detected Word: OIL\n",
            "Correct: 0\n",
            "\n"
          ]
        },
        {
          "output_type": "stream",
          "name": "stderr",
          "text": [
            "\rProcessing audio files:  95%|█████████▌| 1000/1050 [1:45:01<04:49,  5.80s/it]"
          ]
        },
        {
          "output_type": "stream",
          "name": "stdout",
          "text": [
            "File: /content/drive/MyDrive/audio_files/Dataset_2_Cleaned/04_AISLE/P10.wav\n",
            "Expected Word: AISLE\n",
            "Detected Word: I\n",
            "Correct: 0\n",
            "\n"
          ]
        },
        {
          "output_type": "stream",
          "name": "stderr",
          "text": [
            "\rProcessing audio files:  95%|█████████▌| 1001/1050 [1:45:06<04:37,  5.66s/it]"
          ]
        },
        {
          "output_type": "stream",
          "name": "stdout",
          "text": [
            "File: /content/drive/MyDrive/audio_files/Dataset_2_Cleaned/04_AISLE/P11.wav\n",
            "Expected Word: AISLE\n",
            "Detected Word: \n",
            "Correct: 0\n",
            "\n"
          ]
        },
        {
          "output_type": "stream",
          "name": "stderr",
          "text": [
            "\rProcessing audio files:  95%|█████████▌| 1002/1050 [1:45:11<04:25,  5.54s/it]"
          ]
        },
        {
          "output_type": "stream",
          "name": "stdout",
          "text": [
            "File: /content/drive/MyDrive/audio_files/Dataset_2_Cleaned/04_AISLE/P12.wav\n",
            "Expected Word: AISLE\n",
            "Detected Word: OIL\n",
            "Correct: 0\n",
            "\n"
          ]
        },
        {
          "output_type": "stream",
          "name": "stderr",
          "text": [
            "\rProcessing audio files:  96%|█████████▌| 1003/1050 [1:45:20<05:05,  6.50s/it]"
          ]
        },
        {
          "output_type": "stream",
          "name": "stdout",
          "text": [
            "File: /content/drive/MyDrive/audio_files/Dataset_2_Cleaned/04_AISLE/P13.wav\n",
            "Expected Word: AISLE\n",
            "Detected Word: SO\n",
            "Correct: 0\n",
            "\n"
          ]
        },
        {
          "output_type": "stream",
          "name": "stderr",
          "text": [
            "\rProcessing audio files:  96%|█████████▌| 1004/1050 [1:45:25<04:39,  6.08s/it]"
          ]
        },
        {
          "output_type": "stream",
          "name": "stdout",
          "text": [
            "File: /content/drive/MyDrive/audio_files/Dataset_2_Cleaned/04_AISLE/P14.wav\n",
            "Expected Word: AISLE\n",
            "Detected Word: \n",
            "Correct: 0\n",
            "\n"
          ]
        },
        {
          "output_type": "stream",
          "name": "stderr",
          "text": [
            "\rProcessing audio files:  96%|█████████▌| 1005/1050 [1:45:34<05:07,  6.84s/it]"
          ]
        },
        {
          "output_type": "stream",
          "name": "stdout",
          "text": [
            "File: /content/drive/MyDrive/audio_files/Dataset_2_Cleaned/04_AISLE/P15.wav\n",
            "Expected Word: AISLE\n",
            "Detected Word: \n",
            "Correct: 0\n",
            "\n"
          ]
        },
        {
          "output_type": "stream",
          "name": "stderr",
          "text": [
            "\rProcessing audio files:  96%|█████████▌| 1006/1050 [1:45:39<04:41,  6.41s/it]"
          ]
        },
        {
          "output_type": "stream",
          "name": "stdout",
          "text": [
            "File: /content/drive/MyDrive/audio_files/Dataset_2_Cleaned/04_AISLE/P16.wav\n",
            "Expected Word: AISLE\n",
            "Detected Word: \n",
            "Correct: 0\n",
            "\n"
          ]
        },
        {
          "output_type": "stream",
          "name": "stderr",
          "text": [
            "\rProcessing audio files:  96%|█████████▌| 1007/1050 [1:45:45<04:24,  6.15s/it]"
          ]
        },
        {
          "output_type": "stream",
          "name": "stdout",
          "text": [
            "File: /content/drive/MyDrive/audio_files/Dataset_2_Cleaned/04_AISLE/P17.wav\n",
            "Expected Word: AISLE\n",
            "Detected Word: I\n",
            "Correct: 0\n",
            "\n"
          ]
        },
        {
          "output_type": "stream",
          "name": "stderr",
          "text": [
            "\rProcessing audio files:  96%|█████████▌| 1008/1050 [1:45:50<04:07,  5.89s/it]"
          ]
        },
        {
          "output_type": "stream",
          "name": "stdout",
          "text": [
            "File: /content/drive/MyDrive/audio_files/Dataset_2_Cleaned/04_AISLE/P18.wav\n",
            "Expected Word: AISLE\n",
            "Detected Word: \n",
            "Correct: 0\n",
            "\n"
          ]
        },
        {
          "output_type": "stream",
          "name": "stderr",
          "text": [
            "\rProcessing audio files:  96%|█████████▌| 1009/1050 [1:45:56<03:57,  5.78s/it]"
          ]
        },
        {
          "output_type": "stream",
          "name": "stdout",
          "text": [
            "File: /content/drive/MyDrive/audio_files/Dataset_2_Cleaned/04_AISLE/P19.wav\n",
            "Expected Word: AISLE\n",
            "Detected Word: \n",
            "Correct: 0\n",
            "\n"
          ]
        },
        {
          "output_type": "stream",
          "name": "stderr",
          "text": [
            "\rProcessing audio files:  96%|█████████▌| 1010/1050 [1:46:07<05:01,  7.53s/it]"
          ]
        },
        {
          "output_type": "stream",
          "name": "stdout",
          "text": [
            "File: /content/drive/MyDrive/audio_files/Dataset_2_Cleaned/04_AISLE/P20.wav\n",
            "Expected Word: AISLE\n",
            "Detected Word: \n",
            "Correct: 0\n",
            "\n"
          ]
        },
        {
          "output_type": "stream",
          "name": "stderr",
          "text": [
            "\rProcessing audio files:  96%|█████████▋| 1011/1050 [1:46:16<05:04,  7.82s/it]"
          ]
        },
        {
          "output_type": "stream",
          "name": "stdout",
          "text": [
            "File: /content/drive/MyDrive/audio_files/Dataset_2_Cleaned/07_CAPON/P1.wav\n",
            "Expected Word: CAPON\n",
            "Detected Word: \n",
            "Correct: 0\n",
            "\n"
          ]
        },
        {
          "output_type": "stream",
          "name": "stderr",
          "text": [
            "\rProcessing audio files:  96%|█████████▋| 1012/1050 [1:46:31<06:24, 10.13s/it]"
          ]
        },
        {
          "output_type": "stream",
          "name": "stdout",
          "text": [
            "File: /content/drive/MyDrive/audio_files/Dataset_2_Cleaned/07_CAPON/P2.wav\n",
            "Expected Word: CAPON\n",
            "Detected Word: UPON\n",
            "Correct: 0\n",
            "\n"
          ]
        },
        {
          "output_type": "stream",
          "name": "stderr",
          "text": [
            "\rProcessing audio files:  96%|█████████▋| 1013/1050 [1:46:40<05:58,  9.70s/it]"
          ]
        },
        {
          "output_type": "stream",
          "name": "stdout",
          "text": [
            "File: /content/drive/MyDrive/audio_files/Dataset_2_Cleaned/07_CAPON/P3.wav\n",
            "Expected Word: CAPON\n",
            "Detected Word: UPON\n",
            "Correct: 0\n",
            "\n"
          ]
        },
        {
          "output_type": "stream",
          "name": "stderr",
          "text": [
            "\rProcessing audio files:  97%|█████████▋| 1014/1050 [1:46:45<05:01,  8.37s/it]"
          ]
        },
        {
          "output_type": "stream",
          "name": "stdout",
          "text": [
            "File: /content/drive/MyDrive/audio_files/Dataset_2_Cleaned/07_CAPON/P4.wav\n",
            "Expected Word: CAPON\n",
            "Detected Word: \n",
            "Correct: 0\n",
            "\n"
          ]
        },
        {
          "output_type": "stream",
          "name": "stderr",
          "text": [
            "\rProcessing audio files:  97%|█████████▋| 1015/1050 [1:47:07<07:11, 12.32s/it]"
          ]
        },
        {
          "output_type": "stream",
          "name": "stdout",
          "text": [
            "File: /content/drive/MyDrive/audio_files/Dataset_2_Cleaned/07_CAPON/P5.wav\n",
            "Expected Word: CAPON\n",
            "Detected Word: HEY\n",
            "Correct: 0\n",
            "\n"
          ]
        },
        {
          "output_type": "stream",
          "name": "stderr",
          "text": [
            "\rProcessing audio files:  97%|█████████▋| 1016/1050 [1:47:12<05:46, 10.20s/it]"
          ]
        },
        {
          "output_type": "stream",
          "name": "stdout",
          "text": [
            "File: /content/drive/MyDrive/audio_files/Dataset_2_Cleaned/07_CAPON/P6.wav\n",
            "Expected Word: CAPON\n",
            "Detected Word: \n",
            "Correct: 0\n",
            "\n"
          ]
        },
        {
          "output_type": "stream",
          "name": "stderr",
          "text": [
            "\rProcessing audio files:  97%|█████████▋| 1017/1050 [1:47:27<06:23, 11.62s/it]"
          ]
        },
        {
          "output_type": "stream",
          "name": "stdout",
          "text": [
            "File: /content/drive/MyDrive/audio_files/Dataset_2_Cleaned/07_CAPON/P7.wav\n",
            "Expected Word: CAPON\n",
            "Detected Word: \n",
            "Correct: 0\n",
            "\n"
          ]
        },
        {
          "output_type": "stream",
          "name": "stderr",
          "text": [
            "\rProcessing audio files:  97%|█████████▋| 1018/1050 [1:47:50<07:59, 14.99s/it]"
          ]
        },
        {
          "output_type": "stream",
          "name": "stdout",
          "text": [
            "File: /content/drive/MyDrive/audio_files/Dataset_2_Cleaned/07_CAPON/P8.wav\n",
            "Expected Word: CAPON\n",
            "Detected Word: \n",
            "Correct: 0\n",
            "\n"
          ]
        },
        {
          "output_type": "stream",
          "name": "stderr",
          "text": [
            "\rProcessing audio files:  97%|█████████▋| 1019/1050 [1:48:18<09:44, 18.85s/it]"
          ]
        },
        {
          "output_type": "stream",
          "name": "stdout",
          "text": [
            "File: /content/drive/MyDrive/audio_files/Dataset_2_Cleaned/07_CAPON/P9.wav\n",
            "Expected Word: CAPON\n",
            "Detected Word: \n",
            "Correct: 0\n",
            "\n"
          ]
        },
        {
          "output_type": "stream",
          "name": "stderr",
          "text": [
            "\rProcessing audio files:  97%|█████████▋| 1020/1050 [1:48:23<07:23, 14.80s/it]"
          ]
        },
        {
          "output_type": "stream",
          "name": "stdout",
          "text": [
            "File: /content/drive/MyDrive/audio_files/Dataset_2_Cleaned/07_CAPON/P10.wav\n",
            "Expected Word: CAPON\n",
            "Detected Word: \n",
            "Correct: 0\n",
            "\n"
          ]
        },
        {
          "output_type": "stream",
          "name": "stderr",
          "text": [
            "\rProcessing audio files:  97%|█████████▋| 1021/1050 [1:48:41<07:38, 15.82s/it]"
          ]
        },
        {
          "output_type": "stream",
          "name": "stdout",
          "text": [
            "File: /content/drive/MyDrive/audio_files/Dataset_2_Cleaned/07_CAPON/P11.wav\n",
            "Expected Word: CAPON\n",
            "Detected Word: \n",
            "Correct: 0\n",
            "\n"
          ]
        },
        {
          "output_type": "stream",
          "name": "stderr",
          "text": [
            "\rProcessing audio files:  97%|█████████▋| 1022/1050 [1:48:49<06:18, 13.53s/it]"
          ]
        },
        {
          "output_type": "stream",
          "name": "stdout",
          "text": [
            "File: /content/drive/MyDrive/audio_files/Dataset_2_Cleaned/07_CAPON/P12.wav\n",
            "Expected Word: CAPON\n",
            "Detected Word: CAP\n",
            "Correct: 0\n",
            "\n"
          ]
        },
        {
          "output_type": "stream",
          "name": "stderr",
          "text": [
            "\rProcessing audio files:  97%|█████████▋| 1023/1050 [1:48:55<04:59, 11.09s/it]"
          ]
        },
        {
          "output_type": "stream",
          "name": "stdout",
          "text": [
            "File: /content/drive/MyDrive/audio_files/Dataset_2_Cleaned/07_CAPON/P13.wav\n",
            "Expected Word: CAPON\n",
            "Detected Word: SHAPE\n",
            "Correct: 0\n",
            "\n"
          ]
        },
        {
          "output_type": "stream",
          "name": "stderr",
          "text": [
            "\rProcessing audio files:  98%|█████████▊| 1024/1050 [1:49:03<04:29, 10.35s/it]"
          ]
        },
        {
          "output_type": "stream",
          "name": "stdout",
          "text": [
            "File: /content/drive/MyDrive/audio_files/Dataset_2_Cleaned/07_CAPON/P14.wav\n",
            "Expected Word: CAPON\n",
            "Detected Word: \n",
            "Correct: 0\n",
            "\n"
          ]
        },
        {
          "output_type": "stream",
          "name": "stderr",
          "text": [
            "\rProcessing audio files:  98%|█████████▊| 1025/1050 [1:49:09<03:40,  8.82s/it]"
          ]
        },
        {
          "output_type": "stream",
          "name": "stdout",
          "text": [
            "File: /content/drive/MyDrive/audio_files/Dataset_2_Cleaned/07_CAPON/P15.wav\n",
            "Expected Word: CAPON\n",
            "Detected Word: \n",
            "Correct: 0\n",
            "\n"
          ]
        },
        {
          "output_type": "stream",
          "name": "stderr",
          "text": [
            "\rProcessing audio files:  98%|█████████▊| 1026/1050 [1:49:21<03:53,  9.71s/it]"
          ]
        },
        {
          "output_type": "stream",
          "name": "stdout",
          "text": [
            "File: /content/drive/MyDrive/audio_files/Dataset_2_Cleaned/07_CAPON/P16.wav\n",
            "Expected Word: CAPON\n",
            "Detected Word: UPON\n",
            "Correct: 0\n",
            "\n"
          ]
        },
        {
          "output_type": "stream",
          "name": "stderr",
          "text": [
            "\rProcessing audio files:  98%|█████████▊| 1027/1050 [1:49:29<03:36,  9.42s/it]"
          ]
        },
        {
          "output_type": "stream",
          "name": "stdout",
          "text": [
            "File: /content/drive/MyDrive/audio_files/Dataset_2_Cleaned/07_CAPON/P17.wav\n",
            "Expected Word: CAPON\n",
            "Detected Word: \n",
            "Correct: 0\n",
            "\n"
          ]
        },
        {
          "output_type": "stream",
          "name": "stderr",
          "text": [
            "\rProcessing audio files:  98%|█████████▊| 1028/1050 [1:49:38<03:20,  9.10s/it]"
          ]
        },
        {
          "output_type": "stream",
          "name": "stdout",
          "text": [
            "File: /content/drive/MyDrive/audio_files/Dataset_2_Cleaned/07_CAPON/P18.wav\n",
            "Expected Word: CAPON\n",
            "Detected Word: CAP\n",
            "Correct: 0\n",
            "\n"
          ]
        },
        {
          "output_type": "stream",
          "name": "stderr",
          "text": [
            "\rProcessing audio files:  98%|█████████▊| 1029/1050 [1:49:46<03:09,  9.02s/it]"
          ]
        },
        {
          "output_type": "stream",
          "name": "stdout",
          "text": [
            "File: /content/drive/MyDrive/audio_files/Dataset_2_Cleaned/07_CAPON/P19.wav\n",
            "Expected Word: CAPON\n",
            "Detected Word: COUPLE\n",
            "Correct: 0\n",
            "\n"
          ]
        },
        {
          "output_type": "stream",
          "name": "stderr",
          "text": [
            "\rProcessing audio files:  98%|█████████▊| 1030/1050 [1:49:58<03:15,  9.80s/it]"
          ]
        },
        {
          "output_type": "stream",
          "name": "stdout",
          "text": [
            "File: /content/drive/MyDrive/audio_files/Dataset_2_Cleaned/07_CAPON/P20.wav\n",
            "Expected Word: CAPON\n",
            "Detected Word: \n",
            "Correct: 0\n",
            "\n"
          ]
        },
        {
          "output_type": "stream",
          "name": "stderr",
          "text": [
            "\rProcessing audio files:  98%|█████████▊| 1031/1050 [1:50:07<02:59,  9.46s/it]"
          ]
        },
        {
          "output_type": "stream",
          "name": "stdout",
          "text": [
            "File: /content/drive/MyDrive/audio_files/Dataset_2_Cleaned/17_THYME/P1.wav\n",
            "Expected Word: THYME\n",
            "Detected Word: TIME\n",
            "Correct: 0\n",
            "\n"
          ]
        },
        {
          "output_type": "stream",
          "name": "stderr",
          "text": [
            "\rProcessing audio files:  98%|█████████▊| 1032/1050 [1:50:12<02:25,  8.10s/it]"
          ]
        },
        {
          "output_type": "stream",
          "name": "stdout",
          "text": [
            "File: /content/drive/MyDrive/audio_files/Dataset_2_Cleaned/17_THYME/P2.wav\n",
            "Expected Word: THYME\n",
            "Detected Word: TIME\n",
            "Correct: 0\n",
            "\n"
          ]
        },
        {
          "output_type": "stream",
          "name": "stderr",
          "text": [
            "\rProcessing audio files:  98%|█████████▊| 1033/1050 [1:50:30<03:08, 11.09s/it]"
          ]
        },
        {
          "output_type": "stream",
          "name": "stdout",
          "text": [
            "File: /content/drive/MyDrive/audio_files/Dataset_2_Cleaned/17_THYME/P3.wav\n",
            "Expected Word: THYME\n",
            "Detected Word: \n",
            "Correct: 0\n",
            "\n"
          ]
        },
        {
          "output_type": "stream",
          "name": "stderr",
          "text": [
            "\rProcessing audio files:  98%|█████████▊| 1034/1050 [1:50:38<02:45, 10.32s/it]"
          ]
        },
        {
          "output_type": "stream",
          "name": "stdout",
          "text": [
            "File: /content/drive/MyDrive/audio_files/Dataset_2_Cleaned/17_THYME/P4.wav\n",
            "Expected Word: THYME\n",
            "Detected Word: TIME\n",
            "Correct: 0\n",
            "\n"
          ]
        },
        {
          "output_type": "stream",
          "name": "stderr",
          "text": [
            "\rProcessing audio files:  99%|█████████▊| 1035/1050 [1:50:44<02:12,  8.84s/it]"
          ]
        },
        {
          "output_type": "stream",
          "name": "stdout",
          "text": [
            "File: /content/drive/MyDrive/audio_files/Dataset_2_Cleaned/17_THYME/P5.wav\n",
            "Expected Word: THYME\n",
            "Detected Word: TIME\n",
            "Correct: 0\n",
            "\n"
          ]
        },
        {
          "output_type": "stream",
          "name": "stderr",
          "text": [
            "\rProcessing audio files:  99%|█████████▊| 1036/1050 [1:50:49<01:49,  7.82s/it]"
          ]
        },
        {
          "output_type": "stream",
          "name": "stdout",
          "text": [
            "File: /content/drive/MyDrive/audio_files/Dataset_2_Cleaned/17_THYME/P6.wav\n",
            "Expected Word: THYME\n",
            "Detected Word: TIME\n",
            "Correct: 0\n",
            "\n"
          ]
        },
        {
          "output_type": "stream",
          "name": "stderr",
          "text": [
            "\rProcessing audio files:  99%|█████████▉| 1037/1050 [1:50:54<01:31,  7.06s/it]"
          ]
        },
        {
          "output_type": "stream",
          "name": "stdout",
          "text": [
            "File: /content/drive/MyDrive/audio_files/Dataset_2_Cleaned/17_THYME/P7.wav\n",
            "Expected Word: THYME\n",
            "Detected Word: \n",
            "Correct: 0\n",
            "\n"
          ]
        },
        {
          "output_type": "stream",
          "name": "stderr",
          "text": [
            "\rProcessing audio files:  99%|█████████▉| 1038/1050 [1:51:00<01:18,  6.58s/it]"
          ]
        },
        {
          "output_type": "stream",
          "name": "stdout",
          "text": [
            "File: /content/drive/MyDrive/audio_files/Dataset_2_Cleaned/17_THYME/P8.wav\n",
            "Expected Word: THYME\n",
            "Detected Word: \n",
            "Correct: 0\n",
            "\n"
          ]
        },
        {
          "output_type": "stream",
          "name": "stderr",
          "text": [
            "\rProcessing audio files:  99%|█████████▉| 1039/1050 [1:51:05<01:07,  6.14s/it]"
          ]
        },
        {
          "output_type": "stream",
          "name": "stdout",
          "text": [
            "File: /content/drive/MyDrive/audio_files/Dataset_2_Cleaned/17_THYME/P9.wav\n",
            "Expected Word: THYME\n",
            "Detected Word: TIME\n",
            "Correct: 0\n",
            "\n"
          ]
        },
        {
          "output_type": "stream",
          "name": "stderr",
          "text": [
            "\rProcessing audio files:  99%|█████████▉| 1040/1050 [1:51:11<00:59,  5.98s/it]"
          ]
        },
        {
          "output_type": "stream",
          "name": "stdout",
          "text": [
            "File: /content/drive/MyDrive/audio_files/Dataset_2_Cleaned/17_THYME/P10.wav\n",
            "Expected Word: THYME\n",
            "Detected Word: \n",
            "Correct: 0\n",
            "\n"
          ]
        },
        {
          "output_type": "stream",
          "name": "stderr",
          "text": [
            "\rProcessing audio files:  99%|█████████▉| 1041/1050 [1:51:16<00:53,  5.90s/it]"
          ]
        },
        {
          "output_type": "stream",
          "name": "stdout",
          "text": [
            "File: /content/drive/MyDrive/audio_files/Dataset_2_Cleaned/17_THYME/P11.wav\n",
            "Expected Word: THYME\n",
            "Detected Word: TIME\n",
            "Correct: 0\n",
            "\n"
          ]
        },
        {
          "output_type": "stream",
          "name": "stderr",
          "text": [
            "\rProcessing audio files:  99%|█████████▉| 1042/1050 [1:51:21<00:45,  5.70s/it]"
          ]
        },
        {
          "output_type": "stream",
          "name": "stdout",
          "text": [
            "File: /content/drive/MyDrive/audio_files/Dataset_2_Cleaned/17_THYME/P12.wav\n",
            "Expected Word: THYME\n",
            "Detected Word: TIME\n",
            "Correct: 0\n",
            "\n"
          ]
        },
        {
          "output_type": "stream",
          "name": "stderr",
          "text": [
            "\rProcessing audio files:  99%|█████████▉| 1043/1050 [1:51:27<00:39,  5.65s/it]"
          ]
        },
        {
          "output_type": "stream",
          "name": "stdout",
          "text": [
            "File: /content/drive/MyDrive/audio_files/Dataset_2_Cleaned/17_THYME/P13.wav\n",
            "Expected Word: THYME\n",
            "Detected Word: TIME\n",
            "Correct: 0\n",
            "\n"
          ]
        },
        {
          "output_type": "stream",
          "name": "stderr",
          "text": [
            "\rProcessing audio files:  99%|█████████▉| 1044/1050 [1:51:36<00:39,  6.54s/it]"
          ]
        },
        {
          "output_type": "stream",
          "name": "stdout",
          "text": [
            "File: /content/drive/MyDrive/audio_files/Dataset_2_Cleaned/17_THYME/P14.wav\n",
            "Expected Word: THYME\n",
            "Detected Word: TIME\n",
            "Correct: 0\n",
            "\n"
          ]
        },
        {
          "output_type": "stream",
          "name": "stderr",
          "text": [
            "\rProcessing audio files: 100%|█████████▉| 1045/1050 [1:51:41<00:31,  6.22s/it]"
          ]
        },
        {
          "output_type": "stream",
          "name": "stdout",
          "text": [
            "File: /content/drive/MyDrive/audio_files/Dataset_2_Cleaned/17_THYME/P15.wav\n",
            "Expected Word: THYME\n",
            "Detected Word: TIME\n",
            "Correct: 0\n",
            "\n"
          ]
        },
        {
          "output_type": "stream",
          "name": "stderr",
          "text": [
            "\rProcessing audio files: 100%|█████████▉| 1046/1050 [1:51:51<00:28,  7.19s/it]"
          ]
        },
        {
          "output_type": "stream",
          "name": "stdout",
          "text": [
            "File: /content/drive/MyDrive/audio_files/Dataset_2_Cleaned/17_THYME/P16.wav\n",
            "Expected Word: THYME\n",
            "Detected Word: TIME\n",
            "Correct: 0\n",
            "\n"
          ]
        },
        {
          "output_type": "stream",
          "name": "stderr",
          "text": [
            "\rProcessing audio files: 100%|█████████▉| 1047/1050 [1:51:56<00:20,  6.70s/it]"
          ]
        },
        {
          "output_type": "stream",
          "name": "stdout",
          "text": [
            "File: /content/drive/MyDrive/audio_files/Dataset_2_Cleaned/17_THYME/P17.wav\n",
            "Expected Word: THYME\n",
            "Detected Word: TIME\n",
            "Correct: 0\n",
            "\n"
          ]
        },
        {
          "output_type": "stream",
          "name": "stderr",
          "text": [
            "\rProcessing audio files: 100%|█████████▉| 1048/1050 [1:52:05<00:14,  7.27s/it]"
          ]
        },
        {
          "output_type": "stream",
          "name": "stdout",
          "text": [
            "File: /content/drive/MyDrive/audio_files/Dataset_2_Cleaned/17_THYME/P18.wav\n",
            "Expected Word: THYME\n",
            "Detected Word: TIME\n",
            "Correct: 0\n",
            "\n"
          ]
        },
        {
          "output_type": "stream",
          "name": "stderr",
          "text": [
            "\rProcessing audio files: 100%|█████████▉| 1049/1050 [1:52:10<00:06,  6.71s/it]"
          ]
        },
        {
          "output_type": "stream",
          "name": "stdout",
          "text": [
            "File: /content/drive/MyDrive/audio_files/Dataset_2_Cleaned/17_THYME/P19.wav\n",
            "Expected Word: THYME\n",
            "Detected Word: TIME\n",
            "Correct: 0\n",
            "\n"
          ]
        },
        {
          "output_type": "stream",
          "name": "stderr",
          "text": [
            "Processing audio files: 100%|██████████| 1050/1050 [1:52:16<00:00,  6.42s/it]"
          ]
        },
        {
          "output_type": "stream",
          "name": "stdout",
          "text": [
            "File: /content/drive/MyDrive/audio_files/Dataset_2_Cleaned/17_THYME/P20.wav\n",
            "Expected Word: THYME\n",
            "Detected Word: TIME\n",
            "Correct: 0\n",
            "\n",
            "                                                   File      Expected Word  \\\n",
            "0     /content/drive/MyDrive/audio_files/Dataset_2_C...  DATASET_2_CLEANED   \n",
            "1     /content/drive/MyDrive/audio_files/Dataset_2_C...  DATASET_2_CLEANED   \n",
            "2     /content/drive/MyDrive/audio_files/Dataset_2_C...  DATASET_2_CLEANED   \n",
            "3     /content/drive/MyDrive/audio_files/Dataset_2_C...  DATASET_2_CLEANED   \n",
            "4     /content/drive/MyDrive/audio_files/Dataset_2_C...  DATASET_2_CLEANED   \n",
            "...                                                 ...                ...   \n",
            "1045  /content/drive/MyDrive/audio_files/Dataset_2_C...              THYME   \n",
            "1046  /content/drive/MyDrive/audio_files/Dataset_2_C...              THYME   \n",
            "1047  /content/drive/MyDrive/audio_files/Dataset_2_C...              THYME   \n",
            "1048  /content/drive/MyDrive/audio_files/Dataset_2_C...              THYME   \n",
            "1049  /content/drive/MyDrive/audio_files/Dataset_2_C...              THYME   \n",
            "\n",
            "     Detected Word  Confidence  Correct  \n",
            "0           FACADE     0.92126        0  \n",
            "1          PLACEBO     0.99779        0  \n",
            "2                      0.00000        0  \n",
            "3        EQUIVOCAL     0.87799        0  \n",
            "4          SYNCOPE     0.97345        0  \n",
            "...            ...         ...      ...  \n",
            "1045          TIME     0.99634        0  \n",
            "1046          TIME     0.99248        0  \n",
            "1047          TIME     0.99707        0  \n",
            "1048          TIME     0.98142        0  \n",
            "1049          TIME     0.80460        0  \n",
            "\n",
            "[1050 rows x 5 columns]\n",
            "Transcription results saved to transcription_results.txt and transcription_results.csv\n"
          ]
        },
        {
          "output_type": "stream",
          "name": "stderr",
          "text": [
            "\n"
          ]
        }
      ]
    }
  ]
}