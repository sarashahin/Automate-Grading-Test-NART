{
  "nbformat": 4,
  "nbformat_minor": 0,
  "metadata": {
    "colab": {
      "provenance": [],
      "gpuType": "T4"
    },
    "kernelspec": {
      "name": "python3",
      "display_name": "Python 3"
    },
    "language_info": {
      "name": "python"
    },
    "accelerator": "GPU"
  },
  "cells": [
    {
      "cell_type": "code",
      "source": [
        "# Install the required libraries\n",
        "!pip install vosk\n",
        "!pip install soundfile"
      ],
      "metadata": {
        "colab": {
          "base_uri": "https://localhost:8080/"
        },
        "id": "k3JFQpxkZrby",
        "outputId": "aeb25f98-e42d-4447-c9f2-da698ab6e954"
      },
      "execution_count": 1,
      "outputs": [
        {
          "output_type": "stream",
          "name": "stdout",
          "text": [
            "Collecting vosk\n",
            "  Downloading vosk-0.3.45-py3-none-manylinux_2_12_x86_64.manylinux2010_x86_64.whl (7.2 MB)\n",
            "\u001b[2K     \u001b[90m━━━━━━━━━━━━━━━━━━━━━━━━━━━━━━━━━━━━━━━━\u001b[0m \u001b[32m7.2/7.2 MB\u001b[0m \u001b[31m28.1 MB/s\u001b[0m eta \u001b[36m0:00:00\u001b[0m\n",
            "\u001b[?25hRequirement already satisfied: cffi>=1.0 in /usr/local/lib/python3.10/dist-packages (from vosk) (1.16.0)\n",
            "Requirement already satisfied: requests in /usr/local/lib/python3.10/dist-packages (from vosk) (2.31.0)\n",
            "Requirement already satisfied: tqdm in /usr/local/lib/python3.10/dist-packages (from vosk) (4.66.4)\n",
            "Collecting srt (from vosk)\n",
            "  Downloading srt-3.5.3.tar.gz (28 kB)\n",
            "  Preparing metadata (setup.py) ... \u001b[?25l\u001b[?25hdone\n",
            "Collecting websockets (from vosk)\n",
            "  Downloading websockets-12.0-cp310-cp310-manylinux_2_5_x86_64.manylinux1_x86_64.manylinux_2_17_x86_64.manylinux2014_x86_64.whl (130 kB)\n",
            "\u001b[2K     \u001b[90m━━━━━━━━━━━━━━━━━━━━━━━━━━━━━━━━━━━━━━━━\u001b[0m \u001b[32m130.2/130.2 kB\u001b[0m \u001b[31m18.3 MB/s\u001b[0m eta \u001b[36m0:00:00\u001b[0m\n",
            "\u001b[?25hRequirement already satisfied: pycparser in /usr/local/lib/python3.10/dist-packages (from cffi>=1.0->vosk) (2.22)\n",
            "Requirement already satisfied: charset-normalizer<4,>=2 in /usr/local/lib/python3.10/dist-packages (from requests->vosk) (3.3.2)\n",
            "Requirement already satisfied: idna<4,>=2.5 in /usr/local/lib/python3.10/dist-packages (from requests->vosk) (3.7)\n",
            "Requirement already satisfied: urllib3<3,>=1.21.1 in /usr/local/lib/python3.10/dist-packages (from requests->vosk) (2.0.7)\n",
            "Requirement already satisfied: certifi>=2017.4.17 in /usr/local/lib/python3.10/dist-packages (from requests->vosk) (2024.6.2)\n",
            "Building wheels for collected packages: srt\n",
            "  Building wheel for srt (setup.py) ... \u001b[?25l\u001b[?25hdone\n",
            "  Created wheel for srt: filename=srt-3.5.3-py3-none-any.whl size=22428 sha256=f49d9fdbbc6a12b74f5d2b8dd99294590c2c9b932650ed85a778261e9e2b97d3\n",
            "  Stored in directory: /root/.cache/pip/wheels/d7/31/a1/18e1e7e8bfdafd19e6803d7eb919b563dd11de380e4304e332\n",
            "Successfully built srt\n",
            "Installing collected packages: websockets, srt, vosk\n",
            "Successfully installed srt-3.5.3 vosk-0.3.45 websockets-12.0\n",
            "Requirement already satisfied: soundfile in /usr/local/lib/python3.10/dist-packages (0.12.1)\n",
            "Requirement already satisfied: cffi>=1.0 in /usr/local/lib/python3.10/dist-packages (from soundfile) (1.16.0)\n",
            "Requirement already satisfied: pycparser in /usr/local/lib/python3.10/dist-packages (from cffi>=1.0->soundfile) (2.22)\n"
          ]
        }
      ]
    },
    {
      "cell_type": "code",
      "source": [
        "\n",
        "\n",
        "import os\n",
        "import re\n",
        "import pandas as pd\n",
        "import wave\n",
        "import json\n",
        "from tqdm import tqdm\n",
        "from vosk import Model, KaldiRecognizer\n",
        "\n",
        "# Download the Vosk model\n",
        "!wget -O vosk-model-small-en-us-0.15.zip https://alphacephei.com/vosk/models/vosk-model-small-en-us-0.15.zip\n",
        "!unzip vosk-model-small-en-us-0.15.zip -d .\n",
        "\n",
        "# Load Vosk model\n",
        "model_path = \"vosk-model-small-en-us-0.15\"\n",
        "model = Model(model_path)\n",
        "\n",
        "# Function to transcribe audio using Vosk\n",
        "def transcribe_audio_vosk(audio_path):\n",
        "    try:\n",
        "        wf = wave.open(audio_path, \"rb\")\n",
        "        if wf.getnchannels() != 1 or wf.getsampwidth() != 2 or wf.getcomptype() != \"NONE\":\n",
        "            print(\"Audio file must be WAV format mono PCM.\")\n",
        "            return \"\", 0.0\n",
        "\n",
        "        rec = KaldiRecognizer(model, wf.getframerate())\n",
        "        result_text = \"\"\n",
        "        while True:\n",
        "            data = wf.readframes(4000)\n",
        "            if len(data) == 0:\n",
        "                break\n",
        "            if rec.AcceptWaveform(data):\n",
        "                result = json.loads(rec.Result())\n",
        "                result_text += result.get(\"text\", \"\")\n",
        "        result = json.loads(rec.FinalResult())\n",
        "        result_text += result.get(\"text\", \"\")\n",
        "        return result_text.upper().strip(), 1.0  # Assume confidence as 1.0 for simplicity\n",
        "    except Exception as e:\n",
        "        print(f\"An error occurred: {e}\")\n",
        "        return \"\", 0.0\n",
        "\n",
        "# Function to clean and normalize expected words\n",
        "def clean_expected_word(word):\n",
        "    # Remove any numeric prefix and spaces\n",
        "    word = re.sub(r'^\\d+\\s*', '', word)\n",
        "    return word.upper().strip()\n",
        "\n",
        "# Audio files directory\n",
        "audio_dir = \"/content/drive/MyDrive/audio_files/Dataset 1 (Cleaned with Separated Words)/NART Words Ss 1 to 71\"\n",
        "\n",
        "# Get all wav files\n",
        "wav_files = [os.path.join(root, file) for root, _, files in os.walk(audio_dir) for file in files if file.endswith(\".wav\")]\n",
        "\n",
        "# Process each wav file\n",
        "results = []\n",
        "for file_path in tqdm(wav_files, desc=\"Processing audio files\"):\n",
        "    detected_word, confidence = transcribe_audio_vosk(file_path)\n",
        "    expected_word = os.path.basename(os.path.dirname(file_path)).upper().strip()\n",
        "    # Clean the expected word\n",
        "    expected_word = clean_expected_word(expected_word)\n",
        "\n",
        "    # Check if the detected word matches the expected word\n",
        "    correct = 1 if detected_word == expected_word else 0\n",
        "\n",
        "    results.append({\n",
        "        \"File\": file_path,\n",
        "        \"Expected Word\": expected_word,\n",
        "        \"Detected Word\": detected_word,\n",
        "        \"Confidence\": confidence,\n",
        "        \"Correct\": correct\n",
        "    })\n",
        "\n",
        "# Convert results to a DataFrame\n",
        "df = pd.DataFrame(results)\n",
        "\n",
        "# Save results to CSV file\n",
        "df.to_csv(\"transcription_results_vosk.csv\", index=False)\n",
        "print(df)\n"
      ],
      "metadata": {
        "colab": {
          "base_uri": "https://localhost:8080/"
        },
        "id": "jwUevWZInzLh",
        "outputId": "dec1f214-9845-4d47-bbae-0800b12b1e5f"
      },
      "execution_count": 2,
      "outputs": [
        {
          "output_type": "stream",
          "name": "stdout",
          "text": [
            "--2024-07-08 10:29:15--  https://alphacephei.com/vosk/models/vosk-model-small-en-us-0.15.zip\n",
            "Resolving alphacephei.com (alphacephei.com)... 188.40.21.16, 2a01:4f8:13a:279f::2\n",
            "Connecting to alphacephei.com (alphacephei.com)|188.40.21.16|:443... connected.\n",
            "HTTP request sent, awaiting response... 200 OK\n",
            "Length: 41205931 (39M) [application/zip]\n",
            "Saving to: ‘vosk-model-small-en-us-0.15.zip’\n",
            "\n",
            "vosk-model-small-en 100%[===================>]  39.30M  94.2MB/s    in 0.4s    \n",
            "\n",
            "2024-07-08 10:29:15 (94.2 MB/s) - ‘vosk-model-small-en-us-0.15.zip’ saved [41205931/41205931]\n",
            "\n",
            "Archive:  vosk-model-small-en-us-0.15.zip\n",
            "   creating: ./vosk-model-small-en-us-0.15/\n",
            "   creating: ./vosk-model-small-en-us-0.15/am/\n",
            "  inflating: ./vosk-model-small-en-us-0.15/am/final.mdl  \n",
            "   creating: ./vosk-model-small-en-us-0.15/graph/\n",
            "  inflating: ./vosk-model-small-en-us-0.15/graph/disambig_tid.int  \n",
            "  inflating: ./vosk-model-small-en-us-0.15/graph/HCLr.fst  \n",
            "  inflating: ./vosk-model-small-en-us-0.15/graph/Gr.fst  \n",
            "   creating: ./vosk-model-small-en-us-0.15/graph/phones/\n",
            "  inflating: ./vosk-model-small-en-us-0.15/graph/phones/word_boundary.int  \n",
            "   creating: ./vosk-model-small-en-us-0.15/conf/\n",
            "  inflating: ./vosk-model-small-en-us-0.15/conf/model.conf  \n",
            "  inflating: ./vosk-model-small-en-us-0.15/conf/mfcc.conf  \n",
            "   creating: ./vosk-model-small-en-us-0.15/ivector/\n",
            "  inflating: ./vosk-model-small-en-us-0.15/ivector/splice.conf  \n",
            "  inflating: ./vosk-model-small-en-us-0.15/ivector/final.dubm  \n",
            "  inflating: ./vosk-model-small-en-us-0.15/ivector/global_cmvn.stats  \n",
            "  inflating: ./vosk-model-small-en-us-0.15/ivector/final.ie  \n",
            "  inflating: ./vosk-model-small-en-us-0.15/ivector/online_cmvn.conf  \n",
            "  inflating: ./vosk-model-small-en-us-0.15/ivector/final.mat  \n",
            "  inflating: ./vosk-model-small-en-us-0.15/README  \n"
          ]
        },
        {
          "output_type": "stream",
          "name": "stderr",
          "text": [
            "Processing audio files: 100%|██████████| 3500/3500 [1:01:26<00:00,  1.05s/it]"
          ]
        },
        {
          "output_type": "stream",
          "name": "stdout",
          "text": [
            "                                                   File Expected Word  \\\n",
            "0     /content/drive/MyDrive/audio_files/Dataset 1 (...       BEATIFY   \n",
            "1     /content/drive/MyDrive/audio_files/Dataset 1 (...       BEATIFY   \n",
            "2     /content/drive/MyDrive/audio_files/Dataset 1 (...       BEATIFY   \n",
            "3     /content/drive/MyDrive/audio_files/Dataset 1 (...       BEATIFY   \n",
            "4     /content/drive/MyDrive/audio_files/Dataset 1 (...       BEATIFY   \n",
            "...                                                 ...           ...   \n",
            "3495  /content/drive/MyDrive/audio_files/Dataset 1 (...       PRELATE   \n",
            "3496  /content/drive/MyDrive/audio_files/Dataset 1 (...       PRELATE   \n",
            "3497  /content/drive/MyDrive/audio_files/Dataset 1 (...       PRELATE   \n",
            "3498  /content/drive/MyDrive/audio_files/Dataset 1 (...       PRELATE   \n",
            "3499  /content/drive/MyDrive/audio_files/Dataset 1 (...       PRELATE   \n",
            "\n",
            "      Detected Word  Confidence  Correct  \n",
            "0          EAT FOIE         1.0        0  \n",
            "1           BEATIFY         1.0        1  \n",
            "2             TO BY         1.0        0  \n",
            "3           BT FIVE         1.0        0  \n",
            "4     THE OR TO FLY         1.0        0  \n",
            "...             ...         ...      ...  \n",
            "3495    PRETTY LATE         1.0        0  \n",
            "3496      CREE LATE         1.0        0  \n",
            "3497        PRELATE         1.0        1  \n",
            "3498      PRE LIGHT         1.0        0  \n",
            "3499    PRETTY LATE         1.0        0  \n",
            "\n",
            "[3500 rows x 5 columns]\n"
          ]
        },
        {
          "output_type": "stream",
          "name": "stderr",
          "text": [
            "\n"
          ]
        }
      ]
    },
    {
      "cell_type": "code",
      "source": [],
      "metadata": {
        "id": "cm2ZO96qnzOY"
      },
      "execution_count": 2,
      "outputs": []
    }
  ]
}