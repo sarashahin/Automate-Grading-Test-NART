{
  "nbformat": 4,
  "nbformat_minor": 0,
  "metadata": {
    "colab": {
      "provenance": []
    },
    "kernelspec": {
      "name": "python3",
      "display_name": "Python 3"
    },
    "language_info": {
      "name": "python"
    }
  },
  "cells": [
    {
      "cell_type": "code",
      "source": [
        "# Install the required libraries\n",
        "!pip install vosk\n",
        "!pip install soundfile"
      ],
      "metadata": {
        "colab": {
          "base_uri": "https://localhost:8080/"
        },
        "id": "k3JFQpxkZrby",
        "outputId": "6a18f827-967b-46f7-c8a3-d5f1505929f2"
      },
      "execution_count": null,
      "outputs": [
        {
          "output_type": "stream",
          "name": "stdout",
          "text": [
            "Collecting vosk\n",
            "  Downloading vosk-0.3.45-py3-none-manylinux_2_12_x86_64.manylinux2010_x86_64.whl (7.2 MB)\n",
            "\u001b[2K     \u001b[90m━━━━━━━━━━━━━━━━━━━━━━━━━━━━━━━━━━━━━━━━\u001b[0m \u001b[32m7.2/7.2 MB\u001b[0m \u001b[31m12.6 MB/s\u001b[0m eta \u001b[36m0:00:00\u001b[0m\n",
            "\u001b[?25hRequirement already satisfied: cffi>=1.0 in /usr/local/lib/python3.10/dist-packages (from vosk) (1.16.0)\n",
            "Requirement already satisfied: requests in /usr/local/lib/python3.10/dist-packages (from vosk) (2.31.0)\n",
            "Requirement already satisfied: tqdm in /usr/local/lib/python3.10/dist-packages (from vosk) (4.66.2)\n",
            "Collecting srt (from vosk)\n",
            "  Downloading srt-3.5.3.tar.gz (28 kB)\n",
            "  Preparing metadata (setup.py) ... \u001b[?25l\u001b[?25hdone\n",
            "Collecting websockets (from vosk)\n",
            "  Downloading websockets-12.0-cp310-cp310-manylinux_2_5_x86_64.manylinux1_x86_64.manylinux_2_17_x86_64.manylinux2014_x86_64.whl (130 kB)\n",
            "\u001b[2K     \u001b[90m━━━━━━━━━━━━━━━━━━━━━━━━━━━━━━━━━━━━━━━━\u001b[0m \u001b[32m130.2/130.2 kB\u001b[0m \u001b[31m10.3 MB/s\u001b[0m eta \u001b[36m0:00:00\u001b[0m\n",
            "\u001b[?25hRequirement already satisfied: pycparser in /usr/local/lib/python3.10/dist-packages (from cffi>=1.0->vosk) (2.22)\n",
            "Requirement already satisfied: charset-normalizer<4,>=2 in /usr/local/lib/python3.10/dist-packages (from requests->vosk) (3.3.2)\n",
            "Requirement already satisfied: idna<4,>=2.5 in /usr/local/lib/python3.10/dist-packages (from requests->vosk) (3.7)\n",
            "Requirement already satisfied: urllib3<3,>=1.21.1 in /usr/local/lib/python3.10/dist-packages (from requests->vosk) (2.0.7)\n",
            "Requirement already satisfied: certifi>=2017.4.17 in /usr/local/lib/python3.10/dist-packages (from requests->vosk) (2024.2.2)\n",
            "Building wheels for collected packages: srt\n",
            "  Building wheel for srt (setup.py) ... \u001b[?25l\u001b[?25hdone\n",
            "  Created wheel for srt: filename=srt-3.5.3-py3-none-any.whl size=22428 sha256=4e994a62c08c509ffb169369fef8aa85b329a81b8ef61d023da9b74675787b3c\n",
            "  Stored in directory: /root/.cache/pip/wheels/d7/31/a1/18e1e7e8bfdafd19e6803d7eb919b563dd11de380e4304e332\n",
            "Successfully built srt\n",
            "Installing collected packages: websockets, srt, vosk\n",
            "Successfully installed srt-3.5.3 vosk-0.3.45 websockets-12.0\n",
            "Requirement already satisfied: soundfile in /usr/local/lib/python3.10/dist-packages (0.12.1)\n",
            "Requirement already satisfied: cffi>=1.0 in /usr/local/lib/python3.10/dist-packages (from soundfile) (1.16.0)\n",
            "Requirement already satisfied: pycparser in /usr/local/lib/python3.10/dist-packages (from cffi>=1.0->soundfile) (2.22)\n"
          ]
        }
      ]
    },
    {
      "cell_type": "code",
      "source": [
        "!pip install pydub"
      ],
      "metadata": {
        "colab": {
          "base_uri": "https://localhost:8080/"
        },
        "id": "FVRvS66nvlui",
        "outputId": "49eb4801-6c1c-43b2-9be1-91df3ff1c31d"
      },
      "execution_count": null,
      "outputs": [
        {
          "output_type": "stream",
          "name": "stdout",
          "text": [
            "Collecting pydub\n",
            "  Downloading pydub-0.25.1-py2.py3-none-any.whl (32 kB)\n",
            "Installing collected packages: pydub\n",
            "Successfully installed pydub-0.25.1\n"
          ]
        }
      ]
    },
    {
      "cell_type": "code",
      "source": [
        "import os\n",
        "\n",
        "# Audio files directory\n",
        "audio_dir = \"/content/drive/MyDrive/audio_files/Dataset_2_Cleaned\"\n",
        "\n",
        "# Get all wav files\n",
        "wav_files = [os.path.join(root, file) for root, _, files in os.walk(audio_dir) for file in files if file.endswith(\".wav\")]\n",
        "\n",
        "# Get the count of wav files\n",
        "wav_file_count = len(wav_files)\n",
        "\n",
        "# Print the count\n",
        "print(f\"Number of .wav files in '{audio_dir}': {wav_file_count}\")"
      ],
      "metadata": {
        "colab": {
          "base_uri": "https://localhost:8080/"
        },
        "id": "BsdsWSFGKnAz",
        "outputId": "b3af8760-f32c-4b70-c2f0-995f395b799c"
      },
      "execution_count": null,
      "outputs": [
        {
          "output_type": "stream",
          "name": "stdout",
          "text": [
            "Number of .wav files in '/content/drive/MyDrive/audio_files/Dataset_2_Cleaned': 1848\n"
          ]
        }
      ]
    },
    {
      "cell_type": "code",
      "source": [
        "import os\n",
        "import re\n",
        "import shutil\n",
        "import pandas as pd\n",
        "import wave\n",
        "import json\n",
        "from tqdm import tqdm\n",
        "from pydub import AudioSegment\n",
        "from vosk import Model, KaldiRecognizer\n",
        "\n",
        "# Install pydub and ffmpeg\n",
        "!pip install pydub\n",
        "!apt-get install ffmpeg\n",
        "\n",
        "# Download the Vosk model\n",
        "!wget -O vosk-model-small-en-us-0.15.zip https://alphacephei.com/vosk/models/vosk-model-small-en-us-0.15.zip\n",
        "!unzip vosk-model-small-en-us-0.15.zip -d .\n",
        "\n",
        "# Load Vosk model\n",
        "model_path = \"vosk-model-small-en-us-0.15\"\n",
        "model = Model(model_path)\n",
        "\n",
        "# Function to convert audio to required format\n",
        "def convert_audio_to_mono_pcm(source_path, target_path):\n",
        "    audio = AudioSegment.from_file(source_path)\n",
        "    audio = audio.set_channels(1)\n",
        "    audio = audio.set_frame_rate(16000)\n",
        "    audio.export(target_path, format=\"wav\")\n",
        "\n",
        "# Function to check and convert audio if necessary\n",
        "def check_and_convert_audio(file_path, temp_dir):\n",
        "    try:\n",
        "        wf = wave.open(file_path, \"rb\")\n",
        "        if wf.getnchannels() == 1 and wf.getsampwidth() == 2 and wf.getcomptype() == \"NONE\":\n",
        "            return file_path  # File is already in the correct format\n",
        "        else:\n",
        "            # Convert the file to the correct format and save in temporary directory\n",
        "            temp_path = os.path.join(temp_dir, os.path.basename(file_path))\n",
        "            convert_audio_to_mono_pcm(file_path, temp_path)\n",
        "            return temp_path\n",
        "    except Exception as e:\n",
        "        print(f\"An error occurred while checking/converting file {file_path}: {e}\")\n",
        "        return None\n",
        "\n",
        "# Function to transcribe audio using Vosk\n",
        "def transcribe_audio_vosk(audio_path):\n",
        "    try:\n",
        "        wf = wave.open(audio_path, \"rb\")\n",
        "        rec = KaldiRecognizer(model, wf.getframerate())\n",
        "        result_text = \"\"\n",
        "        while True:\n",
        "            data = wf.readframes(4000)\n",
        "            if len(data) == 0:\n",
        "                break\n",
        "            if rec.AcceptWaveform(data):\n",
        "                result = json.loads(rec.Result())\n",
        "                result_text += result.get(\"text\", \"\")\n",
        "        result = json.loads(rec.FinalResult())\n",
        "        result_text += result.get(\"text\", \"\")\n",
        "        return result_text.upper().strip(), 1.0  # Assume confidence as 1.0 for simplicity\n",
        "    except Exception as e:\n",
        "        print(f\"An error occurred: {e}\")\n",
        "        return \"\", 0.0\n",
        "\n",
        "# Function to clean and normalize expected words\n",
        "def clean_expected_word(word):\n",
        "    # Remove any numeric prefix, underscores, and spaces\n",
        "    word = re.sub(r'^[\\d_]+\\s*', '', word)\n",
        "    return word.upper().strip()\n",
        "\n",
        "# Audio files directory\n",
        "audio_dir = \"/content/drive/MyDrive/audio_files/Dataset_2_Cleaned\"\n",
        "# Temporary directory for converted audio files\n",
        "temp_dir = \"/content/temp_audio\"\n",
        "\n",
        "# Ensure temp directory exists\n",
        "os.makedirs(temp_dir, exist_ok=True)\n",
        "\n",
        "# Get all wav files\n",
        "wav_files = [os.path.join(root, file) for root, _, files in os.walk(audio_dir) for file in files if file.endswith(\".wav\")]\n",
        "\n",
        "# Print the count of wav files\n",
        "wav_file_count = len(wav_files)\n",
        "print(f\"Number of .wav files in '{audio_dir}': {wav_file_count}\")\n",
        "\n",
        "# Process each wav file\n",
        "results = []\n",
        "for file_path in tqdm(wav_files, desc=\"Processing audio files\"):\n",
        "    checked_file_path = check_and_convert_audio(file_path, temp_dir)\n",
        "    if checked_file_path:\n",
        "        detected_word, confidence = transcribe_audio_vosk(checked_file_path)\n",
        "        expected_word = os.path.basename(os.path.dirname(file_path)).upper().strip()\n",
        "        # Clean the expected word\n",
        "        expected_word = clean_expected_word(expected_word)\n",
        "\n",
        "        # Check if the detected word matches the expected word\n",
        "        correct = 1 if detected_word == expected_word else 0\n",
        "\n",
        "        results.append({\n",
        "            \"File\": file_path,\n",
        "            \"Expected Word\": expected_word,\n",
        "            \"Detected Word\": detected_word,\n",
        "            \"Confidence\": confidence,\n",
        "            \"Correct\": correct\n",
        "        })\n",
        "\n",
        "# Convert results to a DataFrame\n",
        "df = pd.DataFrame(results)\n",
        "\n",
        "# Save results to CSV file\n",
        "df.to_csv(\"transcription_results_vosk.csv\", index=False)\n",
        "print(df)\n",
        "\n",
        "print(\"Transcription results saved to transcription_results_vosk.csv\")\n",
        "\n",
        "# Optionally, remove the temporary directory after processing\n",
        "shutil.rmtree(temp_dir)\n",
        "print(f\"Temporary directory '{temp_dir}' has been removed.\")\n"
      ],
      "metadata": {
        "colab": {
          "base_uri": "https://localhost:8080/"
        },
        "id": "8Xz5JzW6T_-M",
        "outputId": "c659fa96-6121-4abc-ce13-579aa5f20d55"
      },
      "execution_count": null,
      "outputs": [
        {
          "output_type": "stream",
          "name": "stdout",
          "text": [
            "Requirement already satisfied: pydub in /usr/local/lib/python3.10/dist-packages (0.25.1)\n",
            "Reading package lists... Done\n",
            "Building dependency tree... Done\n",
            "Reading state information... Done\n",
            "ffmpeg is already the newest version (7:4.4.2-0ubuntu0.22.04.1).\n",
            "0 upgraded, 0 newly installed, 0 to remove and 45 not upgraded.\n",
            "--2024-07-09 21:04:55--  https://alphacephei.com/vosk/models/vosk-model-small-en-us-0.15.zip\n",
            "Resolving alphacephei.com (alphacephei.com)... 188.40.21.16, 2a01:4f8:13a:279f::2\n",
            "Connecting to alphacephei.com (alphacephei.com)|188.40.21.16|:443... connected.\n",
            "HTTP request sent, awaiting response... 200 OK\n",
            "Length: 41205931 (39M) [application/zip]\n",
            "Saving to: ‘vosk-model-small-en-us-0.15.zip’\n",
            "\n",
            "vosk-model-small-en 100%[===================>]  39.30M  18.4MB/s    in 2.1s    \n",
            "\n",
            "2024-07-09 21:04:58 (18.4 MB/s) - ‘vosk-model-small-en-us-0.15.zip’ saved [41205931/41205931]\n",
            "\n",
            "Archive:  vosk-model-small-en-us-0.15.zip\n",
            "replace ./vosk-model-small-en-us-0.15/am/final.mdl? [y]es, [n]o, [A]ll, [N]one, [r]ename: all\n",
            "error:  invalid response [all]\n",
            "replace ./vosk-model-small-en-us-0.15/am/final.mdl? [y]es, [n]o, [A]ll, [N]one, [r]ename: All\n",
            "  inflating: ./vosk-model-small-en-us-0.15/am/final.mdl  \n",
            "  inflating: ./vosk-model-small-en-us-0.15/graph/disambig_tid.int  \n",
            "  inflating: ./vosk-model-small-en-us-0.15/graph/HCLr.fst  \n",
            "  inflating: ./vosk-model-small-en-us-0.15/graph/Gr.fst  \n",
            "  inflating: ./vosk-model-small-en-us-0.15/graph/phones/word_boundary.int  \n",
            "  inflating: ./vosk-model-small-en-us-0.15/conf/model.conf  \n",
            "  inflating: ./vosk-model-small-en-us-0.15/conf/mfcc.conf  \n",
            "  inflating: ./vosk-model-small-en-us-0.15/ivector/splice.conf  \n",
            "  inflating: ./vosk-model-small-en-us-0.15/ivector/final.dubm  \n",
            "  inflating: ./vosk-model-small-en-us-0.15/ivector/global_cmvn.stats  \n",
            "  inflating: ./vosk-model-small-en-us-0.15/ivector/final.ie  \n",
            "  inflating: ./vosk-model-small-en-us-0.15/ivector/online_cmvn.conf  \n",
            "  inflating: ./vosk-model-small-en-us-0.15/ivector/final.mat  \n",
            "  inflating: ./vosk-model-small-en-us-0.15/README  \n",
            "Number of .wav files in '/content/drive/MyDrive/audio_files/Dataset_2_Cleaned': 1848\n"
          ]
        },
        {
          "output_type": "stream",
          "name": "stderr",
          "text": [
            "Processing audio files: 100%|██████████| 1848/1848 [29:43<00:00,  1.04it/s]"
          ]
        },
        {
          "output_type": "stream",
          "name": "stdout",
          "text": [
            "                                                   File Expected Word  \\\n",
            "0     /content/drive/MyDrive/audio_files/Dataset_2_C...        ZEALOT   \n",
            "1     /content/drive/MyDrive/audio_files/Dataset_2_C...        ZEALOT   \n",
            "2     /content/drive/MyDrive/audio_files/Dataset_2_C...        ZEALOT   \n",
            "3     /content/drive/MyDrive/audio_files/Dataset_2_C...        ZEALOT   \n",
            "4     /content/drive/MyDrive/audio_files/Dataset_2_C...        ZEALOT   \n",
            "...                                                 ...           ...   \n",
            "1843  /content/drive/MyDrive/audio_files/Dataset_2_C...         THYME   \n",
            "1844  /content/drive/MyDrive/audio_files/Dataset_2_C...         THYME   \n",
            "1845  /content/drive/MyDrive/audio_files/Dataset_2_C...         THYME   \n",
            "1846  /content/drive/MyDrive/audio_files/Dataset_2_C...         THYME   \n",
            "1847  /content/drive/MyDrive/audio_files/Dataset_2_C...         THYME   \n",
            "\n",
            "     Detected Word  Confidence  Correct  \n",
            "0         SEE THAT         1.0        0  \n",
            "1            XO IT         1.0        0  \n",
            "2              THE         1.0        0  \n",
            "3        THE A LOT         1.0        0  \n",
            "4          THE LOT         1.0        0  \n",
            "...            ...         ...      ...  \n",
            "1843          TIME         1.0        0  \n",
            "1844          TIME         1.0        0  \n",
            "1845          TIME         1.0        0  \n",
            "1846          TIME         1.0        0  \n",
            "1847          TIME         1.0        0  \n",
            "\n",
            "[1848 rows x 5 columns]\n",
            "Transcription results saved to transcription_results_vosk.csv\n",
            "Temporary directory '/content/temp_audio' has been removed.\n"
          ]
        },
        {
          "output_type": "stream",
          "name": "stderr",
          "text": [
            "\n"
          ]
        }
      ]
    },
    {
      "cell_type": "code",
      "source": [],
      "metadata": {
        "id": "f5bN_yUaUABD"
      },
      "execution_count": null,
      "outputs": []
    }
  ]
}